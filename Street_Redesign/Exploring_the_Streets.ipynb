{
 "cells": [
  {
   "cell_type": "code",
   "execution_count": 1843,
   "metadata": {
    "collapsed": false
   },
   "outputs": [
    {
     "name": "stdout",
     "output_type": "stream",
     "text": [
      "Populating the interactive namespace from numpy and matplotlib\n"
     ]
    }
   ],
   "source": [
    "import pandas as pd\n",
    "import numpy as np\n",
    "import pylab as pl\n",
    "from sklearn import linear_model\n",
    "from sklearn import metrics\n",
    "import statsmodels.formula.api as smf\n",
    "import os\n",
    "import sys\n",
    "import geopandas as gp\n",
    "import shapely\n",
    "\n",
    "% pylab inline"
   ]
  },
  {
   "cell_type": "code",
   "execution_count": 1844,
   "metadata": {
    "collapsed": false
   },
   "outputs": [],
   "source": [
    "remerge = gp.GeoDataFrame.from_csv('mergedv3.csv')"
   ]
  },
  {
   "cell_type": "code",
   "execution_count": 1845,
   "metadata": {
    "collapsed": true
   },
   "outputs": [],
   "source": [
    "# na values were created when an area without any speed bumps was added therefore fill with 0\n",
    "remerge.fillna(0, inplace = True)"
   ]
  },
  {
   "cell_type": "code",
   "execution_count": 1846,
   "metadata": {
    "collapsed": false
   },
   "outputs": [],
   "source": [
    "mean_injured = remerge['NUMBER OF PERSONS INJURED'].mean()\n",
    "std_injured = remerge['NUMBER OF PERSONS INJURED'].std()\n",
    "mean_killed = remerge['NUMBER OF PERSONS KILLED'].mean()\n",
    "std_killed = remerge['NUMBER OF PERSONS KILLED'].std()"
   ]
  },
  {
   "cell_type": "code",
   "execution_count": 1847,
   "metadata": {
    "collapsed": false
   },
   "outputs": [],
   "source": [
    "remerge['standardized_injuries'] = [(x - mean_injured) / std_injured for x in remerge['NUMBER OF PERSONS INJURED']]\n",
    "remerge['standardized_death'] = [(x - mean_killed) / std_killed for x in remerge['NUMBER OF PERSONS KILLED']]"
   ]
  },
  {
   "cell_type": "code",
   "execution_count": 1848,
   "metadata": {
    "collapsed": false
   },
   "outputs": [],
   "source": [
    "injury_change = []\n",
    "injury_change_2014 = remerge.groupby('Precinct')['standardized_injuries'].pct_change()\n",
    "injury_change_2015 = remerge.groupby('Precinct')['standardized_injuries'].pct_change(periods = 2)\n",
    "for x in range(len(remerge)):\n",
    "    if remerge.iloc[x, 2] == 2013.0: \n",
    "        injury_change.append(0)\n",
    "    elif remerge.iloc[x, 2] == 2014.0:\n",
    "        injury_change.append(injury_change_2014[x])\n",
    "    else:\n",
    "        injury_change.append(injury_change_2015[x])\n",
    "remerge['standardized_injuries_change'] = injury_change"
   ]
  },
  {
   "cell_type": "code",
   "execution_count": 1849,
   "metadata": {
    "collapsed": true
   },
   "outputs": [],
   "source": [
    "proj_corr = gp.GeoDataFrame.from_csv('street_improvement_project_corridors')\n",
    "proj_inter = gp.GeoDataFrame.from_csv('street_improvement_project_intesections')"
   ]
  },
  {
   "cell_type": "code",
   "execution_count": 1850,
   "metadata": {
    "collapsed": false
   },
   "outputs": [
    {
     "data": {
      "text/html": [
       "<div>\n",
       "<table border=\"1\" class=\"dataframe\">\n",
       "  <thead>\n",
       "    <tr style=\"text-align: right;\">\n",
       "      <th></th>\n",
       "      <th>precinct</th>\n",
       "      <th>Corridor_Proj_Total</th>\n",
       "      <th>type</th>\n",
       "    </tr>\n",
       "  </thead>\n",
       "  <tbody>\n",
       "    <tr>\n",
       "      <th>0</th>\n",
       "      <td>1.0</td>\n",
       "      <td>0</td>\n",
       "      <td>Bicycle Network Dev</td>\n",
       "    </tr>\n",
       "    <tr>\n",
       "      <th>1</th>\n",
       "      <td>1.0</td>\n",
       "      <td>15</td>\n",
       "      <td>Bicycle Network Development</td>\n",
       "    </tr>\n",
       "    <tr>\n",
       "      <th>2</th>\n",
       "      <td>1.0</td>\n",
       "      <td>0</td>\n",
       "      <td>Bike Network Dev</td>\n",
       "    </tr>\n",
       "    <tr>\n",
       "      <th>3</th>\n",
       "      <td>1.0</td>\n",
       "      <td>0</td>\n",
       "      <td>High Crash Corridor</td>\n",
       "    </tr>\n",
       "    <tr>\n",
       "      <th>4</th>\n",
       "      <td>1.0</td>\n",
       "      <td>0</td>\n",
       "      <td>New Public Space</td>\n",
       "    </tr>\n",
       "  </tbody>\n",
       "</table>\n",
       "</div>"
      ],
      "text/plain": [
       "   precinct  Corridor_Proj_Total                         type\n",
       "0       1.0                    0          Bicycle Network Dev\n",
       "1       1.0                   15  Bicycle Network Development\n",
       "2       1.0                    0             Bike Network Dev\n",
       "3       1.0                    0          High Crash Corridor\n",
       "4       1.0                    0             New Public Space"
      ]
     },
     "execution_count": 1850,
     "metadata": {},
     "output_type": "execute_result"
    }
   ],
   "source": [
    "proj_corr.head()"
   ]
  },
  {
   "cell_type": "code",
   "execution_count": 1851,
   "metadata": {
    "collapsed": false
   },
   "outputs": [],
   "source": [
    "pivoted = pd.pivot_table(proj_corr, index = 'precinct', columns = 'type', values = 'Corridor_Proj_Total', aggfunc = sum)"
   ]
  },
  {
   "cell_type": "code",
   "execution_count": 1852,
   "metadata": {
    "collapsed": false
   },
   "outputs": [],
   "source": [
    "pivoted['Bikes'] = pivoted['Bicycle Network Dev'] + pivoted['Bicycle Network Development'] + pivoted['Bike Network Dev']"
   ]
  },
  {
   "cell_type": "code",
   "execution_count": 1853,
   "metadata": {
    "collapsed": false
   },
   "outputs": [],
   "source": [
    "pivoted.drop(['Bicycle Network Dev', 'Bicycle Network Development', 'Bike Network Dev'], axis = 1, inplace = True)"
   ]
  },
  {
   "cell_type": "code",
   "execution_count": 1854,
   "metadata": {
    "collapsed": false
   },
   "outputs": [],
   "source": [
    "pivoted.columns = ['High_Crash_Corridor_c', u'New_Public_Space_c', u'Pedestrian_Safety_c',\n",
    "       u'Senior_Safety_c', u'Traffic_Calming_c', u'Traffic_Network_Chng_c',\n",
    "       u'VZ_Priority_Geo_c', u'Vision_Zero_c', u'Bikes_c']"
   ]
  },
  {
   "cell_type": "code",
   "execution_count": 1855,
   "metadata": {
    "collapsed": true
   },
   "outputs": [],
   "source": [
    "pivoted2 = pd.pivot_table(proj_inter, index = 'precinct', columns = 'type', values = 'Intersec_Proj_Total', aggfunc = sum)"
   ]
  },
  {
   "cell_type": "code",
   "execution_count": 1856,
   "metadata": {
    "collapsed": false
   },
   "outputs": [],
   "source": [
    "pivoted2.columns = ['High_Crash_Corridor_i', u'Pedestrian_Safety_i', u'Senior_Safety_i',\n",
    "                   u'Traffic_Calming_i', u'Traffic_Network_Chng_i', u'VZ_Priority_Geo_i',\n",
    "                   u'Vision_Zero_i']"
   ]
  },
  {
   "cell_type": "code",
   "execution_count": 1857,
   "metadata": {
    "collapsed": false
   },
   "outputs": [],
   "source": [
    "with_projects = pd.merge(remerge, pivoted, left_on = 'Precinct', right_index = True, how = 'outer')\n",
    "\n",
    "with_projects = pd.merge(with_projects, pivoted2, left_on = 'Precinct', right_index = True, how = 'outer')\n",
    "\n",
    "with_projects.fillna(0, inplace = True) # add in projects"
   ]
  },
  {
   "cell_type": "code",
   "execution_count": 1858,
   "metadata": {
    "collapsed": false
   },
   "outputs": [],
   "source": [
    "data = with_projects[with_projects.Year > 2013]"
   ]
  },
  {
   "cell_type": "code",
   "execution_count": 1859,
   "metadata": {
    "collapsed": false
   },
   "outputs": [],
   "source": [
    "eqt = ['Speed_Bump_Total', 'Neigh_Slow_Zone_Total', 'New_Public_Space_c',\n",
    "        'Pedestrian_Safety_c', 'Senior_Safety_c', 'Traffic_Calming_c', 'Traffic_Network_Chng_c',\n",
    "         'Bikes_c', \n",
    "        'Pedestrian_Safety_i', 'Senior_Safety_i', 'Traffic_Calming_i', 'Traffic_Network_Chng_i' ]\n",
    "eqt = 'standardized_injuries_change ~ ' + ' + '.join(eqt)"
   ]
  },
  {
   "cell_type": "code",
   "execution_count": 1860,
   "metadata": {
    "collapsed": false
   },
   "outputs": [
    {
     "data": {
      "text/plain": [
       "'standardized_injuries_change ~ Speed_Bump_Total + Neigh_Slow_Zone_Total + New_Public_Space_c + Pedestrian_Safety_c + Senior_Safety_c + Traffic_Calming_c + Traffic_Network_Chng_c + Bikes_c + Pedestrian_Safety_i + Senior_Safety_i + Traffic_Calming_i + Traffic_Network_Chng_i'"
      ]
     },
     "execution_count": 1860,
     "metadata": {},
     "output_type": "execute_result"
    }
   ],
   "source": [
    "eqt"
   ]
  },
  {
   "cell_type": "markdown",
   "metadata": {},
   "source": [
    "# Regression for change in standardized injuries v. safety"
   ]
  },
  {
   "cell_type": "code",
   "execution_count": 1861,
   "metadata": {
    "collapsed": false
   },
   "outputs": [],
   "source": [
    "lm = smf.ols(eqt, data).fit() # just post vision zero data v. change in standardized injuries"
   ]
  },
  {
   "cell_type": "code",
   "execution_count": 1862,
   "metadata": {
    "collapsed": false
   },
   "outputs": [
    {
     "data": {
      "text/html": [
       "<table class=\"simpletable\">\n",
       "<caption>OLS Regression Results</caption>\n",
       "<tr>\n",
       "  <th>Dep. Variable:</th>    <td>standardized_injuries_change</td> <th>  R-squared:         </th> <td>   0.079</td>\n",
       "</tr>\n",
       "<tr>\n",
       "  <th>Model:</th>                         <td>OLS</td>             <th>  Adj. R-squared:    </th> <td>   0.001</td>\n",
       "</tr>\n",
       "<tr>\n",
       "  <th>Method:</th>                   <td>Least Squares</td>        <th>  F-statistic:       </th> <td>   1.011</td>\n",
       "</tr>\n",
       "<tr>\n",
       "  <th>Date:</th>                   <td>Fri, 09 Dec 2016</td>       <th>  Prob (F-statistic):</th>  <td> 0.442</td> \n",
       "</tr>\n",
       "<tr>\n",
       "  <th>Time:</th>                       <td>14:41:10</td>           <th>  Log-Likelihood:    </th> <td> -266.55</td>\n",
       "</tr>\n",
       "<tr>\n",
       "  <th>No. Observations:</th>            <td>   154</td>            <th>  AIC:               </th> <td>   559.1</td>\n",
       "</tr>\n",
       "<tr>\n",
       "  <th>Df Residuals:</th>                <td>   141</td>            <th>  BIC:               </th> <td>   598.6</td>\n",
       "</tr>\n",
       "<tr>\n",
       "  <th>Df Model:</th>                    <td>    12</td>            <th>                     </th>     <td> </td>   \n",
       "</tr>\n",
       "<tr>\n",
       "  <th>Covariance Type:</th>            <td>nonrobust</td>          <th>                     </th>     <td> </td>   \n",
       "</tr>\n",
       "</table>\n",
       "<table class=\"simpletable\">\n",
       "<tr>\n",
       "             <td></td>               <th>coef</th>     <th>std err</th>      <th>t</th>      <th>P>|t|</th> <th>[95.0% Conf. Int.]</th> \n",
       "</tr>\n",
       "<tr>\n",
       "  <th>Intercept</th>              <td>    0.1317</td> <td>    0.202</td> <td>    0.652</td> <td> 0.516</td> <td>   -0.268     0.531</td>\n",
       "</tr>\n",
       "<tr>\n",
       "  <th>Speed_Bump_Total</th>       <td>   -0.0183</td> <td>    0.027</td> <td>   -0.682</td> <td> 0.496</td> <td>   -0.071     0.035</td>\n",
       "</tr>\n",
       "<tr>\n",
       "  <th>Neigh_Slow_Zone_Total</th>  <td>   -0.1873</td> <td>    0.345</td> <td>   -0.543</td> <td> 0.588</td> <td>   -0.869     0.494</td>\n",
       "</tr>\n",
       "<tr>\n",
       "  <th>New_Public_Space_c</th>     <td>    0.0468</td> <td>    0.256</td> <td>    0.183</td> <td> 0.855</td> <td>   -0.459     0.553</td>\n",
       "</tr>\n",
       "<tr>\n",
       "  <th>Pedestrian_Safety_c</th>    <td>   -0.0646</td> <td>    0.046</td> <td>   -1.391</td> <td> 0.166</td> <td>   -0.156     0.027</td>\n",
       "</tr>\n",
       "<tr>\n",
       "  <th>Senior_Safety_c</th>        <td>   -0.1329</td> <td>    1.031</td> <td>   -0.129</td> <td> 0.898</td> <td>   -2.172     1.906</td>\n",
       "</tr>\n",
       "<tr>\n",
       "  <th>Traffic_Calming_c</th>      <td>   -0.0037</td> <td>    0.008</td> <td>   -0.474</td> <td> 0.636</td> <td>   -0.019     0.012</td>\n",
       "</tr>\n",
       "<tr>\n",
       "  <th>Traffic_Network_Chng_c</th> <td>   -0.0655</td> <td>    0.064</td> <td>   -1.023</td> <td> 0.308</td> <td>   -0.192     0.061</td>\n",
       "</tr>\n",
       "<tr>\n",
       "  <th>Bikes_c</th>                <td>    0.1168</td> <td>    0.046</td> <td>    2.558</td> <td> 0.012</td> <td>    0.027     0.207</td>\n",
       "</tr>\n",
       "<tr>\n",
       "  <th>Pedestrian_Safety_i</th>    <td>    0.1005</td> <td>    0.137</td> <td>    0.733</td> <td> 0.465</td> <td>   -0.170     0.372</td>\n",
       "</tr>\n",
       "<tr>\n",
       "  <th>Senior_Safety_i</th>        <td>    0.0934</td> <td>    1.321</td> <td>    0.071</td> <td> 0.944</td> <td>   -2.518     2.705</td>\n",
       "</tr>\n",
       "<tr>\n",
       "  <th>Traffic_Calming_i</th>      <td>    0.1151</td> <td>    0.144</td> <td>    0.797</td> <td> 0.427</td> <td>   -0.170     0.400</td>\n",
       "</tr>\n",
       "<tr>\n",
       "  <th>Traffic_Network_Chng_i</th> <td>   -0.8786</td> <td>    0.637</td> <td>   -1.378</td> <td> 0.170</td> <td>   -2.139     0.382</td>\n",
       "</tr>\n",
       "</table>\n",
       "<table class=\"simpletable\">\n",
       "<tr>\n",
       "  <th>Omnibus:</th>       <td>50.339</td> <th>  Durbin-Watson:     </th> <td>   1.881</td> \n",
       "</tr>\n",
       "<tr>\n",
       "  <th>Prob(Omnibus):</th> <td> 0.000</td> <th>  Jarque-Bera (JB):  </th> <td> 866.506</td> \n",
       "</tr>\n",
       "<tr>\n",
       "  <th>Skew:</th>          <td> 0.553</td> <th>  Prob(JB):          </th> <td>6.93e-189</td>\n",
       "</tr>\n",
       "<tr>\n",
       "  <th>Kurtosis:</th>      <td>14.568</td> <th>  Cond. No.          </th> <td>    289.</td> \n",
       "</tr>\n",
       "</table>"
      ],
      "text/plain": [
       "<class 'statsmodels.iolib.summary.Summary'>\n",
       "\"\"\"\n",
       "                                 OLS Regression Results                                 \n",
       "========================================================================================\n",
       "Dep. Variable:     standardized_injuries_change   R-squared:                       0.079\n",
       "Model:                                      OLS   Adj. R-squared:                  0.001\n",
       "Method:                           Least Squares   F-statistic:                     1.011\n",
       "Date:                          Fri, 09 Dec 2016   Prob (F-statistic):              0.442\n",
       "Time:                                  14:41:10   Log-Likelihood:                -266.55\n",
       "No. Observations:                           154   AIC:                             559.1\n",
       "Df Residuals:                               141   BIC:                             598.6\n",
       "Df Model:                                    12                                         \n",
       "Covariance Type:                      nonrobust                                         \n",
       "==========================================================================================\n",
       "                             coef    std err          t      P>|t|      [95.0% Conf. Int.]\n",
       "------------------------------------------------------------------------------------------\n",
       "Intercept                  0.1317      0.202      0.652      0.516        -0.268     0.531\n",
       "Speed_Bump_Total          -0.0183      0.027     -0.682      0.496        -0.071     0.035\n",
       "Neigh_Slow_Zone_Total     -0.1873      0.345     -0.543      0.588        -0.869     0.494\n",
       "New_Public_Space_c         0.0468      0.256      0.183      0.855        -0.459     0.553\n",
       "Pedestrian_Safety_c       -0.0646      0.046     -1.391      0.166        -0.156     0.027\n",
       "Senior_Safety_c           -0.1329      1.031     -0.129      0.898        -2.172     1.906\n",
       "Traffic_Calming_c         -0.0037      0.008     -0.474      0.636        -0.019     0.012\n",
       "Traffic_Network_Chng_c    -0.0655      0.064     -1.023      0.308        -0.192     0.061\n",
       "Bikes_c                    0.1168      0.046      2.558      0.012         0.027     0.207\n",
       "Pedestrian_Safety_i        0.1005      0.137      0.733      0.465        -0.170     0.372\n",
       "Senior_Safety_i            0.0934      1.321      0.071      0.944        -2.518     2.705\n",
       "Traffic_Calming_i          0.1151      0.144      0.797      0.427        -0.170     0.400\n",
       "Traffic_Network_Chng_i    -0.8786      0.637     -1.378      0.170        -2.139     0.382\n",
       "==============================================================================\n",
       "Omnibus:                       50.339   Durbin-Watson:                   1.881\n",
       "Prob(Omnibus):                  0.000   Jarque-Bera (JB):              866.506\n",
       "Skew:                           0.553   Prob(JB):                    6.93e-189\n",
       "Kurtosis:                      14.568   Cond. No.                         289.\n",
       "==============================================================================\n",
       "\n",
       "Warnings:\n",
       "[1] Standard Errors assume that the covariance matrix of the errors is correctly specified.\n",
       "\"\"\""
      ]
     },
     "execution_count": 1862,
     "metadata": {},
     "output_type": "execute_result"
    }
   ],
   "source": [
    "lm.summary()"
   ]
  },
  {
   "cell_type": "markdown",
   "metadata": {
    "collapsed": false
   },
   "source": [
    "# Change in standardized Injuries v. All Street Redesign Variables. Not so useful. Therefore, add in the total population and area"
   ]
  },
  {
   "cell_type": "code",
   "execution_count": 1863,
   "metadata": {
    "collapsed": true
   },
   "outputs": [],
   "source": [
    "#precincts = gp.GeoDataFrame.from_file(os.getenv('HOME') + '/Applied_Data_Science/VZ_data/Precincts/summary_police_precincts.shp')"
   ]
  },
  {
   "cell_type": "code",
   "execution_count": 1864,
   "metadata": {
    "collapsed": false
   },
   "outputs": [
    {
     "data": {
      "text/plain": [
       "\"#precincts_shp = precincts.drop([u'Ages_10_to', u'Ages_15_to', u'Ages_18_an', u'Ages_20_to',\\n       u'Ages_25_to', u'Ages_45_to', u'Ages_5_to_', u'Ages_65_an',\\n       u'Ages_Under',    u'SUM_ASZ', u'SUM_BikeFa',\\n       u'SUM_BikeIn', u'SUM_Fatali', u'SUM_Injuri',    u'SUM_LPI',\\n       u'SUM_MVOFat', u'SUM_MVOInj', u'SUM_NeighS', u'SUM_PedFat',\\n       u'SUM_PedInj', u'SUM_SIPCor', u'SUM_SIPInt', u'SUM_Signal',\\n       u'SUM_SpeedH', u'SUM_VZ_P_1', u'SUM_VZ_P_2', u'SUM_VZ_Pri'], axis = 1)\\n       \""
      ]
     },
     "execution_count": 1864,
     "metadata": {},
     "output_type": "execute_result"
    }
   ],
   "source": [
    "'''#precincts_shp = precincts.drop([u'Ages_10_to', u'Ages_15_to', u'Ages_18_an', u'Ages_20_to',\n",
    "       u'Ages_25_to', u'Ages_45_to', u'Ages_5_to_', u'Ages_65_an',\n",
    "       u'Ages_Under',    u'SUM_ASZ', u'SUM_BikeFa',\n",
    "       u'SUM_BikeIn', u'SUM_Fatali', u'SUM_Injuri',    u'SUM_LPI',\n",
    "       u'SUM_MVOFat', u'SUM_MVOInj', u'SUM_NeighS', u'SUM_PedFat',\n",
    "       u'SUM_PedInj', u'SUM_SIPCor', u'SUM_SIPInt', u'SUM_Signal',\n",
    "       u'SUM_SpeedH', u'SUM_VZ_P_1', u'SUM_VZ_P_2', u'SUM_VZ_Pri'], axis = 1)\n",
    "       '''"
   ]
  },
  {
   "cell_type": "code",
   "execution_count": 1865,
   "metadata": {
    "collapsed": false
   },
   "outputs": [],
   "source": [
    "#precincts_shp.Shape_Area = precincts_shp.Shape_Area / (2.788 * 10 ** 7) # convert shape area to miles"
   ]
  },
  {
   "cell_type": "code",
   "execution_count": 1866,
   "metadata": {
    "collapsed": false
   },
   "outputs": [],
   "source": [
    "#precincts_shp.Precint = precincts_shp.Precinct.astype(float)"
   ]
  },
  {
   "cell_type": "code",
   "execution_count": null,
   "metadata": {
    "collapsed": true
   },
   "outputs": [],
   "source": []
  },
  {
   "cell_type": "code",
   "execution_count": 1867,
   "metadata": {
    "collapsed": false
   },
   "outputs": [],
   "source": [
    "#with_projects = pd.merge(precincts_shp, with_projects, left_on = 'Precinct', right_on = 'Precinct') #add in precincts"
   ]
  },
  {
   "cell_type": "code",
   "execution_count": 1868,
   "metadata": {
    "collapsed": true
   },
   "outputs": [],
   "source": [
    "regress = ['Speed_Bump_Total', 'Neigh_Slow_Zone_Total', 'New_Public_Space_c',\n",
    "        'Pedestrian_Safety_c', 'Senior_Safety_c', 'Traffic_Calming_c', 'Traffic_Network_Chng_c',\n",
    "        'Bikes_c', 'Pedestrian_Safety_i', 'Senior_Safety_i', 'Traffic_Calming_i', 'Traffic_Network_Chng_i']\n",
    "eqt = 'Injuries_Per_Thou ~ ' + ' + '.join(regress)"
   ]
  },
  {
   "cell_type": "code",
   "execution_count": 1869,
   "metadata": {
    "collapsed": false
   },
   "outputs": [],
   "source": [
    "with_projects_area = with_projects"
   ]
  },
  {
   "cell_type": "code",
   "execution_count": 1870,
   "metadata": {
    "collapsed": false
   },
   "outputs": [],
   "source": [
    "with_projects_area.loc[:,'High_Crash_Corridor_c':'Vision_Zero_i'] = with_projects_area.loc[:,'High_Crash_Corridor_c':'Vision_Zero_i'].apply(lambda x: x / with_projects_area.Shape_Area)"
   ]
  },
  {
   "cell_type": "code",
   "execution_count": 1871,
   "metadata": {
    "collapsed": true
   },
   "outputs": [],
   "source": [
    "with_projects_area.loc[:, 'Neigh_Slow_Zone_Total':'Speed_Bump_Total'] = with_projects_area.loc[:, 'Neigh_Slow_Zone_Total':'Speed_Bump_Total'].apply(lambda x: x / with_projects_area.Shape_Area)"
   ]
  },
  {
   "cell_type": "markdown",
   "metadata": {},
   "source": [
    "# Note that some areas have outlier populations. Remove from further analysis those areas more than 2 standard deviations below the mean as they do not have enough population for data to be accurate. "
   ]
  },
  {
   "cell_type": "code",
   "execution_count": 1872,
   "metadata": {
    "collapsed": false
   },
   "outputs": [],
   "source": [
    "std_pop = with_projects.Total_Pop.std()\n",
    "mean_pop = with_projects.Total_Pop.mean()\n",
    "threshold = -2 * std_pop + mean_pop"
   ]
  },
  {
   "cell_type": "code",
   "execution_count": 1873,
   "metadata": {
    "collapsed": false
   },
   "outputs": [],
   "source": [
    "# removes a handful of outlier precints with v low populations (ie Central Park)\n",
    "data4 = with_projects[with_projects.Total_Pop > threshold]"
   ]
  },
  {
   "cell_type": "code",
   "execution_count": 1874,
   "metadata": {
    "collapsed": false
   },
   "outputs": [
    {
     "data": {
      "text/html": [
       "<table class=\"simpletable\">\n",
       "<caption>OLS Regression Results</caption>\n",
       "<tr>\n",
       "  <th>Dep. Variable:</th>    <td>Injuries_Per_Thou</td> <th>  R-squared:         </th> <td>   0.192</td>\n",
       "</tr>\n",
       "<tr>\n",
       "  <th>Model:</th>                   <td>OLS</td>        <th>  Adj. R-squared:    </th> <td>   0.146</td>\n",
       "</tr>\n",
       "<tr>\n",
       "  <th>Method:</th>             <td>Least Squares</td>   <th>  F-statistic:       </th> <td>   4.189</td>\n",
       "</tr>\n",
       "<tr>\n",
       "  <th>Date:</th>             <td>Fri, 09 Dec 2016</td>  <th>  Prob (F-statistic):</th> <td>6.53e-06</td>\n",
       "</tr>\n",
       "<tr>\n",
       "  <th>Time:</th>                 <td>14:41:11</td>      <th>  Log-Likelihood:    </th> <td> -551.33</td>\n",
       "</tr>\n",
       "<tr>\n",
       "  <th>No. Observations:</th>      <td>   225</td>       <th>  AIC:               </th> <td>   1129.</td>\n",
       "</tr>\n",
       "<tr>\n",
       "  <th>Df Residuals:</th>          <td>   212</td>       <th>  BIC:               </th> <td>   1173.</td>\n",
       "</tr>\n",
       "<tr>\n",
       "  <th>Df Model:</th>              <td>    12</td>       <th>                     </th>     <td> </td>   \n",
       "</tr>\n",
       "<tr>\n",
       "  <th>Covariance Type:</th>      <td>nonrobust</td>     <th>                     </th>     <td> </td>   \n",
       "</tr>\n",
       "</table>\n",
       "<table class=\"simpletable\">\n",
       "<tr>\n",
       "             <td></td>               <th>coef</th>     <th>std err</th>      <th>t</th>      <th>P>|t|</th> <th>[95.0% Conf. Int.]</th> \n",
       "</tr>\n",
       "<tr>\n",
       "  <th>Intercept</th>              <td>    5.6085</td> <td>    0.284</td> <td>   19.767</td> <td> 0.000</td> <td>    5.049     6.168</td>\n",
       "</tr>\n",
       "<tr>\n",
       "  <th>Speed_Bump_Total</th>       <td>   -0.2098</td> <td>    0.089</td> <td>   -2.357</td> <td> 0.019</td> <td>   -0.385    -0.034</td>\n",
       "</tr>\n",
       "<tr>\n",
       "  <th>Neigh_Slow_Zone_Total</th>  <td>    0.1555</td> <td>    0.965</td> <td>    0.161</td> <td> 0.872</td> <td>   -1.746     2.057</td>\n",
       "</tr>\n",
       "<tr>\n",
       "  <th>New_Public_Space_c</th>     <td>    0.7173</td> <td>    0.995</td> <td>    0.721</td> <td> 0.472</td> <td>   -1.243     2.678</td>\n",
       "</tr>\n",
       "<tr>\n",
       "  <th>Pedestrian_Safety_c</th>    <td>   -0.0200</td> <td>    0.104</td> <td>   -0.192</td> <td> 0.848</td> <td>   -0.225     0.185</td>\n",
       "</tr>\n",
       "<tr>\n",
       "  <th>Senior_Safety_c</th>        <td>   -1.9912</td> <td>    1.678</td> <td>   -1.186</td> <td> 0.237</td> <td>   -5.300     1.317</td>\n",
       "</tr>\n",
       "<tr>\n",
       "  <th>Traffic_Calming_c</th>      <td>    0.0671</td> <td>    0.029</td> <td>    2.318</td> <td> 0.021</td> <td>    0.010     0.124</td>\n",
       "</tr>\n",
       "<tr>\n",
       "  <th>Traffic_Network_Chng_c</th> <td>    0.2195</td> <td>    0.183</td> <td>    1.198</td> <td> 0.232</td> <td>   -0.142     0.580</td>\n",
       "</tr>\n",
       "<tr>\n",
       "  <th>Bikes_c</th>                <td>    0.4185</td> <td>    0.087</td> <td>    4.784</td> <td> 0.000</td> <td>    0.246     0.591</td>\n",
       "</tr>\n",
       "<tr>\n",
       "  <th>Pedestrian_Safety_i</th>    <td>    0.0410</td> <td>    0.240</td> <td>    0.171</td> <td> 0.865</td> <td>   -0.432     0.514</td>\n",
       "</tr>\n",
       "<tr>\n",
       "  <th>Senior_Safety_i</th>        <td>  -17.1207</td> <td>   12.975</td> <td>   -1.320</td> <td> 0.188</td> <td>  -42.697     8.455</td>\n",
       "</tr>\n",
       "<tr>\n",
       "  <th>Traffic_Calming_i</th>      <td>   -0.9337</td> <td>    0.421</td> <td>   -2.218</td> <td> 0.028</td> <td>   -1.764    -0.104</td>\n",
       "</tr>\n",
       "<tr>\n",
       "  <th>Traffic_Network_Chng_i</th> <td>    3.2573</td> <td>    1.701</td> <td>    1.915</td> <td> 0.057</td> <td>   -0.096     6.611</td>\n",
       "</tr>\n",
       "</table>\n",
       "<table class=\"simpletable\">\n",
       "<tr>\n",
       "  <th>Omnibus:</th>       <td>215.542</td> <th>  Durbin-Watson:     </th> <td>   0.590</td>\n",
       "</tr>\n",
       "<tr>\n",
       "  <th>Prob(Omnibus):</th> <td> 0.000</td>  <th>  Jarque-Bera (JB):  </th> <td>5157.226</td>\n",
       "</tr>\n",
       "<tr>\n",
       "  <th>Skew:</th>          <td> 3.756</td>  <th>  Prob(JB):          </th> <td>    0.00</td>\n",
       "</tr>\n",
       "<tr>\n",
       "  <th>Kurtosis:</th>      <td>25.219</td>  <th>  Cond. No.          </th> <td>    665.</td>\n",
       "</tr>\n",
       "</table>"
      ],
      "text/plain": [
       "<class 'statsmodels.iolib.summary.Summary'>\n",
       "\"\"\"\n",
       "                            OLS Regression Results                            \n",
       "==============================================================================\n",
       "Dep. Variable:      Injuries_Per_Thou   R-squared:                       0.192\n",
       "Model:                            OLS   Adj. R-squared:                  0.146\n",
       "Method:                 Least Squares   F-statistic:                     4.189\n",
       "Date:                Fri, 09 Dec 2016   Prob (F-statistic):           6.53e-06\n",
       "Time:                        14:41:11   Log-Likelihood:                -551.33\n",
       "No. Observations:                 225   AIC:                             1129.\n",
       "Df Residuals:                     212   BIC:                             1173.\n",
       "Df Model:                          12                                         \n",
       "Covariance Type:            nonrobust                                         \n",
       "==========================================================================================\n",
       "                             coef    std err          t      P>|t|      [95.0% Conf. Int.]\n",
       "------------------------------------------------------------------------------------------\n",
       "Intercept                  5.6085      0.284     19.767      0.000         5.049     6.168\n",
       "Speed_Bump_Total          -0.2098      0.089     -2.357      0.019        -0.385    -0.034\n",
       "Neigh_Slow_Zone_Total      0.1555      0.965      0.161      0.872        -1.746     2.057\n",
       "New_Public_Space_c         0.7173      0.995      0.721      0.472        -1.243     2.678\n",
       "Pedestrian_Safety_c       -0.0200      0.104     -0.192      0.848        -0.225     0.185\n",
       "Senior_Safety_c           -1.9912      1.678     -1.186      0.237        -5.300     1.317\n",
       "Traffic_Calming_c          0.0671      0.029      2.318      0.021         0.010     0.124\n",
       "Traffic_Network_Chng_c     0.2195      0.183      1.198      0.232        -0.142     0.580\n",
       "Bikes_c                    0.4185      0.087      4.784      0.000         0.246     0.591\n",
       "Pedestrian_Safety_i        0.0410      0.240      0.171      0.865        -0.432     0.514\n",
       "Senior_Safety_i          -17.1207     12.975     -1.320      0.188       -42.697     8.455\n",
       "Traffic_Calming_i         -0.9337      0.421     -2.218      0.028        -1.764    -0.104\n",
       "Traffic_Network_Chng_i     3.2573      1.701      1.915      0.057        -0.096     6.611\n",
       "==============================================================================\n",
       "Omnibus:                      215.542   Durbin-Watson:                   0.590\n",
       "Prob(Omnibus):                  0.000   Jarque-Bera (JB):             5157.226\n",
       "Skew:                           3.756   Prob(JB):                         0.00\n",
       "Kurtosis:                      25.219   Cond. No.                         665.\n",
       "==============================================================================\n",
       "\n",
       "Warnings:\n",
       "[1] Standard Errors assume that the covariance matrix of the errors is correctly specified.\n",
       "\"\"\""
      ]
     },
     "execution_count": 1874,
     "metadata": {},
     "output_type": "execute_result"
    }
   ],
   "source": [
    "lm4 = smf.ols(eqt, data = data4).fit()\n",
    "lm4.summary() #Injuries per thousand v all variables"
   ]
  },
  {
   "cell_type": "code",
   "execution_count": 1875,
   "metadata": {
    "collapsed": false
   },
   "outputs": [
    {
     "data": {
      "text/html": [
       "<div>\n",
       "<table border=\"1\" class=\"dataframe\">\n",
       "  <thead>\n",
       "    <tr style=\"text-align: right;\">\n",
       "      <th></th>\n",
       "      <th>PrecinctYear</th>\n",
       "      <th>Precinct</th>\n",
       "      <th>Year</th>\n",
       "      <th>Taxis</th>\n",
       "      <th>Flyers</th>\n",
       "      <th>Seniors</th>\n",
       "      <th>Outreach</th>\n",
       "      <th>HandsOn</th>\n",
       "      <th>Edu_Total</th>\n",
       "      <th>Backing Unsafely</th>\n",
       "      <th>...</th>\n",
       "      <th>VZ_Priority_Geo_c</th>\n",
       "      <th>Vision_Zero_c</th>\n",
       "      <th>Bikes_c</th>\n",
       "      <th>High_Crash_Corridor_i</th>\n",
       "      <th>Pedestrian_Safety_i</th>\n",
       "      <th>Senior_Safety_i</th>\n",
       "      <th>Traffic_Calming_i</th>\n",
       "      <th>Traffic_Network_Chng_i</th>\n",
       "      <th>VZ_Priority_Geo_i</th>\n",
       "      <th>Vision_Zero_i</th>\n",
       "    </tr>\n",
       "  </thead>\n",
       "  <tbody>\n",
       "    <tr>\n",
       "      <th>0</th>\n",
       "      <td>682013</td>\n",
       "      <td>68.0</td>\n",
       "      <td>2013</td>\n",
       "      <td>0</td>\n",
       "      <td>0</td>\n",
       "      <td>0</td>\n",
       "      <td>0</td>\n",
       "      <td>0</td>\n",
       "      <td>0</td>\n",
       "      <td>9</td>\n",
       "      <td>...</td>\n",
       "      <td>1.759130</td>\n",
       "      <td>17.088689</td>\n",
       "      <td>0.0</td>\n",
       "      <td>0.0</td>\n",
       "      <td>0.0</td>\n",
       "      <td>0.0</td>\n",
       "      <td>0.0</td>\n",
       "      <td>0.0</td>\n",
       "      <td>0.000000</td>\n",
       "      <td>0.0</td>\n",
       "    </tr>\n",
       "    <tr>\n",
       "      <th>1</th>\n",
       "      <td>682014</td>\n",
       "      <td>68.0</td>\n",
       "      <td>2014</td>\n",
       "      <td>0</td>\n",
       "      <td>0</td>\n",
       "      <td>4</td>\n",
       "      <td>4</td>\n",
       "      <td>0</td>\n",
       "      <td>8</td>\n",
       "      <td>9</td>\n",
       "      <td>...</td>\n",
       "      <td>1.759130</td>\n",
       "      <td>17.088689</td>\n",
       "      <td>0.0</td>\n",
       "      <td>0.0</td>\n",
       "      <td>0.0</td>\n",
       "      <td>0.0</td>\n",
       "      <td>0.0</td>\n",
       "      <td>0.0</td>\n",
       "      <td>0.000000</td>\n",
       "      <td>0.0</td>\n",
       "    </tr>\n",
       "    <tr>\n",
       "      <th>2</th>\n",
       "      <td>682015</td>\n",
       "      <td>68.0</td>\n",
       "      <td>2015</td>\n",
       "      <td>4</td>\n",
       "      <td>0</td>\n",
       "      <td>3</td>\n",
       "      <td>11</td>\n",
       "      <td>2</td>\n",
       "      <td>20</td>\n",
       "      <td>2</td>\n",
       "      <td>...</td>\n",
       "      <td>1.759130</td>\n",
       "      <td>17.088689</td>\n",
       "      <td>0.0</td>\n",
       "      <td>0.0</td>\n",
       "      <td>0.0</td>\n",
       "      <td>0.0</td>\n",
       "      <td>0.0</td>\n",
       "      <td>0.0</td>\n",
       "      <td>0.000000</td>\n",
       "      <td>0.0</td>\n",
       "    </tr>\n",
       "    <tr>\n",
       "      <th>3</th>\n",
       "      <td>1022013</td>\n",
       "      <td>102.0</td>\n",
       "      <td>2013</td>\n",
       "      <td>0</td>\n",
       "      <td>0</td>\n",
       "      <td>0</td>\n",
       "      <td>0</td>\n",
       "      <td>0</td>\n",
       "      <td>0</td>\n",
       "      <td>19</td>\n",
       "      <td>...</td>\n",
       "      <td>1.254778</td>\n",
       "      <td>0.000000</td>\n",
       "      <td>0.0</td>\n",
       "      <td>0.0</td>\n",
       "      <td>0.0</td>\n",
       "      <td>0.0</td>\n",
       "      <td>0.0</td>\n",
       "      <td>0.0</td>\n",
       "      <td>0.418259</td>\n",
       "      <td>0.0</td>\n",
       "    </tr>\n",
       "    <tr>\n",
       "      <th>4</th>\n",
       "      <td>1022014</td>\n",
       "      <td>102.0</td>\n",
       "      <td>2014</td>\n",
       "      <td>0</td>\n",
       "      <td>4</td>\n",
       "      <td>4</td>\n",
       "      <td>7</td>\n",
       "      <td>1</td>\n",
       "      <td>16</td>\n",
       "      <td>20</td>\n",
       "      <td>...</td>\n",
       "      <td>1.254778</td>\n",
       "      <td>0.000000</td>\n",
       "      <td>0.0</td>\n",
       "      <td>0.0</td>\n",
       "      <td>0.0</td>\n",
       "      <td>0.0</td>\n",
       "      <td>0.0</td>\n",
       "      <td>0.0</td>\n",
       "      <td>0.418259</td>\n",
       "      <td>0.0</td>\n",
       "    </tr>\n",
       "  </tbody>\n",
       "</table>\n",
       "<p>5 rows × 80 columns</p>\n",
       "</div>"
      ],
      "text/plain": [
       "   PrecinctYear  Precinct  Year  Taxis  Flyers  Seniors  Outreach  HandsOn  \\\n",
       "0        682013      68.0  2013      0       0        0         0        0   \n",
       "1        682014      68.0  2014      0       0        4         4        0   \n",
       "2        682015      68.0  2015      4       0        3        11        2   \n",
       "3       1022013     102.0  2013      0       0        0         0        0   \n",
       "4       1022014     102.0  2014      0       4        4         7        1   \n",
       "\n",
       "   Edu_Total  Backing Unsafely      ...        VZ_Priority_Geo_c  \\\n",
       "0          0                 9      ...                 1.759130   \n",
       "1          8                 9      ...                 1.759130   \n",
       "2         20                 2      ...                 1.759130   \n",
       "3          0                19      ...                 1.254778   \n",
       "4         16                20      ...                 1.254778   \n",
       "\n",
       "   Vision_Zero_c  Bikes_c  High_Crash_Corridor_i  Pedestrian_Safety_i  \\\n",
       "0      17.088689      0.0                    0.0                  0.0   \n",
       "1      17.088689      0.0                    0.0                  0.0   \n",
       "2      17.088689      0.0                    0.0                  0.0   \n",
       "3       0.000000      0.0                    0.0                  0.0   \n",
       "4       0.000000      0.0                    0.0                  0.0   \n",
       "\n",
       "   Senior_Safety_i  Traffic_Calming_i  Traffic_Network_Chng_i  \\\n",
       "0              0.0                0.0                     0.0   \n",
       "1              0.0                0.0                     0.0   \n",
       "2              0.0                0.0                     0.0   \n",
       "3              0.0                0.0                     0.0   \n",
       "4              0.0                0.0                     0.0   \n",
       "\n",
       "   VZ_Priority_Geo_i  Vision_Zero_i  \n",
       "0           0.000000            0.0  \n",
       "1           0.000000            0.0  \n",
       "2           0.000000            0.0  \n",
       "3           0.418259            0.0  \n",
       "4           0.418259            0.0  \n",
       "\n",
       "[5 rows x 80 columns]"
      ]
     },
     "execution_count": 1875,
     "metadata": {},
     "output_type": "execute_result"
    }
   ],
   "source": [
    "data4.head()"
   ]
  },
  {
   "cell_type": "markdown",
   "metadata": {},
   "source": [
    "# Injuries per thousand with variables squared by precinct size in square miles"
   ]
  },
  {
   "cell_type": "code",
   "execution_count": 1876,
   "metadata": {
    "collapsed": false
   },
   "outputs": [
    {
     "data": {
      "text/html": [
       "<table class=\"simpletable\">\n",
       "<caption>OLS Regression Results</caption>\n",
       "<tr>\n",
       "  <th>Dep. Variable:</th>    <td>Injuries_Per_Thou</td> <th>  R-squared:         </th> <td>   0.192</td>\n",
       "</tr>\n",
       "<tr>\n",
       "  <th>Model:</th>                   <td>OLS</td>        <th>  Adj. R-squared:    </th> <td>   0.146</td>\n",
       "</tr>\n",
       "<tr>\n",
       "  <th>Method:</th>             <td>Least Squares</td>   <th>  F-statistic:       </th> <td>   4.189</td>\n",
       "</tr>\n",
       "<tr>\n",
       "  <th>Date:</th>             <td>Fri, 09 Dec 2016</td>  <th>  Prob (F-statistic):</th> <td>6.53e-06</td>\n",
       "</tr>\n",
       "<tr>\n",
       "  <th>Time:</th>                 <td>14:41:11</td>      <th>  Log-Likelihood:    </th> <td> -551.33</td>\n",
       "</tr>\n",
       "<tr>\n",
       "  <th>No. Observations:</th>      <td>   225</td>       <th>  AIC:               </th> <td>   1129.</td>\n",
       "</tr>\n",
       "<tr>\n",
       "  <th>Df Residuals:</th>          <td>   212</td>       <th>  BIC:               </th> <td>   1173.</td>\n",
       "</tr>\n",
       "<tr>\n",
       "  <th>Df Model:</th>              <td>    12</td>       <th>                     </th>     <td> </td>   \n",
       "</tr>\n",
       "<tr>\n",
       "  <th>Covariance Type:</th>      <td>nonrobust</td>     <th>                     </th>     <td> </td>   \n",
       "</tr>\n",
       "</table>\n",
       "<table class=\"simpletable\">\n",
       "<tr>\n",
       "             <td></td>               <th>coef</th>     <th>std err</th>      <th>t</th>      <th>P>|t|</th> <th>[95.0% Conf. Int.]</th> \n",
       "</tr>\n",
       "<tr>\n",
       "  <th>Intercept</th>              <td>    5.6085</td> <td>    0.284</td> <td>   19.767</td> <td> 0.000</td> <td>    5.049     6.168</td>\n",
       "</tr>\n",
       "<tr>\n",
       "  <th>Speed_Bump_Total</th>       <td>   -0.2098</td> <td>    0.089</td> <td>   -2.357</td> <td> 0.019</td> <td>   -0.385    -0.034</td>\n",
       "</tr>\n",
       "<tr>\n",
       "  <th>Neigh_Slow_Zone_Total</th>  <td>    0.1555</td> <td>    0.965</td> <td>    0.161</td> <td> 0.872</td> <td>   -1.746     2.057</td>\n",
       "</tr>\n",
       "<tr>\n",
       "  <th>New_Public_Space_c</th>     <td>    0.7173</td> <td>    0.995</td> <td>    0.721</td> <td> 0.472</td> <td>   -1.243     2.678</td>\n",
       "</tr>\n",
       "<tr>\n",
       "  <th>Pedestrian_Safety_c</th>    <td>   -0.0200</td> <td>    0.104</td> <td>   -0.192</td> <td> 0.848</td> <td>   -0.225     0.185</td>\n",
       "</tr>\n",
       "<tr>\n",
       "  <th>Senior_Safety_c</th>        <td>   -1.9912</td> <td>    1.678</td> <td>   -1.186</td> <td> 0.237</td> <td>   -5.300     1.317</td>\n",
       "</tr>\n",
       "<tr>\n",
       "  <th>Traffic_Calming_c</th>      <td>    0.0671</td> <td>    0.029</td> <td>    2.318</td> <td> 0.021</td> <td>    0.010     0.124</td>\n",
       "</tr>\n",
       "<tr>\n",
       "  <th>Traffic_Network_Chng_c</th> <td>    0.2195</td> <td>    0.183</td> <td>    1.198</td> <td> 0.232</td> <td>   -0.142     0.580</td>\n",
       "</tr>\n",
       "<tr>\n",
       "  <th>Bikes_c</th>                <td>    0.4185</td> <td>    0.087</td> <td>    4.784</td> <td> 0.000</td> <td>    0.246     0.591</td>\n",
       "</tr>\n",
       "<tr>\n",
       "  <th>Pedestrian_Safety_i</th>    <td>    0.0410</td> <td>    0.240</td> <td>    0.171</td> <td> 0.865</td> <td>   -0.432     0.514</td>\n",
       "</tr>\n",
       "<tr>\n",
       "  <th>Senior_Safety_i</th>        <td>  -17.1207</td> <td>   12.975</td> <td>   -1.320</td> <td> 0.188</td> <td>  -42.697     8.455</td>\n",
       "</tr>\n",
       "<tr>\n",
       "  <th>Traffic_Calming_i</th>      <td>   -0.9337</td> <td>    0.421</td> <td>   -2.218</td> <td> 0.028</td> <td>   -1.764    -0.104</td>\n",
       "</tr>\n",
       "<tr>\n",
       "  <th>Traffic_Network_Chng_i</th> <td>    3.2573</td> <td>    1.701</td> <td>    1.915</td> <td> 0.057</td> <td>   -0.096     6.611</td>\n",
       "</tr>\n",
       "</table>\n",
       "<table class=\"simpletable\">\n",
       "<tr>\n",
       "  <th>Omnibus:</th>       <td>215.542</td> <th>  Durbin-Watson:     </th> <td>   0.590</td>\n",
       "</tr>\n",
       "<tr>\n",
       "  <th>Prob(Omnibus):</th> <td> 0.000</td>  <th>  Jarque-Bera (JB):  </th> <td>5157.226</td>\n",
       "</tr>\n",
       "<tr>\n",
       "  <th>Skew:</th>          <td> 3.756</td>  <th>  Prob(JB):          </th> <td>    0.00</td>\n",
       "</tr>\n",
       "<tr>\n",
       "  <th>Kurtosis:</th>      <td>25.219</td>  <th>  Cond. No.          </th> <td>    665.</td>\n",
       "</tr>\n",
       "</table>"
      ],
      "text/plain": [
       "<class 'statsmodels.iolib.summary.Summary'>\n",
       "\"\"\"\n",
       "                            OLS Regression Results                            \n",
       "==============================================================================\n",
       "Dep. Variable:      Injuries_Per_Thou   R-squared:                       0.192\n",
       "Model:                            OLS   Adj. R-squared:                  0.146\n",
       "Method:                 Least Squares   F-statistic:                     4.189\n",
       "Date:                Fri, 09 Dec 2016   Prob (F-statistic):           6.53e-06\n",
       "Time:                        14:41:11   Log-Likelihood:                -551.33\n",
       "No. Observations:                 225   AIC:                             1129.\n",
       "Df Residuals:                     212   BIC:                             1173.\n",
       "Df Model:                          12                                         \n",
       "Covariance Type:            nonrobust                                         \n",
       "==========================================================================================\n",
       "                             coef    std err          t      P>|t|      [95.0% Conf. Int.]\n",
       "------------------------------------------------------------------------------------------\n",
       "Intercept                  5.6085      0.284     19.767      0.000         5.049     6.168\n",
       "Speed_Bump_Total          -0.2098      0.089     -2.357      0.019        -0.385    -0.034\n",
       "Neigh_Slow_Zone_Total      0.1555      0.965      0.161      0.872        -1.746     2.057\n",
       "New_Public_Space_c         0.7173      0.995      0.721      0.472        -1.243     2.678\n",
       "Pedestrian_Safety_c       -0.0200      0.104     -0.192      0.848        -0.225     0.185\n",
       "Senior_Safety_c           -1.9912      1.678     -1.186      0.237        -5.300     1.317\n",
       "Traffic_Calming_c          0.0671      0.029      2.318      0.021         0.010     0.124\n",
       "Traffic_Network_Chng_c     0.2195      0.183      1.198      0.232        -0.142     0.580\n",
       "Bikes_c                    0.4185      0.087      4.784      0.000         0.246     0.591\n",
       "Pedestrian_Safety_i        0.0410      0.240      0.171      0.865        -0.432     0.514\n",
       "Senior_Safety_i          -17.1207     12.975     -1.320      0.188       -42.697     8.455\n",
       "Traffic_Calming_i         -0.9337      0.421     -2.218      0.028        -1.764    -0.104\n",
       "Traffic_Network_Chng_i     3.2573      1.701      1.915      0.057        -0.096     6.611\n",
       "==============================================================================\n",
       "Omnibus:                      215.542   Durbin-Watson:                   0.590\n",
       "Prob(Omnibus):                  0.000   Jarque-Bera (JB):             5157.226\n",
       "Skew:                           3.756   Prob(JB):                         0.00\n",
       "Kurtosis:                      25.219   Cond. No.                         665.\n",
       "==============================================================================\n",
       "\n",
       "Warnings:\n",
       "[1] Standard Errors assume that the covariance matrix of the errors is correctly specified.\n",
       "\"\"\""
      ]
     },
     "execution_count": 1876,
     "metadata": {},
     "output_type": "execute_result"
    }
   ],
   "source": [
    "data5 = with_projects_area[with_projects_area.Total_Pop > threshold]\n",
    "lm5 = smf.ols(eqt, data = data5).fit()\n",
    "lm5.summary() "
   ]
  },
  {
   "cell_type": "code",
   "execution_count": null,
   "metadata": {
    "collapsed": true
   },
   "outputs": [],
   "source": [
    "lm_sig = mf.ols('Injuries_Per_Thou')"
   ]
  },
  {
   "cell_type": "markdown",
   "metadata": {},
   "source": [
    "# Injuries per thousand v. just speed bumps and neighborhood slow zones"
   ]
  },
  {
   "cell_type": "code",
   "execution_count": 1877,
   "metadata": {
    "collapsed": false
   },
   "outputs": [
    {
     "data": {
      "text/html": [
       "<table class=\"simpletable\">\n",
       "<caption>OLS Regression Results</caption>\n",
       "<tr>\n",
       "  <th>Dep. Variable:</th>    <td>Injuries_Per_Thou</td> <th>  R-squared:         </th> <td>   0.027</td>\n",
       "</tr>\n",
       "<tr>\n",
       "  <th>Model:</th>                   <td>OLS</td>        <th>  Adj. R-squared:    </th> <td>   0.019</td>\n",
       "</tr>\n",
       "<tr>\n",
       "  <th>Method:</th>             <td>Least Squares</td>   <th>  F-statistic:       </th> <td>   3.114</td>\n",
       "</tr>\n",
       "<tr>\n",
       "  <th>Date:</th>             <td>Fri, 09 Dec 2016</td>  <th>  Prob (F-statistic):</th>  <td>0.0464</td> \n",
       "</tr>\n",
       "<tr>\n",
       "  <th>Time:</th>                 <td>14:41:11</td>      <th>  Log-Likelihood:    </th> <td> -572.16</td>\n",
       "</tr>\n",
       "<tr>\n",
       "  <th>No. Observations:</th>      <td>   225</td>       <th>  AIC:               </th> <td>   1150.</td>\n",
       "</tr>\n",
       "<tr>\n",
       "  <th>Df Residuals:</th>          <td>   222</td>       <th>  BIC:               </th> <td>   1161.</td>\n",
       "</tr>\n",
       "<tr>\n",
       "  <th>Df Model:</th>              <td>     2</td>       <th>                     </th>     <td> </td>   \n",
       "</tr>\n",
       "<tr>\n",
       "  <th>Covariance Type:</th>      <td>nonrobust</td>     <th>                     </th>     <td> </td>   \n",
       "</tr>\n",
       "</table>\n",
       "<table class=\"simpletable\">\n",
       "<tr>\n",
       "            <td></td>               <th>coef</th>     <th>std err</th>      <th>t</th>      <th>P>|t|</th> <th>[95.0% Conf. Int.]</th> \n",
       "</tr>\n",
       "<tr>\n",
       "  <th>Intercept</th>             <td>    6.1455</td> <td>    0.257</td> <td>   23.911</td> <td> 0.000</td> <td>    5.639     6.652</td>\n",
       "</tr>\n",
       "<tr>\n",
       "  <th>Speed_Bump_Total</th>      <td>   -0.2244</td> <td>    0.090</td> <td>   -2.492</td> <td> 0.013</td> <td>   -0.402    -0.047</td>\n",
       "</tr>\n",
       "<tr>\n",
       "  <th>Neigh_Slow_Zone_Total</th> <td>    0.9497</td> <td>    0.986</td> <td>    0.963</td> <td> 0.337</td> <td>   -0.994     2.893</td>\n",
       "</tr>\n",
       "</table>\n",
       "<table class=\"simpletable\">\n",
       "<tr>\n",
       "  <th>Omnibus:</th>       <td>232.331</td> <th>  Durbin-Watson:     </th> <td>   0.584</td>\n",
       "</tr>\n",
       "<tr>\n",
       "  <th>Prob(Omnibus):</th> <td> 0.000</td>  <th>  Jarque-Bera (JB):  </th> <td>6807.389</td>\n",
       "</tr>\n",
       "<tr>\n",
       "  <th>Skew:</th>          <td> 4.141</td>  <th>  Prob(JB):          </th> <td>    0.00</td>\n",
       "</tr>\n",
       "<tr>\n",
       "  <th>Kurtosis:</th>      <td>28.642</td>  <th>  Cond. No.          </th> <td>    15.4</td>\n",
       "</tr>\n",
       "</table>"
      ],
      "text/plain": [
       "<class 'statsmodels.iolib.summary.Summary'>\n",
       "\"\"\"\n",
       "                            OLS Regression Results                            \n",
       "==============================================================================\n",
       "Dep. Variable:      Injuries_Per_Thou   R-squared:                       0.027\n",
       "Model:                            OLS   Adj. R-squared:                  0.019\n",
       "Method:                 Least Squares   F-statistic:                     3.114\n",
       "Date:                Fri, 09 Dec 2016   Prob (F-statistic):             0.0464\n",
       "Time:                        14:41:11   Log-Likelihood:                -572.16\n",
       "No. Observations:                 225   AIC:                             1150.\n",
       "Df Residuals:                     222   BIC:                             1161.\n",
       "Df Model:                           2                                         \n",
       "Covariance Type:            nonrobust                                         \n",
       "=========================================================================================\n",
       "                            coef    std err          t      P>|t|      [95.0% Conf. Int.]\n",
       "-----------------------------------------------------------------------------------------\n",
       "Intercept                 6.1455      0.257     23.911      0.000         5.639     6.652\n",
       "Speed_Bump_Total         -0.2244      0.090     -2.492      0.013        -0.402    -0.047\n",
       "Neigh_Slow_Zone_Total     0.9497      0.986      0.963      0.337        -0.994     2.893\n",
       "==============================================================================\n",
       "Omnibus:                      232.331   Durbin-Watson:                   0.584\n",
       "Prob(Omnibus):                  0.000   Jarque-Bera (JB):             6807.389\n",
       "Skew:                           4.141   Prob(JB):                         0.00\n",
       "Kurtosis:                      28.642   Cond. No.                         15.4\n",
       "==============================================================================\n",
       "\n",
       "Warnings:\n",
       "[1] Standard Errors assume that the covariance matrix of the errors is correctly specified.\n",
       "\"\"\""
      ]
     },
     "execution_count": 1877,
     "metadata": {},
     "output_type": "execute_result"
    }
   ],
   "source": [
    "lm6 = smf.ols('Injuries_Per_Thou ~ Speed_Bump_Total + Neigh_Slow_Zone_Total', data = data5).fit()\n",
    "lm6.summary() # just the more easily quanitifiable speed bump and neighborhood slow zone totals"
   ]
  },
  {
   "cell_type": "code",
   "execution_count": 1878,
   "metadata": {
    "collapsed": false
   },
   "outputs": [
    {
     "data": {
      "text/plain": [
       "\"# merge data for group since per capita seems to be the way to go\\nmerge2['PrecinctYear'] = merge2['PrecinctYear'].apply(lambda x: str(x).zfill(7))\\nremerge = pd.merge(merge2, precincts_shp, left_on = 'Precinct', right_on = 'Precinct', how = 'outer')\\nremerge.fillna(0, inplace = True)\\nremerge['Injuries_Per_Thou'] = remerge['NUMBER OF PERSONS INJURED'] / (remerge['Total_Pop'] / 1000)\\nremerge.to_csv('mergedv3.csv')\\n\""
      ]
     },
     "execution_count": 1878,
     "metadata": {},
     "output_type": "execute_result"
    }
   ],
   "source": [
    "'''# merge data for group since per capita seems to be the way to go\n",
    "merge2['PrecinctYear'] = merge2['PrecinctYear'].apply(lambda x: str(x).zfill(7))\n",
    "remerge = pd.merge(merge2, precincts_shp, left_on = 'Precinct', right_on = 'Precinct', how = 'outer')\n",
    "remerge.fillna(0, inplace = True)\n",
    "remerge['Injuries_Per_Thou'] = remerge['NUMBER OF PERSONS INJURED'] / (remerge['Total_Pop'] / 1000)\n",
    "remerge.to_csv('mergedv3.csv')\n",
    "'''"
   ]
  },
  {
   "cell_type": "markdown",
   "metadata": {},
   "source": [
    "Feature Selection for P-Values under threshold of 0.05"
   ]
  },
  {
   "cell_type": "code",
   "execution_count": 1879,
   "metadata": {
    "collapsed": false
   },
   "outputs": [],
   "source": [
    "sig_var = lm5.pvalues[lm5.pvalues < .1].keys()"
   ]
  },
  {
   "cell_type": "code",
   "execution_count": 1880,
   "metadata": {
    "collapsed": false
   },
   "outputs": [],
   "source": [
    "sig_eqt = 'Injuries_Per_Thou ~ ' + ' + '.join(sig_var[1:])"
   ]
  },
  {
   "cell_type": "code",
   "execution_count": 1881,
   "metadata": {
    "collapsed": false
   },
   "outputs": [
    {
     "data": {
      "text/plain": [
       "'Injuries_Per_Thou ~ Speed_Bump_Total + Traffic_Calming_c + Bikes_c + Traffic_Calming_i + Traffic_Network_Chng_i'"
      ]
     },
     "execution_count": 1881,
     "metadata": {},
     "output_type": "execute_result"
    }
   ],
   "source": [
    "sig_eqt"
   ]
  },
  {
   "cell_type": "code",
   "execution_count": 1882,
   "metadata": {
    "collapsed": false
   },
   "outputs": [],
   "source": [
    "lm_sig = smf.ols(sig_eqt, data5).fit()"
   ]
  },
  {
   "cell_type": "code",
   "execution_count": 1883,
   "metadata": {
    "collapsed": false
   },
   "outputs": [
    {
     "data": {
      "text/html": [
       "<table class=\"simpletable\">\n",
       "<caption>OLS Regression Results</caption>\n",
       "<tr>\n",
       "  <th>Dep. Variable:</th>    <td>Injuries_Per_Thou</td> <th>  R-squared:         </th> <td>   0.171</td>\n",
       "</tr>\n",
       "<tr>\n",
       "  <th>Model:</th>                   <td>OLS</td>        <th>  Adj. R-squared:    </th> <td>   0.152</td>\n",
       "</tr>\n",
       "<tr>\n",
       "  <th>Method:</th>             <td>Least Squares</td>   <th>  F-statistic:       </th> <td>   9.044</td>\n",
       "</tr>\n",
       "<tr>\n",
       "  <th>Date:</th>             <td>Fri, 09 Dec 2016</td>  <th>  Prob (F-statistic):</th> <td>7.84e-08</td>\n",
       "</tr>\n",
       "<tr>\n",
       "  <th>Time:</th>                 <td>14:41:11</td>      <th>  Log-Likelihood:    </th> <td> -554.15</td>\n",
       "</tr>\n",
       "<tr>\n",
       "  <th>No. Observations:</th>      <td>   225</td>       <th>  AIC:               </th> <td>   1120.</td>\n",
       "</tr>\n",
       "<tr>\n",
       "  <th>Df Residuals:</th>          <td>   219</td>       <th>  BIC:               </th> <td>   1141.</td>\n",
       "</tr>\n",
       "<tr>\n",
       "  <th>Df Model:</th>              <td>     5</td>       <th>                     </th>     <td> </td>   \n",
       "</tr>\n",
       "<tr>\n",
       "  <th>Covariance Type:</th>      <td>nonrobust</td>     <th>                     </th>     <td> </td>   \n",
       "</tr>\n",
       "</table>\n",
       "<table class=\"simpletable\">\n",
       "<tr>\n",
       "             <td></td>               <th>coef</th>     <th>std err</th>      <th>t</th>      <th>P>|t|</th> <th>[95.0% Conf. Int.]</th> \n",
       "</tr>\n",
       "<tr>\n",
       "  <th>Intercept</th>              <td>    5.6258</td> <td>    0.274</td> <td>   20.542</td> <td> 0.000</td> <td>    5.086     6.166</td>\n",
       "</tr>\n",
       "<tr>\n",
       "  <th>Speed_Bump_Total</th>       <td>   -0.1910</td> <td>    0.078</td> <td>   -2.458</td> <td> 0.015</td> <td>   -0.344    -0.038</td>\n",
       "</tr>\n",
       "<tr>\n",
       "  <th>Traffic_Calming_c</th>      <td>    0.0597</td> <td>    0.028</td> <td>    2.154</td> <td> 0.032</td> <td>    0.005     0.114</td>\n",
       "</tr>\n",
       "<tr>\n",
       "  <th>Bikes_c</th>                <td>    0.4003</td> <td>    0.083</td> <td>    4.795</td> <td> 0.000</td> <td>    0.236     0.565</td>\n",
       "</tr>\n",
       "<tr>\n",
       "  <th>Traffic_Calming_i</th>      <td>   -0.9087</td> <td>    0.381</td> <td>   -2.382</td> <td> 0.018</td> <td>   -1.661    -0.157</td>\n",
       "</tr>\n",
       "<tr>\n",
       "  <th>Traffic_Network_Chng_i</th> <td>    3.3876</td> <td>    1.626</td> <td>    2.084</td> <td> 0.038</td> <td>    0.184     6.592</td>\n",
       "</tr>\n",
       "</table>\n",
       "<table class=\"simpletable\">\n",
       "<tr>\n",
       "  <th>Omnibus:</th>       <td>212.773</td> <th>  Durbin-Watson:     </th> <td>   0.584</td>\n",
       "</tr>\n",
       "<tr>\n",
       "  <th>Prob(Omnibus):</th> <td> 0.000</td>  <th>  Jarque-Bera (JB):  </th> <td>4888.119</td>\n",
       "</tr>\n",
       "<tr>\n",
       "  <th>Skew:</th>          <td> 3.699</td>  <th>  Prob(JB):          </th> <td>    0.00</td>\n",
       "</tr>\n",
       "<tr>\n",
       "  <th>Kurtosis:</th>      <td>24.603</td>  <th>  Cond. No.          </th> <td>    83.5</td>\n",
       "</tr>\n",
       "</table>"
      ],
      "text/plain": [
       "<class 'statsmodels.iolib.summary.Summary'>\n",
       "\"\"\"\n",
       "                            OLS Regression Results                            \n",
       "==============================================================================\n",
       "Dep. Variable:      Injuries_Per_Thou   R-squared:                       0.171\n",
       "Model:                            OLS   Adj. R-squared:                  0.152\n",
       "Method:                 Least Squares   F-statistic:                     9.044\n",
       "Date:                Fri, 09 Dec 2016   Prob (F-statistic):           7.84e-08\n",
       "Time:                        14:41:11   Log-Likelihood:                -554.15\n",
       "No. Observations:                 225   AIC:                             1120.\n",
       "Df Residuals:                     219   BIC:                             1141.\n",
       "Df Model:                           5                                         \n",
       "Covariance Type:            nonrobust                                         \n",
       "==========================================================================================\n",
       "                             coef    std err          t      P>|t|      [95.0% Conf. Int.]\n",
       "------------------------------------------------------------------------------------------\n",
       "Intercept                  5.6258      0.274     20.542      0.000         5.086     6.166\n",
       "Speed_Bump_Total          -0.1910      0.078     -2.458      0.015        -0.344    -0.038\n",
       "Traffic_Calming_c          0.0597      0.028      2.154      0.032         0.005     0.114\n",
       "Bikes_c                    0.4003      0.083      4.795      0.000         0.236     0.565\n",
       "Traffic_Calming_i         -0.9087      0.381     -2.382      0.018        -1.661    -0.157\n",
       "Traffic_Network_Chng_i     3.3876      1.626      2.084      0.038         0.184     6.592\n",
       "==============================================================================\n",
       "Omnibus:                      212.773   Durbin-Watson:                   0.584\n",
       "Prob(Omnibus):                  0.000   Jarque-Bera (JB):             4888.119\n",
       "Skew:                           3.699   Prob(JB):                         0.00\n",
       "Kurtosis:                      24.603   Cond. No.                         83.5\n",
       "==============================================================================\n",
       "\n",
       "Warnings:\n",
       "[1] Standard Errors assume that the covariance matrix of the errors is correctly specified.\n",
       "\"\"\""
      ]
     },
     "execution_count": 1883,
     "metadata": {},
     "output_type": "execute_result"
    }
   ],
   "source": [
    "lm_sig.summary()"
   ]
  },
  {
   "cell_type": "markdown",
   "metadata": {},
   "source": [
    "# All coefficients have a positive relationship with Total Injuries except for Traffic Calming at Intersections. This equation may be capturing a reverse relation where these strategies are deployed in areas that need them (good!)"
   ]
  },
  {
   "cell_type": "code",
   "execution_count": 1884,
   "metadata": {
    "collapsed": false
   },
   "outputs": [],
   "source": [
    "percent_change = []\n",
    "perc_change_2014 = with_projects_area.groupby('Precinct').Injuries_Per_Thou.pct_change()\n",
    "perc_change_2015 = with_projects_area.groupby('Precinct').Injuries_Per_Thou.pct_change(2)\n",
    "for x in range(len(with_projects_area)):\n",
    "    if with_projects_area.Year[x] == 2013:\n",
    "        percent_change.append(0)\n",
    "    elif with_projects_area.Year[x] == 2014: \n",
    "        percent_change.append(perc_change_2014[x])\n",
    "    else:\n",
    "        percent_change.append(perc_change_2015[x])\n",
    "with_projects_area['Per_Thou_Inj_Change']  = percent_change"
   ]
  },
  {
   "cell_type": "markdown",
   "metadata": {},
   "source": [
    "# Try Regressing Based on Percent Change in Per Capita Injuries. Therefore remove 2013 data as it is baseline"
   ]
  },
  {
   "cell_type": "code",
   "execution_count": 1885,
   "metadata": {
    "collapsed": false
   },
   "outputs": [
    {
     "name": "stderr",
     "output_type": "stream",
     "text": [
      "/opt/rh/anaconda/root/lib/python2.7/site-packages/ipykernel/__main__.py:1: UserWarning: Boolean Series key will be reindexed to match DataFrame index.\n",
      "  if __name__ == '__main__':\n"
     ]
    }
   ],
   "source": [
    "data6 = with_projects_area[with_projects_area.Total_Pop > threshold][with_projects_area.Year > 2013]"
   ]
  },
  {
   "cell_type": "code",
   "execution_count": 1886,
   "metadata": {
    "collapsed": true
   },
   "outputs": [],
   "source": [
    "eqt_change = 'Per_Thou_Inj_Change ~ ' + ' + '.join(regress)"
   ]
  },
  {
   "cell_type": "code",
   "execution_count": 1887,
   "metadata": {
    "collapsed": false
   },
   "outputs": [
    {
     "data": {
      "text/html": [
       "<table class=\"simpletable\">\n",
       "<caption>OLS Regression Results</caption>\n",
       "<tr>\n",
       "  <th>Dep. Variable:</th>    <td>Per_Thou_Inj_Change</td> <th>  R-squared:         </th> <td>   0.110</td>\n",
       "</tr>\n",
       "<tr>\n",
       "  <th>Model:</th>                    <td>OLS</td>         <th>  Adj. R-squared:    </th> <td>   0.032</td>\n",
       "</tr>\n",
       "<tr>\n",
       "  <th>Method:</th>              <td>Least Squares</td>    <th>  F-statistic:       </th> <td>   1.409</td>\n",
       "</tr>\n",
       "<tr>\n",
       "  <th>Date:</th>              <td>Fri, 09 Dec 2016</td>   <th>  Prob (F-statistic):</th>  <td> 0.169</td> \n",
       "</tr>\n",
       "<tr>\n",
       "  <th>Time:</th>                  <td>14:41:12</td>       <th>  Log-Likelihood:    </th> <td>  161.96</td>\n",
       "</tr>\n",
       "<tr>\n",
       "  <th>No. Observations:</th>       <td>   150</td>        <th>  AIC:               </th> <td>  -297.9</td>\n",
       "</tr>\n",
       "<tr>\n",
       "  <th>Df Residuals:</th>           <td>   137</td>        <th>  BIC:               </th> <td>  -258.8</td>\n",
       "</tr>\n",
       "<tr>\n",
       "  <th>Df Model:</th>               <td>    12</td>        <th>                     </th>     <td> </td>   \n",
       "</tr>\n",
       "<tr>\n",
       "  <th>Covariance Type:</th>       <td>nonrobust</td>      <th>                     </th>     <td> </td>   \n",
       "</tr>\n",
       "</table>\n",
       "<table class=\"simpletable\">\n",
       "<tr>\n",
       "             <td></td>               <th>coef</th>     <th>std err</th>      <th>t</th>      <th>P>|t|</th> <th>[95.0% Conf. Int.]</th> \n",
       "</tr>\n",
       "<tr>\n",
       "  <th>Intercept</th>              <td>   -0.0618</td> <td>    0.011</td> <td>   -5.737</td> <td> 0.000</td> <td>   -0.083    -0.040</td>\n",
       "</tr>\n",
       "<tr>\n",
       "  <th>Speed_Bump_Total</th>       <td>   -0.0070</td> <td>    0.003</td> <td>   -2.348</td> <td> 0.020</td> <td>   -0.013    -0.001</td>\n",
       "</tr>\n",
       "<tr>\n",
       "  <th>Neigh_Slow_Zone_Total</th>  <td>    0.0007</td> <td>    0.031</td> <td>    0.022</td> <td> 0.982</td> <td>   -0.060     0.062</td>\n",
       "</tr>\n",
       "<tr>\n",
       "  <th>New_Public_Space_c</th>     <td>   -0.0285</td> <td>    0.036</td> <td>   -0.786</td> <td> 0.433</td> <td>   -0.100     0.043</td>\n",
       "</tr>\n",
       "<tr>\n",
       "  <th>Pedestrian_Safety_c</th>    <td>   -0.0056</td> <td>    0.004</td> <td>   -1.469</td> <td> 0.144</td> <td>   -0.013     0.002</td>\n",
       "</tr>\n",
       "<tr>\n",
       "  <th>Senior_Safety_c</th>        <td>   -0.1154</td> <td>    0.061</td> <td>   -1.885</td> <td> 0.061</td> <td>   -0.236     0.006</td>\n",
       "</tr>\n",
       "<tr>\n",
       "  <th>Traffic_Calming_c</th>      <td>    0.0007</td> <td>    0.001</td> <td>    0.664</td> <td> 0.508</td> <td>   -0.001     0.003</td>\n",
       "</tr>\n",
       "<tr>\n",
       "  <th>Traffic_Network_Chng_c</th> <td>   -0.0060</td> <td>    0.007</td> <td>   -0.904</td> <td> 0.367</td> <td>   -0.019     0.007</td>\n",
       "</tr>\n",
       "<tr>\n",
       "  <th>Bikes_c</th>                <td>   -0.0031</td> <td>    0.003</td> <td>   -0.967</td> <td> 0.335</td> <td>   -0.009     0.003</td>\n",
       "</tr>\n",
       "<tr>\n",
       "  <th>Pedestrian_Safety_i</th>    <td>    0.0127</td> <td>    0.009</td> <td>    1.446</td> <td> 0.150</td> <td>   -0.005     0.030</td>\n",
       "</tr>\n",
       "<tr>\n",
       "  <th>Senior_Safety_i</th>        <td>   -0.2258</td> <td>    0.474</td> <td>   -0.476</td> <td> 0.635</td> <td>   -1.164     0.712</td>\n",
       "</tr>\n",
       "<tr>\n",
       "  <th>Traffic_Calming_i</th>      <td>    0.0007</td> <td>    0.015</td> <td>    0.044</td> <td> 0.965</td> <td>   -0.030     0.031</td>\n",
       "</tr>\n",
       "<tr>\n",
       "  <th>Traffic_Network_Chng_i</th> <td>    0.0432</td> <td>    0.061</td> <td>    0.704</td> <td> 0.483</td> <td>   -0.078     0.164</td>\n",
       "</tr>\n",
       "</table>\n",
       "<table class=\"simpletable\">\n",
       "<tr>\n",
       "  <th>Omnibus:</th>       <td> 2.349</td> <th>  Durbin-Watson:     </th> <td>   1.625</td>\n",
       "</tr>\n",
       "<tr>\n",
       "  <th>Prob(Omnibus):</th> <td> 0.309</td> <th>  Jarque-Bera (JB):  </th> <td>   2.088</td>\n",
       "</tr>\n",
       "<tr>\n",
       "  <th>Skew:</th>          <td> 0.288</td> <th>  Prob(JB):          </th> <td>   0.352</td>\n",
       "</tr>\n",
       "<tr>\n",
       "  <th>Kurtosis:</th>      <td> 3.052</td> <th>  Cond. No.          </th> <td>    676.</td>\n",
       "</tr>\n",
       "</table>"
      ],
      "text/plain": [
       "<class 'statsmodels.iolib.summary.Summary'>\n",
       "\"\"\"\n",
       "                             OLS Regression Results                            \n",
       "===============================================================================\n",
       "Dep. Variable:     Per_Thou_Inj_Change   R-squared:                       0.110\n",
       "Model:                             OLS   Adj. R-squared:                  0.032\n",
       "Method:                  Least Squares   F-statistic:                     1.409\n",
       "Date:                 Fri, 09 Dec 2016   Prob (F-statistic):              0.169\n",
       "Time:                         14:41:12   Log-Likelihood:                 161.96\n",
       "No. Observations:                  150   AIC:                            -297.9\n",
       "Df Residuals:                      137   BIC:                            -258.8\n",
       "Df Model:                           12                                         \n",
       "Covariance Type:             nonrobust                                         \n",
       "==========================================================================================\n",
       "                             coef    std err          t      P>|t|      [95.0% Conf. Int.]\n",
       "------------------------------------------------------------------------------------------\n",
       "Intercept                 -0.0618      0.011     -5.737      0.000        -0.083    -0.040\n",
       "Speed_Bump_Total          -0.0070      0.003     -2.348      0.020        -0.013    -0.001\n",
       "Neigh_Slow_Zone_Total      0.0007      0.031      0.022      0.982        -0.060     0.062\n",
       "New_Public_Space_c        -0.0285      0.036     -0.786      0.433        -0.100     0.043\n",
       "Pedestrian_Safety_c       -0.0056      0.004     -1.469      0.144        -0.013     0.002\n",
       "Senior_Safety_c           -0.1154      0.061     -1.885      0.061        -0.236     0.006\n",
       "Traffic_Calming_c          0.0007      0.001      0.664      0.508        -0.001     0.003\n",
       "Traffic_Network_Chng_c    -0.0060      0.007     -0.904      0.367        -0.019     0.007\n",
       "Bikes_c                   -0.0031      0.003     -0.967      0.335        -0.009     0.003\n",
       "Pedestrian_Safety_i        0.0127      0.009      1.446      0.150        -0.005     0.030\n",
       "Senior_Safety_i           -0.2258      0.474     -0.476      0.635        -1.164     0.712\n",
       "Traffic_Calming_i          0.0007      0.015      0.044      0.965        -0.030     0.031\n",
       "Traffic_Network_Chng_i     0.0432      0.061      0.704      0.483        -0.078     0.164\n",
       "==============================================================================\n",
       "Omnibus:                        2.349   Durbin-Watson:                   1.625\n",
       "Prob(Omnibus):                  0.309   Jarque-Bera (JB):                2.088\n",
       "Skew:                           0.288   Prob(JB):                        0.352\n",
       "Kurtosis:                       3.052   Cond. No.                         676.\n",
       "==============================================================================\n",
       "\n",
       "Warnings:\n",
       "[1] Standard Errors assume that the covariance matrix of the errors is correctly specified.\n",
       "\"\"\""
      ]
     },
     "execution_count": 1887,
     "metadata": {},
     "output_type": "execute_result"
    }
   ],
   "source": [
    "lm_change = smf.ols(eqt_change, data6).fit()\n",
    "lm_change.summary()"
   ]
  },
  {
   "cell_type": "code",
   "execution_count": 1888,
   "metadata": {
    "collapsed": false
   },
   "outputs": [],
   "source": [
    "mean_per_thou_inj = data6.Injuries_Per_Thou.mean()"
   ]
  },
  {
   "cell_type": "code",
   "execution_count": 1889,
   "metadata": {
    "collapsed": false
   },
   "outputs": [
    {
     "name": "stderr",
     "output_type": "stream",
     "text": [
      "/opt/rh/anaconda/root/lib/python2.7/site-packages/ipykernel/__main__.py:1: UserWarning: Boolean Series key will be reindexed to match DataFrame index.\n",
      "  if __name__ == '__main__':\n"
     ]
    }
   ],
   "source": [
    "danger_precincts = list(data5[data5.Year == 2013][data5.Injuries_Per_Thou > mean_per_thou_inj].Precinct)"
   ]
  },
  {
   "cell_type": "code",
   "execution_count": 1890,
   "metadata": {
    "collapsed": false
   },
   "outputs": [],
   "source": [
    "data7 = data6[data6.Precinct.isin(danger_precincts)]"
   ]
  },
  {
   "cell_type": "markdown",
   "metadata": {},
   "source": [
    "# Run analysis on dangerous precincts (described as precincts with pre vision zero deaths above the mean"
   ]
  },
  {
   "cell_type": "code",
   "execution_count": 1891,
   "metadata": {
    "collapsed": false
   },
   "outputs": [
    {
     "data": {
      "text/html": [
       "<table class=\"simpletable\">\n",
       "<caption>OLS Regression Results</caption>\n",
       "<tr>\n",
       "  <th>Dep. Variable:</th>    <td>Injuries_Per_Thou</td> <th>  R-squared:         </th> <td>   0.789</td>\n",
       "</tr>\n",
       "<tr>\n",
       "  <th>Model:</th>                   <td>OLS</td>        <th>  Adj. R-squared:    </th> <td>   0.751</td>\n",
       "</tr>\n",
       "<tr>\n",
       "  <th>Method:</th>             <td>Least Squares</td>   <th>  F-statistic:       </th> <td>   20.42</td>\n",
       "</tr>\n",
       "<tr>\n",
       "  <th>Date:</th>             <td>Fri, 09 Dec 2016</td>  <th>  Prob (F-statistic):</th> <td>2.34e-16</td>\n",
       "</tr>\n",
       "<tr>\n",
       "  <th>Time:</th>                 <td>14:41:12</td>      <th>  Log-Likelihood:    </th> <td> -134.33</td>\n",
       "</tr>\n",
       "<tr>\n",
       "  <th>No. Observations:</th>      <td>    72</td>       <th>  AIC:               </th> <td>   292.7</td>\n",
       "</tr>\n",
       "<tr>\n",
       "  <th>Df Residuals:</th>          <td>    60</td>       <th>  BIC:               </th> <td>   320.0</td>\n",
       "</tr>\n",
       "<tr>\n",
       "  <th>Df Model:</th>              <td>    11</td>       <th>                     </th>     <td> </td>   \n",
       "</tr>\n",
       "<tr>\n",
       "  <th>Covariance Type:</th>      <td>nonrobust</td>     <th>                     </th>     <td> </td>   \n",
       "</tr>\n",
       "</table>\n",
       "<table class=\"simpletable\">\n",
       "<tr>\n",
       "             <td></td>               <th>coef</th>     <th>std err</th>      <th>t</th>      <th>P>|t|</th> <th>[95.0% Conf. Int.]</th> \n",
       "</tr>\n",
       "<tr>\n",
       "  <th>Intercept</th>              <td>    7.1488</td> <td>    0.340</td> <td>   20.997</td> <td> 0.000</td> <td>    6.468     7.830</td>\n",
       "</tr>\n",
       "<tr>\n",
       "  <th>Speed_Bump_Total</th>       <td>   -0.1362</td> <td>    0.099</td> <td>   -1.370</td> <td> 0.176</td> <td>   -0.335     0.063</td>\n",
       "</tr>\n",
       "<tr>\n",
       "  <th>Neigh_Slow_Zone_Total</th>  <td>    0.5373</td> <td>    1.022</td> <td>    0.526</td> <td> 0.601</td> <td>   -1.508     2.583</td>\n",
       "</tr>\n",
       "<tr>\n",
       "  <th>New_Public_Space_c</th>     <td>   -0.3567</td> <td>    0.735</td> <td>   -0.485</td> <td> 0.629</td> <td>   -1.827     1.113</td>\n",
       "</tr>\n",
       "<tr>\n",
       "  <th>Pedestrian_Safety_c</th>    <td>    0.4616</td> <td>    0.199</td> <td>    2.315</td> <td> 0.024</td> <td>    0.063     0.861</td>\n",
       "</tr>\n",
       "<tr>\n",
       "  <th>Senior_Safety_c</th>        <td>   -1.2770</td> <td>    1.252</td> <td>   -1.020</td> <td> 0.312</td> <td>   -3.780     1.226</td>\n",
       "</tr>\n",
       "<tr>\n",
       "  <th>Traffic_Calming_c</th>      <td>   -0.0224</td> <td>    0.029</td> <td>   -0.765</td> <td> 0.447</td> <td>   -0.081     0.036</td>\n",
       "</tr>\n",
       "<tr>\n",
       "  <th>Traffic_Network_Chng_c</th> <td>   -0.0105</td> <td>    0.137</td> <td>   -0.077</td> <td> 0.939</td> <td>   -0.285     0.264</td>\n",
       "</tr>\n",
       "<tr>\n",
       "  <th>Bikes_c</th>                <td>   -0.2880</td> <td>    0.083</td> <td>   -3.450</td> <td> 0.001</td> <td>   -0.455    -0.121</td>\n",
       "</tr>\n",
       "<tr>\n",
       "  <th>Pedestrian_Safety_i</th>    <td>   11.0000</td> <td>    0.923</td> <td>   11.921</td> <td> 0.000</td> <td>    9.154    12.846</td>\n",
       "</tr>\n",
       "<tr>\n",
       "  <th>Senior_Safety_i</th>        <td>-1.458e-15</td> <td> 9.94e-16</td> <td>   -1.466</td> <td> 0.148</td> <td>-3.45e-15  5.31e-16</td>\n",
       "</tr>\n",
       "<tr>\n",
       "  <th>Traffic_Calming_i</th>      <td>    0.5567</td> <td>    0.522</td> <td>    1.067</td> <td> 0.290</td> <td>   -0.487     1.601</td>\n",
       "</tr>\n",
       "<tr>\n",
       "  <th>Traffic_Network_Chng_i</th> <td>    3.7120</td> <td>    1.544</td> <td>    2.405</td> <td> 0.019</td> <td>    0.624     6.800</td>\n",
       "</tr>\n",
       "</table>\n",
       "<table class=\"simpletable\">\n",
       "<tr>\n",
       "  <th>Omnibus:</th>       <td> 7.842</td> <th>  Durbin-Watson:     </th> <td>   0.989</td>\n",
       "</tr>\n",
       "<tr>\n",
       "  <th>Prob(Omnibus):</th> <td> 0.020</td> <th>  Jarque-Bera (JB):  </th> <td>  11.675</td>\n",
       "</tr>\n",
       "<tr>\n",
       "  <th>Skew:</th>          <td>-0.346</td> <th>  Prob(JB):          </th> <td> 0.00292</td>\n",
       "</tr>\n",
       "<tr>\n",
       "  <th>Kurtosis:</th>      <td> 4.848</td> <th>  Cond. No.          </th> <td>1.55e+18</td>\n",
       "</tr>\n",
       "</table>"
      ],
      "text/plain": [
       "<class 'statsmodels.iolib.summary.Summary'>\n",
       "\"\"\"\n",
       "                            OLS Regression Results                            \n",
       "==============================================================================\n",
       "Dep. Variable:      Injuries_Per_Thou   R-squared:                       0.789\n",
       "Model:                            OLS   Adj. R-squared:                  0.751\n",
       "Method:                 Least Squares   F-statistic:                     20.42\n",
       "Date:                Fri, 09 Dec 2016   Prob (F-statistic):           2.34e-16\n",
       "Time:                        14:41:12   Log-Likelihood:                -134.33\n",
       "No. Observations:                  72   AIC:                             292.7\n",
       "Df Residuals:                      60   BIC:                             320.0\n",
       "Df Model:                          11                                         \n",
       "Covariance Type:            nonrobust                                         \n",
       "==========================================================================================\n",
       "                             coef    std err          t      P>|t|      [95.0% Conf. Int.]\n",
       "------------------------------------------------------------------------------------------\n",
       "Intercept                  7.1488      0.340     20.997      0.000         6.468     7.830\n",
       "Speed_Bump_Total          -0.1362      0.099     -1.370      0.176        -0.335     0.063\n",
       "Neigh_Slow_Zone_Total      0.5373      1.022      0.526      0.601        -1.508     2.583\n",
       "New_Public_Space_c        -0.3567      0.735     -0.485      0.629        -1.827     1.113\n",
       "Pedestrian_Safety_c        0.4616      0.199      2.315      0.024         0.063     0.861\n",
       "Senior_Safety_c           -1.2770      1.252     -1.020      0.312        -3.780     1.226\n",
       "Traffic_Calming_c         -0.0224      0.029     -0.765      0.447        -0.081     0.036\n",
       "Traffic_Network_Chng_c    -0.0105      0.137     -0.077      0.939        -0.285     0.264\n",
       "Bikes_c                   -0.2880      0.083     -3.450      0.001        -0.455    -0.121\n",
       "Pedestrian_Safety_i       11.0000      0.923     11.921      0.000         9.154    12.846\n",
       "Senior_Safety_i        -1.458e-15   9.94e-16     -1.466      0.148     -3.45e-15  5.31e-16\n",
       "Traffic_Calming_i          0.5567      0.522      1.067      0.290        -0.487     1.601\n",
       "Traffic_Network_Chng_i     3.7120      1.544      2.405      0.019         0.624     6.800\n",
       "==============================================================================\n",
       "Omnibus:                        7.842   Durbin-Watson:                   0.989\n",
       "Prob(Omnibus):                  0.020   Jarque-Bera (JB):               11.675\n",
       "Skew:                          -0.346   Prob(JB):                      0.00292\n",
       "Kurtosis:                       4.848   Cond. No.                     1.55e+18\n",
       "==============================================================================\n",
       "\n",
       "Warnings:\n",
       "[1] Standard Errors assume that the covariance matrix of the errors is correctly specified.\n",
       "[2] The smallest eigenvalue is 3.94e-33. This might indicate that there are\n",
       "strong multicollinearity problems or that the design matrix is singular.\n",
       "\"\"\""
      ]
     },
     "execution_count": 1891,
     "metadata": {},
     "output_type": "execute_result"
    }
   ],
   "source": [
    "lm_danger = smf.ols(eqt, data6[data6.Precinct.isin(danger_precincts)]).fit()\n",
    "lm_danger.summary()"
   ]
  },
  {
   "cell_type": "code",
   "execution_count": 1892,
   "metadata": {
    "collapsed": false
   },
   "outputs": [
    {
     "data": {
      "text/html": [
       "<table class=\"simpletable\">\n",
       "<caption>OLS Regression Results</caption>\n",
       "<tr>\n",
       "  <th>Dep. Variable:</th>    <td>Injuries_Per_Thou</td> <th>  R-squared:         </th> <td>   0.773</td>\n",
       "</tr>\n",
       "<tr>\n",
       "  <th>Model:</th>                   <td>OLS</td>        <th>  Adj. R-squared:    </th> <td>   0.759</td>\n",
       "</tr>\n",
       "<tr>\n",
       "  <th>Method:</th>             <td>Least Squares</td>   <th>  F-statistic:       </th> <td>   56.89</td>\n",
       "</tr>\n",
       "<tr>\n",
       "  <th>Date:</th>             <td>Fri, 09 Dec 2016</td>  <th>  Prob (F-statistic):</th> <td>7.67e-21</td>\n",
       "</tr>\n",
       "<tr>\n",
       "  <th>Time:</th>                 <td>14:41:12</td>      <th>  Log-Likelihood:    </th> <td> -137.07</td>\n",
       "</tr>\n",
       "<tr>\n",
       "  <th>No. Observations:</th>      <td>    72</td>       <th>  AIC:               </th> <td>   284.1</td>\n",
       "</tr>\n",
       "<tr>\n",
       "  <th>Df Residuals:</th>          <td>    67</td>       <th>  BIC:               </th> <td>   295.5</td>\n",
       "</tr>\n",
       "<tr>\n",
       "  <th>Df Model:</th>              <td>     4</td>       <th>                     </th>     <td> </td>   \n",
       "</tr>\n",
       "<tr>\n",
       "  <th>Covariance Type:</th>      <td>nonrobust</td>     <th>                     </th>     <td> </td>   \n",
       "</tr>\n",
       "</table>\n",
       "<table class=\"simpletable\">\n",
       "<tr>\n",
       "             <td></td>               <th>coef</th>     <th>std err</th>      <th>t</th>      <th>P>|t|</th> <th>[95.0% Conf. Int.]</th> \n",
       "</tr>\n",
       "<tr>\n",
       "  <th>Intercept</th>              <td>    6.7290</td> <td>    0.224</td> <td>   30.021</td> <td> 0.000</td> <td>    6.282     7.176</td>\n",
       "</tr>\n",
       "<tr>\n",
       "  <th>Pedestrian_Safety_c</th>    <td>    0.4501</td> <td>    0.183</td> <td>    2.462</td> <td> 0.016</td> <td>    0.085     0.815</td>\n",
       "</tr>\n",
       "<tr>\n",
       "  <th>Bikes_c</th>                <td>   -0.2710</td> <td>    0.079</td> <td>   -3.409</td> <td> 0.001</td> <td>   -0.430    -0.112</td>\n",
       "</tr>\n",
       "<tr>\n",
       "  <th>Pedestrian_Safety_i</th>    <td>   11.1017</td> <td>    0.866</td> <td>   12.816</td> <td> 0.000</td> <td>    9.373    12.831</td>\n",
       "</tr>\n",
       "<tr>\n",
       "  <th>Traffic_Network_Chng_i</th> <td>    4.4947</td> <td>    1.317</td> <td>    3.412</td> <td> 0.001</td> <td>    1.866     7.124</td>\n",
       "</tr>\n",
       "</table>\n",
       "<table class=\"simpletable\">\n",
       "<tr>\n",
       "  <th>Omnibus:</th>       <td> 3.971</td> <th>  Durbin-Watson:     </th> <td>   1.078</td>\n",
       "</tr>\n",
       "<tr>\n",
       "  <th>Prob(Omnibus):</th> <td> 0.137</td> <th>  Jarque-Bera (JB):  </th> <td>   4.504</td>\n",
       "</tr>\n",
       "<tr>\n",
       "  <th>Skew:</th>          <td>-0.059</td> <th>  Prob(JB):          </th> <td>   0.105</td>\n",
       "</tr>\n",
       "<tr>\n",
       "  <th>Kurtosis:</th>      <td> 4.220</td> <th>  Cond. No.          </th> <td>    25.2</td>\n",
       "</tr>\n",
       "</table>"
      ],
      "text/plain": [
       "<class 'statsmodels.iolib.summary.Summary'>\n",
       "\"\"\"\n",
       "                            OLS Regression Results                            \n",
       "==============================================================================\n",
       "Dep. Variable:      Injuries_Per_Thou   R-squared:                       0.773\n",
       "Model:                            OLS   Adj. R-squared:                  0.759\n",
       "Method:                 Least Squares   F-statistic:                     56.89\n",
       "Date:                Fri, 09 Dec 2016   Prob (F-statistic):           7.67e-21\n",
       "Time:                        14:41:12   Log-Likelihood:                -137.07\n",
       "No. Observations:                  72   AIC:                             284.1\n",
       "Df Residuals:                      67   BIC:                             295.5\n",
       "Df Model:                           4                                         \n",
       "Covariance Type:            nonrobust                                         \n",
       "==========================================================================================\n",
       "                             coef    std err          t      P>|t|      [95.0% Conf. Int.]\n",
       "------------------------------------------------------------------------------------------\n",
       "Intercept                  6.7290      0.224     30.021      0.000         6.282     7.176\n",
       "Pedestrian_Safety_c        0.4501      0.183      2.462      0.016         0.085     0.815\n",
       "Bikes_c                   -0.2710      0.079     -3.409      0.001        -0.430    -0.112\n",
       "Pedestrian_Safety_i       11.1017      0.866     12.816      0.000         9.373    12.831\n",
       "Traffic_Network_Chng_i     4.4947      1.317      3.412      0.001         1.866     7.124\n",
       "==============================================================================\n",
       "Omnibus:                        3.971   Durbin-Watson:                   1.078\n",
       "Prob(Omnibus):                  0.137   Jarque-Bera (JB):                4.504\n",
       "Skew:                          -0.059   Prob(JB):                        0.105\n",
       "Kurtosis:                       4.220   Cond. No.                         25.2\n",
       "==============================================================================\n",
       "\n",
       "Warnings:\n",
       "[1] Standard Errors assume that the covariance matrix of the errors is correctly specified.\n",
       "\"\"\""
      ]
     },
     "execution_count": 1892,
     "metadata": {},
     "output_type": "execute_result"
    }
   ],
   "source": [
    "sig_var_danger = lm_danger.pvalues[lm_danger.pvalues < .05].keys() \n",
    "sig_eqt_danger = 'Injuries_Per_Thou ~ ' + ' + '.join(sig_var_danger[1:])\n",
    "lm_sig_danger = smf.ols(sig_eqt_danger, data6[data6.Precinct.isin(danger_precincts)]).fit()\n",
    "lm_sig_danger.summary()"
   ]
  },
  {
   "cell_type": "code",
   "execution_count": 1975,
   "metadata": {
    "collapsed": false
   },
   "outputs": [
    {
     "data": {
      "text/html": [
       "<table class=\"simpletable\">\n",
       "<caption>OLS Regression Results</caption>\n",
       "<tr>\n",
       "  <th>Dep. Variable:</th>    <td>Per_Thou_Inj_Change</td> <th>  R-squared:         </th> <td>   0.331</td>\n",
       "</tr>\n",
       "<tr>\n",
       "  <th>Model:</th>                    <td>OLS</td>         <th>  Adj. R-squared:    </th> <td>   0.208</td>\n",
       "</tr>\n",
       "<tr>\n",
       "  <th>Method:</th>              <td>Least Squares</td>    <th>  F-statistic:       </th> <td>   2.698</td>\n",
       "</tr>\n",
       "<tr>\n",
       "  <th>Date:</th>              <td>Fri, 09 Dec 2016</td>   <th>  Prob (F-statistic):</th>  <td>0.00689</td>\n",
       "</tr>\n",
       "<tr>\n",
       "  <th>Time:</th>                  <td>16:47:10</td>       <th>  Log-Likelihood:    </th> <td>  93.030</td>\n",
       "</tr>\n",
       "<tr>\n",
       "  <th>No. Observations:</th>       <td>    72</td>        <th>  AIC:               </th> <td>  -162.1</td>\n",
       "</tr>\n",
       "<tr>\n",
       "  <th>Df Residuals:</th>           <td>    60</td>        <th>  BIC:               </th> <td>  -134.7</td>\n",
       "</tr>\n",
       "<tr>\n",
       "  <th>Df Model:</th>               <td>    11</td>        <th>                     </th>     <td> </td>   \n",
       "</tr>\n",
       "<tr>\n",
       "  <th>Covariance Type:</th>       <td>nonrobust</td>      <th>                     </th>     <td> </td>   \n",
       "</tr>\n",
       "</table>\n",
       "<table class=\"simpletable\">\n",
       "<tr>\n",
       "             <td></td>               <th>coef</th>     <th>std err</th>      <th>t</th>      <th>P>|t|</th> <th>[95.0% Conf. Int.]</th> \n",
       "</tr>\n",
       "<tr>\n",
       "  <th>Intercept</th>              <td>   -0.0241</td> <td>    0.014</td> <td>   -1.666</td> <td> 0.101</td> <td>   -0.053     0.005</td>\n",
       "</tr>\n",
       "<tr>\n",
       "  <th>Speed_Bump_Total</th>       <td>   -0.0122</td> <td>    0.004</td> <td>   -2.880</td> <td> 0.006</td> <td>   -0.021    -0.004</td>\n",
       "</tr>\n",
       "<tr>\n",
       "  <th>Neigh_Slow_Zone_Total</th>  <td>    0.0128</td> <td>    0.043</td> <td>    0.294</td> <td> 0.770</td> <td>   -0.074     0.100</td>\n",
       "</tr>\n",
       "<tr>\n",
       "  <th>New_Public_Space_c</th>     <td>   -0.0481</td> <td>    0.031</td> <td>   -1.538</td> <td> 0.129</td> <td>   -0.111     0.014</td>\n",
       "</tr>\n",
       "<tr>\n",
       "  <th>Pedestrian_Safety_c</th>    <td>    0.0008</td> <td>    0.008</td> <td>    0.089</td> <td> 0.930</td> <td>   -0.016     0.018</td>\n",
       "</tr>\n",
       "<tr>\n",
       "  <th>Senior_Safety_c</th>        <td>   -0.1382</td> <td>    0.053</td> <td>   -2.597</td> <td> 0.012</td> <td>   -0.245    -0.032</td>\n",
       "</tr>\n",
       "<tr>\n",
       "  <th>Traffic_Calming_c</th>      <td>   -0.0010</td> <td>    0.001</td> <td>   -0.770</td> <td> 0.445</td> <td>   -0.003     0.002</td>\n",
       "</tr>\n",
       "<tr>\n",
       "  <th>Traffic_Network_Chng_c</th> <td>   -0.0066</td> <td>    0.006</td> <td>   -1.138</td> <td> 0.260</td> <td>   -0.018     0.005</td>\n",
       "</tr>\n",
       "<tr>\n",
       "  <th>Bikes_c</th>                <td>   -0.0041</td> <td>    0.004</td> <td>   -1.143</td> <td> 0.258</td> <td>   -0.011     0.003</td>\n",
       "</tr>\n",
       "<tr>\n",
       "  <th>Pedestrian_Safety_i</th>    <td>   -0.0256</td> <td>    0.039</td> <td>   -0.653</td> <td> 0.516</td> <td>   -0.104     0.053</td>\n",
       "</tr>\n",
       "<tr>\n",
       "  <th>Senior_Safety_i</th>        <td>-7.191e-17</td> <td> 4.23e-17</td> <td>   -1.701</td> <td> 0.094</td> <td>-1.56e-16  1.27e-17</td>\n",
       "</tr>\n",
       "<tr>\n",
       "  <th>Traffic_Calming_i</th>      <td>   -0.0227</td> <td>    0.022</td> <td>   -1.023</td> <td> 0.310</td> <td>   -0.067     0.022</td>\n",
       "</tr>\n",
       "<tr>\n",
       "  <th>Traffic_Network_Chng_i</th> <td>    0.0918</td> <td>    0.066</td> <td>    1.399</td> <td> 0.167</td> <td>   -0.039     0.223</td>\n",
       "</tr>\n",
       "</table>\n",
       "<table class=\"simpletable\">\n",
       "<tr>\n",
       "  <th>Omnibus:</th>       <td> 0.383</td> <th>  Durbin-Watson:     </th> <td>   2.192</td>\n",
       "</tr>\n",
       "<tr>\n",
       "  <th>Prob(Omnibus):</th> <td> 0.826</td> <th>  Jarque-Bera (JB):  </th> <td>   0.192</td>\n",
       "</tr>\n",
       "<tr>\n",
       "  <th>Skew:</th>          <td> 0.126</td> <th>  Prob(JB):          </th> <td>   0.908</td>\n",
       "</tr>\n",
       "<tr>\n",
       "  <th>Kurtosis:</th>      <td> 3.018</td> <th>  Cond. No.          </th> <td>1.55e+18</td>\n",
       "</tr>\n",
       "</table>"
      ],
      "text/plain": [
       "<class 'statsmodels.iolib.summary.Summary'>\n",
       "\"\"\"\n",
       "                             OLS Regression Results                            \n",
       "===============================================================================\n",
       "Dep. Variable:     Per_Thou_Inj_Change   R-squared:                       0.331\n",
       "Model:                             OLS   Adj. R-squared:                  0.208\n",
       "Method:                  Least Squares   F-statistic:                     2.698\n",
       "Date:                 Fri, 09 Dec 2016   Prob (F-statistic):            0.00689\n",
       "Time:                         16:47:10   Log-Likelihood:                 93.030\n",
       "No. Observations:                   72   AIC:                            -162.1\n",
       "Df Residuals:                       60   BIC:                            -134.7\n",
       "Df Model:                           11                                         \n",
       "Covariance Type:             nonrobust                                         \n",
       "==========================================================================================\n",
       "                             coef    std err          t      P>|t|      [95.0% Conf. Int.]\n",
       "------------------------------------------------------------------------------------------\n",
       "Intercept                 -0.0241      0.014     -1.666      0.101        -0.053     0.005\n",
       "Speed_Bump_Total          -0.0122      0.004     -2.880      0.006        -0.021    -0.004\n",
       "Neigh_Slow_Zone_Total      0.0128      0.043      0.294      0.770        -0.074     0.100\n",
       "New_Public_Space_c        -0.0481      0.031     -1.538      0.129        -0.111     0.014\n",
       "Pedestrian_Safety_c        0.0008      0.008      0.089      0.930        -0.016     0.018\n",
       "Senior_Safety_c           -0.1382      0.053     -2.597      0.012        -0.245    -0.032\n",
       "Traffic_Calming_c         -0.0010      0.001     -0.770      0.445        -0.003     0.002\n",
       "Traffic_Network_Chng_c    -0.0066      0.006     -1.138      0.260        -0.018     0.005\n",
       "Bikes_c                   -0.0041      0.004     -1.143      0.258        -0.011     0.003\n",
       "Pedestrian_Safety_i       -0.0256      0.039     -0.653      0.516        -0.104     0.053\n",
       "Senior_Safety_i        -7.191e-17   4.23e-17     -1.701      0.094     -1.56e-16  1.27e-17\n",
       "Traffic_Calming_i         -0.0227      0.022     -1.023      0.310        -0.067     0.022\n",
       "Traffic_Network_Chng_i     0.0918      0.066      1.399      0.167        -0.039     0.223\n",
       "==============================================================================\n",
       "Omnibus:                        0.383   Durbin-Watson:                   2.192\n",
       "Prob(Omnibus):                  0.826   Jarque-Bera (JB):                0.192\n",
       "Skew:                           0.126   Prob(JB):                        0.908\n",
       "Kurtosis:                       3.018   Cond. No.                     1.55e+18\n",
       "==============================================================================\n",
       "\n",
       "Warnings:\n",
       "[1] Standard Errors assume that the covariance matrix of the errors is correctly specified.\n",
       "[2] The smallest eigenvalue is 3.94e-33. This might indicate that there are\n",
       "strong multicollinearity problems or that the design matrix is singular.\n",
       "\"\"\""
      ]
     },
     "execution_count": 1975,
     "metadata": {},
     "output_type": "execute_result"
    }
   ],
   "source": [
    "danger_change_lm = smf.ols(eqt_change, data7).fit()\n",
    "danger_change_lm.summary()"
   ]
  },
  {
   "cell_type": "code",
   "execution_count": 1976,
   "metadata": {
    "collapsed": false
   },
   "outputs": [
    {
     "data": {
      "text/html": [
       "<table class=\"simpletable\">\n",
       "<caption>OLS Regression Results</caption>\n",
       "<tr>\n",
       "  <th>Dep. Variable:</th>    <td>Per_Thou_Inj_Change</td> <th>  R-squared:         </th> <td>   0.197</td>\n",
       "</tr>\n",
       "<tr>\n",
       "  <th>Model:</th>                    <td>OLS</td>         <th>  Adj. R-squared:    </th> <td>   0.174</td>\n",
       "</tr>\n",
       "<tr>\n",
       "  <th>Method:</th>              <td>Least Squares</td>    <th>  F-statistic:       </th> <td>   8.457</td>\n",
       "</tr>\n",
       "<tr>\n",
       "  <th>Date:</th>              <td>Fri, 09 Dec 2016</td>   <th>  Prob (F-statistic):</th> <td>0.000519</td>\n",
       "</tr>\n",
       "<tr>\n",
       "  <th>Time:</th>                  <td>16:47:22</td>       <th>  Log-Likelihood:    </th> <td>  86.456</td>\n",
       "</tr>\n",
       "<tr>\n",
       "  <th>No. Observations:</th>       <td>    72</td>        <th>  AIC:               </th> <td>  -166.9</td>\n",
       "</tr>\n",
       "<tr>\n",
       "  <th>Df Residuals:</th>           <td>    69</td>        <th>  BIC:               </th> <td>  -160.1</td>\n",
       "</tr>\n",
       "<tr>\n",
       "  <th>Df Model:</th>               <td>     2</td>        <th>                     </th>     <td> </td>   \n",
       "</tr>\n",
       "<tr>\n",
       "  <th>Covariance Type:</th>       <td>nonrobust</td>      <th>                     </th>     <td> </td>   \n",
       "</tr>\n",
       "</table>\n",
       "<table class=\"simpletable\">\n",
       "<tr>\n",
       "          <td></td>            <th>coef</th>     <th>std err</th>      <th>t</th>      <th>P>|t|</th> <th>[95.0% Conf. Int.]</th> \n",
       "</tr>\n",
       "<tr>\n",
       "  <th>Intercept</th>        <td>   -0.0440</td> <td>    0.012</td> <td>   -3.579</td> <td> 0.001</td> <td>   -0.069    -0.019</td>\n",
       "</tr>\n",
       "<tr>\n",
       "  <th>Speed_Bump_Total</th> <td>   -0.0117</td> <td>    0.004</td> <td>   -3.215</td> <td> 0.002</td> <td>   -0.019    -0.004</td>\n",
       "</tr>\n",
       "<tr>\n",
       "  <th>Senior_Safety_c</th>  <td>   -0.1428</td> <td>    0.052</td> <td>   -2.737</td> <td> 0.008</td> <td>   -0.247    -0.039</td>\n",
       "</tr>\n",
       "<tr>\n",
       "  <th>Senior_Safety_i</th>  <td>         0</td> <td>        0</td> <td>      nan</td> <td>   nan</td> <td>        0         0</td>\n",
       "</tr>\n",
       "</table>\n",
       "<table class=\"simpletable\">\n",
       "<tr>\n",
       "  <th>Omnibus:</th>       <td> 1.201</td> <th>  Durbin-Watson:     </th> <td>   1.987</td>\n",
       "</tr>\n",
       "<tr>\n",
       "  <th>Prob(Omnibus):</th> <td> 0.549</td> <th>  Jarque-Bera (JB):  </th> <td>   1.253</td>\n",
       "</tr>\n",
       "<tr>\n",
       "  <th>Skew:</th>          <td> 0.284</td> <th>  Prob(JB):          </th> <td>   0.534</td>\n",
       "</tr>\n",
       "<tr>\n",
       "  <th>Kurtosis:</th>      <td> 2.691</td> <th>  Cond. No.          </th> <td>     inf</td>\n",
       "</tr>\n",
       "</table>"
      ],
      "text/plain": [
       "<class 'statsmodels.iolib.summary.Summary'>\n",
       "\"\"\"\n",
       "                             OLS Regression Results                            \n",
       "===============================================================================\n",
       "Dep. Variable:     Per_Thou_Inj_Change   R-squared:                       0.197\n",
       "Model:                             OLS   Adj. R-squared:                  0.174\n",
       "Method:                  Least Squares   F-statistic:                     8.457\n",
       "Date:                 Fri, 09 Dec 2016   Prob (F-statistic):           0.000519\n",
       "Time:                         16:47:22   Log-Likelihood:                 86.456\n",
       "No. Observations:                   72   AIC:                            -166.9\n",
       "Df Residuals:                       69   BIC:                            -160.1\n",
       "Df Model:                            2                                         \n",
       "Covariance Type:             nonrobust                                         \n",
       "====================================================================================\n",
       "                       coef    std err          t      P>|t|      [95.0% Conf. Int.]\n",
       "------------------------------------------------------------------------------------\n",
       "Intercept           -0.0440      0.012     -3.579      0.001        -0.069    -0.019\n",
       "Speed_Bump_Total    -0.0117      0.004     -3.215      0.002        -0.019    -0.004\n",
       "Senior_Safety_c     -0.1428      0.052     -2.737      0.008        -0.247    -0.039\n",
       "Senior_Safety_i           0          0        nan        nan             0         0\n",
       "==============================================================================\n",
       "Omnibus:                        1.201   Durbin-Watson:                   1.987\n",
       "Prob(Omnibus):                  0.549   Jarque-Bera (JB):                1.253\n",
       "Skew:                           0.284   Prob(JB):                        0.534\n",
       "Kurtosis:                       2.691   Cond. No.                          inf\n",
       "==============================================================================\n",
       "\n",
       "Warnings:\n",
       "[1] Standard Errors assume that the covariance matrix of the errors is correctly specified.\n",
       "[2] The smallest eigenvalue is      0. This might indicate that there are\n",
       "strong multicollinearity problems or that the design matrix is singular.\n",
       "\"\"\""
      ]
     },
     "execution_count": 1976,
     "metadata": {},
     "output_type": "execute_result"
    }
   ],
   "source": [
    "sig_var_danger_change = danger_change_lm.pvalues[danger_change_lm.pvalues < .1].keys() \n",
    "sig_eqt_danger_change = 'Per_Thou_Inj_Change ~ ' + ' + '.join(sig_var_danger_change)\n",
    "lm_sig_danger_change = smf.ols(sig_eqt_danger_change, data7).fit()\n",
    "lm_sig_danger_change.summary()"
   ]
  },
  {
   "cell_type": "markdown",
   "metadata": {},
   "source": [
    "# The change in per capita injuries cannot be explained by these factors"
   ]
  },
  {
   "cell_type": "code",
   "execution_count": 1895,
   "metadata": {
    "collapsed": true
   },
   "outputs": [],
   "source": [
    "precincts = gp.GeoDataFrame.from_file(os.getenv('HOME') + '/Applied_Data_Science/VZ_data/Precincts/summary_police_precincts.shp')"
   ]
  },
  {
   "cell_type": "code",
   "execution_count": 1896,
   "metadata": {
    "collapsed": true
   },
   "outputs": [],
   "source": [
    "precinct_geom = precincts.geometry"
   ]
  },
  {
   "cell_type": "code",
   "execution_count": 1897,
   "metadata": {
    "collapsed": false
   },
   "outputs": [],
   "source": [
    "with_proj_2014 = with_projects_area[with_projects_area.Year == 2014]\n",
    "with_proj_2015 = with_projects_area[with_projects_area.Year == 2015]\n",
    "with_proj_2014 = with_proj_2014.sort_values('Precinct')\n",
    "with_proj_2015 = with_proj_2015.sort_values('Precinct')\n",
    "with_proj_2014.reset_index(inplace = True)\n",
    "with_proj_2015.reset_index(inplace = True)\n"
   ]
  },
  {
   "cell_type": "code",
   "execution_count": 1898,
   "metadata": {
    "collapsed": false
   },
   "outputs": [],
   "source": [
    "with_proj_2014 = gp.GeoDataFrame(with_proj_2014, geometry = precinct_geom)\n",
    "with_proj_2015 = gp.GeoDataFrame(with_proj_2015, geometry = precinct_geom)"
   ]
  },
  {
   "cell_type": "code",
   "execution_count": 1970,
   "metadata": {
    "collapsed": false
   },
   "outputs": [
    {
     "data": {
      "image/png": "[encoded data removed]",
      "text/plain": [
       "<matplotlib.figure.Figure at 0x7fd394486ad0>"
      ]
     },
     "metadata": {},
     "output_type": "display_data"
    }
   ],
   "source": [
    "fig, ax = plt.subplots(figsize = (20, 20))\n",
    "with_proj_2014.plot(column = 'Per_Thou_Inj_Change', cmap = cm.coolwarm, ax = ax)\n",
    "\n",
    "normalize = matplotlib.colors.Normalize(vmin = with_proj_2014.Per_Thou_Inj_Change.min(),\n",
    "                                         vmax = -with_proj_2014.Per_Thou_Inj_Change.min())\n",
    "colormap = cm.coolwarm\n",
    "scalarmappable = cm.ScalarMappable(norm = normalize, cmap = colormap)\n",
    "scalarmappable.set_array(with_proj_2014.Per_Thou_Inj_Change)\n",
    "pl.colorbar(scalarmappable, ax = ax)\n",
    "pl.title('Percent Change in Injuries Per Thousand People from 2013 baseline, 2014', fontsize = 20)\n",
    "pl.savefig('2014_Changes.png', format = 'png')"
   ]
  },
  {
   "cell_type": "code",
   "execution_count": 1967,
   "metadata": {
    "collapsed": false
   },
   "outputs": [
    {
     "data": {
      "image/png": "[encoded data removed]",
      "text/plain": [
       "<matplotlib.figure.Figure at 0x7fd392b7f990>"
      ]
     },
     "metadata": {},
     "output_type": "display_data"
    }
   ],
   "source": [
    "fig, ax = plt.subplots(figsize = (20, 20))\n",
    "with_proj_2015.plot(column = 'Per_Thou_Inj_Change', cmap = cm.coolwarm, ax = ax)\n",
    "normalize = matplotlib.colors.Normalize(vmin = with_proj_2015.Per_Thou_Inj_Change.min(),\n",
    "                                         vmax = -with_proj_2015.Per_Thou_Inj_Change.min())\n",
    "colormap = cm.coolwarm\n",
    "scalarmappable = cm.ScalarMappable(norm = normalize, cmap = colormap)\n",
    "scalarmappable.set_array(with_proj_2015.Per_Thou_Inj_Change)\n",
    "pl.colorbar(scalarmappable, ax = ax)\n",
    "pl.title('Percent Change in Injuries Per Thousand People from 2013 baseline, 2015', fontsize = 20)\n",
    "pl.savefig('2015_Changes.png', format = 'png')"
   ]
  },
  {
   "cell_type": "markdown",
   "metadata": {},
   "source": [
    "Descriptive Stats: A text summary. 75 of 77 precincts have large enough populations to accurately categorize their injuries per thousand. In 2014, there was a mean decrease of 8.07% and a maximum decrease of 27.56% and in 2015, a mean decrease of 8.55% and a max decrease of 30%. While most precincts experienced a decline injuries, 14 precincts experienced increases. The largest increase was 13.87% and 11.9% in 2014 and 2015 respectively. 9 Precincts experienced an increase in injuries "
   ]
  },
  {
   "cell_type": "code",
   "execution_count": 1901,
   "metadata": {
    "collapsed": false
   },
   "outputs": [
    {
     "data": {
      "text/plain": [
       "count    75.000000\n",
       "mean     -0.080730\n",
       "std       0.080771\n",
       "min      -0.275568\n",
       "25%      -0.125937\n",
       "50%      -0.085484\n",
       "75%      -0.043452\n",
       "max       0.138790\n",
       "Name: Per_Thou_Inj_Change, dtype: float64"
      ]
     },
     "execution_count": 1901,
     "metadata": {},
     "output_type": "execute_result"
    }
   ],
   "source": [
    "with_proj_2014[with_proj_2014.Total_Pop > threshold].Per_Thou_Inj_Change.describe()"
   ]
  },
  {
   "cell_type": "code",
   "execution_count": 1902,
   "metadata": {
    "collapsed": false
   },
   "outputs": [
    {
     "data": {
      "text/plain": [
       "count    75.000000\n",
       "mean     -0.085588\n",
       "std       0.094068\n",
       "min      -0.300000\n",
       "25%      -0.152297\n",
       "50%      -0.101341\n",
       "75%      -0.035410\n",
       "max       0.119306\n",
       "Name: Per_Thou_Inj_Change, dtype: float64"
      ]
     },
     "execution_count": 1902,
     "metadata": {},
     "output_type": "execute_result"
    }
   ],
   "source": [
    "with_proj_2015[with_proj_2015.Total_Pop > threshold].Per_Thou_Inj_Change.describe()"
   ]
  },
  {
   "cell_type": "code",
   "execution_count": 1903,
   "metadata": {
    "collapsed": false
   },
   "outputs": [
    {
     "name": "stdout",
     "output_type": "stream",
     "text": [
      "14\n",
      "14\n"
     ]
    }
   ],
   "source": [
    "print len(with_proj_2015[with_proj_2015.Per_Thou_Inj_Change > 0]) \n",
    "print len(with_proj_2014[with_proj_2014.Per_Thou_Inj_Change > 0])"
   ]
  },
  {
   "cell_type": "code",
   "execution_count": 1942,
   "metadata": {
    "collapsed": false
   },
   "outputs": [
    {
     "data": {
      "text/plain": [
       "0.081980264201165373"
      ]
     },
     "execution_count": 1942,
     "metadata": {},
     "output_type": "execute_result"
    }
   ],
   "source": [
    "with_projects_area.Per_Thou_Inj_Change.std()"
   ]
  },
  {
   "cell_type": "code",
   "execution_count": 1945,
   "metadata": {
    "collapsed": false
   },
   "outputs": [
    {
     "data": {
      "text/plain": [
       "-0.054630556111933577"
      ]
     },
     "execution_count": 1945,
     "metadata": {},
     "output_type": "execute_result"
    }
   ],
   "source": [
    "with_projects_area.Per_Thou_Inj_Change.mean()"
   ]
  },
  {
   "cell_type": "code",
   "execution_count": 1951,
   "metadata": {
    "collapsed": false
   },
   "outputs": [],
   "source": [
    "diff_by_year = pd.concat([with_proj_2014.Precinct, with_proj_2014.Per_Thou_Inj_Change, with_proj_2015.Per_Thou_Inj_Change], axis = 1)"
   ]
  },
  {
   "cell_type": "code",
   "execution_count": 1960,
   "metadata": {
    "collapsed": false
   },
   "outputs": [
    {
     "name": "stderr",
     "output_type": "stream",
     "text": [
      "/opt/rh/anaconda/root/lib/python2.7/site-packages/ipykernel/__main__.py:3: UserWarning: Boolean Series key will be reindexed to match DataFrame index.\n",
      "  app.launch_new_instance()\n"
     ]
    },
    {
     "data": {
      "text/html": [
       "<div>\n",
       "<table border=\"1\" class=\"dataframe\">\n",
       "  <thead>\n",
       "    <tr style=\"text-align: right;\">\n",
       "      <th></th>\n",
       "      <th>Precint</th>\n",
       "      <th>2014_Change</th>\n",
       "      <th>2015_Change</th>\n",
       "    </tr>\n",
       "  </thead>\n",
       "  <tbody>\n",
       "    <tr>\n",
       "      <th>12</th>\n",
       "      <td>22.0</td>\n",
       "      <td>-0.158537</td>\n",
       "      <td>0.121951</td>\n",
       "    </tr>\n",
       "    <tr>\n",
       "      <th>22</th>\n",
       "      <td>40.0</td>\n",
       "      <td>-0.102215</td>\n",
       "      <td>0.063032</td>\n",
       "    </tr>\n",
       "    <tr>\n",
       "      <th>47</th>\n",
       "      <td>76.0</td>\n",
       "      <td>-0.229391</td>\n",
       "      <td>0.078853</td>\n",
       "    </tr>\n",
       "    <tr>\n",
       "      <th>55</th>\n",
       "      <td>90.0</td>\n",
       "      <td>-0.129454</td>\n",
       "      <td>0.021378</td>\n",
       "    </tr>\n",
       "    <tr>\n",
       "      <th>60</th>\n",
       "      <td>103.0</td>\n",
       "      <td>-0.070950</td>\n",
       "      <td>0.103079</td>\n",
       "    </tr>\n",
       "    <tr>\n",
       "      <th>62</th>\n",
       "      <td>105.0</td>\n",
       "      <td>-0.077699</td>\n",
       "      <td>0.079478</td>\n",
       "    </tr>\n",
       "    <tr>\n",
       "      <th>66</th>\n",
       "      <td>109.0</td>\n",
       "      <td>-0.075489</td>\n",
       "      <td>0.097856</td>\n",
       "    </tr>\n",
       "    <tr>\n",
       "      <th>68</th>\n",
       "      <td>111.0</td>\n",
       "      <td>-0.119293</td>\n",
       "      <td>0.029455</td>\n",
       "    </tr>\n",
       "    <tr>\n",
       "      <th>70</th>\n",
       "      <td>113.0</td>\n",
       "      <td>-0.020202</td>\n",
       "      <td>0.042424</td>\n",
       "    </tr>\n",
       "  </tbody>\n",
       "</table>\n",
       "</div>"
      ],
      "text/plain": [
       "    Precint  2014_Change  2015_Change\n",
       "12     22.0    -0.158537     0.121951\n",
       "22     40.0    -0.102215     0.063032\n",
       "47     76.0    -0.229391     0.078853\n",
       "55     90.0    -0.129454     0.021378\n",
       "60    103.0    -0.070950     0.103079\n",
       "62    105.0    -0.077699     0.079478\n",
       "66    109.0    -0.075489     0.097856\n",
       "68    111.0    -0.119293     0.029455\n",
       "70    113.0    -0.020202     0.042424"
      ]
     },
     "execution_count": 1960,
     "metadata": {},
     "output_type": "execute_result"
    }
   ],
   "source": [
    "diff_by_year.columns = ['Precint', '2014_Change', '2015_Change']\n",
    "#diff_by_year[diff_by_year['2014_Change'] > 0][diff_by_year['2015_Change'] < 0]\n",
    "diff_by_year[diff_by_year['2014_Change'] < 0][diff_by_year['2015_Change'] > 0]"
   ]
  },
  {
   "cell_type": "code",
   "execution_count": 2088,
   "metadata": {
    "collapsed": false
   },
   "outputs": [
    {
     "name": "stderr",
     "output_type": "stream",
     "text": [
      "/opt/rh/anaconda/root/lib/python2.7/site-packages/ipykernel/__main__.py:1: SettingWithCopyWarning: \n",
      "A value is trying to be set on a copy of a slice from a DataFrame.\n",
      "Try using .loc[row_indexer,col_indexer] = value instead\n",
      "\n",
      "See the caveats in the documentation: http://pandas.pydata.org/pandas-docs/stable/indexing.html#indexing-view-versus-copy\n",
      "  if __name__ == '__main__':\n"
     ]
    },
    {
     "data": {
      "text/html": [
       "<table class=\"simpletable\">\n",
       "<caption>OLS Regression Results</caption>\n",
       "<tr>\n",
       "  <th>Dep. Variable:</th>    <td>Per_Thou_Inj_Change</td> <th>  R-squared:         </th> <td>   0.353</td>\n",
       "</tr>\n",
       "<tr>\n",
       "  <th>Model:</th>                    <td>OLS</td>         <th>  Adj. R-squared:    </th> <td>   0.221</td>\n",
       "</tr>\n",
       "<tr>\n",
       "  <th>Method:</th>              <td>Least Squares</td>    <th>  F-statistic:       </th> <td>   2.682</td>\n",
       "</tr>\n",
       "<tr>\n",
       "  <th>Date:</th>              <td>Fri, 09 Dec 2016</td>   <th>  Prob (F-statistic):</th>  <td>0.00602</td>\n",
       "</tr>\n",
       "<tr>\n",
       "  <th>Time:</th>                  <td>20:41:38</td>       <th>  Log-Likelihood:    </th> <td>  94.238</td>\n",
       "</tr>\n",
       "<tr>\n",
       "  <th>No. Observations:</th>       <td>    72</td>        <th>  AIC:               </th> <td>  -162.5</td>\n",
       "</tr>\n",
       "<tr>\n",
       "  <th>Df Residuals:</th>           <td>    59</td>        <th>  BIC:               </th> <td>  -132.9</td>\n",
       "</tr>\n",
       "<tr>\n",
       "  <th>Df Model:</th>               <td>    12</td>        <th>                     </th>     <td> </td>   \n",
       "</tr>\n",
       "<tr>\n",
       "  <th>Covariance Type:</th>       <td>nonrobust</td>      <th>                     </th>     <td> </td>   \n",
       "</tr>\n",
       "</table>\n",
       "<table class=\"simpletable\">\n",
       "<tr>\n",
       "             <td></td>               <th>coef</th>     <th>std err</th>      <th>t</th>      <th>P>|t|</th> <th>[95.0% Conf. Int.]</th> \n",
       "</tr>\n",
       "<tr>\n",
       "  <th>Intercept</th>              <td>   -0.0044</td> <td>    0.020</td> <td>   -0.218</td> <td> 0.828</td> <td>   -0.044     0.036</td>\n",
       "</tr>\n",
       "<tr>\n",
       "  <th>Speed_Bump_Total</th>       <td>   -0.0111</td> <td>    0.004</td> <td>   -2.598</td> <td> 0.012</td> <td>   -0.020    -0.003</td>\n",
       "</tr>\n",
       "<tr>\n",
       "  <th>Neigh_Slow_Zone_Total</th>  <td>    0.0079</td> <td>    0.043</td> <td>    0.183</td> <td> 0.856</td> <td>   -0.079     0.094</td>\n",
       "</tr>\n",
       "<tr>\n",
       "  <th>New_Public_Space_c</th>     <td>   -0.0504</td> <td>    0.031</td> <td>   -1.626</td> <td> 0.109</td> <td>   -0.113     0.012</td>\n",
       "</tr>\n",
       "<tr>\n",
       "  <th>Pedestrian_Safety_c</th>    <td>    0.0031</td> <td>    0.009</td> <td>    0.365</td> <td> 0.716</td> <td>   -0.014     0.020</td>\n",
       "</tr>\n",
       "<tr>\n",
       "  <th>Senior_Safety_c</th>        <td>   -0.1378</td> <td>    0.053</td> <td>   -2.611</td> <td> 0.011</td> <td>   -0.243    -0.032</td>\n",
       "</tr>\n",
       "<tr>\n",
       "  <th>Traffic_Calming_c</th>      <td>   -0.0002</td> <td>    0.001</td> <td>   -0.144</td> <td> 0.886</td> <td>   -0.003     0.003</td>\n",
       "</tr>\n",
       "<tr>\n",
       "  <th>Traffic_Network_Chng_c</th> <td>   -0.0045</td> <td>    0.006</td> <td>   -0.760</td> <td> 0.450</td> <td>   -0.016     0.007</td>\n",
       "</tr>\n",
       "<tr>\n",
       "  <th>Bikes_c</th>                <td>   -0.0036</td> <td>    0.004</td> <td>   -1.004</td> <td> 0.319</td> <td>   -0.011     0.004</td>\n",
       "</tr>\n",
       "<tr>\n",
       "  <th>Pedestrian_Safety_i</th>    <td>   -0.0385</td> <td>    0.040</td> <td>   -0.964</td> <td> 0.339</td> <td>   -0.118     0.041</td>\n",
       "</tr>\n",
       "<tr>\n",
       "  <th>Senior_Safety_i</th>        <td>-3.421e-17</td> <td> 1.66e-17</td> <td>   -2.055</td> <td> 0.044</td> <td>-6.75e-17 -8.95e-19</td>\n",
       "</tr>\n",
       "<tr>\n",
       "  <th>Traffic_Calming_i</th>      <td>   -0.0273</td> <td>    0.022</td> <td>   -1.226</td> <td> 0.225</td> <td>   -0.072     0.017</td>\n",
       "</tr>\n",
       "<tr>\n",
       "  <th>Traffic_Network_Chng_i</th> <td>    0.0953</td> <td>    0.065</td> <td>    1.463</td> <td> 0.149</td> <td>   -0.035     0.226</td>\n",
       "</tr>\n",
       "<tr>\n",
       "  <th>Pop_Dens</th>               <td>   -0.0007</td> <td>    0.000</td> <td>   -1.419</td> <td> 0.161</td> <td>   -0.002     0.000</td>\n",
       "</tr>\n",
       "</table>\n",
       "<table class=\"simpletable\">\n",
       "<tr>\n",
       "  <th>Omnibus:</th>       <td> 0.320</td> <th>  Durbin-Watson:     </th> <td>   2.185</td>\n",
       "</tr>\n",
       "<tr>\n",
       "  <th>Prob(Omnibus):</th> <td> 0.852</td> <th>  Jarque-Bera (JB):  </th> <td>   0.036</td>\n",
       "</tr>\n",
       "<tr>\n",
       "  <th>Skew:</th>          <td> 0.009</td> <th>  Prob(JB):          </th> <td>   0.982</td>\n",
       "</tr>\n",
       "<tr>\n",
       "  <th>Kurtosis:</th>      <td> 3.108</td> <th>  Cond. No.          </th> <td>4.90e+18</td>\n",
       "</tr>\n",
       "</table>"
      ],
      "text/plain": [
       "<class 'statsmodels.iolib.summary.Summary'>\n",
       "\"\"\"\n",
       "                             OLS Regression Results                            \n",
       "===============================================================================\n",
       "Dep. Variable:     Per_Thou_Inj_Change   R-squared:                       0.353\n",
       "Model:                             OLS   Adj. R-squared:                  0.221\n",
       "Method:                  Least Squares   F-statistic:                     2.682\n",
       "Date:                 Fri, 09 Dec 2016   Prob (F-statistic):            0.00602\n",
       "Time:                         20:41:38   Log-Likelihood:                 94.238\n",
       "No. Observations:                   72   AIC:                            -162.5\n",
       "Df Residuals:                       59   BIC:                            -132.9\n",
       "Df Model:                           12                                         \n",
       "Covariance Type:             nonrobust                                         \n",
       "==========================================================================================\n",
       "                             coef    std err          t      P>|t|      [95.0% Conf. Int.]\n",
       "------------------------------------------------------------------------------------------\n",
       "Intercept                 -0.0044      0.020     -0.218      0.828        -0.044     0.036\n",
       "Speed_Bump_Total          -0.0111      0.004     -2.598      0.012        -0.020    -0.003\n",
       "Neigh_Slow_Zone_Total      0.0079      0.043      0.183      0.856        -0.079     0.094\n",
       "New_Public_Space_c        -0.0504      0.031     -1.626      0.109        -0.113     0.012\n",
       "Pedestrian_Safety_c        0.0031      0.009      0.365      0.716        -0.014     0.020\n",
       "Senior_Safety_c           -0.1378      0.053     -2.611      0.011        -0.243    -0.032\n",
       "Traffic_Calming_c         -0.0002      0.001     -0.144      0.886        -0.003     0.003\n",
       "Traffic_Network_Chng_c    -0.0045      0.006     -0.760      0.450        -0.016     0.007\n",
       "Bikes_c                   -0.0036      0.004     -1.004      0.319        -0.011     0.004\n",
       "Pedestrian_Safety_i       -0.0385      0.040     -0.964      0.339        -0.118     0.041\n",
       "Senior_Safety_i        -3.421e-17   1.66e-17     -2.055      0.044     -6.75e-17 -8.95e-19\n",
       "Traffic_Calming_i         -0.0273      0.022     -1.226      0.225        -0.072     0.017\n",
       "Traffic_Network_Chng_i     0.0953      0.065      1.463      0.149        -0.035     0.226\n",
       "Pop_Dens                  -0.0007      0.000     -1.419      0.161        -0.002     0.000\n",
       "==============================================================================\n",
       "Omnibus:                        0.320   Durbin-Watson:                   2.185\n",
       "Prob(Omnibus):                  0.852   Jarque-Bera (JB):                0.036\n",
       "Skew:                           0.009   Prob(JB):                        0.982\n",
       "Kurtosis:                       3.108   Cond. No.                     4.90e+18\n",
       "==============================================================================\n",
       "\n",
       "Warnings:\n",
       "[1] Standard Errors assume that the covariance matrix of the errors is correctly specified.\n",
       "[2] The smallest eigenvalue is 6.66e-33. This might indicate that there are\n",
       "strong multicollinearity problems or that the design matrix is singular.\n",
       "\"\"\""
      ]
     },
     "execution_count": 2088,
     "metadata": {},
     "output_type": "execute_result"
    }
   ],
   "source": [
    "data7['Pop_Dens'] = data7.Total_Pop/data7.Shape_Area / 1000\n",
    "eqt_with_pop = eqt_change + '+ Pop_Dens'\n",
    "lm_danger2 = smf.ols(eqt_with_pop, data7).fit()\n",
    "lm_danger2.summary()"
   ]
  },
  {
   "cell_type": "code",
   "execution_count": 2089,
   "metadata": {
    "collapsed": false
   },
   "outputs": [
    {
     "data": {
      "text/plain": [
       "[<matplotlib.lines.Line2D at 0x7fd3973e5550>]"
      ]
     },
     "execution_count": 2089,
     "metadata": {},
     "output_type": "execute_result"
    },
    {
     "data": {
      "image/png": "[encoded data removed]",
      "text/plain": [
       "<matplotlib.figure.Figure at 0x7fd3c286f390>"
      ]
     },
     "metadata": {},
     "output_type": "display_data"
    }
   ],
   "source": [
    "fig = pl.figure(figsize = (15, 15))\n",
    "\n",
    "pl.plot(data7.Pop_Dens, data7['NUMBER OF PERSONS INJURED'], 'go')"
   ]
  },
  {
   "cell_type": "code",
   "execution_count": 1906,
   "metadata": {
    "collapsed": false
   },
   "outputs": [],
   "source": [
    "variable_list = [x for x in variables if x not in not_variables]"
   ]
  },
  {
   "cell_type": "code",
   "execution_count": 1907,
   "metadata": {
    "collapsed": true
   },
   "outputs": [],
   "source": [
    "all_eqt = 'Injuries_Per_Thou ~ ' + ' + '.join(variable_list)"
   ]
  },
  {
   "cell_type": "code",
   "execution_count": 1908,
   "metadata": {
    "collapsed": true
   },
   "outputs": [],
   "source": [
    "above_thresh = with_projects_area[with_projects_area.Total_Pop > threshold]"
   ]
  },
  {
   "cell_type": "code",
   "execution_count": 1909,
   "metadata": {
    "collapsed": true
   },
   "outputs": [],
   "source": [
    "cols = [x.replace(' ', '_') for x in list(above_thresh.columns)]\n",
    "cols = [x.replace('(', '_') for x in cols]\n",
    "cols = [x.replace(')', '_') for x in cols]\n",
    "cols = [x.replace('.', '_') for x in cols]\n",
    "cols = [x.replace('/', '_') for x in cols]\n",
    "cols = [x.replace('-', '_') for x in cols]\n",
    "cols = [x.replace(',', '') for x in cols]\n",
    "above_thresh.columns = cols\n",
    "variables = list(above_thresh.columns)"
   ]
  },
  {
   "cell_type": "code",
   "execution_count": 1910,
   "metadata": {
    "collapsed": false
   },
   "outputs": [],
   "source": [
    "above_thresh.loc[:, 'Taxis':'Traf_Total'] = above_thresh.loc[:, 'Taxis':'Traf_Total'].apply(lambda x: x / above_thresh.Shape_Area)"
   ]
  },
  {
   "cell_type": "code",
   "execution_count": 1986,
   "metadata": {
    "collapsed": false
   },
   "outputs": [],
   "source": [
    "not_variables = ['PrecinctYear', 'Precinct', 'Year', 'NUMBER_OF PERSONS INJURED', 'NUMBER OF PERSONS KILLED', 'NUMBER OF PEDESTRIANS INJURED', \n",
    "                 'NUMBER OF PEDESTRIANS KILLED', 'NUMBER OF CYCLIST INJURED', 'NUMBER OF CYCLIST KILLED', \n",
    "                 'NUMBER OF MOTORIST INJURED','NUMBER OF MOTORIST KILLED', 'Shape_Area', 'Shape_Le_1', 'Shape_Leng','geometry','Injuries_Per_Thou', \n",
    "                 'Per_Thou_Inj_Change', 'VZ_Priority_Geo_i', 'Vision_Zero_i',  'VZ_Priority_Geo_c', 'Vision_Zero_c',\n",
    "                'standardized_injuries', 'standardized_death', 'standardized_injuries_change', 'Total_Pop']\n",
    "not_variables = [x.replace(' ', '_') for x in not_variables]\n",
    "not_variables = [x.replace('(', '_') for x in not_variables]\n",
    "not_variables = [x.replace(')', '_') for x in not_variables]"
   ]
  },
  {
   "cell_type": "code",
   "execution_count": 1987,
   "metadata": {
    "collapsed": false
   },
   "outputs": [],
   "source": [
    "all_regressors = 'Per_Thou_Inj_Change ~ ' + ' + '.join([x for x in variables if x not in not_variables])"
   ]
  },
  {
   "cell_type": "code",
   "execution_count": 1988,
   "metadata": {
    "collapsed": true
   },
   "outputs": [],
   "source": [
    "all_regressors = str(all_regressors)"
   ]
  },
  {
   "cell_type": "code",
   "execution_count": 1989,
   "metadata": {
    "collapsed": false
   },
   "outputs": [
    {
     "data": {
      "text/plain": [
       "'Per_Thou_Inj_Change ~ Taxis + Flyers + Seniors + Outreach + HandsOn + Edu_Total + Backing_Unsafely + Brake_Lights__Defect_or_Improper_ + Bus_Lane_Driving_in + Cell_Phone + Commercial_Veh_on_Pkwy + Defective_Brakes + Disobey_Steady_Red_Signal + Disobey_Traffic_Control_Device + Equipment__Other_ + Fail_to_Keep_Right + Fail_to_Signal + Following_Too_Closely + Headlights__Defect__or_Improper_ + Improper_Lights + Improper_Passing + Improper_Turn + Improper_Missing_Plates + Not_Giving_R_of_W_to_Pedes_ + Not_Giving_R_of_W_to_Veh_ + One_Way_Street + Other_Movers + Pavement_Markings + Safety_Belt + School_Bus_Passing_Stopped + Speeding + Spillback + Tinted_Windows + Truck_Routes + U_Turn + Uninspected + Uninsured + Unlicensed_Operator + Unregistered + P12 + P123 + Traf_Total + Neigh_Slow_Zone_Total + Speed_Bump_Total + High_Crash_Corridor_c + New_Public_Space_c + Pedestrian_Safety_c + Senior_Safety_c + Traffic_Calming_c + Traffic_Network_Chng_c + Bikes_c + High_Crash_Corridor_i + Pedestrian_Safety_i + Senior_Safety_i + Traffic_Calming_i + Traffic_Network_Chng_i'"
      ]
     },
     "execution_count": 1989,
     "metadata": {},
     "output_type": "execute_result"
    }
   ],
   "source": [
    "all_regressors"
   ]
  },
  {
   "cell_type": "code",
   "execution_count": 1990,
   "metadata": {
    "collapsed": false
   },
   "outputs": [],
   "source": [
    "df = above_thresh[above_thresh.Year > 2013]\n",
    "df.reset_index(drop = True, inplace = True)\n",
    "all_lm = smf.ols(all_regressors, df).fit()"
   ]
  },
  {
   "cell_type": "code",
   "execution_count": 1991,
   "metadata": {
    "collapsed": false
   },
   "outputs": [
    {
     "data": {
      "text/html": [
       "<table class=\"simpletable\">\n",
       "<caption>OLS Regression Results</caption>\n",
       "<tr>\n",
       "  <th>Dep. Variable:</th>    <td>Per_Thou_Inj_Change</td> <th>  R-squared:         </th> <td>   0.407</td>\n",
       "</tr>\n",
       "<tr>\n",
       "  <th>Model:</th>                    <td>OLS</td>         <th>  Adj. R-squared:    </th> <td>   0.090</td>\n",
       "</tr>\n",
       "<tr>\n",
       "  <th>Method:</th>              <td>Least Squares</td>    <th>  F-statistic:       </th> <td>   1.282</td>\n",
       "</tr>\n",
       "<tr>\n",
       "  <th>Date:</th>              <td>Fri, 09 Dec 2016</td>   <th>  Prob (F-statistic):</th>  <td> 0.146</td> \n",
       "</tr>\n",
       "<tr>\n",
       "  <th>Time:</th>                  <td>17:47:55</td>       <th>  Log-Likelihood:    </th> <td>  192.46</td>\n",
       "</tr>\n",
       "<tr>\n",
       "  <th>No. Observations:</th>       <td>   150</td>        <th>  AIC:               </th> <td>  -278.9</td>\n",
       "</tr>\n",
       "<tr>\n",
       "  <th>Df Residuals:</th>           <td>    97</td>        <th>  BIC:               </th> <td>  -119.4</td>\n",
       "</tr>\n",
       "<tr>\n",
       "  <th>Df Model:</th>               <td>    52</td>        <th>                     </th>     <td> </td>   \n",
       "</tr>\n",
       "<tr>\n",
       "  <th>Covariance Type:</th>       <td>nonrobust</td>      <th>                     </th>     <td> </td>   \n",
       "</tr>\n",
       "</table>\n",
       "<table class=\"simpletable\">\n",
       "<tr>\n",
       "                  <td></td>                     <th>coef</th>     <th>std err</th>      <th>t</th>      <th>P>|t|</th> <th>[95.0% Conf. Int.]</th> \n",
       "</tr>\n",
       "<tr>\n",
       "  <th>Intercept</th>                         <td>   -0.0286</td> <td>    0.018</td> <td>   -1.605</td> <td> 0.112</td> <td>   -0.064     0.007</td>\n",
       "</tr>\n",
       "<tr>\n",
       "  <th>Taxis</th>                             <td>    0.0043</td> <td>    0.008</td> <td>    0.540</td> <td> 0.590</td> <td>   -0.011     0.020</td>\n",
       "</tr>\n",
       "<tr>\n",
       "  <th>Flyers</th>                            <td>   -0.0106</td> <td>    0.008</td> <td>   -1.276</td> <td> 0.205</td> <td>   -0.027     0.006</td>\n",
       "</tr>\n",
       "<tr>\n",
       "  <th>Seniors</th>                           <td>    0.0052</td> <td>    0.007</td> <td>    0.721</td> <td> 0.473</td> <td>   -0.009     0.019</td>\n",
       "</tr>\n",
       "<tr>\n",
       "  <th>Outreach</th>                          <td>   -0.0037</td> <td>    0.005</td> <td>   -0.775</td> <td> 0.440</td> <td>   -0.013     0.006</td>\n",
       "</tr>\n",
       "<tr>\n",
       "  <th>HandsOn</th>                           <td>    0.0083</td> <td>    0.010</td> <td>    0.789</td> <td> 0.432</td> <td>   -0.012     0.029</td>\n",
       "</tr>\n",
       "<tr>\n",
       "  <th>Edu_Total</th>                         <td>    0.0034</td> <td>    0.003</td> <td>    1.153</td> <td> 0.252</td> <td>   -0.002     0.009</td>\n",
       "</tr>\n",
       "<tr>\n",
       "  <th>Backing_Unsafely</th>                  <td>    0.0002</td> <td>    0.001</td> <td>    0.138</td> <td> 0.890</td> <td>   -0.003     0.003</td>\n",
       "</tr>\n",
       "<tr>\n",
       "  <th>Brake_Lights__Defect_or_Improper_</th> <td>   -0.0006</td> <td>    0.000</td> <td>   -1.979</td> <td> 0.051</td> <td>   -0.001  1.74e-06</td>\n",
       "</tr>\n",
       "<tr>\n",
       "  <th>Bus_Lane_Driving_in</th>               <td>    0.0014</td> <td>    0.001</td> <td>    1.908</td> <td> 0.059</td> <td>-5.74e-05     0.003</td>\n",
       "</tr>\n",
       "<tr>\n",
       "  <th>Cell_Phone</th>                        <td>   -0.0002</td> <td>    0.000</td> <td>   -0.775</td> <td> 0.440</td> <td>   -0.001     0.000</td>\n",
       "</tr>\n",
       "<tr>\n",
       "  <th>Commercial_Veh_on_Pkwy</th>            <td>-3.828e-05</td> <td>    0.002</td> <td>   -0.020</td> <td> 0.984</td> <td>   -0.004     0.004</td>\n",
       "</tr>\n",
       "<tr>\n",
       "  <th>Defective_Brakes</th>                  <td>    0.0030</td> <td>    0.004</td> <td>    0.795</td> <td> 0.429</td> <td>   -0.005     0.011</td>\n",
       "</tr>\n",
       "<tr>\n",
       "  <th>Disobey_Steady_Red_Signal</th>         <td>    0.0001</td> <td>    0.000</td> <td>    0.412</td> <td> 0.682</td> <td>   -0.000     0.001</td>\n",
       "</tr>\n",
       "<tr>\n",
       "  <th>Disobey_Traffic_Control_Device</th>    <td>    0.0001</td> <td>    0.000</td> <td>    0.462</td> <td> 0.645</td> <td>   -0.000     0.001</td>\n",
       "</tr>\n",
       "<tr>\n",
       "  <th>Equipment__Other_</th>                 <td>    0.0004</td> <td>    0.000</td> <td>    1.133</td> <td> 0.260</td> <td>   -0.000     0.001</td>\n",
       "</tr>\n",
       "<tr>\n",
       "  <th>Fail_to_Keep_Right</th>                <td>   -0.0011</td> <td>    0.003</td> <td>   -0.380</td> <td> 0.705</td> <td>   -0.007     0.005</td>\n",
       "</tr>\n",
       "<tr>\n",
       "  <th>Fail_to_Signal</th>                    <td>-8.039e-05</td> <td>    0.000</td> <td>   -0.560</td> <td> 0.577</td> <td>   -0.000     0.000</td>\n",
       "</tr>\n",
       "<tr>\n",
       "  <th>Following_Too_Closely</th>             <td>    0.0007</td> <td>    0.002</td> <td>    0.309</td> <td> 0.758</td> <td>   -0.004     0.005</td>\n",
       "</tr>\n",
       "<tr>\n",
       "  <th>Headlights__Defect__or_Improper_</th>  <td>-4.486e-05</td> <td>    0.000</td> <td>   -0.142</td> <td> 0.887</td> <td>   -0.001     0.001</td>\n",
       "</tr>\n",
       "<tr>\n",
       "  <th>Improper_Lights</th>                   <td>   -0.0002</td> <td>    0.000</td> <td>   -0.671</td> <td> 0.504</td> <td>   -0.001     0.000</td>\n",
       "</tr>\n",
       "<tr>\n",
       "  <th>Improper_Passing</th>                  <td>   -0.0004</td> <td>    0.000</td> <td>   -1.081</td> <td> 0.282</td> <td>   -0.001     0.000</td>\n",
       "</tr>\n",
       "<tr>\n",
       "  <th>Improper_Turn</th>                     <td>    0.0001</td> <td>    0.000</td> <td>    0.471</td> <td> 0.639</td> <td>   -0.000     0.001</td>\n",
       "</tr>\n",
       "<tr>\n",
       "  <th>Improper_Missing_Plates</th>           <td>   -0.0014</td> <td>    0.001</td> <td>   -2.074</td> <td> 0.041</td> <td>   -0.003 -6.13e-05</td>\n",
       "</tr>\n",
       "<tr>\n",
       "  <th>Not_Giving_R_of_W_to_Pedes_</th>       <td>    0.0002</td> <td>    0.000</td> <td>    1.829</td> <td> 0.070</td> <td>-1.89e-05     0.000</td>\n",
       "</tr>\n",
       "<tr>\n",
       "  <th>Not_Giving_R_of_W_to_Veh_</th>         <td>   -0.0002</td> <td>    0.000</td> <td>   -0.617</td> <td> 0.539</td> <td>   -0.001     0.001</td>\n",
       "</tr>\n",
       "<tr>\n",
       "  <th>One_Way_Street</th>                    <td>   -0.0002</td> <td>    0.000</td> <td>   -0.519</td> <td> 0.605</td> <td>   -0.001     0.001</td>\n",
       "</tr>\n",
       "<tr>\n",
       "  <th>Other_Movers</th>                      <td>    0.0004</td> <td>    0.000</td> <td>    1.412</td> <td> 0.161</td> <td>   -0.000     0.001</td>\n",
       "</tr>\n",
       "<tr>\n",
       "  <th>Pavement_Markings</th>                 <td>   -0.0003</td> <td>    0.000</td> <td>   -0.943</td> <td> 0.348</td> <td>   -0.001     0.000</td>\n",
       "</tr>\n",
       "<tr>\n",
       "  <th>Safety_Belt</th>                       <td>   -0.0003</td> <td>    0.000</td> <td>   -1.164</td> <td> 0.247</td> <td>   -0.001     0.000</td>\n",
       "</tr>\n",
       "<tr>\n",
       "  <th>School_Bus_Passing_Stopped</th>        <td>    0.0001</td> <td>    0.000</td> <td>    0.381</td> <td> 0.704</td> <td>   -0.001     0.001</td>\n",
       "</tr>\n",
       "<tr>\n",
       "  <th>Speeding</th>                          <td>-2.692e-05</td> <td>    0.000</td> <td>   -0.231</td> <td> 0.818</td> <td>   -0.000     0.000</td>\n",
       "</tr>\n",
       "<tr>\n",
       "  <th>Spillback</th>                         <td>   -0.0005</td> <td>    0.000</td> <td>   -1.509</td> <td> 0.134</td> <td>   -0.001     0.000</td>\n",
       "</tr>\n",
       "<tr>\n",
       "  <th>Tinted_Windows</th>                    <td>   -0.0002</td> <td>    0.000</td> <td>   -0.911</td> <td> 0.365</td> <td>   -0.001     0.000</td>\n",
       "</tr>\n",
       "<tr>\n",
       "  <th>Truck_Routes</th>                      <td>-1.513e-05</td> <td>    0.000</td> <td>   -0.044</td> <td> 0.965</td> <td>   -0.001     0.001</td>\n",
       "</tr>\n",
       "<tr>\n",
       "  <th>U_Turn</th>                            <td>    0.0002</td> <td>    0.000</td> <td>    0.598</td> <td> 0.551</td> <td>   -0.000     0.001</td>\n",
       "</tr>\n",
       "<tr>\n",
       "  <th>Uninspected</th>                       <td>   -0.0007</td> <td>    0.001</td> <td>   -1.182</td> <td> 0.240</td> <td>   -0.002     0.000</td>\n",
       "</tr>\n",
       "<tr>\n",
       "  <th>Uninsured</th>                         <td>   -0.0003</td> <td>    0.000</td> <td>   -1.024</td> <td> 0.308</td> <td>   -0.001     0.000</td>\n",
       "</tr>\n",
       "<tr>\n",
       "  <th>Unlicensed_Operator</th>               <td>   -0.0003</td> <td>    0.000</td> <td>   -0.933</td> <td> 0.353</td> <td>   -0.001     0.000</td>\n",
       "</tr>\n",
       "<tr>\n",
       "  <th>Unregistered</th>                      <td>    0.0003</td> <td>    0.000</td> <td>    0.706</td> <td> 0.482</td> <td>   -0.001     0.001</td>\n",
       "</tr>\n",
       "<tr>\n",
       "  <th>P12</th>                               <td> 2.366e-05</td> <td>    0.000</td> <td>    0.098</td> <td> 0.922</td> <td>   -0.000     0.001</td>\n",
       "</tr>\n",
       "<tr>\n",
       "  <th>P123</th>                              <td>   -0.0004</td> <td>    0.000</td> <td>   -1.106</td> <td> 0.271</td> <td>   -0.001     0.000</td>\n",
       "</tr>\n",
       "<tr>\n",
       "  <th>Traf_Total</th>                        <td>    0.0003</td> <td>    0.000</td> <td>    1.011</td> <td> 0.315</td> <td>   -0.000     0.001</td>\n",
       "</tr>\n",
       "<tr>\n",
       "  <th>Neigh_Slow_Zone_Total</th>             <td>    0.0547</td> <td>    0.041</td> <td>    1.327</td> <td> 0.188</td> <td>   -0.027     0.136</td>\n",
       "</tr>\n",
       "<tr>\n",
       "  <th>Speed_Bump_Total</th>                  <td>   -0.0096</td> <td>    0.004</td> <td>   -2.185</td> <td> 0.031</td> <td>   -0.018    -0.001</td>\n",
       "</tr>\n",
       "<tr>\n",
       "  <th>High_Crash_Corridor_c</th>             <td>    0.0072</td> <td>    0.005</td> <td>    1.467</td> <td> 0.146</td> <td>   -0.003     0.017</td>\n",
       "</tr>\n",
       "<tr>\n",
       "  <th>New_Public_Space_c</th>                <td>   -0.0293</td> <td>    0.039</td> <td>   -0.756</td> <td> 0.452</td> <td>   -0.106     0.048</td>\n",
       "</tr>\n",
       "<tr>\n",
       "  <th>Pedestrian_Safety_c</th>               <td>   -0.0122</td> <td>    0.006</td> <td>   -2.094</td> <td> 0.039</td> <td>   -0.024    -0.001</td>\n",
       "</tr>\n",
       "<tr>\n",
       "  <th>Senior_Safety_c</th>                   <td>   -0.0730</td> <td>    0.092</td> <td>   -0.793</td> <td> 0.430</td> <td>   -0.256     0.110</td>\n",
       "</tr>\n",
       "<tr>\n",
       "  <th>Traffic_Calming_c</th>                 <td>   -0.0009</td> <td>    0.002</td> <td>   -0.521</td> <td> 0.604</td> <td>   -0.004     0.002</td>\n",
       "</tr>\n",
       "<tr>\n",
       "  <th>Traffic_Network_Chng_c</th>            <td>   -0.0088</td> <td>    0.013</td> <td>   -0.704</td> <td> 0.483</td> <td>   -0.034     0.016</td>\n",
       "</tr>\n",
       "<tr>\n",
       "  <th>Bikes_c</th>                           <td>   -0.0081</td> <td>    0.006</td> <td>   -1.444</td> <td> 0.152</td> <td>   -0.019     0.003</td>\n",
       "</tr>\n",
       "<tr>\n",
       "  <th>High_Crash_Corridor_i</th>             <td>   -0.0281</td> <td>    0.034</td> <td>   -0.826</td> <td> 0.411</td> <td>   -0.095     0.039</td>\n",
       "</tr>\n",
       "<tr>\n",
       "  <th>Pedestrian_Safety_i</th>               <td>    0.0102</td> <td>    0.011</td> <td>    0.908</td> <td> 0.366</td> <td>   -0.012     0.033</td>\n",
       "</tr>\n",
       "<tr>\n",
       "  <th>Senior_Safety_i</th>                   <td>   -0.0966</td> <td>    0.491</td> <td>   -0.196</td> <td> 0.845</td> <td>   -1.072     0.879</td>\n",
       "</tr>\n",
       "<tr>\n",
       "  <th>Traffic_Calming_i</th>                 <td>    0.0294</td> <td>    0.022</td> <td>    1.349</td> <td> 0.181</td> <td>   -0.014     0.073</td>\n",
       "</tr>\n",
       "<tr>\n",
       "  <th>Traffic_Network_Chng_i</th>            <td>    0.1565</td> <td>    0.099</td> <td>    1.583</td> <td> 0.117</td> <td>   -0.040     0.353</td>\n",
       "</tr>\n",
       "</table>\n",
       "<table class=\"simpletable\">\n",
       "<tr>\n",
       "  <th>Omnibus:</th>       <td> 1.265</td> <th>  Durbin-Watson:     </th> <td>   2.041</td>\n",
       "</tr>\n",
       "<tr>\n",
       "  <th>Prob(Omnibus):</th> <td> 0.531</td> <th>  Jarque-Bera (JB):  </th> <td>   1.234</td>\n",
       "</tr>\n",
       "<tr>\n",
       "  <th>Skew:</th>          <td> 0.217</td> <th>  Prob(JB):          </th> <td>   0.540</td>\n",
       "</tr>\n",
       "<tr>\n",
       "  <th>Kurtosis:</th>      <td> 2.908</td> <th>  Cond. No.          </th> <td>1.32e+16</td>\n",
       "</tr>\n",
       "</table>"
      ],
      "text/plain": [
       "<class 'statsmodels.iolib.summary.Summary'>\n",
       "\"\"\"\n",
       "                             OLS Regression Results                            \n",
       "===============================================================================\n",
       "Dep. Variable:     Per_Thou_Inj_Change   R-squared:                       0.407\n",
       "Model:                             OLS   Adj. R-squared:                  0.090\n",
       "Method:                  Least Squares   F-statistic:                     1.282\n",
       "Date:                 Fri, 09 Dec 2016   Prob (F-statistic):              0.146\n",
       "Time:                         17:47:55   Log-Likelihood:                 192.46\n",
       "No. Observations:                  150   AIC:                            -278.9\n",
       "Df Residuals:                       97   BIC:                            -119.4\n",
       "Df Model:                           52                                         \n",
       "Covariance Type:             nonrobust                                         \n",
       "=====================================================================================================\n",
       "                                        coef    std err          t      P>|t|      [95.0% Conf. Int.]\n",
       "-----------------------------------------------------------------------------------------------------\n",
       "Intercept                            -0.0286      0.018     -1.605      0.112        -0.064     0.007\n",
       "Taxis                                 0.0043      0.008      0.540      0.590        -0.011     0.020\n",
       "Flyers                               -0.0106      0.008     -1.276      0.205        -0.027     0.006\n",
       "Seniors                               0.0052      0.007      0.721      0.473        -0.009     0.019\n",
       "Outreach                             -0.0037      0.005     -0.775      0.440        -0.013     0.006\n",
       "HandsOn                               0.0083      0.010      0.789      0.432        -0.012     0.029\n",
       "Edu_Total                             0.0034      0.003      1.153      0.252        -0.002     0.009\n",
       "Backing_Unsafely                      0.0002      0.001      0.138      0.890        -0.003     0.003\n",
       "Brake_Lights__Defect_or_Improper_    -0.0006      0.000     -1.979      0.051        -0.001  1.74e-06\n",
       "Bus_Lane_Driving_in                   0.0014      0.001      1.908      0.059     -5.74e-05     0.003\n",
       "Cell_Phone                           -0.0002      0.000     -0.775      0.440        -0.001     0.000\n",
       "Commercial_Veh_on_Pkwy            -3.828e-05      0.002     -0.020      0.984        -0.004     0.004\n",
       "Defective_Brakes                      0.0030      0.004      0.795      0.429        -0.005     0.011\n",
       "Disobey_Steady_Red_Signal             0.0001      0.000      0.412      0.682        -0.000     0.001\n",
       "Disobey_Traffic_Control_Device        0.0001      0.000      0.462      0.645        -0.000     0.001\n",
       "Equipment__Other_                     0.0004      0.000      1.133      0.260        -0.000     0.001\n",
       "Fail_to_Keep_Right                   -0.0011      0.003     -0.380      0.705        -0.007     0.005\n",
       "Fail_to_Signal                    -8.039e-05      0.000     -0.560      0.577        -0.000     0.000\n",
       "Following_Too_Closely                 0.0007      0.002      0.309      0.758        -0.004     0.005\n",
       "Headlights__Defect__or_Improper_  -4.486e-05      0.000     -0.142      0.887        -0.001     0.001\n",
       "Improper_Lights                      -0.0002      0.000     -0.671      0.504        -0.001     0.000\n",
       "Improper_Passing                     -0.0004      0.000     -1.081      0.282        -0.001     0.000\n",
       "Improper_Turn                         0.0001      0.000      0.471      0.639        -0.000     0.001\n",
       "Improper_Missing_Plates              -0.0014      0.001     -2.074      0.041        -0.003 -6.13e-05\n",
       "Not_Giving_R_of_W_to_Pedes_           0.0002      0.000      1.829      0.070     -1.89e-05     0.000\n",
       "Not_Giving_R_of_W_to_Veh_            -0.0002      0.000     -0.617      0.539        -0.001     0.001\n",
       "One_Way_Street                       -0.0002      0.000     -0.519      0.605        -0.001     0.001\n",
       "Other_Movers                          0.0004      0.000      1.412      0.161        -0.000     0.001\n",
       "Pavement_Markings                    -0.0003      0.000     -0.943      0.348        -0.001     0.000\n",
       "Safety_Belt                          -0.0003      0.000     -1.164      0.247        -0.001     0.000\n",
       "School_Bus_Passing_Stopped            0.0001      0.000      0.381      0.704        -0.001     0.001\n",
       "Speeding                          -2.692e-05      0.000     -0.231      0.818        -0.000     0.000\n",
       "Spillback                            -0.0005      0.000     -1.509      0.134        -0.001     0.000\n",
       "Tinted_Windows                       -0.0002      0.000     -0.911      0.365        -0.001     0.000\n",
       "Truck_Routes                      -1.513e-05      0.000     -0.044      0.965        -0.001     0.001\n",
       "U_Turn                                0.0002      0.000      0.598      0.551        -0.000     0.001\n",
       "Uninspected                          -0.0007      0.001     -1.182      0.240        -0.002     0.000\n",
       "Uninsured                            -0.0003      0.000     -1.024      0.308        -0.001     0.000\n",
       "Unlicensed_Operator                  -0.0003      0.000     -0.933      0.353        -0.001     0.000\n",
       "Unregistered                          0.0003      0.000      0.706      0.482        -0.001     0.001\n",
       "P12                                2.366e-05      0.000      0.098      0.922        -0.000     0.001\n",
       "P123                                 -0.0004      0.000     -1.106      0.271        -0.001     0.000\n",
       "Traf_Total                            0.0003      0.000      1.011      0.315        -0.000     0.001\n",
       "Neigh_Slow_Zone_Total                 0.0547      0.041      1.327      0.188        -0.027     0.136\n",
       "Speed_Bump_Total                     -0.0096      0.004     -2.185      0.031        -0.018    -0.001\n",
       "High_Crash_Corridor_c                 0.0072      0.005      1.467      0.146        -0.003     0.017\n",
       "New_Public_Space_c                   -0.0293      0.039     -0.756      0.452        -0.106     0.048\n",
       "Pedestrian_Safety_c                  -0.0122      0.006     -2.094      0.039        -0.024    -0.001\n",
       "Senior_Safety_c                      -0.0730      0.092     -0.793      0.430        -0.256     0.110\n",
       "Traffic_Calming_c                    -0.0009      0.002     -0.521      0.604        -0.004     0.002\n",
       "Traffic_Network_Chng_c               -0.0088      0.013     -0.704      0.483        -0.034     0.016\n",
       "Bikes_c                              -0.0081      0.006     -1.444      0.152        -0.019     0.003\n",
       "High_Crash_Corridor_i                -0.0281      0.034     -0.826      0.411        -0.095     0.039\n",
       "Pedestrian_Safety_i                   0.0102      0.011      0.908      0.366        -0.012     0.033\n",
       "Senior_Safety_i                      -0.0966      0.491     -0.196      0.845        -1.072     0.879\n",
       "Traffic_Calming_i                     0.0294      0.022      1.349      0.181        -0.014     0.073\n",
       "Traffic_Network_Chng_i                0.1565      0.099      1.583      0.117        -0.040     0.353\n",
       "==============================================================================\n",
       "Omnibus:                        1.265   Durbin-Watson:                   2.041\n",
       "Prob(Omnibus):                  0.531   Jarque-Bera (JB):                1.234\n",
       "Skew:                           0.217   Prob(JB):                        0.540\n",
       "Kurtosis:                       2.908   Cond. No.                     1.32e+16\n",
       "==============================================================================\n",
       "\n",
       "Warnings:\n",
       "[1] Standard Errors assume that the covariance matrix of the errors is correctly specified.\n",
       "[2] The smallest eigenvalue is 5.92e-23. This might indicate that there are\n",
       "strong multicollinearity problems or that the design matrix is singular.\n",
       "\"\"\""
      ]
     },
     "execution_count": 1991,
     "metadata": {},
     "output_type": "execute_result"
    }
   ],
   "source": [
    "all_lm.summary()"
   ]
  },
  {
   "cell_type": "code",
   "execution_count": 1992,
   "metadata": {
    "collapsed": false
   },
   "outputs": [
    {
     "data": {
      "text/html": [
       "<table class=\"simpletable\">\n",
       "<caption>OLS Regression Results</caption>\n",
       "<tr>\n",
       "  <th>Dep. Variable:</th>    <td>Per_Thou_Inj_Change</td> <th>  R-squared:         </th> <td>   0.073</td>\n",
       "</tr>\n",
       "<tr>\n",
       "  <th>Model:</th>                    <td>OLS</td>         <th>  Adj. R-squared:    </th> <td>   0.041</td>\n",
       "</tr>\n",
       "<tr>\n",
       "  <th>Method:</th>              <td>Least Squares</td>    <th>  F-statistic:       </th> <td>   2.269</td>\n",
       "</tr>\n",
       "<tr>\n",
       "  <th>Date:</th>              <td>Fri, 09 Dec 2016</td>   <th>  Prob (F-statistic):</th>  <td>0.0507</td> \n",
       "</tr>\n",
       "<tr>\n",
       "  <th>Time:</th>                  <td>17:48:11</td>       <th>  Log-Likelihood:    </th> <td>  158.92</td>\n",
       "</tr>\n",
       "<tr>\n",
       "  <th>No. Observations:</th>       <td>   150</td>        <th>  AIC:               </th> <td>  -305.8</td>\n",
       "</tr>\n",
       "<tr>\n",
       "  <th>Df Residuals:</th>           <td>   144</td>        <th>  BIC:               </th> <td>  -287.8</td>\n",
       "</tr>\n",
       "<tr>\n",
       "  <th>Df Model:</th>               <td>     5</td>        <th>                     </th>     <td> </td>   \n",
       "</tr>\n",
       "<tr>\n",
       "  <th>Covariance Type:</th>       <td>nonrobust</td>      <th>                     </th>     <td> </td>   \n",
       "</tr>\n",
       "</table>\n",
       "<table class=\"simpletable\">\n",
       "<tr>\n",
       "               <td></td>                  <th>coef</th>     <th>std err</th>      <th>t</th>      <th>P>|t|</th> <th>[95.0% Conf. Int.]</th> \n",
       "</tr>\n",
       "<tr>\n",
       "  <th>Intercept</th>                   <td>   -0.0590</td> <td>    0.011</td> <td>   -5.510</td> <td> 0.000</td> <td>   -0.080    -0.038</td>\n",
       "</tr>\n",
       "<tr>\n",
       "  <th>Bus_Lane_Driving_in</th>         <td>    0.0003</td> <td>    0.000</td> <td>    0.778</td> <td> 0.438</td> <td>   -0.000     0.001</td>\n",
       "</tr>\n",
       "<tr>\n",
       "  <th>Improper_Missing_Plates</th>     <td>   -0.0008</td> <td>    0.000</td> <td>   -1.922</td> <td> 0.057</td> <td>   -0.002  2.14e-05</td>\n",
       "</tr>\n",
       "<tr>\n",
       "  <th>Not_Giving_R_of_W_to_Pedes_</th> <td>-1.327e-05</td> <td> 2.07e-05</td> <td>   -0.642</td> <td> 0.522</td> <td>-5.41e-05  2.76e-05</td>\n",
       "</tr>\n",
       "<tr>\n",
       "  <th>Speed_Bump_Total</th>            <td>   -0.0036</td> <td>    0.003</td> <td>   -1.339</td> <td> 0.183</td> <td>   -0.009     0.002</td>\n",
       "</tr>\n",
       "<tr>\n",
       "  <th>Pedestrian_Safety_c</th>         <td>   -0.0027</td> <td>    0.003</td> <td>   -0.872</td> <td> 0.384</td> <td>   -0.009     0.003</td>\n",
       "</tr>\n",
       "</table>\n",
       "<table class=\"simpletable\">\n",
       "<tr>\n",
       "  <th>Omnibus:</th>       <td> 4.115</td> <th>  Durbin-Watson:     </th> <td>   1.666</td>\n",
       "</tr>\n",
       "<tr>\n",
       "  <th>Prob(Omnibus):</th> <td> 0.128</td> <th>  Jarque-Bera (JB):  </th> <td>   3.872</td>\n",
       "</tr>\n",
       "<tr>\n",
       "  <th>Skew:</th>          <td> 0.393</td> <th>  Prob(JB):          </th> <td>   0.144</td>\n",
       "</tr>\n",
       "<tr>\n",
       "  <th>Kurtosis:</th>      <td> 3.049</td> <th>  Cond. No.          </th> <td>    715.</td>\n",
       "</tr>\n",
       "</table>"
      ],
      "text/plain": [
       "<class 'statsmodels.iolib.summary.Summary'>\n",
       "\"\"\"\n",
       "                             OLS Regression Results                            \n",
       "===============================================================================\n",
       "Dep. Variable:     Per_Thou_Inj_Change   R-squared:                       0.073\n",
       "Model:                             OLS   Adj. R-squared:                  0.041\n",
       "Method:                  Least Squares   F-statistic:                     2.269\n",
       "Date:                 Fri, 09 Dec 2016   Prob (F-statistic):             0.0507\n",
       "Time:                         17:48:11   Log-Likelihood:                 158.92\n",
       "No. Observations:                  150   AIC:                            -305.8\n",
       "Df Residuals:                      144   BIC:                            -287.8\n",
       "Df Model:                            5                                         \n",
       "Covariance Type:             nonrobust                                         \n",
       "===============================================================================================\n",
       "                                  coef    std err          t      P>|t|      [95.0% Conf. Int.]\n",
       "-----------------------------------------------------------------------------------------------\n",
       "Intercept                      -0.0590      0.011     -5.510      0.000        -0.080    -0.038\n",
       "Bus_Lane_Driving_in             0.0003      0.000      0.778      0.438        -0.000     0.001\n",
       "Improper_Missing_Plates        -0.0008      0.000     -1.922      0.057        -0.002  2.14e-05\n",
       "Not_Giving_R_of_W_to_Pedes_ -1.327e-05   2.07e-05     -0.642      0.522     -5.41e-05  2.76e-05\n",
       "Speed_Bump_Total               -0.0036      0.003     -1.339      0.183        -0.009     0.002\n",
       "Pedestrian_Safety_c            -0.0027      0.003     -0.872      0.384        -0.009     0.003\n",
       "==============================================================================\n",
       "Omnibus:                        4.115   Durbin-Watson:                   1.666\n",
       "Prob(Omnibus):                  0.128   Jarque-Bera (JB):                3.872\n",
       "Skew:                           0.393   Prob(JB):                        0.144\n",
       "Kurtosis:                       3.049   Cond. No.                         715.\n",
       "==============================================================================\n",
       "\n",
       "Warnings:\n",
       "[1] Standard Errors assume that the covariance matrix of the errors is correctly specified.\n",
       "\"\"\""
      ]
     },
     "execution_count": 1992,
     "metadata": {},
     "output_type": "execute_result"
    }
   ],
   "source": [
    "sig_var_all = all_lm.pvalues[all_lm.pvalues < .1].keys() \n",
    "sig_eqt_all = 'Per_Thou_Inj_Change ~ ' + ' + '.join(sig_var_all[1:])\n",
    "lm_sig_all = smf.ols(sig_eqt_all, df).fit()\n",
    "lm_sig_all.summary()"
   ]
  },
  {
   "cell_type": "code",
   "execution_count": 1993,
   "metadata": {
    "collapsed": false
   },
   "outputs": [],
   "source": [
    "danger_neighbors = df[df.Injuries_Per_Thou > mean_per_thou_inj]"
   ]
  },
  {
   "cell_type": "code",
   "execution_count": 1994,
   "metadata": {
    "collapsed": false
   },
   "outputs": [
    {
     "data": {
      "text/html": [
       "<table class=\"simpletable\">\n",
       "<caption>OLS Regression Results</caption>\n",
       "<tr>\n",
       "  <th>Dep. Variable:</th>    <td>Per_Thou_Inj_Change</td> <th>  R-squared:         </th> <td>   0.906</td>\n",
       "</tr>\n",
       "<tr>\n",
       "  <th>Model:</th>                    <td>OLS</td>         <th>  Adj. R-squared:    </th> <td>   0.523</td>\n",
       "</tr>\n",
       "<tr>\n",
       "  <th>Method:</th>              <td>Least Squares</td>    <th>  F-statistic:       </th> <td>   2.365</td>\n",
       "</tr>\n",
       "<tr>\n",
       "  <th>Date:</th>              <td>Fri, 09 Dec 2016</td>   <th>  Prob (F-statistic):</th>  <td>0.0530</td> \n",
       "</tr>\n",
       "<tr>\n",
       "  <th>Time:</th>                  <td>17:48:29</td>       <th>  Log-Likelihood:    </th> <td>  139.63</td>\n",
       "</tr>\n",
       "<tr>\n",
       "  <th>No. Observations:</th>       <td>    62</td>        <th>  AIC:               </th> <td>  -179.3</td>\n",
       "</tr>\n",
       "<tr>\n",
       "  <th>Df Residuals:</th>           <td>    12</td>        <th>  BIC:               </th> <td>  -72.90</td>\n",
       "</tr>\n",
       "<tr>\n",
       "  <th>Df Model:</th>               <td>    49</td>        <th>                     </th>     <td> </td>   \n",
       "</tr>\n",
       "<tr>\n",
       "  <th>Covariance Type:</th>       <td>nonrobust</td>      <th>                     </th>     <td> </td>   \n",
       "</tr>\n",
       "</table>\n",
       "<table class=\"simpletable\">\n",
       "<tr>\n",
       "                  <td></td>                     <th>coef</th>     <th>std err</th>      <th>t</th>      <th>P>|t|</th> <th>[95.0% Conf. Int.]</th> \n",
       "</tr>\n",
       "<tr>\n",
       "  <th>Intercept</th>                         <td>    0.0005</td> <td>    0.038</td> <td>    0.014</td> <td> 0.989</td> <td>   -0.082     0.083</td>\n",
       "</tr>\n",
       "<tr>\n",
       "  <th>Taxis</th>                             <td>    0.0280</td> <td>    0.021</td> <td>    1.360</td> <td> 0.199</td> <td>   -0.017     0.073</td>\n",
       "</tr>\n",
       "<tr>\n",
       "  <th>Flyers</th>                            <td>   -0.0368</td> <td>    0.030</td> <td>   -1.218</td> <td> 0.247</td> <td>   -0.103     0.029</td>\n",
       "</tr>\n",
       "<tr>\n",
       "  <th>Seniors</th>                           <td>    0.0705</td> <td>    0.027</td> <td>    2.647</td> <td> 0.021</td> <td>    0.012     0.129</td>\n",
       "</tr>\n",
       "<tr>\n",
       "  <th>Outreach</th>                          <td>   -0.0005</td> <td>    0.014</td> <td>   -0.034</td> <td> 0.974</td> <td>   -0.031     0.030</td>\n",
       "</tr>\n",
       "<tr>\n",
       "  <th>HandsOn</th>                           <td>   -0.0435</td> <td>    0.026</td> <td>   -1.673</td> <td> 0.120</td> <td>   -0.100     0.013</td>\n",
       "</tr>\n",
       "<tr>\n",
       "  <th>Edu_Total</th>                         <td>    0.0177</td> <td>    0.009</td> <td>    2.075</td> <td> 0.060</td> <td>   -0.001     0.036</td>\n",
       "</tr>\n",
       "<tr>\n",
       "  <th>Backing_Unsafely</th>                  <td>   -0.0054</td> <td>    0.006</td> <td>   -0.920</td> <td> 0.376</td> <td>   -0.018     0.007</td>\n",
       "</tr>\n",
       "<tr>\n",
       "  <th>Brake_Lights__Defect_or_Improper_</th> <td>   -0.0014</td> <td>    0.001</td> <td>   -1.030</td> <td> 0.323</td> <td>   -0.004     0.002</td>\n",
       "</tr>\n",
       "<tr>\n",
       "  <th>Bus_Lane_Driving_in</th>               <td>    0.0046</td> <td>    0.002</td> <td>    1.915</td> <td> 0.080</td> <td>   -0.001     0.010</td>\n",
       "</tr>\n",
       "<tr>\n",
       "  <th>Cell_Phone</th>                        <td>   -0.0007</td> <td>    0.001</td> <td>   -0.664</td> <td> 0.520</td> <td>   -0.003     0.001</td>\n",
       "</tr>\n",
       "<tr>\n",
       "  <th>Commercial_Veh_on_Pkwy</th>            <td>    0.0051</td> <td>    0.005</td> <td>    1.026</td> <td> 0.325</td> <td>   -0.006     0.016</td>\n",
       "</tr>\n",
       "<tr>\n",
       "  <th>Defective_Brakes</th>                  <td>    0.0264</td> <td>    0.009</td> <td>    2.902</td> <td> 0.013</td> <td>    0.007     0.046</td>\n",
       "</tr>\n",
       "<tr>\n",
       "  <th>Disobey_Steady_Red_Signal</th>         <td>    0.0011</td> <td>    0.001</td> <td>    0.955</td> <td> 0.358</td> <td>   -0.001     0.004</td>\n",
       "</tr>\n",
       "<tr>\n",
       "  <th>Disobey_Traffic_Control_Device</th>    <td>    0.0007</td> <td>    0.001</td> <td>    0.731</td> <td> 0.479</td> <td>   -0.001     0.003</td>\n",
       "</tr>\n",
       "<tr>\n",
       "  <th>Equipment__Other_</th>                 <td>   -0.0009</td> <td>    0.003</td> <td>   -0.334</td> <td> 0.745</td> <td>   -0.007     0.005</td>\n",
       "</tr>\n",
       "<tr>\n",
       "  <th>Fail_to_Keep_Right</th>                <td>   -0.0177</td> <td>    0.012</td> <td>   -1.482</td> <td> 0.164</td> <td>   -0.044     0.008</td>\n",
       "</tr>\n",
       "<tr>\n",
       "  <th>Fail_to_Signal</th>                    <td>   -0.0019</td> <td>    0.001</td> <td>   -2.270</td> <td> 0.042</td> <td>   -0.004 -7.54e-05</td>\n",
       "</tr>\n",
       "<tr>\n",
       "  <th>Following_Too_Closely</th>             <td>    0.0055</td> <td>    0.007</td> <td>    0.750</td> <td> 0.468</td> <td>   -0.010     0.021</td>\n",
       "</tr>\n",
       "<tr>\n",
       "  <th>Headlights__Defect__or_Improper_</th>  <td>   -0.0010</td> <td>    0.001</td> <td>   -0.863</td> <td> 0.405</td> <td>   -0.004     0.002</td>\n",
       "</tr>\n",
       "<tr>\n",
       "  <th>Improper_Lights</th>                   <td>   -0.0020</td> <td>    0.002</td> <td>   -1.312</td> <td> 0.214</td> <td>   -0.005     0.001</td>\n",
       "</tr>\n",
       "<tr>\n",
       "  <th>Improper_Passing</th>                  <td>   -0.0018</td> <td>    0.001</td> <td>   -1.993</td> <td> 0.070</td> <td>   -0.004     0.000</td>\n",
       "</tr>\n",
       "<tr>\n",
       "  <th>Improper_Turn</th>                     <td>    0.0005</td> <td>    0.001</td> <td>    0.501</td> <td> 0.626</td> <td>   -0.002     0.003</td>\n",
       "</tr>\n",
       "<tr>\n",
       "  <th>Improper_Missing_Plates</th>           <td>   -0.0081</td> <td>    0.003</td> <td>   -2.722</td> <td> 0.019</td> <td>   -0.015    -0.002</td>\n",
       "</tr>\n",
       "<tr>\n",
       "  <th>Not_Giving_R_of_W_to_Pedes_</th>       <td>-1.806e-05</td> <td>    0.000</td> <td>   -0.044</td> <td> 0.966</td> <td>   -0.001     0.001</td>\n",
       "</tr>\n",
       "<tr>\n",
       "  <th>Not_Giving_R_of_W_to_Veh_</th>         <td>    0.0013</td> <td>    0.001</td> <td>    1.061</td> <td> 0.310</td> <td>   -0.001     0.004</td>\n",
       "</tr>\n",
       "<tr>\n",
       "  <th>One_Way_Street</th>                    <td>   -0.0022</td> <td>    0.001</td> <td>   -1.579</td> <td> 0.140</td> <td>   -0.005     0.001</td>\n",
       "</tr>\n",
       "<tr>\n",
       "  <th>Other_Movers</th>                      <td>    0.0019</td> <td>    0.001</td> <td>    1.493</td> <td> 0.161</td> <td>   -0.001     0.005</td>\n",
       "</tr>\n",
       "<tr>\n",
       "  <th>Pavement_Markings</th>                 <td>   -0.0004</td> <td>    0.001</td> <td>   -0.354</td> <td> 0.729</td> <td>   -0.003     0.002</td>\n",
       "</tr>\n",
       "<tr>\n",
       "  <th>Safety_Belt</th>                       <td>   -0.0009</td> <td>    0.001</td> <td>   -0.810</td> <td> 0.433</td> <td>   -0.003     0.001</td>\n",
       "</tr>\n",
       "<tr>\n",
       "  <th>School_Bus_Passing_Stopped</th>        <td>    0.0026</td> <td>    0.002</td> <td>    1.554</td> <td> 0.146</td> <td>   -0.001     0.006</td>\n",
       "</tr>\n",
       "<tr>\n",
       "  <th>Speeding</th>                          <td>   -0.0006</td> <td>    0.000</td> <td>   -1.901</td> <td> 0.082</td> <td>   -0.001  9.42e-05</td>\n",
       "</tr>\n",
       "<tr>\n",
       "  <th>Spillback</th>                         <td>   -0.0015</td> <td>    0.001</td> <td>   -1.029</td> <td> 0.324</td> <td>   -0.005     0.002</td>\n",
       "</tr>\n",
       "<tr>\n",
       "  <th>Tinted_Windows</th>                    <td>   -0.0008</td> <td>    0.001</td> <td>   -0.753</td> <td> 0.466</td> <td>   -0.003     0.002</td>\n",
       "</tr>\n",
       "<tr>\n",
       "  <th>Truck_Routes</th>                      <td>    0.0008</td> <td>    0.001</td> <td>    0.705</td> <td> 0.494</td> <td>   -0.002     0.003</td>\n",
       "</tr>\n",
       "<tr>\n",
       "  <th>U_Turn</th>                            <td>    0.0003</td> <td>    0.001</td> <td>    0.221</td> <td> 0.829</td> <td>   -0.003     0.003</td>\n",
       "</tr>\n",
       "<tr>\n",
       "  <th>Uninspected</th>                       <td>   -0.0017</td> <td>    0.002</td> <td>   -1.050</td> <td> 0.314</td> <td>   -0.005     0.002</td>\n",
       "</tr>\n",
       "<tr>\n",
       "  <th>Uninsured</th>                         <td>   -0.0008</td> <td>    0.001</td> <td>   -0.731</td> <td> 0.479</td> <td>   -0.003     0.002</td>\n",
       "</tr>\n",
       "<tr>\n",
       "  <th>Unlicensed_Operator</th>               <td>   -0.0005</td> <td>    0.001</td> <td>   -0.451</td> <td> 0.660</td> <td>   -0.003     0.002</td>\n",
       "</tr>\n",
       "<tr>\n",
       "  <th>Unregistered</th>                      <td>    0.0002</td> <td>    0.001</td> <td>    0.105</td> <td> 0.918</td> <td>   -0.003     0.003</td>\n",
       "</tr>\n",
       "<tr>\n",
       "  <th>P12</th>                               <td>    0.0014</td> <td>    0.001</td> <td>    1.319</td> <td> 0.212</td> <td>   -0.001     0.004</td>\n",
       "</tr>\n",
       "<tr>\n",
       "  <th>P123</th>                              <td>   -0.0016</td> <td>    0.001</td> <td>   -1.173</td> <td> 0.263</td> <td>   -0.005     0.001</td>\n",
       "</tr>\n",
       "<tr>\n",
       "  <th>Traf_Total</th>                        <td>    0.0008</td> <td>    0.001</td> <td>    0.778</td> <td> 0.452</td> <td>   -0.001     0.003</td>\n",
       "</tr>\n",
       "<tr>\n",
       "  <th>Neigh_Slow_Zone_Total</th>             <td>    0.0527</td> <td>    0.077</td> <td>    0.685</td> <td> 0.506</td> <td>   -0.115     0.220</td>\n",
       "</tr>\n",
       "<tr>\n",
       "  <th>Speed_Bump_Total</th>                  <td>   -0.0368</td> <td>    0.015</td> <td>   -2.428</td> <td> 0.032</td> <td>   -0.070    -0.004</td>\n",
       "</tr>\n",
       "<tr>\n",
       "  <th>High_Crash_Corridor_c</th>             <td>    0.0251</td> <td>    0.010</td> <td>    2.572</td> <td> 0.024</td> <td>    0.004     0.046</td>\n",
       "</tr>\n",
       "<tr>\n",
       "  <th>New_Public_Space_c</th>                <td>   -0.0937</td> <td>    0.088</td> <td>   -1.070</td> <td> 0.306</td> <td>   -0.284     0.097</td>\n",
       "</tr>\n",
       "<tr>\n",
       "  <th>Pedestrian_Safety_c</th>               <td>   -0.0563</td> <td>    0.040</td> <td>   -1.420</td> <td> 0.181</td> <td>   -0.143     0.030</td>\n",
       "</tr>\n",
       "<tr>\n",
       "  <th>Senior_Safety_c</th>                   <td> 4.773e-16</td> <td> 4.57e-16</td> <td>    1.044</td> <td> 0.317</td> <td>-5.19e-16  1.47e-15</td>\n",
       "</tr>\n",
       "<tr>\n",
       "  <th>Traffic_Calming_c</th>                 <td>   -0.0085</td> <td>    0.007</td> <td>   -1.199</td> <td> 0.254</td> <td>   -0.024     0.007</td>\n",
       "</tr>\n",
       "<tr>\n",
       "  <th>Traffic_Network_Chng_c</th>            <td>   -0.0462</td> <td>    0.039</td> <td>   -1.188</td> <td> 0.258</td> <td>   -0.131     0.039</td>\n",
       "</tr>\n",
       "<tr>\n",
       "  <th>Bikes_c</th>                           <td>    0.0105</td> <td>    0.017</td> <td>    0.630</td> <td> 0.540</td> <td>   -0.026     0.047</td>\n",
       "</tr>\n",
       "<tr>\n",
       "  <th>High_Crash_Corridor_i</th>             <td>         0</td> <td>        0</td> <td>      nan</td> <td>   nan</td> <td>        0         0</td>\n",
       "</tr>\n",
       "<tr>\n",
       "  <th>Pedestrian_Safety_i</th>               <td>    0.6968</td> <td>    0.636</td> <td>    1.095</td> <td> 0.295</td> <td>   -0.690     2.083</td>\n",
       "</tr>\n",
       "<tr>\n",
       "  <th>Senior_Safety_i</th>                   <td>         0</td> <td>        0</td> <td>      nan</td> <td>   nan</td> <td>        0         0</td>\n",
       "</tr>\n",
       "<tr>\n",
       "  <th>Traffic_Calming_i</th>                 <td>    0.2268</td> <td>    0.115</td> <td>    1.965</td> <td> 0.073</td> <td>   -0.025     0.478</td>\n",
       "</tr>\n",
       "<tr>\n",
       "  <th>Traffic_Network_Chng_i</th>            <td>   -0.2070</td> <td>    0.318</td> <td>   -0.651</td> <td> 0.527</td> <td>   -0.900     0.486</td>\n",
       "</tr>\n",
       "</table>\n",
       "<table class=\"simpletable\">\n",
       "<tr>\n",
       "  <th>Omnibus:</th>       <td> 5.187</td> <th>  Durbin-Watson:     </th> <td>   2.573</td>\n",
       "</tr>\n",
       "<tr>\n",
       "  <th>Prob(Omnibus):</th> <td> 0.075</td> <th>  Jarque-Bera (JB):  </th> <td>   6.593</td>\n",
       "</tr>\n",
       "<tr>\n",
       "  <th>Skew:</th>          <td> 0.167</td> <th>  Prob(JB):          </th> <td>  0.0370</td>\n",
       "</tr>\n",
       "<tr>\n",
       "  <th>Kurtosis:</th>      <td> 4.562</td> <th>  Cond. No.          </th> <td>1.33e+16</td>\n",
       "</tr>\n",
       "</table>"
      ],
      "text/plain": [
       "<class 'statsmodels.iolib.summary.Summary'>\n",
       "\"\"\"\n",
       "                             OLS Regression Results                            \n",
       "===============================================================================\n",
       "Dep. Variable:     Per_Thou_Inj_Change   R-squared:                       0.906\n",
       "Model:                             OLS   Adj. R-squared:                  0.523\n",
       "Method:                  Least Squares   F-statistic:                     2.365\n",
       "Date:                 Fri, 09 Dec 2016   Prob (F-statistic):             0.0530\n",
       "Time:                         17:48:29   Log-Likelihood:                 139.63\n",
       "No. Observations:                   62   AIC:                            -179.3\n",
       "Df Residuals:                       12   BIC:                            -72.90\n",
       "Df Model:                           49                                         \n",
       "Covariance Type:             nonrobust                                         \n",
       "=====================================================================================================\n",
       "                                        coef    std err          t      P>|t|      [95.0% Conf. Int.]\n",
       "-----------------------------------------------------------------------------------------------------\n",
       "Intercept                             0.0005      0.038      0.014      0.989        -0.082     0.083\n",
       "Taxis                                 0.0280      0.021      1.360      0.199        -0.017     0.073\n",
       "Flyers                               -0.0368      0.030     -1.218      0.247        -0.103     0.029\n",
       "Seniors                               0.0705      0.027      2.647      0.021         0.012     0.129\n",
       "Outreach                             -0.0005      0.014     -0.034      0.974        -0.031     0.030\n",
       "HandsOn                              -0.0435      0.026     -1.673      0.120        -0.100     0.013\n",
       "Edu_Total                             0.0177      0.009      2.075      0.060        -0.001     0.036\n",
       "Backing_Unsafely                     -0.0054      0.006     -0.920      0.376        -0.018     0.007\n",
       "Brake_Lights__Defect_or_Improper_    -0.0014      0.001     -1.030      0.323        -0.004     0.002\n",
       "Bus_Lane_Driving_in                   0.0046      0.002      1.915      0.080        -0.001     0.010\n",
       "Cell_Phone                           -0.0007      0.001     -0.664      0.520        -0.003     0.001\n",
       "Commercial_Veh_on_Pkwy                0.0051      0.005      1.026      0.325        -0.006     0.016\n",
       "Defective_Brakes                      0.0264      0.009      2.902      0.013         0.007     0.046\n",
       "Disobey_Steady_Red_Signal             0.0011      0.001      0.955      0.358        -0.001     0.004\n",
       "Disobey_Traffic_Control_Device        0.0007      0.001      0.731      0.479        -0.001     0.003\n",
       "Equipment__Other_                    -0.0009      0.003     -0.334      0.745        -0.007     0.005\n",
       "Fail_to_Keep_Right                   -0.0177      0.012     -1.482      0.164        -0.044     0.008\n",
       "Fail_to_Signal                       -0.0019      0.001     -2.270      0.042        -0.004 -7.54e-05\n",
       "Following_Too_Closely                 0.0055      0.007      0.750      0.468        -0.010     0.021\n",
       "Headlights__Defect__or_Improper_     -0.0010      0.001     -0.863      0.405        -0.004     0.002\n",
       "Improper_Lights                      -0.0020      0.002     -1.312      0.214        -0.005     0.001\n",
       "Improper_Passing                     -0.0018      0.001     -1.993      0.070        -0.004     0.000\n",
       "Improper_Turn                         0.0005      0.001      0.501      0.626        -0.002     0.003\n",
       "Improper_Missing_Plates              -0.0081      0.003     -2.722      0.019        -0.015    -0.002\n",
       "Not_Giving_R_of_W_to_Pedes_       -1.806e-05      0.000     -0.044      0.966        -0.001     0.001\n",
       "Not_Giving_R_of_W_to_Veh_             0.0013      0.001      1.061      0.310        -0.001     0.004\n",
       "One_Way_Street                       -0.0022      0.001     -1.579      0.140        -0.005     0.001\n",
       "Other_Movers                          0.0019      0.001      1.493      0.161        -0.001     0.005\n",
       "Pavement_Markings                    -0.0004      0.001     -0.354      0.729        -0.003     0.002\n",
       "Safety_Belt                          -0.0009      0.001     -0.810      0.433        -0.003     0.001\n",
       "School_Bus_Passing_Stopped            0.0026      0.002      1.554      0.146        -0.001     0.006\n",
       "Speeding                             -0.0006      0.000     -1.901      0.082        -0.001  9.42e-05\n",
       "Spillback                            -0.0015      0.001     -1.029      0.324        -0.005     0.002\n",
       "Tinted_Windows                       -0.0008      0.001     -0.753      0.466        -0.003     0.002\n",
       "Truck_Routes                          0.0008      0.001      0.705      0.494        -0.002     0.003\n",
       "U_Turn                                0.0003      0.001      0.221      0.829        -0.003     0.003\n",
       "Uninspected                          -0.0017      0.002     -1.050      0.314        -0.005     0.002\n",
       "Uninsured                            -0.0008      0.001     -0.731      0.479        -0.003     0.002\n",
       "Unlicensed_Operator                  -0.0005      0.001     -0.451      0.660        -0.003     0.002\n",
       "Unregistered                          0.0002      0.001      0.105      0.918        -0.003     0.003\n",
       "P12                                   0.0014      0.001      1.319      0.212        -0.001     0.004\n",
       "P123                                 -0.0016      0.001     -1.173      0.263        -0.005     0.001\n",
       "Traf_Total                            0.0008      0.001      0.778      0.452        -0.001     0.003\n",
       "Neigh_Slow_Zone_Total                 0.0527      0.077      0.685      0.506        -0.115     0.220\n",
       "Speed_Bump_Total                     -0.0368      0.015     -2.428      0.032        -0.070    -0.004\n",
       "High_Crash_Corridor_c                 0.0251      0.010      2.572      0.024         0.004     0.046\n",
       "New_Public_Space_c                   -0.0937      0.088     -1.070      0.306        -0.284     0.097\n",
       "Pedestrian_Safety_c                  -0.0563      0.040     -1.420      0.181        -0.143     0.030\n",
       "Senior_Safety_c                    4.773e-16   4.57e-16      1.044      0.317     -5.19e-16  1.47e-15\n",
       "Traffic_Calming_c                    -0.0085      0.007     -1.199      0.254        -0.024     0.007\n",
       "Traffic_Network_Chng_c               -0.0462      0.039     -1.188      0.258        -0.131     0.039\n",
       "Bikes_c                               0.0105      0.017      0.630      0.540        -0.026     0.047\n",
       "High_Crash_Corridor_i                      0          0        nan        nan             0         0\n",
       "Pedestrian_Safety_i                   0.6968      0.636      1.095      0.295        -0.690     2.083\n",
       "Senior_Safety_i                            0          0        nan        nan             0         0\n",
       "Traffic_Calming_i                     0.2268      0.115      1.965      0.073        -0.025     0.478\n",
       "Traffic_Network_Chng_i               -0.2070      0.318     -0.651      0.527        -0.900     0.486\n",
       "==============================================================================\n",
       "Omnibus:                        5.187   Durbin-Watson:                   2.573\n",
       "Prob(Omnibus):                  0.075   Jarque-Bera (JB):                6.593\n",
       "Skew:                           0.167   Prob(JB):                       0.0370\n",
       "Kurtosis:                       4.562   Cond. No.                     1.33e+16\n",
       "==============================================================================\n",
       "\n",
       "Warnings:\n",
       "[1] Standard Errors assume that the covariance matrix of the errors is correctly specified.\n",
       "[2] The smallest eigenvalue is 2.96e-23. This might indicate that there are\n",
       "strong multicollinearity problems or that the design matrix is singular.\n",
       "\"\"\""
      ]
     },
     "execution_count": 1994,
     "metadata": {},
     "output_type": "execute_result"
    }
   ],
   "source": [
    "danger_all = smf.ols(all_regressors, danger_neighbors).fit()\n",
    "danger_all.summary()"
   ]
  },
  {
   "cell_type": "code",
   "execution_count": 1995,
   "metadata": {
    "collapsed": false
   },
   "outputs": [
    {
     "data": {
      "text/html": [
       "<table class=\"simpletable\">\n",
       "<caption>OLS Regression Results</caption>\n",
       "<tr>\n",
       "  <th>Dep. Variable:</th>    <td>Per_Thou_Inj_Change</td> <th>  R-squared:         </th> <td>   0.122</td>\n",
       "</tr>\n",
       "<tr>\n",
       "  <th>Model:</th>                    <td>OLS</td>         <th>  Adj. R-squared:    </th> <td>   0.059</td>\n",
       "</tr>\n",
       "<tr>\n",
       "  <th>Method:</th>              <td>Least Squares</td>    <th>  F-statistic:       </th> <td>   1.931</td>\n",
       "</tr>\n",
       "<tr>\n",
       "  <th>Date:</th>              <td>Fri, 09 Dec 2016</td>   <th>  Prob (F-statistic):</th>  <td>0.0458</td> \n",
       "</tr>\n",
       "<tr>\n",
       "  <th>Time:</th>                  <td>17:48:35</td>       <th>  Log-Likelihood:    </th> <td>  162.99</td>\n",
       "</tr>\n",
       "<tr>\n",
       "  <th>No. Observations:</th>       <td>   150</td>        <th>  AIC:               </th> <td>  -304.0</td>\n",
       "</tr>\n",
       "<tr>\n",
       "  <th>Df Residuals:</th>           <td>   139</td>        <th>  BIC:               </th> <td>  -270.9</td>\n",
       "</tr>\n",
       "<tr>\n",
       "  <th>Df Model:</th>               <td>    10</td>        <th>                     </th>     <td> </td>   \n",
       "</tr>\n",
       "<tr>\n",
       "  <th>Covariance Type:</th>       <td>nonrobust</td>      <th>                     </th>     <td> </td>   \n",
       "</tr>\n",
       "</table>\n",
       "<table class=\"simpletable\">\n",
       "<tr>\n",
       "             <td></td>                <th>coef</th>     <th>std err</th>      <th>t</th>      <th>P>|t|</th> <th>[95.0% Conf. Int.]</th> \n",
       "</tr>\n",
       "<tr>\n",
       "  <th>Intercept</th>               <td>   -0.0490</td> <td>    0.013</td> <td>   -3.877</td> <td> 0.000</td> <td>   -0.074    -0.024</td>\n",
       "</tr>\n",
       "<tr>\n",
       "  <th>Edu_Total</th>               <td>    0.0014</td> <td>    0.002</td> <td>    0.911</td> <td> 0.364</td> <td>   -0.002     0.005</td>\n",
       "</tr>\n",
       "<tr>\n",
       "  <th>Bus_Lane_Driving_in</th>     <td>    0.0005</td> <td>    0.000</td> <td>    1.316</td> <td> 0.190</td> <td>   -0.000     0.001</td>\n",
       "</tr>\n",
       "<tr>\n",
       "  <th>Defective_Brakes</th>        <td>    0.0008</td> <td>    0.002</td> <td>    0.390</td> <td> 0.697</td> <td>   -0.003     0.005</td>\n",
       "</tr>\n",
       "<tr>\n",
       "  <th>Fail_to_Signal</th>          <td>-4.605e-05</td> <td> 4.82e-05</td> <td>   -0.955</td> <td> 0.341</td> <td>   -0.000  4.93e-05</td>\n",
       "</tr>\n",
       "<tr>\n",
       "  <th>Improper_Passing</th>        <td> 1.548e-05</td> <td>    0.000</td> <td>    0.105</td> <td> 0.917</td> <td>   -0.000     0.000</td>\n",
       "</tr>\n",
       "<tr>\n",
       "  <th>Improper_Missing_Plates</th> <td>   -0.0008</td> <td>    0.000</td> <td>   -2.036</td> <td> 0.044</td> <td>   -0.002  -2.4e-05</td>\n",
       "</tr>\n",
       "<tr>\n",
       "  <th>Speeding</th>                <td>-9.289e-05</td> <td> 3.43e-05</td> <td>   -2.709</td> <td> 0.008</td> <td>   -0.000 -2.51e-05</td>\n",
       "</tr>\n",
       "<tr>\n",
       "  <th>Speed_Bump_Total</th>        <td>   -0.0034</td> <td>    0.003</td> <td>   -1.242</td> <td> 0.216</td> <td>   -0.009     0.002</td>\n",
       "</tr>\n",
       "<tr>\n",
       "  <th>High_Crash_Corridor_c</th>   <td>    0.0030</td> <td>    0.004</td> <td>    0.863</td> <td> 0.390</td> <td>   -0.004     0.010</td>\n",
       "</tr>\n",
       "<tr>\n",
       "  <th>Traffic_Calming_i</th>       <td>   -0.0008</td> <td>    0.013</td> <td>   -0.058</td> <td> 0.954</td> <td>   -0.027     0.025</td>\n",
       "</tr>\n",
       "</table>\n",
       "<table class=\"simpletable\">\n",
       "<tr>\n",
       "  <th>Omnibus:</th>       <td> 4.130</td> <th>  Durbin-Watson:     </th> <td>   1.745</td>\n",
       "</tr>\n",
       "<tr>\n",
       "  <th>Prob(Omnibus):</th> <td> 0.127</td> <th>  Jarque-Bera (JB):  </th> <td>   4.189</td>\n",
       "</tr>\n",
       "<tr>\n",
       "  <th>Skew:</th>          <td> 0.397</td> <th>  Prob(JB):          </th> <td>   0.123</td>\n",
       "</tr>\n",
       "<tr>\n",
       "  <th>Kurtosis:</th>      <td> 2.799</td> <th>  Cond. No.          </th> <td>    766.</td>\n",
       "</tr>\n",
       "</table>"
      ],
      "text/plain": [
       "<class 'statsmodels.iolib.summary.Summary'>\n",
       "\"\"\"\n",
       "                             OLS Regression Results                            \n",
       "===============================================================================\n",
       "Dep. Variable:     Per_Thou_Inj_Change   R-squared:                       0.122\n",
       "Model:                             OLS   Adj. R-squared:                  0.059\n",
       "Method:                  Least Squares   F-statistic:                     1.931\n",
       "Date:                 Fri, 09 Dec 2016   Prob (F-statistic):             0.0458\n",
       "Time:                         17:48:35   Log-Likelihood:                 162.99\n",
       "No. Observations:                  150   AIC:                            -304.0\n",
       "Df Residuals:                      139   BIC:                            -270.9\n",
       "Df Model:                           10                                         \n",
       "Covariance Type:             nonrobust                                         \n",
       "===========================================================================================\n",
       "                              coef    std err          t      P>|t|      [95.0% Conf. Int.]\n",
       "-------------------------------------------------------------------------------------------\n",
       "Intercept                  -0.0490      0.013     -3.877      0.000        -0.074    -0.024\n",
       "Edu_Total                   0.0014      0.002      0.911      0.364        -0.002     0.005\n",
       "Bus_Lane_Driving_in         0.0005      0.000      1.316      0.190        -0.000     0.001\n",
       "Defective_Brakes            0.0008      0.002      0.390      0.697        -0.003     0.005\n",
       "Fail_to_Signal          -4.605e-05   4.82e-05     -0.955      0.341        -0.000  4.93e-05\n",
       "Improper_Passing         1.548e-05      0.000      0.105      0.917        -0.000     0.000\n",
       "Improper_Missing_Plates    -0.0008      0.000     -2.036      0.044        -0.002  -2.4e-05\n",
       "Speeding                -9.289e-05   3.43e-05     -2.709      0.008        -0.000 -2.51e-05\n",
       "Speed_Bump_Total           -0.0034      0.003     -1.242      0.216        -0.009     0.002\n",
       "High_Crash_Corridor_c       0.0030      0.004      0.863      0.390        -0.004     0.010\n",
       "Traffic_Calming_i          -0.0008      0.013     -0.058      0.954        -0.027     0.025\n",
       "==============================================================================\n",
       "Omnibus:                        4.130   Durbin-Watson:                   1.745\n",
       "Prob(Omnibus):                  0.127   Jarque-Bera (JB):                4.189\n",
       "Skew:                           0.397   Prob(JB):                        0.123\n",
       "Kurtosis:                       2.799   Cond. No.                         766.\n",
       "==============================================================================\n",
       "\n",
       "Warnings:\n",
       "[1] Standard Errors assume that the covariance matrix of the errors is correctly specified.\n",
       "\"\"\""
      ]
     },
     "execution_count": 1995,
     "metadata": {},
     "output_type": "execute_result"
    }
   ],
   "source": [
    "danger_sig_var_all = danger_all.pvalues[danger_all.pvalues < .1].keys() \n",
    "danger_sig_eqt_all = 'Per_Thou_Inj_Change ~ ' + ' + '.join(danger_sig_var_all[1:])\n",
    "danger_sig_all = smf.ols(danger_sig_eqt_all, df).fit()\n",
    "danger_sig_all.summary()"
   ]
  },
  {
   "cell_type": "code",
   "execution_count": 1984,
   "metadata": {
    "collapsed": false
   },
   "outputs": [],
   "source": [
    "df = danger_neighbors\n",
    "X = df.loc[:, 'Taxis':'Traf_Total']\n",
    "X = pd.concat([X, df.loc[:, 'New_Public_Space_c':'Traffic_Network_Chng_c'], df.loc[:, 'Bikes_c'], df.loc[:, 'Total_Pop'], \n",
    "               df.loc[:, 'Pedestrian_Safety_i':'Traffic_Network_Chng_i']], axis = 1)\n",
    "y = df.Per_Thou_Inj_Change"
   ]
  },
  {
   "cell_type": "code",
   "execution_count": 2025,
   "metadata": {
    "collapsed": false
   },
   "outputs": [
    {
     "name": "stderr",
     "output_type": "stream",
     "text": [
      "/opt/rh/anaconda/root/lib/python2.7/site-packages/ipykernel/__main__.py:1: SettingWithCopyWarning: \n",
      "A value is trying to be set on a copy of a slice from a DataFrame.\n",
      "Try using .loc[row_indexer,col_indexer] = value instead\n",
      "\n",
      "See the caveats in the documentation: http://pandas.pydata.org/pandas-docs/stable/indexing.html#indexing-view-versus-copy\n",
      "  if __name__ == '__main__':\n"
     ]
    }
   ],
   "source": [
    "data7['speed_bump_sq'] = data7['Speed_Bump_Total'] ** 2"
   ]
  },
  {
   "cell_type": "code",
   "execution_count": 2032,
   "metadata": {
    "collapsed": false
   },
   "outputs": [
    {
     "data": {
      "text/html": [
       "<table class=\"simpletable\">\n",
       "<caption>OLS Regression Results</caption>\n",
       "<tr>\n",
       "  <th>Dep. Variable:</th>    <td>Per_Thou_Inj_Change</td> <th>  R-squared:         </th> <td>   0.110</td>\n",
       "</tr>\n",
       "<tr>\n",
       "  <th>Model:</th>                    <td>OLS</td>         <th>  Adj. R-squared:    </th> <td>   0.097</td>\n",
       "</tr>\n",
       "<tr>\n",
       "  <th>Method:</th>              <td>Least Squares</td>    <th>  F-statistic:       </th> <td>   8.620</td>\n",
       "</tr>\n",
       "<tr>\n",
       "  <th>Date:</th>              <td>Fri, 09 Dec 2016</td>   <th>  Prob (F-statistic):</th>  <td>0.00450</td>\n",
       "</tr>\n",
       "<tr>\n",
       "  <th>Time:</th>                  <td>18:16:16</td>       <th>  Log-Likelihood:    </th> <td>  82.745</td>\n",
       "</tr>\n",
       "<tr>\n",
       "  <th>No. Observations:</th>       <td>    72</td>        <th>  AIC:               </th> <td>  -161.5</td>\n",
       "</tr>\n",
       "<tr>\n",
       "  <th>Df Residuals:</th>           <td>    70</td>        <th>  BIC:               </th> <td>  -156.9</td>\n",
       "</tr>\n",
       "<tr>\n",
       "  <th>Df Model:</th>               <td>     1</td>        <th>                     </th>     <td> </td>   \n",
       "</tr>\n",
       "<tr>\n",
       "  <th>Covariance Type:</th>       <td>nonrobust</td>      <th>                     </th>     <td> </td>   \n",
       "</tr>\n",
       "</table>\n",
       "<table class=\"simpletable\">\n",
       "<tr>\n",
       "          <td></td>            <th>coef</th>     <th>std err</th>      <th>t</th>      <th>P>|t|</th> <th>[95.0% Conf. Int.]</th> \n",
       "</tr>\n",
       "<tr>\n",
       "  <th>Intercept</th>        <td>   -0.0494</td> <td>    0.013</td> <td>   -3.887</td> <td> 0.000</td> <td>   -0.075    -0.024</td>\n",
       "</tr>\n",
       "<tr>\n",
       "  <th>Speed_Bump_Total</th> <td>   -0.0111</td> <td>    0.004</td> <td>   -2.936</td> <td> 0.004</td> <td>   -0.019    -0.004</td>\n",
       "</tr>\n",
       "</table>\n",
       "<table class=\"simpletable\">\n",
       "<tr>\n",
       "  <th>Omnibus:</th>       <td> 1.000</td> <th>  Durbin-Watson:     </th> <td>   1.907</td>\n",
       "</tr>\n",
       "<tr>\n",
       "  <th>Prob(Omnibus):</th> <td> 0.607</td> <th>  Jarque-Bera (JB):  </th> <td>   1.081</td>\n",
       "</tr>\n",
       "<tr>\n",
       "  <th>Skew:</th>          <td> 0.217</td> <th>  Prob(JB):          </th> <td>   0.582</td>\n",
       "</tr>\n",
       "<tr>\n",
       "  <th>Kurtosis:</th>      <td> 2.586</td> <th>  Cond. No.          </th> <td>    4.86</td>\n",
       "</tr>\n",
       "</table>"
      ],
      "text/plain": [
       "<class 'statsmodels.iolib.summary.Summary'>\n",
       "\"\"\"\n",
       "                             OLS Regression Results                            \n",
       "===============================================================================\n",
       "Dep. Variable:     Per_Thou_Inj_Change   R-squared:                       0.110\n",
       "Model:                             OLS   Adj. R-squared:                  0.097\n",
       "Method:                  Least Squares   F-statistic:                     8.620\n",
       "Date:                 Fri, 09 Dec 2016   Prob (F-statistic):            0.00450\n",
       "Time:                         18:16:16   Log-Likelihood:                 82.745\n",
       "No. Observations:                   72   AIC:                            -161.5\n",
       "Df Residuals:                       70   BIC:                            -156.9\n",
       "Df Model:                            1                                         \n",
       "Covariance Type:             nonrobust                                         \n",
       "====================================================================================\n",
       "                       coef    std err          t      P>|t|      [95.0% Conf. Int.]\n",
       "------------------------------------------------------------------------------------\n",
       "Intercept           -0.0494      0.013     -3.887      0.000        -0.075    -0.024\n",
       "Speed_Bump_Total    -0.0111      0.004     -2.936      0.004        -0.019    -0.004\n",
       "==============================================================================\n",
       "Omnibus:                        1.000   Durbin-Watson:                   1.907\n",
       "Prob(Omnibus):                  0.607   Jarque-Bera (JB):                1.081\n",
       "Skew:                           0.217   Prob(JB):                        0.582\n",
       "Kurtosis:                       2.586   Cond. No.                         4.86\n",
       "==============================================================================\n",
       "\n",
       "Warnings:\n",
       "[1] Standard Errors assume that the covariance matrix of the errors is correctly specified.\n",
       "\"\"\""
      ]
     },
     "execution_count": 2032,
     "metadata": {},
     "output_type": "execute_result"
    }
   ],
   "source": [
    "lm = smf.ols('Per_Thou_Inj_Change ~ Speed_Bump_Total', data7).fit()\n",
    "lm.summary()"
   ]
  },
  {
   "cell_type": "code",
   "execution_count": 2033,
   "metadata": {
    "collapsed": false
   },
   "outputs": [
    {
     "data": {
      "image/png": "[encoded data removed]",
      "text/plain": [
       "<matplotlib.figure.Figure at 0x7fd3977bfd10>"
      ]
     },
     "metadata": {},
     "output_type": "display_data"
    }
   ],
   "source": [
    "pl.figure(figsize = (15,15))\n",
    "pl.plot(data7.Speed_Bump_Total, data7.Per_Thou_Inj_Change, 'o')\n",
    "pl.xlabel('Speed Bumps Per Square Mile Since 2013', fontsize = 20)\n",
    "pl.ylabel('Percent Change in Injuries per Thousand', fontsize = 20)\n",
    "pl.title('Percent Change in Injuries per Thousand v. Speed Bumps Per Square Mile', fontsize = 20)\n",
    "x = pd.DataFrame({'Speed_Bump_Total': np.linspace(0, 12, 200)})\n",
    "\n",
    "pl.plot(np.linspace(0, 12, 200), lm.predict(x))\n",
    "pl.savefig('Speed_Bumps_Change.png', format = 'png')"
   ]
  },
  {
   "cell_type": "code",
   "execution_count": 2020,
   "metadata": {
    "collapsed": false
   },
   "outputs": [],
   "source": [
    "x = pd.DataFrame({'Speed_Bump_Total': np.linspace(0, 12, 50)})"
   ]
  },
  {
   "cell_type": "code",
   "execution_count": 2021,
   "metadata": {
    "collapsed": false
   },
   "outputs": [
    {
     "data": {
      "text/plain": [
       "array([-0.04937421, -0.05209563, -0.05481704, -0.05753846, -0.06025988,\n",
       "       -0.06298129, -0.06570271, -0.06842412, -0.07114554, -0.07386696,\n",
       "       -0.07658837, -0.07930979, -0.0820312 , -0.08475262, -0.08747404,\n",
       "       -0.09019545, -0.09291687, -0.09563828, -0.0983597 , -0.10108112,\n",
       "       -0.10380253, -0.10652395, -0.10924537, -0.11196678, -0.1146882 ,\n",
       "       -0.11740961, -0.12013103, -0.12285245, -0.12557386, -0.12829528,\n",
       "       -0.13101669, -0.13373811, -0.13645953, -0.13918094, -0.14190236,\n",
       "       -0.14462377, -0.14734519, -0.15006661, -0.15278802, -0.15550944,\n",
       "       -0.15823085, -0.16095227, -0.16367369, -0.1663951 , -0.16911652,\n",
       "       -0.17183793, -0.17455935, -0.17728077, -0.18000218, -0.1827236 ])"
      ]
     },
     "execution_count": 2021,
     "metadata": {},
     "output_type": "execute_result"
    }
   ],
   "source": [
    "lm.predict(x)"
   ]
  },
  {
   "cell_type": "code",
   "execution_count": 1937,
   "metadata": {
    "collapsed": false
   },
   "outputs": [
    {
     "data": {
      "text/html": [
       "<table class=\"simpletable\">\n",
       "<caption>OLS Regression Results</caption>\n",
       "<tr>\n",
       "  <th>Dep. Variable:</th>    <td>Per_Thou_Inj_Change</td> <th>  R-squared:         </th> <td>   0.110</td>\n",
       "</tr>\n",
       "<tr>\n",
       "  <th>Model:</th>                    <td>OLS</td>         <th>  Adj. R-squared:    </th> <td>   0.097</td>\n",
       "</tr>\n",
       "<tr>\n",
       "  <th>Method:</th>              <td>Least Squares</td>    <th>  F-statistic:       </th> <td>   8.620</td>\n",
       "</tr>\n",
       "<tr>\n",
       "  <th>Date:</th>              <td>Fri, 09 Dec 2016</td>   <th>  Prob (F-statistic):</th>  <td>0.00450</td>\n",
       "</tr>\n",
       "<tr>\n",
       "  <th>Time:</th>                  <td>15:07:46</td>       <th>  Log-Likelihood:    </th> <td>  82.745</td>\n",
       "</tr>\n",
       "<tr>\n",
       "  <th>No. Observations:</th>       <td>    72</td>        <th>  AIC:               </th> <td>  -161.5</td>\n",
       "</tr>\n",
       "<tr>\n",
       "  <th>Df Residuals:</th>           <td>    70</td>        <th>  BIC:               </th> <td>  -156.9</td>\n",
       "</tr>\n",
       "<tr>\n",
       "  <th>Df Model:</th>               <td>     1</td>        <th>                     </th>     <td> </td>   \n",
       "</tr>\n",
       "<tr>\n",
       "  <th>Covariance Type:</th>       <td>nonrobust</td>      <th>                     </th>     <td> </td>   \n",
       "</tr>\n",
       "</table>\n",
       "<table class=\"simpletable\">\n",
       "<tr>\n",
       "          <td></td>            <th>coef</th>     <th>std err</th>      <th>t</th>      <th>P>|t|</th> <th>[95.0% Conf. Int.]</th> \n",
       "</tr>\n",
       "<tr>\n",
       "  <th>Intercept</th>        <td>   -0.0494</td> <td>    0.013</td> <td>   -3.887</td> <td> 0.000</td> <td>   -0.075    -0.024</td>\n",
       "</tr>\n",
       "<tr>\n",
       "  <th>Speed_Bump_Total</th> <td>   -0.0111</td> <td>    0.004</td> <td>   -2.936</td> <td> 0.004</td> <td>   -0.019    -0.004</td>\n",
       "</tr>\n",
       "</table>\n",
       "<table class=\"simpletable\">\n",
       "<tr>\n",
       "  <th>Omnibus:</th>       <td> 1.000</td> <th>  Durbin-Watson:     </th> <td>   1.907</td>\n",
       "</tr>\n",
       "<tr>\n",
       "  <th>Prob(Omnibus):</th> <td> 0.607</td> <th>  Jarque-Bera (JB):  </th> <td>   1.081</td>\n",
       "</tr>\n",
       "<tr>\n",
       "  <th>Skew:</th>          <td> 0.217</td> <th>  Prob(JB):          </th> <td>   0.582</td>\n",
       "</tr>\n",
       "<tr>\n",
       "  <th>Kurtosis:</th>      <td> 2.586</td> <th>  Cond. No.          </th> <td>    4.86</td>\n",
       "</tr>\n",
       "</table>"
      ],
      "text/plain": [
       "<class 'statsmodels.iolib.summary.Summary'>\n",
       "\"\"\"\n",
       "                             OLS Regression Results                            \n",
       "===============================================================================\n",
       "Dep. Variable:     Per_Thou_Inj_Change   R-squared:                       0.110\n",
       "Model:                             OLS   Adj. R-squared:                  0.097\n",
       "Method:                  Least Squares   F-statistic:                     8.620\n",
       "Date:                 Fri, 09 Dec 2016   Prob (F-statistic):            0.00450\n",
       "Time:                         15:07:46   Log-Likelihood:                 82.745\n",
       "No. Observations:                   72   AIC:                            -161.5\n",
       "Df Residuals:                       70   BIC:                            -156.9\n",
       "Df Model:                            1                                         \n",
       "Covariance Type:             nonrobust                                         \n",
       "====================================================================================\n",
       "                       coef    std err          t      P>|t|      [95.0% Conf. Int.]\n",
       "------------------------------------------------------------------------------------\n",
       "Intercept           -0.0494      0.013     -3.887      0.000        -0.075    -0.024\n",
       "Speed_Bump_Total    -0.0111      0.004     -2.936      0.004        -0.019    -0.004\n",
       "==============================================================================\n",
       "Omnibus:                        1.000   Durbin-Watson:                   1.907\n",
       "Prob(Omnibus):                  0.607   Jarque-Bera (JB):                1.081\n",
       "Skew:                           0.217   Prob(JB):                        0.582\n",
       "Kurtosis:                       2.586   Cond. No.                         4.86\n",
       "==============================================================================\n",
       "\n",
       "Warnings:\n",
       "[1] Standard Errors assume that the covariance matrix of the errors is correctly specified.\n",
       "\"\"\""
      ]
     },
     "execution_count": 1937,
     "metadata": {},
     "output_type": "execute_result"
    }
   ],
   "source": [
    "lm_speed = smf.ols('Per_Thou_Inj_Change ~ Speed_Bump_Total', data7).fit()\n",
    "lm_speed.predict"
   ]
  },
  {
   "cell_type": "code",
   "execution_count": 1973,
   "metadata": {
    "collapsed": false
   },
   "outputs": [
    {
     "data": {
      "text/plain": [
       "<matplotlib.text.Text at 0x7fd3920305d0>"
      ]
     },
     "execution_count": 1973,
     "metadata": {},
     "output_type": "execute_result"
    },
    {
     "data": {
      "image/png": "[encoded data removed]",
      "text/plain": [
       "<matplotlib.figure.Figure at 0x7fd3944864d0>"
      ]
     },
     "metadata": {},
     "output_type": "display_data"
    }
   ],
   "source": [
    "pl.figure(figsize = (15,15))\n",
    "pl.plot(data7.Traffic_Calming_i, data7.Per_Thou_Inj_Change, 'o')\n",
    "pl.xlabel('Added Bike Infrastructure')\n",
    "pl.ylabel('Percent Change in Injuries per Thousand')\n",
    "pl.title('Percent Change in Injuries per Thousand v. Bike Infrastructure per Square Mile')"
   ]
  },
  {
   "cell_type": "code",
   "execution_count": 2044,
   "metadata": {
    "collapsed": false
   },
   "outputs": [
    {
     "data": {
      "text/plain": [
       "'Per_Thou_Inj_Change ~ Taxis + Flyers + Seniors + Outreach + HandsOn + Edu_Total + Backing_Unsafely + Brake_Lights__Defect_or_Improper_ + Bus_Lane_Driving_in + Cell_Phone + Commercial_Veh_on_Pkwy + Defective_Brakes + Disobey_Steady_Red_Signal + Disobey_Traffic_Control_Device + Equipment__Other_ + Fail_to_Keep_Right + Fail_to_Signal + Following_Too_Closely + Headlights__Defect__or_Improper_ + Improper_Lights + Improper_Passing + Improper_Turn + Improper_Missing_Plates + Not_Giving_R_of_W_to_Pedes_ + Not_Giving_R_of_W_to_Veh_ + One_Way_Street + Other_Movers + Pavement_Markings + Safety_Belt + School_Bus_Passing_Stopped + Speeding + Spillback + Tinted_Windows + Truck_Routes + U_Turn + Uninspected + Uninsured + Unlicensed_Operator + Unregistered + P12 + P123 + Traf_Total + Neigh_Slow_Zone_Total + Speed_Bump_Total + High_Crash_Corridor_c + New_Public_Space_c + Pedestrian_Safety_c + Senior_Safety_c + Traffic_Calming_c + Traffic_Network_Chng_c + Bikes_c + High_Crash_Corridor_i + Pedestrian_Safety_i + Senior_Safety_i + Traffic_Calming_i + Traffic_Network_Chng_i'"
      ]
     },
     "execution_count": 2044,
     "metadata": {},
     "output_type": "execute_result"
    }
   ],
   "source": [
    "all_regressors"
   ]
  },
  {
   "cell_type": "code",
   "execution_count": 2050,
   "metadata": {
    "collapsed": false
   },
   "outputs": [],
   "source": [
    "street_design = ['Neigh_Slow_Zone_Total', 'Speed_Bump_Total', 'New_Public_Space_c', \n",
    "                 'Pedestrian_Safety_c', 'Senior_Safety_c', 'Traffic_Calming_c', 'Traffic_Network_Chng_c', 'Bikes_c',\n",
    "                 'Pedestrian_Safety_i', 'Senior_Safety_i','Traffic_Calming_i', 'Traffic_Network_Chng_i']"
   ]
  },
  {
   "cell_type": "code",
   "execution_count": 2052,
   "metadata": {
    "collapsed": false
   },
   "outputs": [
    {
     "name": "stdout",
     "output_type": "stream",
     "text": [
      "                             OLS Regression Results                            \n",
      "===============================================================================\n",
      "Dep. Variable:     Per_Thou_Inj_Change   R-squared:                       0.028\n",
      "Model:                             OLS   Adj. R-squared:                 -0.015\n",
      "Method:                  Least Squares   F-statistic:                    0.6517\n",
      "Date:                 Fri, 09 Dec 2016   Prob (F-statistic):              0.428\n",
      "Time:                         19:51:39   Log-Likelihood:                 27.072\n",
      "No. Observations:                   25   AIC:                            -50.14\n",
      "Df Residuals:                       23   BIC:                            -47.71\n",
      "Df Model:                            1                                         \n",
      "Covariance Type:             nonrobust                                         \n",
      "=========================================================================================\n",
      "                            coef    std err          t      P>|t|      [95.0% Conf. Int.]\n",
      "-----------------------------------------------------------------------------------------\n",
      "Intercept                -0.0788      0.031     -2.525      0.019        -0.143    -0.014\n",
      "Neigh_Slow_Zone_Total    -0.0364      0.045     -0.807      0.428        -0.130     0.057\n",
      "==============================================================================\n",
      "Omnibus:                        1.035   Durbin-Watson:                   1.979\n",
      "Prob(Omnibus):                  0.596   Jarque-Bera (JB):                0.998\n",
      "Skew:                           0.349   Prob(JB):                        0.607\n",
      "Kurtosis:                       2.313   Cond. No.                         3.63\n",
      "==============================================================================\n",
      "\n",
      "Warnings:\n",
      "[1] Standard Errors assume that the covariance matrix of the errors is correctly specified.\n",
      "                             OLS Regression Results                            \n",
      "===============================================================================\n",
      "Dep. Variable:     Per_Thou_Inj_Change   R-squared:                       0.050\n",
      "Model:                             OLS   Adj. R-squared:                  0.043\n",
      "Method:                  Least Squares   F-statistic:                     7.254\n",
      "Date:                 Fri, 09 Dec 2016   Prob (F-statistic):            0.00796\n",
      "Time:                         19:51:39   Log-Likelihood:                 143.23\n",
      "No. Observations:                  139   AIC:                            -282.5\n",
      "Df Residuals:                      137   BIC:                            -276.6\n",
      "Df Model:                            1                                         \n",
      "Covariance Type:             nonrobust                                         \n",
      "====================================================================================\n",
      "                       coef    std err          t      P>|t|      [95.0% Conf. Int.]\n",
      "------------------------------------------------------------------------------------\n",
      "Intercept           -0.0619      0.010     -6.049      0.000        -0.082    -0.042\n",
      "Speed_Bump_Total    -0.0069      0.003     -2.693      0.008        -0.012    -0.002\n",
      "==============================================================================\n",
      "Omnibus:                        3.043   Durbin-Watson:                   1.705\n",
      "Prob(Omnibus):                  0.218   Jarque-Bera (JB):                2.869\n",
      "Skew:                           0.352   Prob(JB):                        0.238\n",
      "Kurtosis:                       2.976   Cond. No.                         5.70\n",
      "==============================================================================\n",
      "\n",
      "Warnings:\n",
      "[1] Standard Errors assume that the covariance matrix of the errors is correctly specified.\n",
      "                             OLS Regression Results                            \n",
      "===============================================================================\n",
      "Dep. Variable:     Per_Thou_Inj_Change   R-squared:                       0.000\n",
      "Model:                             OLS   Adj. R-squared:                  0.000\n",
      "Method:                  Least Squares   F-statistic:                       inf\n",
      "Date:                 Fri, 09 Dec 2016   Prob (F-statistic):                nan\n",
      "Time:                         19:51:39   Log-Likelihood:                 3.5828\n",
      "No. Observations:                    2   AIC:                            -5.166\n",
      "Df Residuals:                        1   BIC:                            -6.473\n",
      "Df Model:                            0                                         \n",
      "Covariance Type:             nonrobust                                         \n",
      "======================================================================================\n",
      "                         coef    std err          t      P>|t|      [95.0% Conf. Int.]\n",
      "--------------------------------------------------------------------------------------\n",
      "Intercept             -0.0299      0.010     -2.879      0.213        -0.162     0.102\n",
      "New_Public_Space_c    -0.0508      0.018     -2.879      0.213        -0.275     0.173\n",
      "==============================================================================\n",
      "Omnibus:                          nan   Durbin-Watson:                   2.000\n",
      "Prob(Omnibus):                    nan   Jarque-Bera (JB):                0.333\n",
      "Skew:                           0.000   Prob(JB):                        0.846\n",
      "Kurtosis:                       1.000   Cond. No.                     2.48e+16\n",
      "==============================================================================\n",
      "\n",
      "Warnings:\n",
      "[1] Standard Errors assume that the covariance matrix of the errors is correctly specified.\n",
      "[2] The smallest eigenvalue is 1.27e-32. This might indicate that there are\n",
      "strong multicollinearity problems or that the design matrix is singular.\n",
      "                             OLS Regression Results                            \n",
      "===============================================================================\n",
      "Dep. Variable:     Per_Thou_Inj_Change   R-squared:                       0.088\n",
      "Model:                             OLS   Adj. R-squared:                  0.042\n",
      "Method:                  Least Squares   F-statistic:                     1.920\n",
      "Date:                 Fri, 09 Dec 2016   Prob (F-statistic):              0.181\n",
      "Time:                         19:51:39   Log-Likelihood:                 27.528\n",
      "No. Observations:                   22   AIC:                            -51.06\n",
      "Df Residuals:                       20   BIC:                            -48.87\n",
      "Df Model:                            1                                         \n",
      "Covariance Type:             nonrobust                                         \n",
      "=======================================================================================\n",
      "                          coef    std err          t      P>|t|      [95.0% Conf. Int.]\n",
      "---------------------------------------------------------------------------------------\n",
      "Intercept              -0.1587      0.030     -5.367      0.000        -0.220    -0.097\n",
      "Pedestrian_Safety_c     0.0059      0.004      1.386      0.181        -0.003     0.015\n",
      "==============================================================================\n",
      "Omnibus:                        0.403   Durbin-Watson:                   0.977\n",
      "Prob(Omnibus):                  0.817   Jarque-Bera (JB):                0.544\n",
      "Skew:                          -0.198   Prob(JB):                        0.762\n",
      "Kurtosis:                       2.339   Cond. No.                         13.4\n",
      "==============================================================================\n",
      "\n",
      "Warnings:\n",
      "[1] Standard Errors assume that the covariance matrix of the errors is correctly specified.\n",
      "                             OLS Regression Results                            \n",
      "===============================================================================\n",
      "Dep. Variable:     Per_Thou_Inj_Change   R-squared:                       0.000\n",
      "Model:                             OLS   Adj. R-squared:                  0.000\n",
      "Method:                  Least Squares   F-statistic:                       inf\n",
      "Date:                 Fri, 09 Dec 2016   Prob (F-statistic):                nan\n",
      "Time:                         19:51:39   Log-Likelihood:                 10.141\n",
      "No. Observations:                    2   AIC:                            -18.28\n",
      "Df Residuals:                        1   BIC:                            -19.59\n",
      "Df Model:                            0                                         \n",
      "Covariance Type:             nonrobust                                         \n",
      "===================================================================================\n",
      "                      coef    std err          t      P>|t|      [95.0% Conf. Int.]\n",
      "-----------------------------------------------------------------------------------\n",
      "Intercept          -0.1016      0.001   -137.000      0.005        -0.111    -0.092\n",
      "Senior_Safety_c    -0.1041      0.001   -137.000      0.005        -0.114    -0.094\n",
      "==============================================================================\n",
      "Omnibus:                          nan   Durbin-Watson:                   2.000\n",
      "Prob(Omnibus):                    nan   Jarque-Bera (JB):                0.333\n",
      "Skew:                           0.000   Prob(JB):                        0.846\n",
      "Kurtosis:                       1.000   Cond. No.                          inf\n",
      "==============================================================================\n",
      "\n",
      "Warnings:\n",
      "[1] Standard Errors assume that the covariance matrix of the errors is correctly specified.\n",
      "[2] The smallest eigenvalue is      0. This might indicate that there are\n",
      "strong multicollinearity problems or that the design matrix is singular.\n",
      "                             OLS Regression Results                            \n",
      "===============================================================================\n",
      "Dep. Variable:     Per_Thou_Inj_Change   R-squared:                       0.007\n",
      "Model:                             OLS   Adj. R-squared:                 -0.004\n",
      "Method:                  Least Squares   F-statistic:                    0.6719\n",
      "Date:                 Fri, 09 Dec 2016   Prob (F-statistic):              0.415\n",
      "Time:                         19:51:39   Log-Likelihood:                 92.261\n",
      "No. Observations:                   92   AIC:                            -180.5\n",
      "Df Residuals:                       90   BIC:                            -175.5\n",
      "Df Model:                            1                                         \n",
      "Covariance Type:             nonrobust                                         \n",
      "=====================================================================================\n",
      "                        coef    std err          t      P>|t|      [95.0% Conf. Int.]\n",
      "-------------------------------------------------------------------------------------\n",
      "Intercept            -0.0726      0.015     -4.810      0.000        -0.103    -0.043\n",
      "Traffic_Calming_c    -0.0010      0.001     -0.820      0.415        -0.003     0.001\n",
      "==============================================================================\n",
      "Omnibus:                        4.084   Durbin-Watson:                   1.633\n",
      "Prob(Omnibus):                  0.130   Jarque-Bera (JB):                3.809\n",
      "Skew:                           0.498   Prob(JB):                        0.149\n",
      "Kurtosis:                       2.995   Cond. No.                         20.0\n",
      "==============================================================================\n",
      "\n",
      "Warnings:\n",
      "[1] Standard Errors assume that the covariance matrix of the errors is correctly specified.\n",
      "                             OLS Regression Results                            \n",
      "===============================================================================\n",
      "Dep. Variable:     Per_Thou_Inj_Change   R-squared:                       0.033\n",
      "Model:                             OLS   Adj. R-squared:                 -0.209\n",
      "Method:                  Least Squares   F-statistic:                    0.1372\n",
      "Date:                 Fri, 09 Dec 2016   Prob (F-statistic):              0.730\n",
      "Time:                         19:51:39   Log-Likelihood:                 14.692\n",
      "No. Observations:                    6   AIC:                            -25.38\n",
      "Df Residuals:                        4   BIC:                            -25.80\n",
      "Df Model:                            1                                         \n",
      "Covariance Type:             nonrobust                                         \n",
      "==========================================================================================\n",
      "                             coef    std err          t      P>|t|      [95.0% Conf. Int.]\n",
      "------------------------------------------------------------------------------------------\n",
      "Intercept                 -0.1244      0.028     -4.385      0.012        -0.203    -0.046\n",
      "Traffic_Network_Chng_c     0.0019      0.005      0.370      0.730        -0.013     0.016\n",
      "==============================================================================\n",
      "Omnibus:                          nan   Durbin-Watson:                   2.772\n",
      "Prob(Omnibus):                    nan   Jarque-Bera (JB):                0.359\n",
      "Skew:                           0.398   Prob(JB):                        0.836\n",
      "Kurtosis:                       2.104   Cond. No.                         15.1\n",
      "==============================================================================\n",
      "\n",
      "Warnings:\n",
      "[1] Standard Errors assume that the covariance matrix of the errors is correctly specified.\n",
      "                             OLS Regression Results                            \n",
      "===============================================================================\n",
      "Dep. Variable:     Per_Thou_Inj_Change   R-squared:                       0.047\n",
      "Model:                             OLS   Adj. R-squared:                 -0.032\n",
      "Method:                  Least Squares   F-statistic:                    0.5937\n",
      "Date:                 Fri, 09 Dec 2016   Prob (F-statistic):              0.456\n",
      "Time:                         19:51:39   Log-Likelihood:                 12.959\n",
      "No. Observations:                   14   AIC:                            -21.92\n",
      "Df Residuals:                       12   BIC:                            -20.64\n",
      "Df Model:                            1                                         \n",
      "Covariance Type:             nonrobust                                         \n",
      "==============================================================================\n",
      "                 coef    std err          t      P>|t|      [95.0% Conf. Int.]\n",
      "------------------------------------------------------------------------------\n",
      "Intercept     -0.0492      0.072     -0.679      0.510        -0.207     0.108\n",
      "Bikes_c       -0.0069      0.009     -0.770      0.456        -0.026     0.013\n",
      "==============================================================================\n",
      "Omnibus:                        0.411   Durbin-Watson:                   1.278\n",
      "Prob(Omnibus):                  0.814   Jarque-Bera (JB):                0.456\n",
      "Skew:                           0.323   Prob(JB):                        0.796\n",
      "Kurtosis:                       2.397   Cond. No.                         21.5\n",
      "==============================================================================\n",
      "\n",
      "Warnings:\n",
      "[1] Standard Errors assume that the covariance matrix of the errors is correctly specified.\n",
      "                             OLS Regression Results                            \n",
      "===============================================================================\n",
      "Dep. Variable:     Per_Thou_Inj_Change   R-squared:                       0.042\n",
      "Model:                             OLS   Adj. R-squared:                 -0.077\n",
      "Method:                  Least Squares   F-statistic:                    0.3542\n",
      "Date:                 Fri, 09 Dec 2016   Prob (F-statistic):              0.568\n",
      "Time:                         19:51:39   Log-Likelihood:                 13.639\n",
      "No. Observations:                   10   AIC:                            -23.28\n",
      "Df Residuals:                        8   BIC:                            -22.67\n",
      "Df Model:                            1                                         \n",
      "Covariance Type:             nonrobust                                         \n",
      "=======================================================================================\n",
      "                          coef    std err          t      P>|t|      [95.0% Conf. Int.]\n",
      "---------------------------------------------------------------------------------------\n",
      "Intercept              -0.0870      0.027     -3.256      0.012        -0.149    -0.025\n",
      "Pedestrian_Safety_i     0.0040      0.007      0.595      0.568        -0.011     0.019\n",
      "==============================================================================\n",
      "Omnibus:                        2.062   Durbin-Watson:                   2.089\n",
      "Prob(Omnibus):                  0.357   Jarque-Bera (JB):                0.793\n",
      "Skew:                           0.688   Prob(JB):                        0.673\n",
      "Kurtosis:                       2.911   Cond. No.                         4.98\n",
      "==============================================================================\n",
      "\n",
      "Warnings:\n",
      "[1] Standard Errors assume that the covariance matrix of the errors is correctly specified.\n",
      "                             OLS Regression Results                            \n",
      "===============================================================================\n",
      "Dep. Variable:     Per_Thou_Inj_Change   R-squared:                       0.000\n",
      "Model:                             OLS   Adj. R-squared:                  0.000\n",
      "Method:                  Least Squares   F-statistic:                       inf\n",
      "Date:                 Fri, 09 Dec 2016   Prob (F-statistic):                nan\n",
      "Time:                         19:51:39   Log-Likelihood:                 4.7017\n",
      "No. Observations:                    2   AIC:                            -7.403\n",
      "Df Residuals:                        1   BIC:                            -8.710\n",
      "Df Model:                            0                                         \n",
      "Covariance Type:             nonrobust                                         \n",
      "===================================================================================\n",
      "                      coef    std err          t      P>|t|      [95.0% Conf. Int.]\n",
      "-----------------------------------------------------------------------------------\n",
      "Intercept          -0.0874      0.023     -3.857      0.161        -0.375     0.201\n",
      "Senior_Safety_i    -0.0116      0.003     -3.857      0.161        -0.050     0.027\n",
      "==============================================================================\n",
      "Omnibus:                          nan   Durbin-Watson:                   2.000\n",
      "Prob(Omnibus):                    nan   Jarque-Bera (JB):                0.333\n",
      "Skew:                           0.000   Prob(JB):                        0.846\n",
      "Kurtosis:                       1.000   Cond. No.                          inf\n",
      "==============================================================================\n",
      "\n",
      "Warnings:\n",
      "[1] Standard Errors assume that the covariance matrix of the errors is correctly specified.\n",
      "[2] The smallest eigenvalue is      0. This might indicate that there are\n",
      "strong multicollinearity problems or that the design matrix is singular.\n",
      "                             OLS Regression Results                            \n",
      "===============================================================================\n",
      "Dep. Variable:     Per_Thou_Inj_Change   R-squared:                       0.116\n",
      "Model:                             OLS   Adj. R-squared:                  0.090\n",
      "Method:                  Least Squares   F-statistic:                     4.479\n",
      "Date:                 Fri, 09 Dec 2016   Prob (F-statistic):             0.0417\n",
      "Time:                         19:51:39   Log-Likelihood:                 41.085\n",
      "No. Observations:                   36   AIC:                            -78.17\n",
      "Df Residuals:                       34   BIC:                            -75.00\n",
      "Df Model:                            1                                         \n",
      "Covariance Type:             nonrobust                                         \n",
      "=====================================================================================\n",
      "                        coef    std err          t      P>|t|      [95.0% Conf. Int.]\n",
      "-------------------------------------------------------------------------------------\n",
      "Intercept            -0.0325      0.019     -1.724      0.094        -0.071     0.006\n",
      "Traffic_Calming_i    -0.0336      0.016     -2.116      0.042        -0.066    -0.001\n",
      "==============================================================================\n",
      "Omnibus:                        0.495   Durbin-Watson:                   1.753\n",
      "Prob(Omnibus):                  0.781   Jarque-Bera (JB):                0.497\n",
      "Skew:                           0.252   Prob(JB):                        0.780\n",
      "Kurtosis:                       2.723   Cond. No.                         2.49\n",
      "==============================================================================\n",
      "\n",
      "Warnings:\n",
      "[1] Standard Errors assume that the covariance matrix of the errors is correctly specified.\n",
      "                             OLS Regression Results                            \n",
      "===============================================================================\n",
      "Dep. Variable:     Per_Thou_Inj_Change   R-squared:                       0.555\n",
      "Model:                             OLS   Adj. R-squared:                  0.444\n",
      "Method:                  Least Squares   F-statistic:                     4.992\n",
      "Date:                 Fri, 09 Dec 2016   Prob (F-statistic):             0.0892\n",
      "Time:                         19:51:39   Log-Likelihood:                 8.7615\n",
      "No. Observations:                    6   AIC:                            -13.52\n",
      "Df Residuals:                        4   BIC:                            -13.94\n",
      "Df Model:                            1                                         \n",
      "Covariance Type:             nonrobust                                         \n",
      "==========================================================================================\n",
      "                             coef    std err          t      P>|t|      [95.0% Conf. Int.]\n",
      "------------------------------------------------------------------------------------------\n",
      "Intercept                 -0.3610      0.135     -2.680      0.055        -0.735     0.013\n",
      "Traffic_Network_Chng_i     0.4862      0.218      2.234      0.089        -0.118     1.090\n",
      "==============================================================================\n",
      "Omnibus:                          nan   Durbin-Watson:                   1.978\n",
      "Prob(Omnibus):                    nan   Jarque-Bera (JB):                0.616\n",
      "Skew:                           0.117   Prob(JB):                        0.735\n",
      "Kurtosis:                       1.448   Cond. No.                         10.6\n",
      "==============================================================================\n",
      "\n",
      "Warnings:\n",
      "[1] Standard Errors assume that the covariance matrix of the errors is correctly specified.\n"
     ]
    },
    {
     "name": "stderr",
     "output_type": "stream",
     "text": [
      "/opt/rh/anaconda/root/lib/python2.7/site-packages/statsmodels/stats/stattools.py:72: UserWarning: omni_normtest is not valid with less than 8 observations; 6 samples were given.\n",
      "  \"samples were given.\" % int(n))\n",
      "/opt/rh/anaconda/root/lib/python2.7/site-packages/scipy/stats/stats.py:1327: UserWarning: kurtosistest only valid for n>=20 ... continuing anyway, n=14\n",
      "  \"anyway, n=%i\" % int(n))\n"
     ]
    }
   ],
   "source": [
    "for design in street_design: \n",
    "    equation = 'Per_Thou_Inj_Change ~ ' + design\n",
    "    lm = smf.ols(equation, data6[data6[design] > 0]).fit()\n",
    "    print lm.summary()"
   ]
  },
  {
   "cell_type": "code",
   "execution_count": 2075,
   "metadata": {
    "collapsed": false
   },
   "outputs": [
    {
     "data": {
      "text/html": [
       "<table class=\"simpletable\">\n",
       "<caption>OLS Regression Results</caption>\n",
       "<tr>\n",
       "  <th>Dep. Variable:</th>    <td>Per_Thou_Inj_Change</td> <th>  R-squared:         </th> <td>   0.116</td>\n",
       "</tr>\n",
       "<tr>\n",
       "  <th>Model:</th>                    <td>OLS</td>         <th>  Adj. R-squared:    </th> <td>   0.090</td>\n",
       "</tr>\n",
       "<tr>\n",
       "  <th>Method:</th>              <td>Least Squares</td>    <th>  F-statistic:       </th> <td>   4.479</td>\n",
       "</tr>\n",
       "<tr>\n",
       "  <th>Date:</th>              <td>Fri, 09 Dec 2016</td>   <th>  Prob (F-statistic):</th>  <td>0.0417</td> \n",
       "</tr>\n",
       "<tr>\n",
       "  <th>Time:</th>                  <td>20:34:28</td>       <th>  Log-Likelihood:    </th> <td>  41.085</td>\n",
       "</tr>\n",
       "<tr>\n",
       "  <th>No. Observations:</th>       <td>    36</td>        <th>  AIC:               </th> <td>  -78.17</td>\n",
       "</tr>\n",
       "<tr>\n",
       "  <th>Df Residuals:</th>           <td>    34</td>        <th>  BIC:               </th> <td>  -75.00</td>\n",
       "</tr>\n",
       "<tr>\n",
       "  <th>Df Model:</th>               <td>     1</td>        <th>                     </th>     <td> </td>   \n",
       "</tr>\n",
       "<tr>\n",
       "  <th>Covariance Type:</th>       <td>nonrobust</td>      <th>                     </th>     <td> </td>   \n",
       "</tr>\n",
       "</table>\n",
       "<table class=\"simpletable\">\n",
       "<tr>\n",
       "          <td></td>             <th>coef</th>     <th>std err</th>      <th>t</th>      <th>P>|t|</th> <th>[95.0% Conf. Int.]</th> \n",
       "</tr>\n",
       "<tr>\n",
       "  <th>Intercept</th>         <td>   -0.0325</td> <td>    0.019</td> <td>   -1.724</td> <td> 0.094</td> <td>   -0.071     0.006</td>\n",
       "</tr>\n",
       "<tr>\n",
       "  <th>Traffic_Calming_i</th> <td>   -0.0336</td> <td>    0.016</td> <td>   -2.116</td> <td> 0.042</td> <td>   -0.066    -0.001</td>\n",
       "</tr>\n",
       "</table>\n",
       "<table class=\"simpletable\">\n",
       "<tr>\n",
       "  <th>Omnibus:</th>       <td> 0.495</td> <th>  Durbin-Watson:     </th> <td>   1.753</td>\n",
       "</tr>\n",
       "<tr>\n",
       "  <th>Prob(Omnibus):</th> <td> 0.781</td> <th>  Jarque-Bera (JB):  </th> <td>   0.497</td>\n",
       "</tr>\n",
       "<tr>\n",
       "  <th>Skew:</th>          <td> 0.252</td> <th>  Prob(JB):          </th> <td>   0.780</td>\n",
       "</tr>\n",
       "<tr>\n",
       "  <th>Kurtosis:</th>      <td> 2.723</td> <th>  Cond. No.          </th> <td>    2.49</td>\n",
       "</tr>\n",
       "</table>"
      ],
      "text/plain": [
       "<class 'statsmodels.iolib.summary.Summary'>\n",
       "\"\"\"\n",
       "                             OLS Regression Results                            \n",
       "===============================================================================\n",
       "Dep. Variable:     Per_Thou_Inj_Change   R-squared:                       0.116\n",
       "Model:                             OLS   Adj. R-squared:                  0.090\n",
       "Method:                  Least Squares   F-statistic:                     4.479\n",
       "Date:                 Fri, 09 Dec 2016   Prob (F-statistic):             0.0417\n",
       "Time:                         20:34:28   Log-Likelihood:                 41.085\n",
       "No. Observations:                   36   AIC:                            -78.17\n",
       "Df Residuals:                       34   BIC:                            -75.00\n",
       "Df Model:                            1                                         \n",
       "Covariance Type:             nonrobust                                         \n",
       "=====================================================================================\n",
       "                        coef    std err          t      P>|t|      [95.0% Conf. Int.]\n",
       "-------------------------------------------------------------------------------------\n",
       "Intercept            -0.0325      0.019     -1.724      0.094        -0.071     0.006\n",
       "Traffic_Calming_i    -0.0336      0.016     -2.116      0.042        -0.066    -0.001\n",
       "==============================================================================\n",
       "Omnibus:                        0.495   Durbin-Watson:                   1.753\n",
       "Prob(Omnibus):                  0.781   Jarque-Bera (JB):                0.497\n",
       "Skew:                           0.252   Prob(JB):                        0.780\n",
       "Kurtosis:                       2.723   Cond. No.                         2.49\n",
       "==============================================================================\n",
       "\n",
       "Warnings:\n",
       "[1] Standard Errors assume that the covariance matrix of the errors is correctly specified.\n",
       "\"\"\""
      ]
     },
     "execution_count": 2075,
     "metadata": {},
     "output_type": "execute_result"
    }
   ],
   "source": [
    "lm = smf.ols('Per_Thou_Inj_Change ~ Traffic_Calming_i', data = data6[data6.Traffic_Calming_i >0]).fit()\n",
    "lm.summary()"
   ]
  },
  {
   "cell_type": "code",
   "execution_count": 2084,
   "metadata": {
    "collapsed": false
   },
   "outputs": [
    {
     "name": "stderr",
     "output_type": "stream",
     "text": [
      "/opt/rh/anaconda/root/lib/python2.7/site-packages/ipykernel/__main__.py:1: SettingWithCopyWarning: \n",
      "A value is trying to be set on a copy of a slice from a DataFrame.\n",
      "Try using .loc[row_indexer,col_indexer] = value instead\n",
      "\n",
      "See the caveats in the documentation: http://pandas.pydata.org/pandas-docs/stable/indexing.html#indexing-view-versus-copy\n",
      "  if __name__ == '__main__':\n"
     ]
    }
   ],
   "source": [
    "above_thresh['Pop_Dens'] = above_thresh.Total_Pop / above_thresh.Shape_Area / 1000"
   ]
  },
  {
   "cell_type": "code",
   "execution_count": 2093,
   "metadata": {
    "collapsed": false
   },
   "outputs": [
    {
     "data": {
      "text/html": [
       "<table class=\"simpletable\">\n",
       "<caption>OLS Regression Results</caption>\n",
       "<tr>\n",
       "  <th>Dep. Variable:</th>    <td>standardized_injuries</td> <th>  R-squared:         </th> <td>   0.274</td>\n",
       "</tr>\n",
       "<tr>\n",
       "  <th>Model:</th>                     <td>OLS</td>          <th>  Adj. R-squared:    </th> <td>   0.230</td>\n",
       "</tr>\n",
       "<tr>\n",
       "  <th>Method:</th>               <td>Least Squares</td>     <th>  F-statistic:       </th> <td>   6.308</td>\n",
       "</tr>\n",
       "<tr>\n",
       "  <th>Date:</th>               <td>Fri, 09 Dec 2016</td>    <th>  Prob (F-statistic):</th> <td>0.000228</td>\n",
       "</tr>\n",
       "<tr>\n",
       "  <th>Time:</th>                   <td>21:00:27</td>        <th>  Log-Likelihood:    </th> <td> -98.800</td>\n",
       "</tr>\n",
       "<tr>\n",
       "  <th>No. Observations:</th>        <td>    72</td>         <th>  AIC:               </th> <td>   207.6</td>\n",
       "</tr>\n",
       "<tr>\n",
       "  <th>Df Residuals:</th>            <td>    67</td>         <th>  BIC:               </th> <td>   219.0</td>\n",
       "</tr>\n",
       "<tr>\n",
       "  <th>Df Model:</th>                <td>     4</td>         <th>                     </th>     <td> </td>   \n",
       "</tr>\n",
       "<tr>\n",
       "  <th>Covariance Type:</th>        <td>nonrobust</td>       <th>                     </th>     <td> </td>   \n",
       "</tr>\n",
       "</table>\n",
       "<table class=\"simpletable\">\n",
       "<tr>\n",
       "          <td></td>             <th>coef</th>     <th>std err</th>      <th>t</th>      <th>P>|t|</th> <th>[95.0% Conf. Int.]</th> \n",
       "</tr>\n",
       "<tr>\n",
       "  <th>Intercept</th>         <td>    1.0912</td> <td>    0.257</td> <td>    4.252</td> <td> 0.000</td> <td>    0.579     1.603</td>\n",
       "</tr>\n",
       "<tr>\n",
       "  <th>Pop_Dens</th>          <td>   -0.0123</td> <td>    0.006</td> <td>   -2.175</td> <td> 0.033</td> <td>   -0.024    -0.001</td>\n",
       "</tr>\n",
       "<tr>\n",
       "  <th>Speed_Bump_Total</th>  <td>   -0.1067</td> <td>    0.051</td> <td>   -2.096</td> <td> 0.040</td> <td>   -0.208    -0.005</td>\n",
       "</tr>\n",
       "<tr>\n",
       "  <th>Traffic_Calming_i</th> <td>    0.5426</td> <td>    0.237</td> <td>    2.286</td> <td> 0.025</td> <td>    0.069     1.016</td>\n",
       "</tr>\n",
       "<tr>\n",
       "  <th>Bikes_c</th>           <td>   -0.1350</td> <td>    0.038</td> <td>   -3.540</td> <td> 0.001</td> <td>   -0.211    -0.059</td>\n",
       "</tr>\n",
       "</table>\n",
       "<table class=\"simpletable\">\n",
       "<tr>\n",
       "  <th>Omnibus:</th>       <td>25.184</td> <th>  Durbin-Watson:     </th> <td>   1.268</td>\n",
       "</tr>\n",
       "<tr>\n",
       "  <th>Prob(Omnibus):</th> <td> 0.000</td> <th>  Jarque-Bera (JB):  </th> <td>  38.956</td>\n",
       "</tr>\n",
       "<tr>\n",
       "  <th>Skew:</th>          <td> 1.379</td> <th>  Prob(JB):          </th> <td>3.47e-09</td>\n",
       "</tr>\n",
       "<tr>\n",
       "  <th>Kurtosis:</th>      <td> 5.318</td> <th>  Cond. No.          </th> <td>    102.</td>\n",
       "</tr>\n",
       "</table>"
      ],
      "text/plain": [
       "<class 'statsmodels.iolib.summary.Summary'>\n",
       "\"\"\"\n",
       "                              OLS Regression Results                             \n",
       "=================================================================================\n",
       "Dep. Variable:     standardized_injuries   R-squared:                       0.274\n",
       "Model:                               OLS   Adj. R-squared:                  0.230\n",
       "Method:                    Least Squares   F-statistic:                     6.308\n",
       "Date:                   Fri, 09 Dec 2016   Prob (F-statistic):           0.000228\n",
       "Time:                           21:00:27   Log-Likelihood:                -98.800\n",
       "No. Observations:                     72   AIC:                             207.6\n",
       "Df Residuals:                         67   BIC:                             219.0\n",
       "Df Model:                              4                                         \n",
       "Covariance Type:               nonrobust                                         \n",
       "=====================================================================================\n",
       "                        coef    std err          t      P>|t|      [95.0% Conf. Int.]\n",
       "-------------------------------------------------------------------------------------\n",
       "Intercept             1.0912      0.257      4.252      0.000         0.579     1.603\n",
       "Pop_Dens             -0.0123      0.006     -2.175      0.033        -0.024    -0.001\n",
       "Speed_Bump_Total     -0.1067      0.051     -2.096      0.040        -0.208    -0.005\n",
       "Traffic_Calming_i     0.5426      0.237      2.286      0.025         0.069     1.016\n",
       "Bikes_c              -0.1350      0.038     -3.540      0.001        -0.211    -0.059\n",
       "==============================================================================\n",
       "Omnibus:                       25.184   Durbin-Watson:                   1.268\n",
       "Prob(Omnibus):                  0.000   Jarque-Bera (JB):               38.956\n",
       "Skew:                           1.379   Prob(JB):                     3.47e-09\n",
       "Kurtosis:                       5.318   Cond. No.                         102.\n",
       "==============================================================================\n",
       "\n",
       "Warnings:\n",
       "[1] Standard Errors assume that the covariance matrix of the errors is correctly specified.\n",
       "\"\"\""
      ]
     },
     "execution_count": 2093,
     "metadata": {},
     "output_type": "execute_result"
    }
   ],
   "source": [
    "lm = smf.ols('standardized_injuries ~ Pop_Dens + Speed_Bump_Total + Traffic_Calming_i + Bikes_c', data7).fit()\n",
    "lm.summary()"
   ]
  },
  {
   "cell_type": "code",
   "execution_count": 2086,
   "metadata": {
    "collapsed": false
   },
   "outputs": [
    {
     "data": {
      "text/plain": [
       "0      31.294416\n",
       "1      31.294416\n",
       "2      31.294416\n",
       "3      30.159623\n",
       "4      30.159623\n",
       "5      30.159623\n",
       "6      29.505852\n",
       "7      29.505852\n",
       "8      29.505852\n",
       "9      49.617901\n",
       "10     49.617901\n",
       "11     49.617901\n",
       "12     25.253405\n",
       "13     25.253405\n",
       "14     25.253405\n",
       "15     42.933673\n",
       "16     42.933673\n",
       "17     42.933673\n",
       "18     82.955788\n",
       "19     82.955788\n",
       "20     82.955788\n",
       "21     20.784179\n",
       "22     20.784179\n",
       "23     20.784179\n",
       "24     46.229287\n",
       "25     46.229287\n",
       "26     46.229287\n",
       "27     37.893001\n",
       "28     37.893001\n",
       "29     37.893001\n",
       "         ...    \n",
       "201    21.086200\n",
       "202    21.086200\n",
       "203    21.086200\n",
       "204    99.611034\n",
       "205    99.611034\n",
       "206    99.611034\n",
       "207    57.907496\n",
       "208    57.907496\n",
       "209    57.907496\n",
       "210    42.350991\n",
       "211    42.350991\n",
       "212    42.350991\n",
       "213    32.973566\n",
       "214    32.973566\n",
       "215    32.973566\n",
       "216    62.957534\n",
       "217    62.957534\n",
       "218    62.957534\n",
       "219    23.894052\n",
       "220    23.894052\n",
       "221    23.894052\n",
       "222    12.468349\n",
       "223    12.468349\n",
       "224    12.468349\n",
       "225    99.046059\n",
       "226    99.046059\n",
       "227    99.046059\n",
       "228    60.486371\n",
       "229    60.486371\n",
       "230    60.486371\n",
       "Name: Pop_Dens, dtype: float64"
      ]
     },
     "execution_count": 2086,
     "metadata": {},
     "output_type": "execute_result"
    }
   ],
   "source": [
    "above_thresh.Pop_Dens"
   ]
  },
  {
   "cell_type": "code",
   "execution_count": null,
   "metadata": {
    "collapsed": true
   },
   "outputs": [],
   "source": []
  }
 ],
 "metadata": {
  "kernelspec": {
   "display_name": "Python 2",
   "language": "python",
   "name": "python2"
  },
  "language_info": {
   "codemirror_mode": {
    "name": "ipython",
    "version": 2
   },
   "file_extension": ".py",
   "mimetype": "text/x-python",
   "name": "python",
   "nbconvert_exporter": "python",
   "pygments_lexer": "ipython2",
   "version": "2.7.11"
  }
 },
 "nbformat": 4,
 "nbformat_minor": 0
}
