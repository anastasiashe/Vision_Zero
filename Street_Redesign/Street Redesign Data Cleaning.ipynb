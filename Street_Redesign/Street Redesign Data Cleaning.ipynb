{
 "cells": [
  {
   "cell_type": "code",
   "execution_count": 1,
   "metadata": {
    "collapsed": false
   },
   "outputs": [
    {
     "name": "stdout",
     "output_type": "stream",
     "text": [
      "Populating the interactive namespace from numpy and matplotlib\n"
     ]
    }
   ],
   "source": [
    "from __future__ import print_function, division\n",
    "import numpy as np\n",
    "import geopandas as gp\n",
    "import pandas as pd\n",
    "import json \n",
    "import pylab as pl \n",
    "import datetime \n",
    "import shapely\n",
    "import os\n",
    "import sys\n",
    "import zipfile\n",
    "\n",
    "%pylab inline"
   ]
  },
  {
   "cell_type": "markdown",
   "metadata": {},
   "source": [
    "VZ priority corridors, intersection and zone have not yet been read in. I believe those are areas that were identified as in need of help, but any help would be seen in the jsons for the actual improvements(?) \n",
    "http://www.nyc.gov/html/dot/downloads/misc/leading_pedestrian_interval_signals_shapefile.zip"
   ]
  },
  {
   "cell_type": "code",
   "execution_count": 344,
   "metadata": {
    "collapsed": true
   },
   "outputs": [],
   "source": [
    "# NYC high crash corriders, leading pedestrian signals, slow zones, safe streets, speed bumps, improvements\n",
    "improvements = ['arterial_slow_zones', 'leading_pedestrian_interval_signals', 'neighborhood_slow_zones', \n",
    "                'safe_streets_for_seniors', 'speed_bumps', 'street_improvement_projects_intersections', \n",
    "                'street_improvement_projects_corridors']\n"
   ]
  },
  {
   "cell_type": "code",
   "execution_count": 345,
   "metadata": {
    "collapsed": true
   },
   "outputs": [],
   "source": [
    "for improvement in improvements:\n",
    "    '''collects and unzips shapefiles '''\n",
    "    url_begin = 'http://www.nyc.gov/html/dot/downloads/misc/'\n",
    "    url_end = '_shapefile.zip'\n",
    "    os.system('! curl -O ' + url_begin + improvement + url_end)\n",
    "\n",
    "    \n",
    "for improvement in improvements:\n",
    "    \n",
    "    zip_ref = zipfile.ZipFile(improvement + url_end, 'r')\n",
    "    zip_ref.extractall('VZ_data/')\n",
    "    zip_ref.close()\n",
    "    os.system('mv ' + improvement + url_end + ' ' + 'VZ_data/')\n",
    "   "
   ]
  },
  {
   "cell_type": "code",
   "execution_count": 346,
   "metadata": {
    "collapsed": true
   },
   "outputs": [],
   "source": [
    "def dataframe_it(improvement):\n",
    "    '''takes improvement, returns geodataframe'''\n",
    "    try:\n",
    "        df = gp.GeoDataFrame.from_file('VZ_data/' + improvement.title() + '/' + improvement.title() + '.shp')\n",
    "    except:\n",
    "        \n",
    "        if improvement == 'speed_bumps':\n",
    "            df = gp.GeoDataFrame.from_file('VZ_data/' + 'speed_bumps_2014.shp')\n",
    "        elif improvement == 'street_improvement_projects_intersections':\n",
    "            df = gp.GeoDataFrame.from_file('VZ_data/' + 'street_improvement_projects_2013_2014_intersections.shp')\n",
    "        elif improvement == 'street_improvement_projects_corridors':\n",
    "            df = gp.GeoDataFrame.from_file('VZ_data/' + 'street_improvement_projects_2013_2014_corridors.shp')\n",
    "        else:\n",
    "            df = gp.GeoDataFrame.from_file('VZ_data/' + improvement + '.shp')\n",
    "    return df     "
   ]
  },
  {
   "cell_type": "code",
   "execution_count": 347,
   "metadata": {
    "collapsed": true
   },
   "outputs": [],
   "source": [
    "arterial_slow_zone = dataframe_it(improvements[0])\n",
    "ped_signals = dataframe_it(improvements[1])\n",
    "neigh_slow_zone = dataframe_it(improvements[2])\n",
    "sr_safe_strs = dataframe_it(improvements[3])\n",
    "speed_bumps = dataframe_it(improvements[4])\n",
    "intersec_proj = dataframe_it(improvements[5])\n",
    "corridor_proj = dataframe_it(improvements[6])"
   ]
  },
  {
   "cell_type": "code",
   "execution_count": 348,
   "metadata": {
    "collapsed": false
   },
   "outputs": [
    {
     "name": "stdout",
     "output_type": "stream",
     "text": [
      "  % Total    % Received % Xferd  Average Speed   Time    Time     Time  Current\n",
      "                                 Dload  Upload   Total   Spent    Left  Speed\n",
      "100 1003k  100 1003k    0     0  4295k      0 --:--:-- --:--:-- --:--:-- 4421k\n"
     ]
    },
    {
     "data": {
      "text/plain": [
       "0"
      ]
     },
     "execution_count": 348,
     "metadata": {},
     "output_type": "execute_result"
    }
   ],
   "source": [
    "! curl -O http://www.nyc.gov/html/dot/downloads/misc/summary_police_precincts.zip\n",
    "zip_ref = zipfile.ZipFile('summary_police_precincts.zip', 'r')\n",
    "zip_ref.extractall('VZ_data/Precincts')\n",
    "zip_ref.close()\n",
    "os.system('mv ' + 'summary_police_precincts.zip ' + 'VZ_data/')"
   ]
  },
  {
   "cell_type": "code",
   "execution_count": 3,
   "metadata": {
    "collapsed": false
   },
   "outputs": [],
   "source": [
    "precincts = gp.GeoDataFrame.from_file(os.getenv('HOME') + '/Applied_Data_Science/VZ_data/Precincts/summary_police_precincts.shp')"
   ]
  },
  {
   "cell_type": "code",
   "execution_count": 16,
   "metadata": {
    "collapsed": false,
    "scrolled": true
   },
   "outputs": [],
   "source": [
    "precincts_shp = precincts.drop([u'Ages_10_to', u'Ages_15_to', u'Ages_18_an', u'Ages_20_to',\n",
    "       u'Ages_25_to', u'Ages_45_to', u'Ages_5_to_', u'Ages_65_an',\n",
    "       u'Ages_Under',   u'Precinct',    u'SUM_ASZ', u'SUM_BikeFa',\n",
    "       u'SUM_BikeIn', u'SUM_Fatali', u'SUM_Injuri',    u'SUM_LPI',\n",
    "       u'SUM_MVOFat', u'SUM_MVOInj', u'SUM_NeighS', u'SUM_PedFat',\n",
    "       u'SUM_PedInj', u'SUM_SIPCor', u'SUM_SIPInt', u'SUM_Signal',\n",
    "       u'SUM_SpeedH', u'SUM_VZ_P_1', u'SUM_VZ_P_2', u'SUM_VZ_Pri'], axis = 1)"
   ]
  },
  {
   "cell_type": "code",
   "execution_count": 25,
   "metadata": {
    "collapsed": false
   },
   "outputs": [
    {
     "data": {
      "text/html": [
       "<div>\n",
       "<table border=\"1\" class=\"dataframe\">\n",
       "  <thead>\n",
       "    <tr style=\"text-align: right;\">\n",
       "      <th></th>\n",
       "      <th>Shape_Area</th>\n",
       "      <th>Shape_Le_1</th>\n",
       "      <th>Shape_Leng</th>\n",
       "      <th>Total_Pop</th>\n",
       "      <th>geometry</th>\n",
       "    </tr>\n",
       "  </thead>\n",
       "  <tbody>\n",
       "    <tr>\n",
       "      <th>0</th>\n",
       "      <td>4.718442e+07</td>\n",
       "      <td>79979.877206</td>\n",
       "      <td>79980.250460</td>\n",
       "      <td>66679.0</td>\n",
       "      <td>(POLYGON ((-73.99911824702795 40.7265423115276...</td>\n",
       "    </tr>\n",
       "    <tr>\n",
       "      <th>1</th>\n",
       "      <td>1.808651e+07</td>\n",
       "      <td>18676.887438</td>\n",
       "      <td>18676.887678</td>\n",
       "      <td>52587.0</td>\n",
       "      <td>POLYGON ((-73.98863862797603 40.72293371941717...</td>\n",
       "    </tr>\n",
       "    <tr>\n",
       "      <th>2</th>\n",
       "      <td>2.213190e+07</td>\n",
       "      <td>27182.397821</td>\n",
       "      <td>27182.687617</td>\n",
       "      <td>62226.0</td>\n",
       "      <td>POLYGON ((-73.99968392197817 40.73855224786502...</td>\n",
       "    </tr>\n",
       "    <tr>\n",
       "      <th>3</th>\n",
       "      <td>1.836303e+07</td>\n",
       "      <td>17301.484928</td>\n",
       "      <td>17301.492549</td>\n",
       "      <td>56336.0</td>\n",
       "      <td>POLYGON ((-73.973453241494 40.71896288616242, ...</td>\n",
       "    </tr>\n",
       "    <tr>\n",
       "      <th>4</th>\n",
       "      <td>2.139553e+07</td>\n",
       "      <td>19773.416893</td>\n",
       "      <td>19773.422085</td>\n",
       "      <td>76443.0</td>\n",
       "      <td>POLYGON ((-73.97160900220014 40.72672340009098...</td>\n",
       "    </tr>\n",
       "    <tr>\n",
       "      <th>5</th>\n",
       "      <td>2.722863e+07</td>\n",
       "      <td>40043.174972</td>\n",
       "      <td>40043.175251</td>\n",
       "      <td>50180.0</td>\n",
       "      <td>POLYGON ((-74.00138603716971 40.76285009377844...</td>\n",
       "    </tr>\n",
       "    <tr>\n",
       "      <th>6</th>\n",
       "      <td>2.950802e+07</td>\n",
       "      <td>27735.264626</td>\n",
       "      <td>27735.266468</td>\n",
       "      <td>93640.0</td>\n",
       "      <td>POLYGON ((-73.98155997054194 40.74388188225339...</td>\n",
       "    </tr>\n",
       "    <tr>\n",
       "      <th>7</th>\n",
       "      <td>2.051016e+07</td>\n",
       "      <td>20974.709394</td>\n",
       "      <td>20974.709243</td>\n",
       "      <td>20651.0</td>\n",
       "      <td>POLYGON ((-73.97464798041051 40.75336712161824...</td>\n",
       "    </tr>\n",
       "    <tr>\n",
       "      <th>8</th>\n",
       "      <td>2.227280e+07</td>\n",
       "      <td>25759.830638</td>\n",
       "      <td>25759.894553</td>\n",
       "      <td>79126.0</td>\n",
       "      <td>(POLYGON ((-73.96213559087609 40.7545732302261...</td>\n",
       "    </tr>\n",
       "    <tr>\n",
       "      <th>9</th>\n",
       "      <td>3.228033e+07</td>\n",
       "      <td>42179.884070</td>\n",
       "      <td>42179.905777</td>\n",
       "      <td>54066.0</td>\n",
       "      <td>POLYGON ((-73.99393666694623 40.77317984519032...</td>\n",
       "    </tr>\n",
       "    <tr>\n",
       "      <th>10</th>\n",
       "      <td>4.873740e+07</td>\n",
       "      <td>29563.041696</td>\n",
       "      <td>29563.145216</td>\n",
       "      <td>208259.0</td>\n",
       "      <td>(POLYGON ((-73.94390463960403 40.7828659662559...</td>\n",
       "    </tr>\n",
       "    <tr>\n",
       "      <th>11</th>\n",
       "      <td>2.767092e+07</td>\n",
       "      <td>27040.993411</td>\n",
       "      <td>27040.994421</td>\n",
       "      <td>102624.0</td>\n",
       "      <td>POLYGON ((-73.96933573453092 40.7852932783807,...</td>\n",
       "    </tr>\n",
       "    <tr>\n",
       "      <th>12</th>\n",
       "      <td>3.830173e+07</td>\n",
       "      <td>32701.343435</td>\n",
       "      <td>32701.343205</td>\n",
       "      <td>25.0</td>\n",
       "      <td>POLYGON ((-73.94923186039289 40.79687307057591...</td>\n",
       "    </tr>\n",
       "    <tr>\n",
       "      <th>13</th>\n",
       "      <td>2.146773e+07</td>\n",
       "      <td>19438.111994</td>\n",
       "      <td>19438.112089</td>\n",
       "      <td>73106.0</td>\n",
       "      <td>(POLYGON ((-73.93519039313171 40.7914711591927...</td>\n",
       "    </tr>\n",
       "    <tr>\n",
       "      <th>14</th>\n",
       "      <td>2.547961e+07</td>\n",
       "      <td>20706.912763</td>\n",
       "      <td>20706.913072</td>\n",
       "      <td>106460.0</td>\n",
       "      <td>POLYGON ((-73.95964685477222 40.80115642267543...</td>\n",
       "    </tr>\n",
       "    <tr>\n",
       "      <th>15</th>\n",
       "      <td>4.479286e+07</td>\n",
       "      <td>52200.143055</td>\n",
       "      <td>52200.205026</td>\n",
       "      <td>47405.0</td>\n",
       "      <td>(POLYGON ((-73.92133752439865 40.8008521064447...</td>\n",
       "    </tr>\n",
       "    <tr>\n",
       "      <th>16</th>\n",
       "      <td>2.383600e+07</td>\n",
       "      <td>23938.487979</td>\n",
       "      <td>23938.488675</td>\n",
       "      <td>49508.0</td>\n",
       "      <td>POLYGON ((-73.94607828714783 40.82126321506255...</td>\n",
       "    </tr>\n",
       "    <tr>\n",
       "      <th>17</th>\n",
       "      <td>1.528984e+07</td>\n",
       "      <td>17100.184612</td>\n",
       "      <td>17100.184325</td>\n",
       "      <td>44781.0</td>\n",
       "      <td>POLYGON ((-73.94131742355373 40.80771334575683...</td>\n",
       "    </tr>\n",
       "    <tr>\n",
       "      <th>18</th>\n",
       "      <td>1.883774e+07</td>\n",
       "      <td>21628.588458</td>\n",
       "      <td>21628.589420</td>\n",
       "      <td>60685.0</td>\n",
       "      <td>POLYGON ((-73.94016749551115 40.83038305378005...</td>\n",
       "    </tr>\n",
       "    <tr>\n",
       "      <th>19</th>\n",
       "      <td>2.300853e+07</td>\n",
       "      <td>25291.767517</td>\n",
       "      <td>25291.768488</td>\n",
       "      <td>70942.0</td>\n",
       "      <td>POLYGON ((-73.93444684696684 40.83599434715074...</td>\n",
       "    </tr>\n",
       "    <tr>\n",
       "      <th>20</th>\n",
       "      <td>2.586425e+07</td>\n",
       "      <td>21745.765297</td>\n",
       "      <td>21745.832461</td>\n",
       "      <td>76958.0</td>\n",
       "      <td>POLYGON ((-73.92928761358492 40.8458509859551,...</td>\n",
       "    </tr>\n",
       "    <tr>\n",
       "      <th>21</th>\n",
       "      <td>5.211370e+07</td>\n",
       "      <td>45565.734706</td>\n",
       "      <td>45567.020301</td>\n",
       "      <td>113062.0</td>\n",
       "      <td>POLYGON ((-73.92928761358492 40.8458509859551,...</td>\n",
       "    </tr>\n",
       "    <tr>\n",
       "      <th>22</th>\n",
       "      <td>6.040528e+07</td>\n",
       "      <td>33335.223260</td>\n",
       "      <td>33335.222802</td>\n",
       "      <td>91497.0</td>\n",
       "      <td>(POLYGON ((-73.9023144357958 40.80547700949571...</td>\n",
       "    </tr>\n",
       "    <tr>\n",
       "      <th>23</th>\n",
       "      <td>6.214350e+07</td>\n",
       "      <td>48015.182570</td>\n",
       "      <td>48015.324325</td>\n",
       "      <td>52246.0</td>\n",
       "      <td>(POLYGON ((-73.89385454230663 40.8273400360351...</td>\n",
       "    </tr>\n",
       "    <tr>\n",
       "      <th>24</th>\n",
       "      <td>4.481779e+07</td>\n",
       "      <td>33594.879412</td>\n",
       "      <td>33594.879603</td>\n",
       "      <td>79762.0</td>\n",
       "      <td>POLYGON ((-73.88066051337019 40.83749805125351...</td>\n",
       "    </tr>\n",
       "    <tr>\n",
       "      <th>25</th>\n",
       "      <td>1.133152e+08</td>\n",
       "      <td>61599.584290</td>\n",
       "      <td>61600.120275</td>\n",
       "      <td>172131.0</td>\n",
       "      <td>POLYGON ((-73.83979488528045 40.83561920606485...</td>\n",
       "    </tr>\n",
       "    <tr>\n",
       "      <th>26</th>\n",
       "      <td>5.553018e+07</td>\n",
       "      <td>31395.721434</td>\n",
       "      <td>31395.738889</td>\n",
       "      <td>147559.0</td>\n",
       "      <td>POLYGON ((-73.90270221313983 40.84458296285538...</td>\n",
       "    </tr>\n",
       "    <tr>\n",
       "      <th>27</th>\n",
       "      <td>2.715310e+08</td>\n",
       "      <td>309485.196887</td>\n",
       "      <td>309495.031906</td>\n",
       "      <td>120824.0</td>\n",
       "      <td>(POLYGON ((-73.80728647146366 40.8859318125758...</td>\n",
       "    </tr>\n",
       "    <tr>\n",
       "      <th>28</th>\n",
       "      <td>3.832345e+07</td>\n",
       "      <td>29611.719564</td>\n",
       "      <td>29611.718640</td>\n",
       "      <td>127082.0</td>\n",
       "      <td>POLYGON ((-73.89138023397183 40.86170058732228...</td>\n",
       "    </tr>\n",
       "    <tr>\n",
       "      <th>29</th>\n",
       "      <td>1.605433e+08</td>\n",
       "      <td>86535.926138</td>\n",
       "      <td>86535.925441</td>\n",
       "      <td>152374.0</td>\n",
       "      <td>(POLYGON ((-73.85107116245315 40.9103715195283...</td>\n",
       "    </tr>\n",
       "    <tr>\n",
       "      <th>...</th>\n",
       "      <td>...</td>\n",
       "      <td>...</td>\n",
       "      <td>...</td>\n",
       "      <td>...</td>\n",
       "      <td>...</td>\n",
       "    </tr>\n",
       "    <tr>\n",
       "      <th>47</th>\n",
       "      <td>4.823859e+07</td>\n",
       "      <td>68147.637263</td>\n",
       "      <td>68148.471618</td>\n",
       "      <td>43694.0</td>\n",
       "      <td>POLYGON ((-74.00174362165662 40.69240674861945...</td>\n",
       "    </tr>\n",
       "    <tr>\n",
       "      <th>48</th>\n",
       "      <td>4.264930e+07</td>\n",
       "      <td>34662.013278</td>\n",
       "      <td>34662.013282</td>\n",
       "      <td>96309.0</td>\n",
       "      <td>POLYGON ((-73.95829216826087 40.67983113247773...</td>\n",
       "    </tr>\n",
       "    <tr>\n",
       "      <th>49</th>\n",
       "      <td>6.768070e+07</td>\n",
       "      <td>39751.542553</td>\n",
       "      <td>39751.542790</td>\n",
       "      <td>61099.0</td>\n",
       "      <td>POLYGON ((-73.96753196700401 40.68176878282575...</td>\n",
       "    </tr>\n",
       "    <tr>\n",
       "      <th>50</th>\n",
       "      <td>4.497555e+07</td>\n",
       "      <td>28256.602427</td>\n",
       "      <td>28256.602113</td>\n",
       "      <td>90263.0</td>\n",
       "      <td>POLYGON ((-73.9385685479197 40.69884813503754,...</td>\n",
       "    </tr>\n",
       "    <tr>\n",
       "      <th>51</th>\n",
       "      <td>3.448543e+07</td>\n",
       "      <td>28386.719336</td>\n",
       "      <td>28386.719002</td>\n",
       "      <td>62722.0</td>\n",
       "      <td>(POLYGON ((-73.9166863834555 40.68037137760061...</td>\n",
       "    </tr>\n",
       "    <tr>\n",
       "      <th>52</th>\n",
       "      <td>5.665018e+07</td>\n",
       "      <td>36940.194550</td>\n",
       "      <td>36940.194808</td>\n",
       "      <td>112634.0</td>\n",
       "      <td>POLYGON ((-73.89658573318822 40.68236227294054...</td>\n",
       "    </tr>\n",
       "    <tr>\n",
       "      <th>53</th>\n",
       "      <td>3.546049e+07</td>\n",
       "      <td>38087.823553</td>\n",
       "      <td>38087.911611</td>\n",
       "      <td>48196.0</td>\n",
       "      <td>POLYGON ((-73.97902894535652 40.70594812600204...</td>\n",
       "    </tr>\n",
       "    <tr>\n",
       "      <th>54</th>\n",
       "      <td>4.239149e+07</td>\n",
       "      <td>53332.788828</td>\n",
       "      <td>53333.018333</td>\n",
       "      <td>51421.0</td>\n",
       "      <td>(POLYGON ((-73.97232032021519 40.7090828819009...</td>\n",
       "    </tr>\n",
       "    <tr>\n",
       "      <th>55</th>\n",
       "      <td>6.614982e+07</td>\n",
       "      <td>51508.535402</td>\n",
       "      <td>51508.534721</td>\n",
       "      <td>116836.0</td>\n",
       "      <td>POLYGON ((-73.92425716294554 40.71411945439134...</td>\n",
       "    </tr>\n",
       "    <tr>\n",
       "      <th>56</th>\n",
       "      <td>6.562999e+07</td>\n",
       "      <td>42426.665841</td>\n",
       "      <td>42426.664899</td>\n",
       "      <td>56247.0</td>\n",
       "      <td>POLYGON ((-73.92467622416378 40.71988569573419...</td>\n",
       "    </tr>\n",
       "    <tr>\n",
       "      <th>57</th>\n",
       "      <td>2.052746e+08</td>\n",
       "      <td>283834.658299</td>\n",
       "      <td>283837.901684</td>\n",
       "      <td>47913.0</td>\n",
       "      <td>(POLYGON ((-73.78625649035568 40.6031137282989...</td>\n",
       "    </tr>\n",
       "    <tr>\n",
       "      <th>58</th>\n",
       "      <td>8.486578e+07</td>\n",
       "      <td>78824.677816</td>\n",
       "      <td>78830.758545</td>\n",
       "      <td>67065.0</td>\n",
       "      <td>(POLYGON ((-73.76669139781445 40.6142546543648...</td>\n",
       "    </tr>\n",
       "    <tr>\n",
       "      <th>59</th>\n",
       "      <td>1.333145e+08</td>\n",
       "      <td>52865.281367</td>\n",
       "      <td>52865.281067</td>\n",
       "      <td>144215.0</td>\n",
       "      <td>POLYGON ((-73.81709738766487 40.70402979980382...</td>\n",
       "    </tr>\n",
       "    <tr>\n",
       "      <th>60</th>\n",
       "      <td>1.009216e+08</td>\n",
       "      <td>48549.937749</td>\n",
       "      <td>48549.937982</td>\n",
       "      <td>105803.0</td>\n",
       "      <td>POLYGON ((-73.75121247019587 40.70730657911722...</td>\n",
       "    </tr>\n",
       "    <tr>\n",
       "      <th>61</th>\n",
       "      <td>2.105047e+08</td>\n",
       "      <td>75785.946116</td>\n",
       "      <td>75785.945391</td>\n",
       "      <td>170190.0</td>\n",
       "      <td>POLYGON ((-73.88770199202723 40.73429132186019...</td>\n",
       "    </tr>\n",
       "    <tr>\n",
       "      <th>62</th>\n",
       "      <td>3.473398e+08</td>\n",
       "      <td>133249.119462</td>\n",
       "      <td>133249.269265</td>\n",
       "      <td>188671.0</td>\n",
       "      <td>POLYGON ((-73.7462986188188 40.63643879861394,...</td>\n",
       "    </tr>\n",
       "    <tr>\n",
       "      <th>63</th>\n",
       "      <td>1.724235e+08</td>\n",
       "      <td>102867.201556</td>\n",
       "      <td>102871.621192</td>\n",
       "      <td>122441.0</td>\n",
       "      <td>(POLYGON ((-73.82684395258889 40.6509062137648...</td>\n",
       "    </tr>\n",
       "    <tr>\n",
       "      <th>64</th>\n",
       "      <td>2.075012e+08</td>\n",
       "      <td>69289.885736</td>\n",
       "      <td>69289.883773</td>\n",
       "      <td>151107.0</td>\n",
       "      <td>POLYGON ((-73.75669771350219 40.7262287096782,...</td>\n",
       "    </tr>\n",
       "    <tr>\n",
       "      <th>65</th>\n",
       "      <td>1.396009e+08</td>\n",
       "      <td>73560.242958</td>\n",
       "      <td>73560.889040</td>\n",
       "      <td>113208.0</td>\n",
       "      <td>(POLYGON ((-73.94271928043447 40.7520369507914...</td>\n",
       "    </tr>\n",
       "    <tr>\n",
       "      <th>66</th>\n",
       "      <td>3.227558e+08</td>\n",
       "      <td>133159.667338</td>\n",
       "      <td>133161.650538</td>\n",
       "      <td>247354.0</td>\n",
       "      <td>POLYGON ((-73.77060974517663 40.7820797929614,...</td>\n",
       "    </tr>\n",
       "    <tr>\n",
       "      <th>67</th>\n",
       "      <td>1.121040e+08</td>\n",
       "      <td>72812.589567</td>\n",
       "      <td>72812.610864</td>\n",
       "      <td>172634.0</td>\n",
       "      <td>POLYGON ((-73.83591564925315 40.74343089283651...</td>\n",
       "    </tr>\n",
       "    <tr>\n",
       "      <th>68</th>\n",
       "      <td>2.603469e+08</td>\n",
       "      <td>97510.912640</td>\n",
       "      <td>97511.083314</td>\n",
       "      <td>116431.0</td>\n",
       "      <td>POLYGON ((-73.71351828247589 40.75983773009175...</td>\n",
       "    </tr>\n",
       "    <tr>\n",
       "      <th>69</th>\n",
       "      <td>8.894508e+07</td>\n",
       "      <td>41644.035729</td>\n",
       "      <td>41644.036156</td>\n",
       "      <td>112070.0</td>\n",
       "      <td>POLYGON ((-73.83289066454212 40.72794985897488...</td>\n",
       "    </tr>\n",
       "    <tr>\n",
       "      <th>70</th>\n",
       "      <td>3.895625e+08</td>\n",
       "      <td>213869.437013</td>\n",
       "      <td>214441.119229</td>\n",
       "      <td>120038.0</td>\n",
       "      <td>(POLYGON ((-73.75126923225983 40.7072944267992...</td>\n",
       "    </tr>\n",
       "    <tr>\n",
       "      <th>71</th>\n",
       "      <td>1.799968e+08</td>\n",
       "      <td>113676.001002</td>\n",
       "      <td>113678.964864</td>\n",
       "      <td>202758.0</td>\n",
       "      <td>(POLYGON ((-73.90649492981818 40.7901809895028...</td>\n",
       "    </tr>\n",
       "    <tr>\n",
       "      <th>72</th>\n",
       "      <td>1.132929e+08</td>\n",
       "      <td>58278.389090</td>\n",
       "      <td>58278.632392</td>\n",
       "      <td>171576.0</td>\n",
       "      <td>POLYGON ((-73.85907893504259 40.76252283131979...</td>\n",
       "    </tr>\n",
       "    <tr>\n",
       "      <th>73</th>\n",
       "      <td>2.325418e+08</td>\n",
       "      <td>96161.682740</td>\n",
       "      <td>96162.022638</td>\n",
       "      <td>175876.0</td>\n",
       "      <td>POLYGON ((-74.05356753536314 40.60369646628063...</td>\n",
       "    </tr>\n",
       "    <tr>\n",
       "      <th>74</th>\n",
       "      <td>4.757118e+08</td>\n",
       "      <td>138123.360984</td>\n",
       "      <td>138124.900334</td>\n",
       "      <td>0.0</td>\n",
       "      <td>(POLYGON ((-74.17989568314319 40.6452687952958...</td>\n",
       "    </tr>\n",
       "    <tr>\n",
       "      <th>75</th>\n",
       "      <td>4.547807e+08</td>\n",
       "      <td>154885.471062</td>\n",
       "      <td>154887.280081</td>\n",
       "      <td>194819.0</td>\n",
       "      <td>(POLYGON ((-74.10834417968486 40.6102347667672...</td>\n",
       "    </tr>\n",
       "    <tr>\n",
       "      <th>76</th>\n",
       "      <td>4.607906e+08</td>\n",
       "      <td>120863.811297</td>\n",
       "      <td>120869.367378</td>\n",
       "      <td>98035.0</td>\n",
       "      <td>POLYGON ((-74.16982656394858 40.56107800296418...</td>\n",
       "    </tr>\n",
       "  </tbody>\n",
       "</table>\n",
       "<p>77 rows × 5 columns</p>\n",
       "</div>"
      ],
      "text/plain": [
       "      Shape_Area     Shape_Le_1     Shape_Leng  Total_Pop  \\\n",
       "0   4.718442e+07   79979.877206   79980.250460    66679.0   \n",
       "1   1.808651e+07   18676.887438   18676.887678    52587.0   \n",
       "2   2.213190e+07   27182.397821   27182.687617    62226.0   \n",
       "3   1.836303e+07   17301.484928   17301.492549    56336.0   \n",
       "4   2.139553e+07   19773.416893   19773.422085    76443.0   \n",
       "5   2.722863e+07   40043.174972   40043.175251    50180.0   \n",
       "6   2.950802e+07   27735.264626   27735.266468    93640.0   \n",
       "7   2.051016e+07   20974.709394   20974.709243    20651.0   \n",
       "8   2.227280e+07   25759.830638   25759.894553    79126.0   \n",
       "9   3.228033e+07   42179.884070   42179.905777    54066.0   \n",
       "10  4.873740e+07   29563.041696   29563.145216   208259.0   \n",
       "11  2.767092e+07   27040.993411   27040.994421   102624.0   \n",
       "12  3.830173e+07   32701.343435   32701.343205       25.0   \n",
       "13  2.146773e+07   19438.111994   19438.112089    73106.0   \n",
       "14  2.547961e+07   20706.912763   20706.913072   106460.0   \n",
       "15  4.479286e+07   52200.143055   52200.205026    47405.0   \n",
       "16  2.383600e+07   23938.487979   23938.488675    49508.0   \n",
       "17  1.528984e+07   17100.184612   17100.184325    44781.0   \n",
       "18  1.883774e+07   21628.588458   21628.589420    60685.0   \n",
       "19  2.300853e+07   25291.767517   25291.768488    70942.0   \n",
       "20  2.586425e+07   21745.765297   21745.832461    76958.0   \n",
       "21  5.211370e+07   45565.734706   45567.020301   113062.0   \n",
       "22  6.040528e+07   33335.223260   33335.222802    91497.0   \n",
       "23  6.214350e+07   48015.182570   48015.324325    52246.0   \n",
       "24  4.481779e+07   33594.879412   33594.879603    79762.0   \n",
       "25  1.133152e+08   61599.584290   61600.120275   172131.0   \n",
       "26  5.553018e+07   31395.721434   31395.738889   147559.0   \n",
       "27  2.715310e+08  309485.196887  309495.031906   120824.0   \n",
       "28  3.832345e+07   29611.719564   29611.718640   127082.0   \n",
       "29  1.605433e+08   86535.926138   86535.925441   152374.0   \n",
       "..           ...            ...            ...        ...   \n",
       "47  4.823859e+07   68147.637263   68148.471618    43694.0   \n",
       "48  4.264930e+07   34662.013278   34662.013282    96309.0   \n",
       "49  6.768070e+07   39751.542553   39751.542790    61099.0   \n",
       "50  4.497555e+07   28256.602427   28256.602113    90263.0   \n",
       "51  3.448543e+07   28386.719336   28386.719002    62722.0   \n",
       "52  5.665018e+07   36940.194550   36940.194808   112634.0   \n",
       "53  3.546049e+07   38087.823553   38087.911611    48196.0   \n",
       "54  4.239149e+07   53332.788828   53333.018333    51421.0   \n",
       "55  6.614982e+07   51508.535402   51508.534721   116836.0   \n",
       "56  6.562999e+07   42426.665841   42426.664899    56247.0   \n",
       "57  2.052746e+08  283834.658299  283837.901684    47913.0   \n",
       "58  8.486578e+07   78824.677816   78830.758545    67065.0   \n",
       "59  1.333145e+08   52865.281367   52865.281067   144215.0   \n",
       "60  1.009216e+08   48549.937749   48549.937982   105803.0   \n",
       "61  2.105047e+08   75785.946116   75785.945391   170190.0   \n",
       "62  3.473398e+08  133249.119462  133249.269265   188671.0   \n",
       "63  1.724235e+08  102867.201556  102871.621192   122441.0   \n",
       "64  2.075012e+08   69289.885736   69289.883773   151107.0   \n",
       "65  1.396009e+08   73560.242958   73560.889040   113208.0   \n",
       "66  3.227558e+08  133159.667338  133161.650538   247354.0   \n",
       "67  1.121040e+08   72812.589567   72812.610864   172634.0   \n",
       "68  2.603469e+08   97510.912640   97511.083314   116431.0   \n",
       "69  8.894508e+07   41644.035729   41644.036156   112070.0   \n",
       "70  3.895625e+08  213869.437013  214441.119229   120038.0   \n",
       "71  1.799968e+08  113676.001002  113678.964864   202758.0   \n",
       "72  1.132929e+08   58278.389090   58278.632392   171576.0   \n",
       "73  2.325418e+08   96161.682740   96162.022638   175876.0   \n",
       "74  4.757118e+08  138123.360984  138124.900334        0.0   \n",
       "75  4.547807e+08  154885.471062  154887.280081   194819.0   \n",
       "76  4.607906e+08  120863.811297  120869.367378    98035.0   \n",
       "\n",
       "                                             geometry  \n",
       "0   (POLYGON ((-73.99911824702795 40.7265423115276...  \n",
       "1   POLYGON ((-73.98863862797603 40.72293371941717...  \n",
       "2   POLYGON ((-73.99968392197817 40.73855224786502...  \n",
       "3   POLYGON ((-73.973453241494 40.71896288616242, ...  \n",
       "4   POLYGON ((-73.97160900220014 40.72672340009098...  \n",
       "5   POLYGON ((-74.00138603716971 40.76285009377844...  \n",
       "6   POLYGON ((-73.98155997054194 40.74388188225339...  \n",
       "7   POLYGON ((-73.97464798041051 40.75336712161824...  \n",
       "8   (POLYGON ((-73.96213559087609 40.7545732302261...  \n",
       "9   POLYGON ((-73.99393666694623 40.77317984519032...  \n",
       "10  (POLYGON ((-73.94390463960403 40.7828659662559...  \n",
       "11  POLYGON ((-73.96933573453092 40.7852932783807,...  \n",
       "12  POLYGON ((-73.94923186039289 40.79687307057591...  \n",
       "13  (POLYGON ((-73.93519039313171 40.7914711591927...  \n",
       "14  POLYGON ((-73.95964685477222 40.80115642267543...  \n",
       "15  (POLYGON ((-73.92133752439865 40.8008521064447...  \n",
       "16  POLYGON ((-73.94607828714783 40.82126321506255...  \n",
       "17  POLYGON ((-73.94131742355373 40.80771334575683...  \n",
       "18  POLYGON ((-73.94016749551115 40.83038305378005...  \n",
       "19  POLYGON ((-73.93444684696684 40.83599434715074...  \n",
       "20  POLYGON ((-73.92928761358492 40.8458509859551,...  \n",
       "21  POLYGON ((-73.92928761358492 40.8458509859551,...  \n",
       "22  (POLYGON ((-73.9023144357958 40.80547700949571...  \n",
       "23  (POLYGON ((-73.89385454230663 40.8273400360351...  \n",
       "24  POLYGON ((-73.88066051337019 40.83749805125351...  \n",
       "25  POLYGON ((-73.83979488528045 40.83561920606485...  \n",
       "26  POLYGON ((-73.90270221313983 40.84458296285538...  \n",
       "27  (POLYGON ((-73.80728647146366 40.8859318125758...  \n",
       "28  POLYGON ((-73.89138023397183 40.86170058732228...  \n",
       "29  (POLYGON ((-73.85107116245315 40.9103715195283...  \n",
       "..                                                ...  \n",
       "47  POLYGON ((-74.00174362165662 40.69240674861945...  \n",
       "48  POLYGON ((-73.95829216826087 40.67983113247773...  \n",
       "49  POLYGON ((-73.96753196700401 40.68176878282575...  \n",
       "50  POLYGON ((-73.9385685479197 40.69884813503754,...  \n",
       "51  (POLYGON ((-73.9166863834555 40.68037137760061...  \n",
       "52  POLYGON ((-73.89658573318822 40.68236227294054...  \n",
       "53  POLYGON ((-73.97902894535652 40.70594812600204...  \n",
       "54  (POLYGON ((-73.97232032021519 40.7090828819009...  \n",
       "55  POLYGON ((-73.92425716294554 40.71411945439134...  \n",
       "56  POLYGON ((-73.92467622416378 40.71988569573419...  \n",
       "57  (POLYGON ((-73.78625649035568 40.6031137282989...  \n",
       "58  (POLYGON ((-73.76669139781445 40.6142546543648...  \n",
       "59  POLYGON ((-73.81709738766487 40.70402979980382...  \n",
       "60  POLYGON ((-73.75121247019587 40.70730657911722...  \n",
       "61  POLYGON ((-73.88770199202723 40.73429132186019...  \n",
       "62  POLYGON ((-73.7462986188188 40.63643879861394,...  \n",
       "63  (POLYGON ((-73.82684395258889 40.6509062137648...  \n",
       "64  POLYGON ((-73.75669771350219 40.7262287096782,...  \n",
       "65  (POLYGON ((-73.94271928043447 40.7520369507914...  \n",
       "66  POLYGON ((-73.77060974517663 40.7820797929614,...  \n",
       "67  POLYGON ((-73.83591564925315 40.74343089283651...  \n",
       "68  POLYGON ((-73.71351828247589 40.75983773009175...  \n",
       "69  POLYGON ((-73.83289066454212 40.72794985897488...  \n",
       "70  (POLYGON ((-73.75126923225983 40.7072944267992...  \n",
       "71  (POLYGON ((-73.90649492981818 40.7901809895028...  \n",
       "72  POLYGON ((-73.85907893504259 40.76252283131979...  \n",
       "73  POLYGON ((-74.05356753536314 40.60369646628063...  \n",
       "74  (POLYGON ((-74.17989568314319 40.6452687952958...  \n",
       "75  (POLYGON ((-74.10834417968486 40.6102347667672...  \n",
       "76  POLYGON ((-74.16982656394858 40.56107800296418...  \n",
       "\n",
       "[77 rows x 5 columns]"
      ]
     },
     "execution_count": 25,
     "metadata": {},
     "output_type": "execute_result"
    }
   ],
   "source": [
    "NYC_Area = precincts_shp.to_crs(epsg=2263).geometry.area.sum()/(2.788*10**7) # from ft2 to mi2 \n",
    "precincts.geometry.to_crs(epsg = 2263).area / (2.788 * 10 ** 7)\n",
    "precincts_shp"
   ]
  },
  {
   "cell_type": "code",
   "execution_count": 350,
   "metadata": {
    "collapsed": false
   },
   "outputs": [
    {
     "data": {
      "text/plain": [
       "<matplotlib.axes._subplots.AxesSubplot at 0x7ff79809ce50>"
      ]
     },
     "execution_count": 350,
     "metadata": {},
     "output_type": "execute_result"
    },
    {
     "data": {
      "text/plain": [
       "<matplotlib.figure.Figure at 0x7ff7fb375190>"
      ]
     },
     "metadata": {},
     "output_type": "display_data"
    },
    {
     "data": {
      "image/png": "[encoded data removed]",
      "text/plain": [
       "<matplotlib.figure.Figure at 0x7ff7eb6804d0>"
      ]
     },
     "metadata": {},
     "output_type": "display_data"
    },
    {
     "data": {
      "image/png": "[encoded data removed]",
      "text/plain": [
       "<matplotlib.figure.Figure at 0x7ff7985f18d0>"
      ]
     },
     "metadata": {},
     "output_type": "display_data"
    },
    {
     "data": {
      "image/png": "[encoded data removed]",
      "text/plain": [
       "<matplotlib.figure.Figure at 0x7ff7e119c750>"
      ]
     },
     "metadata": {},
     "output_type": "display_data"
    },
    {
     "data": {
      "image/png": "[encoded data removed]",
      "text/plain": [
       "<matplotlib.figure.Figure at 0x7ff79e70c610>"
      ]
     },
     "metadata": {},
     "output_type": "display_data"
    },
    {
     "data": {
      "image/png": "[encoded data removed]",
      "text/plain": [
       "<matplotlib.figure.Figure at 0x7ff79f0d0c10>"
      ]
     },
     "metadata": {},
     "output_type": "display_data"
    },
    {
     "data": {
      "image/png": "[encoded data removed]",
      "text/plain": [
       "<matplotlib.figure.Figure at 0x7ff79ee26c90>"
      ]
     },
     "metadata": {},
     "output_type": "display_data"
    },
    {
     "data": {
      "image/png": "[encoded data removed]",
      "text/plain": [
       "<matplotlib.figure.Figure at 0x7ff79e93ebd0>"
      ]
     },
     "metadata": {},
     "output_type": "display_data"
    },
    {
     "data": {
      "image/png": "[encoded data removed]",
      "text/plain": [
       "<matplotlib.figure.Figure at 0x7ff798377bd0>"
      ]
     },
     "metadata": {},
     "output_type": "display_data"
    }
   ],
   "source": [
    "fig = pl.figure(figsize  = (20,20))\n",
    "precincts.plot()\n",
    "arterial_slow_zone.plot()\n",
    "ped_signals.plot()\n",
    "neigh_slow_zone.plot()\n",
    "sr_safe_strs.plot()\n",
    "speed_bumps.plot()\n",
    "intersec_proj.plot()\n",
    "corridor_proj.plot()"
   ]
  },
  {
   "cell_type": "code",
   "execution_count": 351,
   "metadata": {
    "collapsed": true
   },
   "outputs": [],
   "source": [
    "def add_precincts(df):\n",
    "    '''creates precinct column based on intersection with precincts data geometry'''\n",
    "    df_length = len(df)\n",
    "    prec_array = np.zeros(df_length)\n",
    "    extra_dict = {}\n",
    "    extras = []\n",
    "    for x in range(len(precincts)): \n",
    "        '''creates prec, a list of rows which intersect the precinct\n",
    "        if it intersects more than one precinct, create a list of extras which are stored in extra dict'''\n",
    "        prec = np.where(df.geometry.intersects(precincts.geometry[x]))\n",
    "        for i in range(len(prec[0])):\n",
    "            if prec_array[prec[0][i]] == 0:\n",
    "                prec_array[prec[0][i]] = str(precincts.Precinct[x])\n",
    "            else:\n",
    "                extras.append(prec[0][i])\n",
    "        if len(extras) > 0: \n",
    "            extra_dict[str(precincts.Precinct[x])] = extras\n",
    "        extras = []\n",
    "    \n",
    "    loop_count = 0\n",
    "    df['precinct'] = prec_array\n",
    "    \n",
    "    while len(extra_dict.keys()) > 0:  \n",
    "        '''while there are keys in extra dict, create a new array and an empty extra_dict2'''\n",
    "        \n",
    "        new_array = np.zeros(df_length)\n",
    "        extra_dict2 = {}\n",
    "        \n",
    "        for key in extra_dict.keys(): \n",
    "            '''for each key, run a loop inserting the key (precinct #) into the new array)'''\n",
    "            for i in range(len(extra_dict[key])):\n",
    "                if new_array[extra_dict[key][i]] == 0:\n",
    "                    new_array[extra_dict[key][i]] = int(key)\n",
    "                    \n",
    "                else:\n",
    "                    extras.append(extra_dict[key][i])\n",
    "        \n",
    "            if len(extras) > 0: \n",
    "                extra_dict2[key] = extras\n",
    "            \n",
    "            extras = []\n",
    "            df['precinct' + str(loop_count)] = new_array\n",
    "        \n",
    "        extra_dict = extra_dict2\n",
    "        loop_count += 1\n",
    "    return df   \n",
    "        "
   ]
  },
  {
   "cell_type": "code",
   "execution_count": 352,
   "metadata": {
    "collapsed": true
   },
   "outputs": [],
   "source": [
    "dfs = [arterial_slow_zone, ped_signals, neigh_slow_zone, sr_safe_strs, speed_bumps, intersec_proj, corridor_proj]"
   ]
  },
  {
   "cell_type": "code",
   "execution_count": 353,
   "metadata": {
    "collapsed": false
   },
   "outputs": [],
   "source": [
    "for df in dfs: \n",
    "    add_precincts(df)"
   ]
  },
  {
   "cell_type": "markdown",
   "metadata": {},
   "source": [
    "Lacking Dates: arterial slow zone, ped_signals, intersec_proj, corridor_proj\n",
    "\n",
    "Year only: neigh slow zone (column called Year), sr_safe_streets (column called yr) <- appears to just be an area where \n",
    "\n",
    "Date: speed bumps (FIRST_Inst)"
   ]
  },
  {
   "cell_type": "code",
   "execution_count": 354,
   "metadata": {
    "collapsed": true
   },
   "outputs": [],
   "source": [
    "import datetime as dt"
   ]
  },
  {
   "cell_type": "code",
   "execution_count": 355,
   "metadata": {
    "collapsed": true
   },
   "outputs": [],
   "source": [
    "#create a year column. All dates that have no year are denoted as '2011' assuming that they were preexisting speed bumps\n",
    "speed_bumps.FIRST_Inst = pd.to_datetime(speed_bumps.FIRST_Inst, errors = 'coerce')\n",
    "speed_bumps['year'] = speed_bumps.FIRST_Inst.apply(lambda x: x.strftime('%Y') if pd.isnull(x) == 0 else 2011)"
   ]
  },
  {
   "cell_type": "markdown",
   "metadata": {},
   "source": [
    "# Assume that speed bumps without dates were built pre-vision zero. Therefore Fill All NA with 11 (before the rest of the data started"
   ]
  },
  {
   "cell_type": "code",
   "execution_count": 356,
   "metadata": {
    "collapsed": false
   },
   "outputs": [],
   "source": [
    "speed_df = speed_bumps.iloc[ :, -4:]"
   ]
  },
  {
   "cell_type": "code",
   "execution_count": 357,
   "metadata": {
    "collapsed": false
   },
   "outputs": [],
   "source": [
    "# copy the data with an additional precinct, relabel as precinct and concatenate it with the original data\n",
    "# so that it is counted for each precinct\n",
    "second_prec = speed_df[speed_df.precinct0 > 0]"
   ]
  },
  {
   "cell_type": "code",
   "execution_count": 358,
   "metadata": {
    "collapsed": false
   },
   "outputs": [
    {
     "name": "stderr",
     "output_type": "stream",
     "text": [
      "/opt/rh/anaconda/root/envs/PUI2016_Python2/lib/python2.7/site-packages/ipykernel/__main__.py:1: SettingWithCopyWarning: \n",
      "A value is trying to be set on a copy of a slice from a DataFrame.\n",
      "Try using .loc[row_indexer,col_indexer] = value instead\n",
      "\n",
      "See the caveats in the documentation: http://pandas.pydata.org/pandas-docs/stable/indexing.html#indexing-view-versus-copy\n",
      "  if __name__ == '__main__':\n"
     ]
    }
   ],
   "source": [
    "second_prec['precinct'] = second_prec['precinct0']"
   ]
  },
  {
   "cell_type": "code",
   "execution_count": 359,
   "metadata": {
    "collapsed": false
   },
   "outputs": [],
   "source": [
    "speed_all = pd.concat([speed_df, second_prec])"
   ]
  },
  {
   "cell_type": "code",
   "execution_count": 360,
   "metadata": {
    "collapsed": false
   },
   "outputs": [],
   "source": [
    "speed_all.drop('precinct0', axis = 1, inplace = True)"
   ]
  },
  {
   "cell_type": "code",
   "execution_count": 361,
   "metadata": {
    "collapsed": false
   },
   "outputs": [],
   "source": [
    "speed_all['PrecinctYear'] = speed_all['precinct'].apply(lambda x: str(int(x)).zfill(3)) + speed_all['year'].apply(lambda x: str(x))"
   ]
  },
  {
   "cell_type": "code",
   "execution_count": 362,
   "metadata": {
    "collapsed": false
   },
   "outputs": [],
   "source": [
    "tabulated_sb = pd.crosstab(speed_all['year'], speed_all['precinct'])"
   ]
  },
  {
   "cell_type": "code",
   "execution_count": 363,
   "metadata": {
    "collapsed": false
   },
   "outputs": [
    {
     "data": {
      "text/html": [
       "<div>\n",
       "<table border=\"1\" class=\"dataframe\">\n",
       "  <thead>\n",
       "    <tr style=\"text-align: right;\">\n",
       "      <th>precinct</th>\n",
       "      <th>1.0</th>\n",
       "      <th>5.0</th>\n",
       "      <th>6.0</th>\n",
       "      <th>7.0</th>\n",
       "      <th>9.0</th>\n",
       "      <th>10.0</th>\n",
       "      <th>13.0</th>\n",
       "      <th>17.0</th>\n",
       "      <th>18.0</th>\n",
       "      <th>19.0</th>\n",
       "      <th>...</th>\n",
       "      <th>110.0</th>\n",
       "      <th>111.0</th>\n",
       "      <th>112.0</th>\n",
       "      <th>113.0</th>\n",
       "      <th>114.0</th>\n",
       "      <th>115.0</th>\n",
       "      <th>120.0</th>\n",
       "      <th>121.0</th>\n",
       "      <th>122.0</th>\n",
       "      <th>123.0</th>\n",
       "    </tr>\n",
       "    <tr>\n",
       "      <th>year</th>\n",
       "      <th></th>\n",
       "      <th></th>\n",
       "      <th></th>\n",
       "      <th></th>\n",
       "      <th></th>\n",
       "      <th></th>\n",
       "      <th></th>\n",
       "      <th></th>\n",
       "      <th></th>\n",
       "      <th></th>\n",
       "      <th></th>\n",
       "      <th></th>\n",
       "      <th></th>\n",
       "      <th></th>\n",
       "      <th></th>\n",
       "      <th></th>\n",
       "      <th></th>\n",
       "      <th></th>\n",
       "      <th></th>\n",
       "      <th></th>\n",
       "      <th></th>\n",
       "    </tr>\n",
       "  </thead>\n",
       "  <tbody>\n",
       "    <tr>\n",
       "      <th>2011</th>\n",
       "      <td>0</td>\n",
       "      <td>0</td>\n",
       "      <td>0</td>\n",
       "      <td>0</td>\n",
       "      <td>0</td>\n",
       "      <td>0</td>\n",
       "      <td>0</td>\n",
       "      <td>0</td>\n",
       "      <td>0</td>\n",
       "      <td>0</td>\n",
       "      <td>...</td>\n",
       "      <td>0</td>\n",
       "      <td>1</td>\n",
       "      <td>3</td>\n",
       "      <td>0</td>\n",
       "      <td>1</td>\n",
       "      <td>0</td>\n",
       "      <td>0</td>\n",
       "      <td>0</td>\n",
       "      <td>0</td>\n",
       "      <td>0</td>\n",
       "    </tr>\n",
       "    <tr>\n",
       "      <th>2012</th>\n",
       "      <td>0</td>\n",
       "      <td>0</td>\n",
       "      <td>0</td>\n",
       "      <td>0</td>\n",
       "      <td>0</td>\n",
       "      <td>0</td>\n",
       "      <td>0</td>\n",
       "      <td>0</td>\n",
       "      <td>0</td>\n",
       "      <td>0</td>\n",
       "      <td>...</td>\n",
       "      <td>0</td>\n",
       "      <td>1</td>\n",
       "      <td>3</td>\n",
       "      <td>0</td>\n",
       "      <td>1</td>\n",
       "      <td>0</td>\n",
       "      <td>0</td>\n",
       "      <td>0</td>\n",
       "      <td>0</td>\n",
       "      <td>0</td>\n",
       "    </tr>\n",
       "    <tr>\n",
       "      <th>2013</th>\n",
       "      <td>0</td>\n",
       "      <td>0</td>\n",
       "      <td>0</td>\n",
       "      <td>0</td>\n",
       "      <td>0</td>\n",
       "      <td>0</td>\n",
       "      <td>0</td>\n",
       "      <td>1</td>\n",
       "      <td>0</td>\n",
       "      <td>1</td>\n",
       "      <td>...</td>\n",
       "      <td>0</td>\n",
       "      <td>4</td>\n",
       "      <td>4</td>\n",
       "      <td>5</td>\n",
       "      <td>1</td>\n",
       "      <td>0</td>\n",
       "      <td>0</td>\n",
       "      <td>3</td>\n",
       "      <td>2</td>\n",
       "      <td>2</td>\n",
       "    </tr>\n",
       "    <tr>\n",
       "      <th>2014</th>\n",
       "      <td>1</td>\n",
       "      <td>2</td>\n",
       "      <td>0</td>\n",
       "      <td>1</td>\n",
       "      <td>13</td>\n",
       "      <td>1</td>\n",
       "      <td>1</td>\n",
       "      <td>1</td>\n",
       "      <td>0</td>\n",
       "      <td>1</td>\n",
       "      <td>...</td>\n",
       "      <td>7</td>\n",
       "      <td>14</td>\n",
       "      <td>7</td>\n",
       "      <td>5</td>\n",
       "      <td>4</td>\n",
       "      <td>14</td>\n",
       "      <td>1</td>\n",
       "      <td>3</td>\n",
       "      <td>5</td>\n",
       "      <td>3</td>\n",
       "    </tr>\n",
       "    <tr>\n",
       "      <th>2015</th>\n",
       "      <td>2</td>\n",
       "      <td>2</td>\n",
       "      <td>8</td>\n",
       "      <td>1</td>\n",
       "      <td>13</td>\n",
       "      <td>2</td>\n",
       "      <td>1</td>\n",
       "      <td>1</td>\n",
       "      <td>1</td>\n",
       "      <td>2</td>\n",
       "      <td>...</td>\n",
       "      <td>7</td>\n",
       "      <td>17</td>\n",
       "      <td>7</td>\n",
       "      <td>5</td>\n",
       "      <td>6</td>\n",
       "      <td>14</td>\n",
       "      <td>1</td>\n",
       "      <td>3</td>\n",
       "      <td>5</td>\n",
       "      <td>3</td>\n",
       "    </tr>\n",
       "  </tbody>\n",
       "</table>\n",
       "<p>5 rows × 73 columns</p>\n",
       "</div>"
      ],
      "text/plain": [
       "precinct  1.0    5.0    6.0    7.0    9.0    10.0   13.0   17.0   18.0   \\\n",
       "year                                                                      \n",
       "2011          0      0      0      0      0      0      0      0      0   \n",
       "2012          0      0      0      0      0      0      0      0      0   \n",
       "2013          0      0      0      0      0      0      0      1      0   \n",
       "2014          1      2      0      1     13      1      1      1      0   \n",
       "2015          2      2      8      1     13      2      1      1      1   \n",
       "\n",
       "precinct  19.0   ...    110.0  111.0  112.0  113.0  114.0  115.0  120.0  \\\n",
       "year             ...                                                      \n",
       "2011          0  ...        0      1      3      0      1      0      0   \n",
       "2012          0  ...        0      1      3      0      1      0      0   \n",
       "2013          1  ...        0      4      4      5      1      0      0   \n",
       "2014          1  ...        7     14      7      5      4     14      1   \n",
       "2015          2  ...        7     17      7      5      6     14      1   \n",
       "\n",
       "precinct  121.0  122.0  123.0  \n",
       "year                           \n",
       "2011          0      0      0  \n",
       "2012          0      0      0  \n",
       "2013          3      2      2  \n",
       "2014          3      5      3  \n",
       "2015          3      5      3  \n",
       "\n",
       "[5 rows x 73 columns]"
      ]
     },
     "execution_count": 363,
     "metadata": {},
     "output_type": "execute_result"
    }
   ],
   "source": [
    "tabulated_sb.cumsum(axis = 0) "
   ]
  },
  {
   "cell_type": "code",
   "execution_count": 364,
   "metadata": {
    "collapsed": false
   },
   "outputs": [],
   "source": [
    "speed_bumps_final = pd.melt(tabulated_sb.cumsum(axis = 0), value_name = 'Speed_Bump_Total') # cumulative b/c they persist"
   ]
  },
  {
   "cell_type": "code",
   "execution_count": 365,
   "metadata": {
    "collapsed": false
   },
   "outputs": [],
   "source": [
    "yrs = ['2011', '2012', '2013', '2014', '2015']\n",
    "speed_bumps_final['year'] = yrs * 73"
   ]
  },
  {
   "cell_type": "code",
   "execution_count": 366,
   "metadata": {
    "collapsed": false
   },
   "outputs": [],
   "source": [
    "speed_bumps_final['PrecinctYear'] = speed_bumps_final['precinct'].apply(lambda x: str(int(x)).zfill(3)) + speed_bumps_final['year']"
   ]
  },
  {
   "cell_type": "code",
   "execution_count": 367,
   "metadata": {
    "collapsed": false
   },
   "outputs": [
    {
     "data": {
      "text/html": [
       "<div>\n",
       "<table border=\"1\" class=\"dataframe\">\n",
       "  <thead>\n",
       "    <tr style=\"text-align: right;\">\n",
       "      <th></th>\n",
       "      <th>precinct</th>\n",
       "      <th>Speed_Bump_Total</th>\n",
       "      <th>year</th>\n",
       "      <th>PrecinctYear</th>\n",
       "    </tr>\n",
       "  </thead>\n",
       "  <tbody>\n",
       "    <tr>\n",
       "      <th>0</th>\n",
       "      <td>1.0</td>\n",
       "      <td>0</td>\n",
       "      <td>2011</td>\n",
       "      <td>0012011</td>\n",
       "    </tr>\n",
       "    <tr>\n",
       "      <th>1</th>\n",
       "      <td>1.0</td>\n",
       "      <td>0</td>\n",
       "      <td>2012</td>\n",
       "      <td>0012012</td>\n",
       "    </tr>\n",
       "    <tr>\n",
       "      <th>2</th>\n",
       "      <td>1.0</td>\n",
       "      <td>0</td>\n",
       "      <td>2013</td>\n",
       "      <td>0012013</td>\n",
       "    </tr>\n",
       "    <tr>\n",
       "      <th>3</th>\n",
       "      <td>1.0</td>\n",
       "      <td>1</td>\n",
       "      <td>2014</td>\n",
       "      <td>0012014</td>\n",
       "    </tr>\n",
       "    <tr>\n",
       "      <th>4</th>\n",
       "      <td>1.0</td>\n",
       "      <td>2</td>\n",
       "      <td>2015</td>\n",
       "      <td>0012015</td>\n",
       "    </tr>\n",
       "  </tbody>\n",
       "</table>\n",
       "</div>"
      ],
      "text/plain": [
       "   precinct  Speed_Bump_Total  year PrecinctYear\n",
       "0       1.0                 0  2011      0012011\n",
       "1       1.0                 0  2012      0012012\n",
       "2       1.0                 0  2013      0012013\n",
       "3       1.0                 1  2014      0012014\n",
       "4       1.0                 2  2015      0012015"
      ]
     },
     "execution_count": 367,
     "metadata": {},
     "output_type": "execute_result"
    }
   ],
   "source": [
    "speed_bumps_final.head()"
   ]
  },
  {
   "cell_type": "code",
   "execution_count": 368,
   "metadata": {
    "collapsed": false
   },
   "outputs": [
    {
     "data": {
      "text/html": [
       "<div>\n",
       "<table border=\"1\" class=\"dataframe\">\n",
       "  <thead>\n",
       "    <tr style=\"text-align: right;\">\n",
       "      <th></th>\n",
       "      <th>Shape_Area</th>\n",
       "      <th>Shape_Leng</th>\n",
       "      <th>Year</th>\n",
       "      <th>precinct</th>\n",
       "      <th>precinct0</th>\n",
       "      <th>precinct1</th>\n",
       "    </tr>\n",
       "  </thead>\n",
       "  <tbody>\n",
       "    <tr>\n",
       "      <th>count</th>\n",
       "      <td>2.700000e+01</td>\n",
       "      <td>27.000000</td>\n",
       "      <td>27.000000</td>\n",
       "      <td>27.000000</td>\n",
       "      <td>27.000000</td>\n",
       "      <td>27.000000</td>\n",
       "    </tr>\n",
       "    <tr>\n",
       "      <th>mean</th>\n",
       "      <td>6.569842e+06</td>\n",
       "      <td>11019.593595</td>\n",
       "      <td>2013.555556</td>\n",
       "      <td>75.111111</td>\n",
       "      <td>35.333333</td>\n",
       "      <td>11.851852</td>\n",
       "    </tr>\n",
       "    <tr>\n",
       "      <th>std</th>\n",
       "      <td>2.491987e+06</td>\n",
       "      <td>2424.367344</td>\n",
       "      <td>1.187542</td>\n",
       "      <td>37.064739</td>\n",
       "      <td>43.338560</td>\n",
       "      <td>29.470590</td>\n",
       "    </tr>\n",
       "    <tr>\n",
       "      <th>min</th>\n",
       "      <td>2.196860e+06</td>\n",
       "      <td>6456.178037</td>\n",
       "      <td>2011.000000</td>\n",
       "      <td>1.000000</td>\n",
       "      <td>0.000000</td>\n",
       "      <td>0.000000</td>\n",
       "    </tr>\n",
       "    <tr>\n",
       "      <th>25%</th>\n",
       "      <td>4.593105e+06</td>\n",
       "      <td>9022.106696</td>\n",
       "      <td>2013.000000</td>\n",
       "      <td>45.500000</td>\n",
       "      <td>0.000000</td>\n",
       "      <td>0.000000</td>\n",
       "    </tr>\n",
       "    <tr>\n",
       "      <th>50%</th>\n",
       "      <td>7.013031e+06</td>\n",
       "      <td>11343.380217</td>\n",
       "      <td>2013.000000</td>\n",
       "      <td>76.000000</td>\n",
       "      <td>6.000000</td>\n",
       "      <td>0.000000</td>\n",
       "    </tr>\n",
       "    <tr>\n",
       "      <th>75%</th>\n",
       "      <td>8.372079e+06</td>\n",
       "      <td>12957.135621</td>\n",
       "      <td>2015.000000</td>\n",
       "      <td>110.000000</td>\n",
       "      <td>79.500000</td>\n",
       "      <td>0.000000</td>\n",
       "    </tr>\n",
       "    <tr>\n",
       "      <th>max</th>\n",
       "      <td>1.170054e+07</td>\n",
       "      <td>15578.492915</td>\n",
       "      <td>2015.000000</td>\n",
       "      <td>122.000000</td>\n",
       "      <td>115.000000</td>\n",
       "      <td>110.000000</td>\n",
       "    </tr>\n",
       "  </tbody>\n",
       "</table>\n",
       "</div>"
      ],
      "text/plain": [
       "         Shape_Area    Shape_Leng         Year    precinct   precinct0  \\\n",
       "count  2.700000e+01     27.000000    27.000000   27.000000   27.000000   \n",
       "mean   6.569842e+06  11019.593595  2013.555556   75.111111   35.333333   \n",
       "std    2.491987e+06   2424.367344     1.187542   37.064739   43.338560   \n",
       "min    2.196860e+06   6456.178037  2011.000000    1.000000    0.000000   \n",
       "25%    4.593105e+06   9022.106696  2013.000000   45.500000    0.000000   \n",
       "50%    7.013031e+06  11343.380217  2013.000000   76.000000    6.000000   \n",
       "75%    8.372079e+06  12957.135621  2015.000000  110.000000   79.500000   \n",
       "max    1.170054e+07  15578.492915  2015.000000  122.000000  115.000000   \n",
       "\n",
       "        precinct1  \n",
       "count   27.000000  \n",
       "mean    11.851852  \n",
       "std     29.470590  \n",
       "min      0.000000  \n",
       "25%      0.000000  \n",
       "50%      0.000000  \n",
       "75%      0.000000  \n",
       "max    110.000000  "
      ]
     },
     "execution_count": 368,
     "metadata": {},
     "output_type": "execute_result"
    }
   ],
   "source": [
    "neigh_slow_zone.describe()"
   ]
  },
  {
   "cell_type": "code",
   "execution_count": 369,
   "metadata": {
    "collapsed": false
   },
   "outputs": [],
   "source": [
    "def add_prec(df):\n",
    "    '''copies data for additional precincts to the end of the dataframe so it is counted in each precinct'''\n",
    "    df_copy = df.copy()\n",
    "    \n",
    "    for x in df.columns:\n",
    "        \n",
    "        if len(x) > 8 and x[:8] == 'precinct':\n",
    "            tempdf = df[df[x] > 0]\n",
    "            tempdf['precinct'] = tempdf[x]\n",
    "            df_copy = df_copy.append(tempdf)\n",
    "            \n",
    "    return df_copy"
   ]
  },
  {
   "cell_type": "code",
   "execution_count": 370,
   "metadata": {
    "collapsed": false
   },
   "outputs": [
    {
     "name": "stderr",
     "output_type": "stream",
     "text": [
      "/opt/rh/anaconda/root/envs/PUI2016_Python2/lib/python2.7/site-packages/ipykernel/__main__.py:9: SettingWithCopyWarning: \n",
      "A value is trying to be set on a copy of a slice from a DataFrame.\n",
      "Try using .loc[row_indexer,col_indexer] = value instead\n",
      "\n",
      "See the caveats in the documentation: http://pandas.pydata.org/pandas-docs/stable/indexing.html#indexing-view-versus-copy\n"
     ]
    }
   ],
   "source": [
    "neigh_slow_all = add_prec(neigh_slow_zone)"
   ]
  },
  {
   "cell_type": "code",
   "execution_count": 371,
   "metadata": {
    "collapsed": false
   },
   "outputs": [],
   "source": [
    "neigh_slow_all.rename(columns = {'Year': 'year'}, inplace = True)"
   ]
  },
  {
   "cell_type": "code",
   "execution_count": 372,
   "metadata": {
    "collapsed": false
   },
   "outputs": [],
   "source": [
    "tabulated = pd.crosstab(neigh_slow_all['year'], neigh_slow_all['precinct'])\n",
    "neigh_slow_final = pd.melt(tabulated, value_name = 'Neigh_Slow_Zone_Total')\n",
    "neigh_slow_final['year'] = int(len(neigh_slow_final) / 5) * yrs\n",
    "neigh_slow_final['PrecinctYear'] = neigh_slow_final['precinct'].apply(lambda x: str(int(x)).zfill(3)) + neigh_slow_final['year']"
   ]
  },
  {
   "cell_type": "code",
   "execution_count": 373,
   "metadata": {
    "collapsed": false
   },
   "outputs": [
    {
     "data": {
      "text/html": [
       "<div>\n",
       "<table border=\"1\" class=\"dataframe\">\n",
       "  <thead>\n",
       "    <tr style=\"text-align: right;\">\n",
       "      <th></th>\n",
       "      <th>precinct</th>\n",
       "      <th>Speed_Bump_Total</th>\n",
       "      <th>year</th>\n",
       "      <th>PrecinctYear</th>\n",
       "    </tr>\n",
       "  </thead>\n",
       "  <tbody>\n",
       "    <tr>\n",
       "      <th>0</th>\n",
       "      <td>1.0</td>\n",
       "      <td>0</td>\n",
       "      <td>2011</td>\n",
       "      <td>0012011</td>\n",
       "    </tr>\n",
       "    <tr>\n",
       "      <th>1</th>\n",
       "      <td>1.0</td>\n",
       "      <td>0</td>\n",
       "      <td>2012</td>\n",
       "      <td>0012012</td>\n",
       "    </tr>\n",
       "    <tr>\n",
       "      <th>2</th>\n",
       "      <td>1.0</td>\n",
       "      <td>0</td>\n",
       "      <td>2013</td>\n",
       "      <td>0012013</td>\n",
       "    </tr>\n",
       "    <tr>\n",
       "      <th>3</th>\n",
       "      <td>1.0</td>\n",
       "      <td>1</td>\n",
       "      <td>2014</td>\n",
       "      <td>0012014</td>\n",
       "    </tr>\n",
       "    <tr>\n",
       "      <th>4</th>\n",
       "      <td>1.0</td>\n",
       "      <td>2</td>\n",
       "      <td>2015</td>\n",
       "      <td>0012015</td>\n",
       "    </tr>\n",
       "  </tbody>\n",
       "</table>\n",
       "</div>"
      ],
      "text/plain": [
       "   precinct  Speed_Bump_Total  year PrecinctYear\n",
       "0       1.0                 0  2011      0012011\n",
       "1       1.0                 0  2012      0012012\n",
       "2       1.0                 0  2013      0012013\n",
       "3       1.0                 1  2014      0012014\n",
       "4       1.0                 2  2015      0012015"
      ]
     },
     "execution_count": 373,
     "metadata": {},
     "output_type": "execute_result"
    }
   ],
   "source": [
    "speed_bumps_final.head()"
   ]
  },
  {
   "cell_type": "code",
   "execution_count": 374,
   "metadata": {
    "collapsed": false
   },
   "outputs": [
    {
     "data": {
      "text/html": [
       "<div>\n",
       "<table border=\"1\" class=\"dataframe\">\n",
       "  <thead>\n",
       "    <tr style=\"text-align: right;\">\n",
       "      <th></th>\n",
       "      <th>precinct</th>\n",
       "      <th>Neigh_Slow_Zone_Total</th>\n",
       "      <th>year</th>\n",
       "      <th>PrecinctYear</th>\n",
       "    </tr>\n",
       "  </thead>\n",
       "  <tbody>\n",
       "    <tr>\n",
       "      <th>0</th>\n",
       "      <td>1.0</td>\n",
       "      <td>0</td>\n",
       "      <td>2011</td>\n",
       "      <td>0012011</td>\n",
       "    </tr>\n",
       "    <tr>\n",
       "      <th>1</th>\n",
       "      <td>1.0</td>\n",
       "      <td>0</td>\n",
       "      <td>2012</td>\n",
       "      <td>0012012</td>\n",
       "    </tr>\n",
       "    <tr>\n",
       "      <th>2</th>\n",
       "      <td>1.0</td>\n",
       "      <td>0</td>\n",
       "      <td>2013</td>\n",
       "      <td>0012013</td>\n",
       "    </tr>\n",
       "    <tr>\n",
       "      <th>3</th>\n",
       "      <td>1.0</td>\n",
       "      <td>0</td>\n",
       "      <td>2014</td>\n",
       "      <td>0012014</td>\n",
       "    </tr>\n",
       "    <tr>\n",
       "      <th>4</th>\n",
       "      <td>1.0</td>\n",
       "      <td>1</td>\n",
       "      <td>2015</td>\n",
       "      <td>0012015</td>\n",
       "    </tr>\n",
       "  </tbody>\n",
       "</table>\n",
       "</div>"
      ],
      "text/plain": [
       "   precinct  Neigh_Slow_Zone_Total  year PrecinctYear\n",
       "0       1.0                      0  2011      0012011\n",
       "1       1.0                      0  2012      0012012\n",
       "2       1.0                      0  2013      0012013\n",
       "3       1.0                      0  2014      0012014\n",
       "4       1.0                      1  2015      0012015"
      ]
     },
     "execution_count": 374,
     "metadata": {},
     "output_type": "execute_result"
    }
   ],
   "source": [
    "neigh_slow_final.head()"
   ]
  },
  {
   "cell_type": "markdown",
   "metadata": {},
   "source": [
    "Save as CSVs"
   ]
  },
  {
   "cell_type": "code",
   "execution_count": 375,
   "metadata": {
    "collapsed": false
   },
   "outputs": [],
   "source": [
    "speed_bumps_final.to_csv('speed_bumps')\n",
    "neigh_slow_final.to_csv('neighborhood_slow_zones')"
   ]
  },
  {
   "cell_type": "markdown",
   "metadata": {},
   "source": [
    "Collect Intersection and Corridor Data by type. There are no dates in the data for these so it may not be that helpful."
   ]
  },
  {
   "cell_type": "code",
   "execution_count": 376,
   "metadata": {
    "collapsed": false
   },
   "outputs": [],
   "source": [
    "tabulated_intersec = pd.crosstab(intersec_proj['SIPProjTyp'], intersec_proj['precinct'])\n",
    "intersec_final = pd.melt(tabulated_intersec, value_name = 'Intersec_Proj_Total')\n",
    "intersec_labels = list(tabulated_intersec.index)\n",
    "intersec_final['type'] = int(len(intersec_final) / len(intersec_labels)) * intersec_labels"
   ]
  },
  {
   "cell_type": "code",
   "execution_count": 377,
   "metadata": {
    "collapsed": false
   },
   "outputs": [],
   "source": [
    "tabulated_corridor = pd.crosstab(corridor_proj['SIP_Proj_T'], corridor_proj['precinct'])\n",
    "corridor_final = pd.melt(tabulated_corridor, value_name = 'Corridor_Proj_Total')\n",
    "corridor_labels = list(tabulated_corridor.index)\n",
    "corridor_final['type'] = int(len(corridor_final) / len(corridor_labels)) * corridor_labels"
   ]
  },
  {
   "cell_type": "code",
   "execution_count": 378,
   "metadata": {
    "collapsed": false
   },
   "outputs": [],
   "source": [
    "corridor_final.to_csv('street_improvement_project_corridors')\n",
    "intersec_final.to_csv('street_improvement_project_intesections')"
   ]
  },
  {
   "cell_type": "code",
   "execution_count": 1,
   "metadata": {
    "collapsed": false
   },
   "outputs": [
    {
     "ename": "NameError",
     "evalue": "name 'speed_bumps_final' is not defined",
     "output_type": "error",
     "traceback": [
      "\u001b[0;31m\u001b[0m",
      "\u001b[0;31mNameError\u001b[0mTraceback (most recent call last)",
      "\u001b[0;32m<ipython-input-1-37e740978811>\u001b[0m in \u001b[0;36m<module>\u001b[0;34m()\u001b[0m\n\u001b[0;32m----> 1\u001b[0;31m \u001b[0mspeed_bumps_final\u001b[0m\u001b[0;34m.\u001b[0m\u001b[0mhead\u001b[0m\u001b[0;34m(\u001b[0m\u001b[0;34m)\u001b[0m\u001b[0;34m\u001b[0m\u001b[0m\n\u001b[0m",
      "\u001b[0;31mNameError\u001b[0m: name 'speed_bumps_final' is not defined"
     ]
    }
   ],
   "source": [
    "speed_bumps_final.head()"
   ]
  },
  {
   "cell_type": "code",
   "execution_count": null,
   "metadata": {
    "collapsed": true
   },
   "outputs": [],
   "source": []
  }
 ],
 "metadata": {
  "kernelspec": {
   "display_name": "PUI2016_Python2",
   "language": "python",
   "name": "pui2016_python2"
  },
  "language_info": {
   "codemirror_mode": {
    "name": "ipython",
    "version": 2
   },
   "file_extension": ".py",
   "mimetype": "text/x-python",
   "name": "python",
   "nbconvert_exporter": "python",
   "pygments_lexer": "ipython2",
   "version": "2.7.12"
  }
 },
 "nbformat": 4,
 "nbformat_minor": 0
}
