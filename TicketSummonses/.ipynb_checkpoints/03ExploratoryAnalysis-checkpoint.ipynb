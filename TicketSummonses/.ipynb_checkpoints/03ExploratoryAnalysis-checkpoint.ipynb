{
 "cells": [
  {
   "cell_type": "code",
   "execution_count": 54,
   "metadata": {
    "collapsed": false
   },
   "outputs": [],
   "source": [
    "import numpy as np\n",
    "import pandas as pd\n",
    "import seaborn as sns\n",
    "import scipy.stats as sc\n",
    "import matplotlib.pyplot as pl\n",
    "import statsmodels.formula.api as smf\n",
    "%matplotlib inline"
   ]
  },
  {
   "cell_type": "code",
   "execution_count": 3,
   "metadata": {
    "collapsed": false
   },
   "outputs": [
    {
     "name": "stdout",
     "output_type": "stream",
     "text": [
      "(231, 55)\n"
     ]
    },
    {
     "data": {
      "text/plain": [
       "Index([u'PrecinctYear', u'Precinct', u'Year', u'Taxis', u'Flyers', u'Seniors',\n",
       "       u'Outreach', u'HandsOn', u'Edu_Total', u'Backing Unsafely',\n",
       "       u'Brake Lights (Defect.or Improper)', u'Bus Lane, Driving in',\n",
       "       u'Cell Phone', u'Commercial Veh on Pkwy', u'Defective Brakes',\n",
       "       u'Disobey Steady Red Signal', u'Disobey Traffic Control Device',\n",
       "       u'Equipment (Other)', u'Fail to Keep Right', u'Fail to Signal',\n",
       "       u'Following Too Closely', u'Headlights (Defect. or Improper)',\n",
       "       u'Improper Lights', u'Improper Passing', u'Improper Turn',\n",
       "       u'Improper/Missing Plates', u'Not Giving R of W to Pedes.',\n",
       "       u'Not Giving R of W to Veh.', u'One Way Street', u'Other Movers',\n",
       "       u'Pavement Markings', u'Safety Belt', u'School Bus, Passing Stopped',\n",
       "       u'Speeding', u'Spillback', u'Tinted Windows', u'Truck Routes',\n",
       "       u'U-Turn', u'Uninspected', u'Uninsured', u'Unlicensed Operator',\n",
       "       u'Unregistered', u'P12', u'P123', u'Traf_Total',\n",
       "       u'Neigh_Slow_Zone_Total', u'Speed_Bump_Total',\n",
       "       u'NUMBER OF PERSONS INJURED', u'NUMBER OF PERSONS KILLED',\n",
       "       u'NUMBER OF PEDESTRIANS INJURED', u'NUMBER OF PEDESTRIANS KILLED',\n",
       "       u'NUMBER OF CYCLIST INJURED', u'NUMBER OF CYCLIST KILLED',\n",
       "       u'NUMBER OF MOTORIST INJURED', u'NUMBER OF MOTORIST KILLED'],\n",
       "      dtype='object')"
      ]
     },
     "execution_count": 3,
     "metadata": {},
     "output_type": "execute_result"
    }
   ],
   "source": [
    "data = pd.read_csv('/Users/JordanVani/Documents/NYU/ADS/Report/Vision_Zero/Merged_V2.csv')\n",
    "data.drop('Unnamed: 0', 1, inplace=True)\n",
    "data = data.query('Year not in [2016, 2011, 2012]')\n",
    "print data.shape\n",
    "data.columns"
   ]
  },
  {
   "cell_type": "markdown",
   "metadata": {},
   "source": [
    "### Has There Been a Decrease in Injuries or Deaths Post Vision Zero?"
   ]
  },
  {
   "cell_type": "code",
   "execution_count": 4,
   "metadata": {
    "collapsed": false
   },
   "outputs": [
    {
     "name": "stdout",
     "output_type": "stream",
     "text": [
      "NUMBER OF PERSONS INJURED:  Ttest_indResult(statistic=1.102857169053532, pvalue=0.27124684145722694)\n",
      "NUMBER OF PERSONS KILLED:  Ttest_indResult(statistic=1.2321455695227292, pvalue=0.21915832688152653)\n",
      "NUMBER OF PEDESTRIANS INJURED:  Ttest_indResult(statistic=2.0418680765817521, pvalue=0.042310774522712702)\n",
      "NUMBER OF PEDESTRIANS KILLED:  Ttest_indResult(statistic=1.521719217215088, pvalue=0.1294590608339313)\n",
      "NUMBER OF CYCLIST INJURED:  Ttest_indResult(statistic=-0.15725487720103093, pvalue=0.87518254289725106)\n",
      "NUMBER OF CYCLIST KILLED:  Ttest_indResult(statistic=-1.6309212059987916, pvalue=0.1042814663020092)\n",
      "NUMBER OF MOTORIST INJURED:  Ttest_indResult(statistic=0.82768772056458795, pvalue=0.40870907671646139)\n",
      "NUMBER OF MOTORIST KILLED:  Ttest_indResult(statistic=0.98195600341063205, pvalue=0.32715781104872366)\n"
     ]
    }
   ],
   "source": [
    "preVZ = data.query('Year == 2013')\n",
    "postVZ = data.query('Year in [2014, 2015]')\n",
    "\n",
    "personsinjured = sc.ttest_ind(preVZ['NUMBER OF PERSONS INJURED'], postVZ['NUMBER OF PERSONS INJURED'])\n",
    "personskilled = sc.ttest_ind(preVZ['NUMBER OF PERSONS KILLED'], postVZ['NUMBER OF PERSONS KILLED'])\n",
    "pedinjured = sc.ttest_ind(preVZ['NUMBER OF PEDESTRIANS INJURED'], postVZ['NUMBER OF PEDESTRIANS INJURED'])\n",
    "pedkilled = sc.ttest_ind(preVZ['NUMBER OF PEDESTRIANS KILLED'], postVZ['NUMBER OF PEDESTRIANS KILLED'])\n",
    "cycinjured = sc.ttest_ind(preVZ['NUMBER OF CYCLIST INJURED'], postVZ['NUMBER OF CYCLIST INJURED'])\n",
    "cyckilled = sc.ttest_ind(preVZ['NUMBER OF CYCLIST KILLED'], postVZ['NUMBER OF CYCLIST KILLED'])\n",
    "motoinjured = sc.ttest_ind(preVZ['NUMBER OF MOTORIST INJURED'], postVZ['NUMBER OF MOTORIST INJURED'])\n",
    "motokilled = sc.ttest_ind(preVZ['NUMBER OF MOTORIST KILLED'], postVZ['NUMBER OF MOTORIST KILLED'])\n",
    "\n",
    "\n",
    "print \"NUMBER OF PERSONS INJURED: \", personsinjured\n",
    "print \"NUMBER OF PERSONS KILLED: \", personskilled\n",
    "print \"NUMBER OF PEDESTRIANS INJURED: \", pedinjured\n",
    "print \"NUMBER OF PEDESTRIANS KILLED: \", pedkilled\n",
    "print \"NUMBER OF CYCLIST INJURED: \", cycinjured\n",
    "print \"NUMBER OF CYCLIST KILLED: \", cyckilled\n",
    "print \"NUMBER OF MOTORIST INJURED: \", motoinjured\n",
    "print \"NUMBER OF MOTORIST KILLED: \", motokilled"
   ]
  },
  {
   "cell_type": "code",
   "execution_count": 11,
   "metadata": {
    "collapsed": false
   },
   "outputs": [
    {
     "data": {
      "text/html": [
       "<div>\n",
       "<table border=\"1\" class=\"dataframe\">\n",
       "  <thead>\n",
       "    <tr style=\"text-align: right;\">\n",
       "      <th></th>\n",
       "      <th>PrecinctYear</th>\n",
       "      <th>Precinct</th>\n",
       "      <th>Year</th>\n",
       "      <th>Taxis</th>\n",
       "      <th>Flyers</th>\n",
       "      <th>Seniors</th>\n",
       "      <th>Outreach</th>\n",
       "      <th>HandsOn</th>\n",
       "      <th>Edu_Total</th>\n",
       "      <th>Backing Unsafely</th>\n",
       "      <th>...</th>\n",
       "      <th>Neigh_Slow_Zone_Total</th>\n",
       "      <th>Speed_Bump_Total</th>\n",
       "      <th>NUMBER OF PERSONS INJURED</th>\n",
       "      <th>NUMBER OF PERSONS KILLED</th>\n",
       "      <th>NUMBER OF PEDESTRIANS INJURED</th>\n",
       "      <th>NUMBER OF PEDESTRIANS KILLED</th>\n",
       "      <th>NUMBER OF CYCLIST INJURED</th>\n",
       "      <th>NUMBER OF CYCLIST KILLED</th>\n",
       "      <th>NUMBER OF MOTORIST INJURED</th>\n",
       "      <th>NUMBER OF MOTORIST KILLED</th>\n",
       "    </tr>\n",
       "  </thead>\n",
       "  <tbody>\n",
       "    <tr>\n",
       "      <th>count</th>\n",
       "      <td>7.700000e+01</td>\n",
       "      <td>77.000000</td>\n",
       "      <td>77.0</td>\n",
       "      <td>77.0</td>\n",
       "      <td>77.0</td>\n",
       "      <td>77.0</td>\n",
       "      <td>77.0</td>\n",
       "      <td>77.0</td>\n",
       "      <td>77.0</td>\n",
       "      <td>77.000000</td>\n",
       "      <td>...</td>\n",
       "      <td>77.000000</td>\n",
       "      <td>77.000000</td>\n",
       "      <td>77.000000</td>\n",
       "      <td>77.000000</td>\n",
       "      <td>77.000000</td>\n",
       "      <td>77.000000</td>\n",
       "      <td>77.000000</td>\n",
       "      <td>77.000000</td>\n",
       "      <td>77.000000</td>\n",
       "      <td>77.000000</td>\n",
       "    </tr>\n",
       "    <tr>\n",
       "      <th>mean</th>\n",
       "      <td>6.352598e+05</td>\n",
       "      <td>63.324675</td>\n",
       "      <td>2013.0</td>\n",
       "      <td>0.0</td>\n",
       "      <td>0.0</td>\n",
       "      <td>0.0</td>\n",
       "      <td>0.0</td>\n",
       "      <td>0.0</td>\n",
       "      <td>0.0</td>\n",
       "      <td>18.805195</td>\n",
       "      <td>...</td>\n",
       "      <td>0.077922</td>\n",
       "      <td>0.454545</td>\n",
       "      <td>608.831169</td>\n",
       "      <td>3.142857</td>\n",
       "      <td>140.350649</td>\n",
       "      <td>1.831169</td>\n",
       "      <td>48.363636</td>\n",
       "      <td>0.103896</td>\n",
       "      <td>420.116883</td>\n",
       "      <td>1.207792</td>\n",
       "    </tr>\n",
       "    <tr>\n",
       "      <th>std</th>\n",
       "      <td>3.611839e+05</td>\n",
       "      <td>36.118388</td>\n",
       "      <td>0.0</td>\n",
       "      <td>0.0</td>\n",
       "      <td>0.0</td>\n",
       "      <td>0.0</td>\n",
       "      <td>0.0</td>\n",
       "      <td>0.0</td>\n",
       "      <td>0.0</td>\n",
       "      <td>16.175061</td>\n",
       "      <td>...</td>\n",
       "      <td>0.314820</td>\n",
       "      <td>1.094790</td>\n",
       "      <td>307.771720</td>\n",
       "      <td>2.644330</td>\n",
       "      <td>66.610961</td>\n",
       "      <td>1.673340</td>\n",
       "      <td>33.590768</td>\n",
       "      <td>0.307127</td>\n",
       "      <td>261.144443</td>\n",
       "      <td>1.558826</td>\n",
       "    </tr>\n",
       "    <tr>\n",
       "      <th>min</th>\n",
       "      <td>1.201300e+04</td>\n",
       "      <td>1.000000</td>\n",
       "      <td>2013.0</td>\n",
       "      <td>0.0</td>\n",
       "      <td>0.0</td>\n",
       "      <td>0.0</td>\n",
       "      <td>0.0</td>\n",
       "      <td>0.0</td>\n",
       "      <td>0.0</td>\n",
       "      <td>1.000000</td>\n",
       "      <td>...</td>\n",
       "      <td>0.000000</td>\n",
       "      <td>0.000000</td>\n",
       "      <td>82.000000</td>\n",
       "      <td>0.000000</td>\n",
       "      <td>22.000000</td>\n",
       "      <td>0.000000</td>\n",
       "      <td>2.000000</td>\n",
       "      <td>0.000000</td>\n",
       "      <td>40.000000</td>\n",
       "      <td>0.000000</td>\n",
       "    </tr>\n",
       "    <tr>\n",
       "      <th>25%</th>\n",
       "      <td>3.220130e+05</td>\n",
       "      <td>32.000000</td>\n",
       "      <td>2013.0</td>\n",
       "      <td>0.0</td>\n",
       "      <td>0.0</td>\n",
       "      <td>0.0</td>\n",
       "      <td>0.0</td>\n",
       "      <td>0.0</td>\n",
       "      <td>0.0</td>\n",
       "      <td>6.000000</td>\n",
       "      <td>...</td>\n",
       "      <td>0.000000</td>\n",
       "      <td>0.000000</td>\n",
       "      <td>405.000000</td>\n",
       "      <td>1.000000</td>\n",
       "      <td>94.000000</td>\n",
       "      <td>1.000000</td>\n",
       "      <td>23.000000</td>\n",
       "      <td>0.000000</td>\n",
       "      <td>227.000000</td>\n",
       "      <td>0.000000</td>\n",
       "    </tr>\n",
       "    <tr>\n",
       "      <th>50%</th>\n",
       "      <td>6.620130e+05</td>\n",
       "      <td>66.000000</td>\n",
       "      <td>2013.0</td>\n",
       "      <td>0.0</td>\n",
       "      <td>0.0</td>\n",
       "      <td>0.0</td>\n",
       "      <td>0.0</td>\n",
       "      <td>0.0</td>\n",
       "      <td>0.0</td>\n",
       "      <td>13.000000</td>\n",
       "      <td>...</td>\n",
       "      <td>0.000000</td>\n",
       "      <td>0.000000</td>\n",
       "      <td>588.000000</td>\n",
       "      <td>2.000000</td>\n",
       "      <td>132.000000</td>\n",
       "      <td>1.000000</td>\n",
       "      <td>38.000000</td>\n",
       "      <td>0.000000</td>\n",
       "      <td>394.000000</td>\n",
       "      <td>1.000000</td>\n",
       "    </tr>\n",
       "    <tr>\n",
       "      <th>75%</th>\n",
       "      <td>1.002013e+06</td>\n",
       "      <td>100.000000</td>\n",
       "      <td>2013.0</td>\n",
       "      <td>0.0</td>\n",
       "      <td>0.0</td>\n",
       "      <td>0.0</td>\n",
       "      <td>0.0</td>\n",
       "      <td>0.0</td>\n",
       "      <td>0.0</td>\n",
       "      <td>23.000000</td>\n",
       "      <td>...</td>\n",
       "      <td>0.000000</td>\n",
       "      <td>0.000000</td>\n",
       "      <td>751.000000</td>\n",
       "      <td>4.000000</td>\n",
       "      <td>182.000000</td>\n",
       "      <td>3.000000</td>\n",
       "      <td>71.000000</td>\n",
       "      <td>0.000000</td>\n",
       "      <td>515.000000</td>\n",
       "      <td>1.000000</td>\n",
       "    </tr>\n",
       "    <tr>\n",
       "      <th>max</th>\n",
       "      <td>1.232013e+06</td>\n",
       "      <td>123.000000</td>\n",
       "      <td>2013.0</td>\n",
       "      <td>0.0</td>\n",
       "      <td>0.0</td>\n",
       "      <td>0.0</td>\n",
       "      <td>0.0</td>\n",
       "      <td>0.0</td>\n",
       "      <td>0.0</td>\n",
       "      <td>68.000000</td>\n",
       "      <td>...</td>\n",
       "      <td>2.000000</td>\n",
       "      <td>5.000000</td>\n",
       "      <td>1703.000000</td>\n",
       "      <td>12.000000</td>\n",
       "      <td>304.000000</td>\n",
       "      <td>6.000000</td>\n",
       "      <td>168.000000</td>\n",
       "      <td>1.000000</td>\n",
       "      <td>1487.000000</td>\n",
       "      <td>6.000000</td>\n",
       "    </tr>\n",
       "  </tbody>\n",
       "</table>\n",
       "<p>8 rows × 55 columns</p>\n",
       "</div>"
      ],
      "text/plain": [
       "       PrecinctYear    Precinct    Year  Taxis  Flyers  Seniors  Outreach  \\\n",
       "count  7.700000e+01   77.000000    77.0   77.0    77.0     77.0      77.0   \n",
       "mean   6.352598e+05   63.324675  2013.0    0.0     0.0      0.0       0.0   \n",
       "std    3.611839e+05   36.118388     0.0    0.0     0.0      0.0       0.0   \n",
       "min    1.201300e+04    1.000000  2013.0    0.0     0.0      0.0       0.0   \n",
       "25%    3.220130e+05   32.000000  2013.0    0.0     0.0      0.0       0.0   \n",
       "50%    6.620130e+05   66.000000  2013.0    0.0     0.0      0.0       0.0   \n",
       "75%    1.002013e+06  100.000000  2013.0    0.0     0.0      0.0       0.0   \n",
       "max    1.232013e+06  123.000000  2013.0    0.0     0.0      0.0       0.0   \n",
       "\n",
       "       HandsOn  Edu_Total  Backing Unsafely            ...              \\\n",
       "count     77.0       77.0         77.000000            ...               \n",
       "mean       0.0        0.0         18.805195            ...               \n",
       "std        0.0        0.0         16.175061            ...               \n",
       "min        0.0        0.0          1.000000            ...               \n",
       "25%        0.0        0.0          6.000000            ...               \n",
       "50%        0.0        0.0         13.000000            ...               \n",
       "75%        0.0        0.0         23.000000            ...               \n",
       "max        0.0        0.0         68.000000            ...               \n",
       "\n",
       "       Neigh_Slow_Zone_Total  Speed_Bump_Total  NUMBER OF PERSONS INJURED  \\\n",
       "count              77.000000         77.000000                  77.000000   \n",
       "mean                0.077922          0.454545                 608.831169   \n",
       "std                 0.314820          1.094790                 307.771720   \n",
       "min                 0.000000          0.000000                  82.000000   \n",
       "25%                 0.000000          0.000000                 405.000000   \n",
       "50%                 0.000000          0.000000                 588.000000   \n",
       "75%                 0.000000          0.000000                 751.000000   \n",
       "max                 2.000000          5.000000                1703.000000   \n",
       "\n",
       "       NUMBER OF PERSONS KILLED  NUMBER OF PEDESTRIANS INJURED  \\\n",
       "count                 77.000000                      77.000000   \n",
       "mean                   3.142857                     140.350649   \n",
       "std                    2.644330                      66.610961   \n",
       "min                    0.000000                      22.000000   \n",
       "25%                    1.000000                      94.000000   \n",
       "50%                    2.000000                     132.000000   \n",
       "75%                    4.000000                     182.000000   \n",
       "max                   12.000000                     304.000000   \n",
       "\n",
       "       NUMBER OF PEDESTRIANS KILLED  NUMBER OF CYCLIST INJURED  \\\n",
       "count                     77.000000                  77.000000   \n",
       "mean                       1.831169                  48.363636   \n",
       "std                        1.673340                  33.590768   \n",
       "min                        0.000000                   2.000000   \n",
       "25%                        1.000000                  23.000000   \n",
       "50%                        1.000000                  38.000000   \n",
       "75%                        3.000000                  71.000000   \n",
       "max                        6.000000                 168.000000   \n",
       "\n",
       "       NUMBER OF CYCLIST KILLED  NUMBER OF MOTORIST INJURED  \\\n",
       "count                 77.000000                   77.000000   \n",
       "mean                   0.103896                  420.116883   \n",
       "std                    0.307127                  261.144443   \n",
       "min                    0.000000                   40.000000   \n",
       "25%                    0.000000                  227.000000   \n",
       "50%                    0.000000                  394.000000   \n",
       "75%                    0.000000                  515.000000   \n",
       "max                    1.000000                 1487.000000   \n",
       "\n",
       "       NUMBER OF MOTORIST KILLED  \n",
       "count                  77.000000  \n",
       "mean                    1.207792  \n",
       "std                     1.558826  \n",
       "min                     0.000000  \n",
       "25%                     0.000000  \n",
       "50%                     1.000000  \n",
       "75%                     1.000000  \n",
       "max                     6.000000  \n",
       "\n",
       "[8 rows x 55 columns]"
      ]
     },
     "execution_count": 11,
     "metadata": {},
     "output_type": "execute_result"
    }
   ],
   "source": [
    "preVZ.describe()"
   ]
  },
  {
   "cell_type": "code",
   "execution_count": 12,
   "metadata": {
    "collapsed": false
   },
   "outputs": [
    {
     "data": {
      "text/html": [
       "<div>\n",
       "<table border=\"1\" class=\"dataframe\">\n",
       "  <thead>\n",
       "    <tr style=\"text-align: right;\">\n",
       "      <th></th>\n",
       "      <th>PrecinctYear</th>\n",
       "      <th>Precinct</th>\n",
       "      <th>Year</th>\n",
       "      <th>Taxis</th>\n",
       "      <th>Flyers</th>\n",
       "      <th>Seniors</th>\n",
       "      <th>Outreach</th>\n",
       "      <th>HandsOn</th>\n",
       "      <th>Edu_Total</th>\n",
       "      <th>Backing Unsafely</th>\n",
       "      <th>...</th>\n",
       "      <th>Neigh_Slow_Zone_Total</th>\n",
       "      <th>Speed_Bump_Total</th>\n",
       "      <th>NUMBER OF PERSONS INJURED</th>\n",
       "      <th>NUMBER OF PERSONS KILLED</th>\n",
       "      <th>NUMBER OF PEDESTRIANS INJURED</th>\n",
       "      <th>NUMBER OF PEDESTRIANS KILLED</th>\n",
       "      <th>NUMBER OF CYCLIST INJURED</th>\n",
       "      <th>NUMBER OF CYCLIST KILLED</th>\n",
       "      <th>NUMBER OF MOTORIST INJURED</th>\n",
       "      <th>NUMBER OF MOTORIST KILLED</th>\n",
       "    </tr>\n",
       "  </thead>\n",
       "  <tbody>\n",
       "    <tr>\n",
       "      <th>count</th>\n",
       "      <td>1.540000e+02</td>\n",
       "      <td>154.000000</td>\n",
       "      <td>154.000000</td>\n",
       "      <td>154.000000</td>\n",
       "      <td>154.000000</td>\n",
       "      <td>154.000000</td>\n",
       "      <td>154.000000</td>\n",
       "      <td>154.000000</td>\n",
       "      <td>154.000000</td>\n",
       "      <td>154.000000</td>\n",
       "      <td>...</td>\n",
       "      <td>154.000000</td>\n",
       "      <td>154.000000</td>\n",
       "      <td>154.000000</td>\n",
       "      <td>154.000000</td>\n",
       "      <td>154.000000</td>\n",
       "      <td>154.000000</td>\n",
       "      <td>154.000000</td>\n",
       "      <td>154.000000</td>\n",
       "      <td>154.000000</td>\n",
       "      <td>154.000000</td>\n",
       "    </tr>\n",
       "    <tr>\n",
       "      <th>mean</th>\n",
       "      <td>6.352613e+05</td>\n",
       "      <td>63.324675</td>\n",
       "      <td>2014.500000</td>\n",
       "      <td>1.954545</td>\n",
       "      <td>0.616883</td>\n",
       "      <td>1.467532</td>\n",
       "      <td>8.337662</td>\n",
       "      <td>1.064935</td>\n",
       "      <td>13.441558</td>\n",
       "      <td>19.461039</td>\n",
       "      <td>...</td>\n",
       "      <td>0.038961</td>\n",
       "      <td>1.785714</td>\n",
       "      <td>561.305195</td>\n",
       "      <td>2.701299</td>\n",
       "      <td>122.779221</td>\n",
       "      <td>1.487013</td>\n",
       "      <td>49.077922</td>\n",
       "      <td>0.201299</td>\n",
       "      <td>389.448052</td>\n",
       "      <td>1.012987</td>\n",
       "    </tr>\n",
       "    <tr>\n",
       "      <th>std</th>\n",
       "      <td>3.600016e+05</td>\n",
       "      <td>36.000160</td>\n",
       "      <td>0.501631</td>\n",
       "      <td>3.969394</td>\n",
       "      <td>1.401204</td>\n",
       "      <td>2.036172</td>\n",
       "      <td>5.879199</td>\n",
       "      <td>1.467181</td>\n",
       "      <td>8.105503</td>\n",
       "      <td>17.694626</td>\n",
       "      <td>...</td>\n",
       "      <td>0.225299</td>\n",
       "      <td>4.267163</td>\n",
       "      <td>309.239597</td>\n",
       "      <td>2.528607</td>\n",
       "      <td>59.041167</td>\n",
       "      <td>1.593438</td>\n",
       "      <td>32.010932</td>\n",
       "      <td>0.476642</td>\n",
       "      <td>267.606262</td>\n",
       "      <td>1.347896</td>\n",
       "    </tr>\n",
       "    <tr>\n",
       "      <th>min</th>\n",
       "      <td>1.201400e+04</td>\n",
       "      <td>1.000000</td>\n",
       "      <td>2014.000000</td>\n",
       "      <td>0.000000</td>\n",
       "      <td>0.000000</td>\n",
       "      <td>0.000000</td>\n",
       "      <td>0.000000</td>\n",
       "      <td>0.000000</td>\n",
       "      <td>0.000000</td>\n",
       "      <td>0.000000</td>\n",
       "      <td>...</td>\n",
       "      <td>0.000000</td>\n",
       "      <td>0.000000</td>\n",
       "      <td>69.000000</td>\n",
       "      <td>0.000000</td>\n",
       "      <td>0.000000</td>\n",
       "      <td>0.000000</td>\n",
       "      <td>0.000000</td>\n",
       "      <td>0.000000</td>\n",
       "      <td>34.000000</td>\n",
       "      <td>0.000000</td>\n",
       "    </tr>\n",
       "    <tr>\n",
       "      <th>25%</th>\n",
       "      <td>3.220142e+05</td>\n",
       "      <td>32.000000</td>\n",
       "      <td>2014.000000</td>\n",
       "      <td>0.000000</td>\n",
       "      <td>0.000000</td>\n",
       "      <td>0.000000</td>\n",
       "      <td>4.000000</td>\n",
       "      <td>0.000000</td>\n",
       "      <td>8.000000</td>\n",
       "      <td>7.250000</td>\n",
       "      <td>...</td>\n",
       "      <td>0.000000</td>\n",
       "      <td>0.000000</td>\n",
       "      <td>345.500000</td>\n",
       "      <td>1.000000</td>\n",
       "      <td>80.500000</td>\n",
       "      <td>0.000000</td>\n",
       "      <td>25.000000</td>\n",
       "      <td>0.000000</td>\n",
       "      <td>193.000000</td>\n",
       "      <td>0.000000</td>\n",
       "    </tr>\n",
       "    <tr>\n",
       "      <th>50%</th>\n",
       "      <td>6.620145e+05</td>\n",
       "      <td>66.000000</td>\n",
       "      <td>2014.500000</td>\n",
       "      <td>0.000000</td>\n",
       "      <td>0.000000</td>\n",
       "      <td>1.000000</td>\n",
       "      <td>7.000000</td>\n",
       "      <td>1.000000</td>\n",
       "      <td>13.000000</td>\n",
       "      <td>14.000000</td>\n",
       "      <td>...</td>\n",
       "      <td>0.000000</td>\n",
       "      <td>0.000000</td>\n",
       "      <td>539.500000</td>\n",
       "      <td>2.000000</td>\n",
       "      <td>116.000000</td>\n",
       "      <td>1.000000</td>\n",
       "      <td>39.000000</td>\n",
       "      <td>0.000000</td>\n",
       "      <td>353.500000</td>\n",
       "      <td>1.000000</td>\n",
       "    </tr>\n",
       "    <tr>\n",
       "      <th>75%</th>\n",
       "      <td>1.002015e+06</td>\n",
       "      <td>100.000000</td>\n",
       "      <td>2015.000000</td>\n",
       "      <td>3.000000</td>\n",
       "      <td>0.000000</td>\n",
       "      <td>2.000000</td>\n",
       "      <td>12.000000</td>\n",
       "      <td>2.000000</td>\n",
       "      <td>18.000000</td>\n",
       "      <td>24.000000</td>\n",
       "      <td>...</td>\n",
       "      <td>0.000000</td>\n",
       "      <td>0.000000</td>\n",
       "      <td>694.750000</td>\n",
       "      <td>4.000000</td>\n",
       "      <td>163.500000</td>\n",
       "      <td>2.000000</td>\n",
       "      <td>72.000000</td>\n",
       "      <td>0.000000</td>\n",
       "      <td>490.500000</td>\n",
       "      <td>1.000000</td>\n",
       "    </tr>\n",
       "    <tr>\n",
       "      <th>max</th>\n",
       "      <td>1.232015e+06</td>\n",
       "      <td>123.000000</td>\n",
       "      <td>2015.000000</td>\n",
       "      <td>38.000000</td>\n",
       "      <td>7.000000</td>\n",
       "      <td>13.000000</td>\n",
       "      <td>25.000000</td>\n",
       "      <td>9.000000</td>\n",
       "      <td>59.000000</td>\n",
       "      <td>93.000000</td>\n",
       "      <td>...</td>\n",
       "      <td>2.000000</td>\n",
       "      <td>30.000000</td>\n",
       "      <td>1820.000000</td>\n",
       "      <td>12.000000</td>\n",
       "      <td>267.000000</td>\n",
       "      <td>8.000000</td>\n",
       "      <td>162.000000</td>\n",
       "      <td>2.000000</td>\n",
       "      <td>1628.000000</td>\n",
       "      <td>6.000000</td>\n",
       "    </tr>\n",
       "  </tbody>\n",
       "</table>\n",
       "<p>8 rows × 55 columns</p>\n",
       "</div>"
      ],
      "text/plain": [
       "       PrecinctYear    Precinct         Year       Taxis      Flyers  \\\n",
       "count  1.540000e+02  154.000000   154.000000  154.000000  154.000000   \n",
       "mean   6.352613e+05   63.324675  2014.500000    1.954545    0.616883   \n",
       "std    3.600016e+05   36.000160     0.501631    3.969394    1.401204   \n",
       "min    1.201400e+04    1.000000  2014.000000    0.000000    0.000000   \n",
       "25%    3.220142e+05   32.000000  2014.000000    0.000000    0.000000   \n",
       "50%    6.620145e+05   66.000000  2014.500000    0.000000    0.000000   \n",
       "75%    1.002015e+06  100.000000  2015.000000    3.000000    0.000000   \n",
       "max    1.232015e+06  123.000000  2015.000000   38.000000    7.000000   \n",
       "\n",
       "          Seniors    Outreach     HandsOn   Edu_Total  Backing Unsafely  \\\n",
       "count  154.000000  154.000000  154.000000  154.000000        154.000000   \n",
       "mean     1.467532    8.337662    1.064935   13.441558         19.461039   \n",
       "std      2.036172    5.879199    1.467181    8.105503         17.694626   \n",
       "min      0.000000    0.000000    0.000000    0.000000          0.000000   \n",
       "25%      0.000000    4.000000    0.000000    8.000000          7.250000   \n",
       "50%      1.000000    7.000000    1.000000   13.000000         14.000000   \n",
       "75%      2.000000   12.000000    2.000000   18.000000         24.000000   \n",
       "max     13.000000   25.000000    9.000000   59.000000         93.000000   \n",
       "\n",
       "                 ...              Neigh_Slow_Zone_Total  Speed_Bump_Total  \\\n",
       "count            ...                         154.000000        154.000000   \n",
       "mean             ...                           0.038961          1.785714   \n",
       "std              ...                           0.225299          4.267163   \n",
       "min              ...                           0.000000          0.000000   \n",
       "25%              ...                           0.000000          0.000000   \n",
       "50%              ...                           0.000000          0.000000   \n",
       "75%              ...                           0.000000          0.000000   \n",
       "max              ...                           2.000000         30.000000   \n",
       "\n",
       "       NUMBER OF PERSONS INJURED  NUMBER OF PERSONS KILLED  \\\n",
       "count                 154.000000                154.000000   \n",
       "mean                  561.305195                  2.701299   \n",
       "std                   309.239597                  2.528607   \n",
       "min                    69.000000                  0.000000   \n",
       "25%                   345.500000                  1.000000   \n",
       "50%                   539.500000                  2.000000   \n",
       "75%                   694.750000                  4.000000   \n",
       "max                  1820.000000                 12.000000   \n",
       "\n",
       "       NUMBER OF PEDESTRIANS INJURED  NUMBER OF PEDESTRIANS KILLED  \\\n",
       "count                     154.000000                    154.000000   \n",
       "mean                      122.779221                      1.487013   \n",
       "std                        59.041167                      1.593438   \n",
       "min                         0.000000                      0.000000   \n",
       "25%                        80.500000                      0.000000   \n",
       "50%                       116.000000                      1.000000   \n",
       "75%                       163.500000                      2.000000   \n",
       "max                       267.000000                      8.000000   \n",
       "\n",
       "       NUMBER OF CYCLIST INJURED  NUMBER OF CYCLIST KILLED  \\\n",
       "count                 154.000000                154.000000   \n",
       "mean                   49.077922                  0.201299   \n",
       "std                    32.010932                  0.476642   \n",
       "min                     0.000000                  0.000000   \n",
       "25%                    25.000000                  0.000000   \n",
       "50%                    39.000000                  0.000000   \n",
       "75%                    72.000000                  0.000000   \n",
       "max                   162.000000                  2.000000   \n",
       "\n",
       "       NUMBER OF MOTORIST INJURED  NUMBER OF MOTORIST KILLED  \n",
       "count                  154.000000                 154.000000  \n",
       "mean                   389.448052                   1.012987  \n",
       "std                    267.606262                   1.347896  \n",
       "min                     34.000000                   0.000000  \n",
       "25%                    193.000000                   0.000000  \n",
       "50%                    353.500000                   1.000000  \n",
       "75%                    490.500000                   1.000000  \n",
       "max                   1628.000000                   6.000000  \n",
       "\n",
       "[8 rows x 55 columns]"
      ]
     },
     "execution_count": 12,
     "metadata": {},
     "output_type": "execute_result"
    }
   ],
   "source": [
    "postVZ.describe()"
   ]
  },
  {
   "cell_type": "code",
   "execution_count": 5,
   "metadata": {
    "collapsed": false
   },
   "outputs": [
    {
     "data": {
      "text/plain": [
       "<matplotlib.legend.Legend at 0x116db28d0>"
      ]
     },
     "execution_count": 5,
     "metadata": {},
     "output_type": "execute_result"
    },
    {
     "data": {
      "image/png": "[encoded data removed]",
      "text/plain": [
       "<matplotlib.figure.Figure at 0x113f8ef50>"
      ]
     },
     "metadata": {},
     "output_type": "display_data"
    }
   ],
   "source": [
    "density = sc.gaussian_kde(preVZ['NUMBER OF PERSONS INJURED'])\n",
    "density1 = sc.gaussian_kde(postVZ['NUMBER OF PERSONS INJURED'])\n",
    "xs = np.linspace(0, 2000, 200)\n",
    "\n",
    "\n",
    "fig1, (ax1) = pl.subplots(nrows = 1, ncols = 1, figsize = (16, 4))\n",
    "ax1.plot(xs, density(xs), c='b', label='Pre-Vision Zero')\n",
    "ax1.plot(xs, density1(xs), c='r', label='Post-Vision Zero')\n",
    "ax1.set_title('Density Plot of Persons Injured in Vehicular Collisions for NYC')\n",
    "ax1.set_ylabel('Density')\n",
    "ax1.set_xlabel('Number of Injuries')\n",
    "ax1.legend()"
   ]
  },
  {
   "cell_type": "code",
   "execution_count": 6,
   "metadata": {
    "collapsed": false
   },
   "outputs": [
    {
     "name": "stdout",
     "output_type": "stream",
     "text": [
      "Ks_2sampResult(statistic=0.12337662337662347, pvalue=0.39182090769492822)\n"
     ]
    }
   ],
   "source": [
    "ks = sc.stats.ks_2samp(postVZ['NUMBER OF PERSONS INJURED'], \n",
    "                       preVZ['NUMBER OF PERSONS INJURED'])\n",
    "print (ks)"
   ]
  },
  {
   "cell_type": "code",
   "execution_count": 7,
   "metadata": {
    "collapsed": false
   },
   "outputs": [
    {
     "data": {
      "text/plain": [
       "<matplotlib.legend.Legend at 0x1175a1210>"
      ]
     },
     "execution_count": 7,
     "metadata": {},
     "output_type": "execute_result"
    },
    {
     "data": {
      "image/png": "[encoded data removed]",
      "text/plain": [
       "<matplotlib.figure.Figure at 0x113f8ec90>"
      ]
     },
     "metadata": {},
     "output_type": "display_data"
    }
   ],
   "source": [
    "density = sc.gaussian_kde(preVZ['NUMBER OF PEDESTRIANS INJURED'])\n",
    "density1 = sc.gaussian_kde(postVZ['NUMBER OF PEDESTRIANS INJURED'])\n",
    "xs = np.linspace(0, 400, 200)\n",
    "\n",
    "fig1, (ax1) = pl.subplots(nrows = 1, ncols = 1, figsize = (16, 4))\n",
    "ax1.plot(xs, density(xs), c='b', label='Pre-Vision Zero')\n",
    "ax1.plot(xs, density1(xs), c='r', label='Post-Vision Zero')\n",
    "ax1.set_title('Density Plot of Pedestrians Injured in Vehicular Collisions for NYC')\n",
    "ax1.set_ylabel('Density')\n",
    "ax1.set_xlabel('Number of Injuries')\n",
    "ax1.legend()"
   ]
  },
  {
   "cell_type": "code",
   "execution_count": 8,
   "metadata": {
    "collapsed": false,
    "scrolled": true
   },
   "outputs": [
    {
     "name": "stdout",
     "output_type": "stream",
     "text": [
      "Ks_2sampResult(statistic=0.14935064935064934, pvalue=0.18543743077400293)\n"
     ]
    }
   ],
   "source": [
    "ks = sc.stats.ks_2samp(postVZ['NUMBER OF PEDESTRIANS INJURED'], \n",
    "                       preVZ['NUMBER OF PEDESTRIANS INJURED'])\n",
    "print (ks)"
   ]
  },
  {
   "cell_type": "code",
   "execution_count": 9,
   "metadata": {
    "collapsed": false
   },
   "outputs": [
    {
     "data": {
      "text/plain": [
       "<matplotlib.legend.Legend at 0x117676f50>"
      ]
     },
     "execution_count": 9,
     "metadata": {},
     "output_type": "execute_result"
    },
    {
     "data": {
      "image/png": "[encoded data removed]",
      "text/plain": [
       "<matplotlib.figure.Figure at 0x1175c2790>"
      ]
     },
     "metadata": {},
     "output_type": "display_data"
    }
   ],
   "source": [
    "density = sc.gaussian_kde(preVZ['NUMBER OF CYCLIST INJURED'])\n",
    "density1 = sc.gaussian_kde(postVZ['NUMBER OF CYCLIST INJURED'])\n",
    "xs = np.linspace(0, 150, 200)\n",
    "\n",
    "fig1, (ax1) = pl.subplots(nrows = 1, ncols = 1, figsize = (16, 4))\n",
    "ax1.plot(xs, density(xs), c='b', label='Pre-Vision Zero')\n",
    "ax1.plot(xs, density1(xs), c='r', label='Post-Vision Zero')\n",
    "ax1.set_title('Density Plot of Cyclist Injured in Vehicular Collisions for NYC')\n",
    "ax1.set_ylabel('Density')\n",
    "ax1.set_xlabel('Number of Injuries')\n",
    "ax1.legend()"
   ]
  },
  {
   "cell_type": "code",
   "execution_count": 13,
   "metadata": {
    "collapsed": false
   },
   "outputs": [
    {
     "name": "stdout",
     "output_type": "stream",
     "text": [
      "Ks_2sampResult(statistic=0.064935064935064957, pvalue=0.97817885637034685)\n"
     ]
    }
   ],
   "source": [
    "ks = sc.stats.ks_2samp(postVZ['NUMBER OF CYCLIST INJURED'], \n",
    "                       preVZ['NUMBER OF CYCLIST INJURED'])\n",
    "print (ks)"
   ]
  },
  {
   "cell_type": "markdown",
   "metadata": {},
   "source": [
    "### Does Changing Ticketing Priorities Correlate with a Change in Injuries?"
   ]
  },
  {
   "cell_type": "code",
   "execution_count": 96,
   "metadata": {
    "collapsed": false
   },
   "outputs": [],
   "source": [
    "cols = ['Precinct', 'Not Giving R of W to Pedes.', 'P12', 'P123',\n",
    "        'NUMBER OF PERSONS INJURED', 'NUMBER OF PERSONS KILLED',\n",
    "        'NUMBER OF PEDESTRIANS INJURED', 'NUMBER OF PEDESTRIANS KILLED',\n",
    "        'NUMBER OF CYCLIST INJURED', 'NUMBER OF CYCLIST KILLED',\n",
    "        'NUMBER OF MOTORIST INJURED', 'NUMBER OF MOTORIST KILLED']\n",
    "\n",
    "data2013 = data.query('Year == 2013')\n",
    "data2013 = data2013[cols]\n",
    "data2014 = data.query('Year == 2014')\n",
    "data2014 = data2014[cols]\n",
    "data2015 = data.query('Year == 2015')\n",
    "data2015 = data2015[cols]\n",
    "\n",
    "mergeinit = pd.merge(data2013, data2014, on='Precinct')\n",
    "merge = pd.merge(mergeinit, data2015, on='Precinct')\n",
    "merge['ChangeP1_2014'] = (merge['Not Giving R of W to Pedes._y'] - merge['Not Giving R of W to Pedes._x']) / merge['Not Giving R of W to Pedes._x']\n",
    "merge['ChangeInj_2014'] = (merge['NUMBER OF PERSONS INJURED_y'] - merge['NUMBER OF PERSONS INJURED_x']) / merge['NUMBER OF PERSONS INJURED_x']\n",
    "merge['ChangeP1_2015'] = (merge['Not Giving R of W to Pedes.'] - merge['Not Giving R of W to Pedes._x']) / merge['Not Giving R of W to Pedes._x']\n",
    "merge['ChangeInj_2015'] = (merge['NUMBER OF PERSONS INJURED'] - merge['NUMBER OF PERSONS INJURED_x']) / merge['NUMBER OF PERSONS INJURED_x']\n",
    "\n",
    "merge['ChangeP12_2014'] = (merge['P12_y'] - merge['P12_x']) / merge['P12_x']\n",
    "merge['ChangeP12_2015'] = (merge['P12'] - merge['P12_x']) / merge['P12_x']\n",
    "\n",
    "merge['ChangeP123_2014'] = (merge['P123_y'] - merge['P123_x']) / merge['P123_x']\n",
    "merge['ChangeP123_2015'] = (merge['P123'] - merge['P123_x']) / merge['P123_x']\n",
    "\n",
    "merge['ChangePedInj_2014'] = (merge['NUMBER OF PEDESTRIANS INJURED_y'] - merge['NUMBER OF PEDESTRIANS INJURED_x']) / merge['NUMBER OF PEDESTRIANS INJURED_x']\n",
    "merge['ChangePedInj_2015'] = (merge['NUMBER OF PEDESTRIANS INJURED'] - merge['NUMBER OF PEDESTRIANS INJURED_x']) / merge['NUMBER OF PEDESTRIANS INJURED_x']"
   ]
  },
  {
   "cell_type": "code",
   "execution_count": 97,
   "metadata": {
    "collapsed": false
   },
   "outputs": [
    {
     "data": {
      "text/plain": [
       "[<matplotlib.lines.Line2D at 0x11e5ee8d0>]"
      ]
     },
     "execution_count": 97,
     "metadata": {},
     "output_type": "execute_result"
    },
    {
     "data": {
      "image/png": "[encoded data removed]",
      "text/plain": [
       "<matplotlib.figure.Figure at 0x11ba91690>"
      ]
     },
     "metadata": {},
     "output_type": "display_data"
    }
   ],
   "source": [
    "mergeP1 = merge.query('ChangeInj_2014 > -0.5')\n",
    "results = smf.ols('ChangeInj_2014 ~ ChangeP1_2014', data = mergeP1).fit()\n",
    "\n",
    "fig1, (ax1) = pl.subplots(nrows = 1, ncols = 1, figsize = (16, 4))\n",
    "ax1.scatter(mergeP1['ChangeP1_2014'], mergeP1['ChangeInj_2014'], c='k')\n",
    "ax1.plot(mergeP1['ChangeP1_2014'], results.predict(), c='r')"
   ]
  },
  {
   "cell_type": "code",
   "execution_count": 77,
   "metadata": {
    "collapsed": false
   },
   "outputs": [
    {
     "data": {
      "text/html": [
       "<table class=\"simpletable\">\n",
       "<caption>OLS Regression Results</caption>\n",
       "<tr>\n",
       "  <th>Dep. Variable:</th>     <td>ChangeInj_2014</td>  <th>  R-squared:         </th> <td>   0.000</td>\n",
       "</tr>\n",
       "<tr>\n",
       "  <th>Model:</th>                   <td>OLS</td>       <th>  Adj. R-squared:    </th> <td>  -0.013</td>\n",
       "</tr>\n",
       "<tr>\n",
       "  <th>Method:</th>             <td>Least Squares</td>  <th>  F-statistic:       </th> <td> 0.02508</td>\n",
       "</tr>\n",
       "<tr>\n",
       "  <th>Date:</th>             <td>Thu, 01 Dec 2016</td> <th>  Prob (F-statistic):</th>  <td> 0.875</td> \n",
       "</tr>\n",
       "<tr>\n",
       "  <th>Time:</th>                 <td>16:36:20</td>     <th>  Log-Likelihood:    </th> <td>  83.946</td>\n",
       "</tr>\n",
       "<tr>\n",
       "  <th>No. Observations:</th>      <td>    76</td>      <th>  AIC:               </th> <td>  -163.9</td>\n",
       "</tr>\n",
       "<tr>\n",
       "  <th>Df Residuals:</th>          <td>    74</td>      <th>  BIC:               </th> <td>  -159.2</td>\n",
       "</tr>\n",
       "<tr>\n",
       "  <th>Df Model:</th>              <td>     1</td>      <th>                     </th>     <td> </td>   \n",
       "</tr>\n",
       "<tr>\n",
       "  <th>Covariance Type:</th>      <td>nonrobust</td>    <th>                     </th>     <td> </td>   \n",
       "</tr>\n",
       "</table>\n",
       "<table class=\"simpletable\">\n",
       "<tr>\n",
       "        <td></td>           <th>coef</th>     <th>std err</th>      <th>t</th>      <th>P>|t|</th> <th>[95.0% Conf. Int.]</th> \n",
       "</tr>\n",
       "<tr>\n",
       "  <th>Intercept</th>     <td>   -0.0806</td> <td>    0.012</td> <td>   -6.817</td> <td> 0.000</td> <td>   -0.104    -0.057</td>\n",
       "</tr>\n",
       "<tr>\n",
       "  <th>ChangeP1_2014</th> <td>   -0.0005</td> <td>    0.003</td> <td>   -0.158</td> <td> 0.875</td> <td>   -0.007     0.006</td>\n",
       "</tr>\n",
       "</table>\n",
       "<table class=\"simpletable\">\n",
       "<tr>\n",
       "  <th>Omnibus:</th>       <td> 0.905</td> <th>  Durbin-Watson:     </th> <td>   2.160</td>\n",
       "</tr>\n",
       "<tr>\n",
       "  <th>Prob(Omnibus):</th> <td> 0.636</td> <th>  Jarque-Bera (JB):  </th> <td>   0.520</td>\n",
       "</tr>\n",
       "<tr>\n",
       "  <th>Skew:</th>          <td> 0.191</td> <th>  Prob(JB):          </th> <td>   0.771</td>\n",
       "</tr>\n",
       "<tr>\n",
       "  <th>Kurtosis:</th>      <td> 3.135</td> <th>  Cond. No.          </th> <td>    5.09</td>\n",
       "</tr>\n",
       "</table>"
      ],
      "text/plain": [
       "<class 'statsmodels.iolib.summary.Summary'>\n",
       "\"\"\"\n",
       "                            OLS Regression Results                            \n",
       "==============================================================================\n",
       "Dep. Variable:         ChangeInj_2014   R-squared:                       0.000\n",
       "Model:                            OLS   Adj. R-squared:                 -0.013\n",
       "Method:                 Least Squares   F-statistic:                   0.02508\n",
       "Date:                Thu, 01 Dec 2016   Prob (F-statistic):              0.875\n",
       "Time:                        16:36:20   Log-Likelihood:                 83.946\n",
       "No. Observations:                  76   AIC:                            -163.9\n",
       "Df Residuals:                      74   BIC:                            -159.2\n",
       "Df Model:                           1                                         \n",
       "Covariance Type:            nonrobust                                         \n",
       "=================================================================================\n",
       "                    coef    std err          t      P>|t|      [95.0% Conf. Int.]\n",
       "---------------------------------------------------------------------------------\n",
       "Intercept        -0.0806      0.012     -6.817      0.000        -0.104    -0.057\n",
       "ChangeP1_2014    -0.0005      0.003     -0.158      0.875        -0.007     0.006\n",
       "==============================================================================\n",
       "Omnibus:                        0.905   Durbin-Watson:                   2.160\n",
       "Prob(Omnibus):                  0.636   Jarque-Bera (JB):                0.520\n",
       "Skew:                           0.191   Prob(JB):                        0.771\n",
       "Kurtosis:                       3.135   Cond. No.                         5.09\n",
       "==============================================================================\n",
       "\n",
       "Warnings:\n",
       "[1] Standard Errors assume that the covariance matrix of the errors is correctly specified.\n",
       "\"\"\""
      ]
     },
     "execution_count": 77,
     "metadata": {},
     "output_type": "execute_result"
    }
   ],
   "source": [
    "results.summary()"
   ]
  },
  {
   "cell_type": "code",
   "execution_count": 78,
   "metadata": {
    "collapsed": false
   },
   "outputs": [
    {
     "data": {
      "text/plain": [
       "[<matplotlib.lines.Line2D at 0x11bfcf750>]"
      ]
     },
     "execution_count": 78,
     "metadata": {},
     "output_type": "execute_result"
    },
    {
     "data": {
      "image/png": "[encoded data removed]",
      "text/plain": [
       "<matplotlib.figure.Figure at 0x11baa8210>"
      ]
     },
     "metadata": {},
     "output_type": "display_data"
    }
   ],
   "source": [
    "results1 = smf.ols('ChangeInj_2015 ~ ChangeP1_2015', data = mergeP1).fit()\n",
    "\n",
    "fig1, (ax1) = pl.subplots(nrows = 1, ncols = 1, figsize = (16, 4))\n",
    "ax1.scatter(mergeP1['ChangeP1_2015'], mergeP1['ChangeInj_2015'], c='k')\n",
    "ax1.plot(mergeP1['ChangeP1_2015'], results1.predict(), c='r')"
   ]
  },
  {
   "cell_type": "code",
   "execution_count": 79,
   "metadata": {
    "collapsed": false
   },
   "outputs": [
    {
     "data": {
      "text/html": [
       "<table class=\"simpletable\">\n",
       "<caption>OLS Regression Results</caption>\n",
       "<tr>\n",
       "  <th>Dep. Variable:</th>     <td>ChangeInj_2015</td>  <th>  R-squared:         </th> <td>   0.035</td>\n",
       "</tr>\n",
       "<tr>\n",
       "  <th>Model:</th>                   <td>OLS</td>       <th>  Adj. R-squared:    </th> <td>   0.022</td>\n",
       "</tr>\n",
       "<tr>\n",
       "  <th>Method:</th>             <td>Least Squares</td>  <th>  F-statistic:       </th> <td>   2.661</td>\n",
       "</tr>\n",
       "<tr>\n",
       "  <th>Date:</th>             <td>Thu, 01 Dec 2016</td> <th>  Prob (F-statistic):</th>  <td> 0.107</td> \n",
       "</tr>\n",
       "<tr>\n",
       "  <th>Time:</th>                 <td>16:36:23</td>     <th>  Log-Likelihood:    </th> <td>  71.771</td>\n",
       "</tr>\n",
       "<tr>\n",
       "  <th>No. Observations:</th>      <td>    76</td>      <th>  AIC:               </th> <td>  -139.5</td>\n",
       "</tr>\n",
       "<tr>\n",
       "  <th>Df Residuals:</th>          <td>    74</td>      <th>  BIC:               </th> <td>  -134.9</td>\n",
       "</tr>\n",
       "<tr>\n",
       "  <th>Df Model:</th>              <td>     1</td>      <th>                     </th>     <td> </td>   \n",
       "</tr>\n",
       "<tr>\n",
       "  <th>Covariance Type:</th>      <td>nonrobust</td>    <th>                     </th>     <td> </td>   \n",
       "</tr>\n",
       "</table>\n",
       "<table class=\"simpletable\">\n",
       "<tr>\n",
       "        <td></td>           <th>coef</th>     <th>std err</th>      <th>t</th>      <th>P>|t|</th> <th>[95.0% Conf. Int.]</th> \n",
       "</tr>\n",
       "<tr>\n",
       "  <th>Intercept</th>     <td>   -0.0696</td> <td>    0.014</td> <td>   -5.107</td> <td> 0.000</td> <td>   -0.097    -0.042</td>\n",
       "</tr>\n",
       "<tr>\n",
       "  <th>ChangeP1_2015</th> <td>   -0.0037</td> <td>    0.002</td> <td>   -1.631</td> <td> 0.107</td> <td>   -0.008     0.001</td>\n",
       "</tr>\n",
       "</table>\n",
       "<table class=\"simpletable\">\n",
       "<tr>\n",
       "  <th>Omnibus:</th>       <td> 1.549</td> <th>  Durbin-Watson:     </th> <td>   2.170</td>\n",
       "</tr>\n",
       "<tr>\n",
       "  <th>Prob(Omnibus):</th> <td> 0.461</td> <th>  Jarque-Bera (JB):  </th> <td>   1.567</td>\n",
       "</tr>\n",
       "<tr>\n",
       "  <th>Skew:</th>          <td> 0.321</td> <th>  Prob(JB):          </th> <td>   0.457</td>\n",
       "</tr>\n",
       "<tr>\n",
       "  <th>Kurtosis:</th>      <td> 2.714</td> <th>  Cond. No.          </th> <td>    7.56</td>\n",
       "</tr>\n",
       "</table>"
      ],
      "text/plain": [
       "<class 'statsmodels.iolib.summary.Summary'>\n",
       "\"\"\"\n",
       "                            OLS Regression Results                            \n",
       "==============================================================================\n",
       "Dep. Variable:         ChangeInj_2015   R-squared:                       0.035\n",
       "Model:                            OLS   Adj. R-squared:                  0.022\n",
       "Method:                 Least Squares   F-statistic:                     2.661\n",
       "Date:                Thu, 01 Dec 2016   Prob (F-statistic):              0.107\n",
       "Time:                        16:36:23   Log-Likelihood:                 71.771\n",
       "No. Observations:                  76   AIC:                            -139.5\n",
       "Df Residuals:                      74   BIC:                            -134.9\n",
       "Df Model:                           1                                         \n",
       "Covariance Type:            nonrobust                                         \n",
       "=================================================================================\n",
       "                    coef    std err          t      P>|t|      [95.0% Conf. Int.]\n",
       "---------------------------------------------------------------------------------\n",
       "Intercept        -0.0696      0.014     -5.107      0.000        -0.097    -0.042\n",
       "ChangeP1_2015    -0.0037      0.002     -1.631      0.107        -0.008     0.001\n",
       "==============================================================================\n",
       "Omnibus:                        1.549   Durbin-Watson:                   2.170\n",
       "Prob(Omnibus):                  0.461   Jarque-Bera (JB):                1.567\n",
       "Skew:                           0.321   Prob(JB):                        0.457\n",
       "Kurtosis:                       2.714   Cond. No.                         7.56\n",
       "==============================================================================\n",
       "\n",
       "Warnings:\n",
       "[1] Standard Errors assume that the covariance matrix of the errors is correctly specified.\n",
       "\"\"\""
      ]
     },
     "execution_count": 79,
     "metadata": {},
     "output_type": "execute_result"
    }
   ],
   "source": [
    "results1.summary()"
   ]
  },
  {
   "cell_type": "code",
   "execution_count": 90,
   "metadata": {
    "collapsed": false
   },
   "outputs": [
    {
     "data": {
      "text/plain": [
       "[<matplotlib.lines.Line2D at 0x11e174d50>]"
      ]
     },
     "execution_count": 90,
     "metadata": {},
     "output_type": "execute_result"
    },
    {
     "data": {
      "image/png": "[encoded data removed]",
      "text/plain": [
       "<matplotlib.figure.Figure at 0x11e00f890>"
      ]
     },
     "metadata": {},
     "output_type": "display_data"
    }
   ],
   "source": [
    "results2 = smf.ols('ChangeInj_2014 ~ ChangeP12_2014', data = mergeP1).fit()\n",
    "\n",
    "fig1, (ax1) = pl.subplots(nrows = 1, ncols = 1, figsize = (16, 4))\n",
    "ax1.scatter(mergeP1['ChangeP12_2014'], mergeP1['ChangeInj_2014'], c='k')\n",
    "ax1.plot(mergeP1['ChangeP12_2014'], results2.predict(), c='r')"
   ]
  },
  {
   "cell_type": "code",
   "execution_count": 91,
   "metadata": {
    "collapsed": false
   },
   "outputs": [
    {
     "data": {
      "text/html": [
       "<table class=\"simpletable\">\n",
       "<caption>OLS Regression Results</caption>\n",
       "<tr>\n",
       "  <th>Dep. Variable:</th>     <td>ChangeInj_2014</td>  <th>  R-squared:         </th> <td>   0.015</td>\n",
       "</tr>\n",
       "<tr>\n",
       "  <th>Model:</th>                   <td>OLS</td>       <th>  Adj. R-squared:    </th> <td>   0.001</td>\n",
       "</tr>\n",
       "<tr>\n",
       "  <th>Method:</th>             <td>Least Squares</td>  <th>  F-statistic:       </th> <td>   1.103</td>\n",
       "</tr>\n",
       "<tr>\n",
       "  <th>Date:</th>             <td>Thu, 01 Dec 2016</td> <th>  Prob (F-statistic):</th>  <td> 0.297</td> \n",
       "</tr>\n",
       "<tr>\n",
       "  <th>Time:</th>                 <td>16:39:17</td>     <th>  Log-Likelihood:    </th> <td>  84.495</td>\n",
       "</tr>\n",
       "<tr>\n",
       "  <th>No. Observations:</th>      <td>    76</td>      <th>  AIC:               </th> <td>  -165.0</td>\n",
       "</tr>\n",
       "<tr>\n",
       "  <th>Df Residuals:</th>          <td>    74</td>      <th>  BIC:               </th> <td>  -160.3</td>\n",
       "</tr>\n",
       "<tr>\n",
       "  <th>Df Model:</th>              <td>     1</td>      <th>                     </th>     <td> </td>   \n",
       "</tr>\n",
       "<tr>\n",
       "  <th>Covariance Type:</th>      <td>nonrobust</td>    <th>                     </th>     <td> </td>   \n",
       "</tr>\n",
       "</table>\n",
       "<table class=\"simpletable\">\n",
       "<tr>\n",
       "         <td></td>           <th>coef</th>     <th>std err</th>      <th>t</th>      <th>P>|t|</th> <th>[95.0% Conf. Int.]</th> \n",
       "</tr>\n",
       "<tr>\n",
       "  <th>Intercept</th>      <td>   -0.0941</td> <td>    0.015</td> <td>   -6.292</td> <td> 0.000</td> <td>   -0.124    -0.064</td>\n",
       "</tr>\n",
       "<tr>\n",
       "  <th>ChangeP12_2014</th> <td>    0.0128</td> <td>    0.012</td> <td>    1.050</td> <td> 0.297</td> <td>   -0.011     0.037</td>\n",
       "</tr>\n",
       "</table>\n",
       "<table class=\"simpletable\">\n",
       "<tr>\n",
       "  <th>Omnibus:</th>       <td> 1.046</td> <th>  Durbin-Watson:     </th> <td>   2.211</td>\n",
       "</tr>\n",
       "<tr>\n",
       "  <th>Prob(Omnibus):</th> <td> 0.593</td> <th>  Jarque-Bera (JB):  </th> <td>   0.712</td>\n",
       "</tr>\n",
       "<tr>\n",
       "  <th>Skew:</th>          <td> 0.234</td> <th>  Prob(JB):          </th> <td>   0.700</td>\n",
       "</tr>\n",
       "<tr>\n",
       "  <th>Kurtosis:</th>      <td> 3.075</td> <th>  Cond. No.          </th> <td>    2.96</td>\n",
       "</tr>\n",
       "</table>"
      ],
      "text/plain": [
       "<class 'statsmodels.iolib.summary.Summary'>\n",
       "\"\"\"\n",
       "                            OLS Regression Results                            \n",
       "==============================================================================\n",
       "Dep. Variable:         ChangeInj_2014   R-squared:                       0.015\n",
       "Model:                            OLS   Adj. R-squared:                  0.001\n",
       "Method:                 Least Squares   F-statistic:                     1.103\n",
       "Date:                Thu, 01 Dec 2016   Prob (F-statistic):              0.297\n",
       "Time:                        16:39:17   Log-Likelihood:                 84.495\n",
       "No. Observations:                  76   AIC:                            -165.0\n",
       "Df Residuals:                      74   BIC:                            -160.3\n",
       "Df Model:                           1                                         \n",
       "Covariance Type:            nonrobust                                         \n",
       "==================================================================================\n",
       "                     coef    std err          t      P>|t|      [95.0% Conf. Int.]\n",
       "----------------------------------------------------------------------------------\n",
       "Intercept         -0.0941      0.015     -6.292      0.000        -0.124    -0.064\n",
       "ChangeP12_2014     0.0128      0.012      1.050      0.297        -0.011     0.037\n",
       "==============================================================================\n",
       "Omnibus:                        1.046   Durbin-Watson:                   2.211\n",
       "Prob(Omnibus):                  0.593   Jarque-Bera (JB):                0.712\n",
       "Skew:                           0.234   Prob(JB):                        0.700\n",
       "Kurtosis:                       3.075   Cond. No.                         2.96\n",
       "==============================================================================\n",
       "\n",
       "Warnings:\n",
       "[1] Standard Errors assume that the covariance matrix of the errors is correctly specified.\n",
       "\"\"\""
      ]
     },
     "execution_count": 91,
     "metadata": {},
     "output_type": "execute_result"
    }
   ],
   "source": [
    "results2.summary()"
   ]
  },
  {
   "cell_type": "code",
   "execution_count": 92,
   "metadata": {
    "collapsed": false
   },
   "outputs": [
    {
     "data": {
      "text/plain": [
       "[<matplotlib.lines.Line2D at 0x11e377f50>]"
      ]
     },
     "execution_count": 92,
     "metadata": {},
     "output_type": "execute_result"
    },
    {
     "data": {
      "image/png": "[encoded data removed]",
      "text/plain": [
       "<matplotlib.figure.Figure at 0x11d65ac90>"
      ]
     },
     "metadata": {},
     "output_type": "display_data"
    }
   ],
   "source": [
    "results3 = smf.ols('ChangeInj_2015 ~ ChangeP12_2015', data = mergeP1).fit()\n",
    "\n",
    "fig1, (ax1) = pl.subplots(nrows = 1, ncols = 1, figsize = (16, 4))\n",
    "ax1.scatter(mergeP1['ChangeP12_2015'], mergeP1['ChangeInj_2015'], c='k')\n",
    "ax1.plot(mergeP1['ChangeP12_2015'], results3.predict(), c='r')"
   ]
  },
  {
   "cell_type": "code",
   "execution_count": 93,
   "metadata": {
    "collapsed": false
   },
   "outputs": [
    {
     "data": {
      "text/html": [
       "<table class=\"simpletable\">\n",
       "<caption>OLS Regression Results</caption>\n",
       "<tr>\n",
       "  <th>Dep. Variable:</th>     <td>ChangeInj_2014</td>  <th>  R-squared:         </th> <td>   0.015</td>\n",
       "</tr>\n",
       "<tr>\n",
       "  <th>Model:</th>                   <td>OLS</td>       <th>  Adj. R-squared:    </th> <td>   0.001</td>\n",
       "</tr>\n",
       "<tr>\n",
       "  <th>Method:</th>             <td>Least Squares</td>  <th>  F-statistic:       </th> <td>   1.103</td>\n",
       "</tr>\n",
       "<tr>\n",
       "  <th>Date:</th>             <td>Thu, 01 Dec 2016</td> <th>  Prob (F-statistic):</th>  <td> 0.297</td> \n",
       "</tr>\n",
       "<tr>\n",
       "  <th>Time:</th>                 <td>16:39:34</td>     <th>  Log-Likelihood:    </th> <td>  84.495</td>\n",
       "</tr>\n",
       "<tr>\n",
       "  <th>No. Observations:</th>      <td>    76</td>      <th>  AIC:               </th> <td>  -165.0</td>\n",
       "</tr>\n",
       "<tr>\n",
       "  <th>Df Residuals:</th>          <td>    74</td>      <th>  BIC:               </th> <td>  -160.3</td>\n",
       "</tr>\n",
       "<tr>\n",
       "  <th>Df Model:</th>              <td>     1</td>      <th>                     </th>     <td> </td>   \n",
       "</tr>\n",
       "<tr>\n",
       "  <th>Covariance Type:</th>      <td>nonrobust</td>    <th>                     </th>     <td> </td>   \n",
       "</tr>\n",
       "</table>\n",
       "<table class=\"simpletable\">\n",
       "<tr>\n",
       "         <td></td>           <th>coef</th>     <th>std err</th>      <th>t</th>      <th>P>|t|</th> <th>[95.0% Conf. Int.]</th> \n",
       "</tr>\n",
       "<tr>\n",
       "  <th>Intercept</th>      <td>   -0.0941</td> <td>    0.015</td> <td>   -6.292</td> <td> 0.000</td> <td>   -0.124    -0.064</td>\n",
       "</tr>\n",
       "<tr>\n",
       "  <th>ChangeP12_2014</th> <td>    0.0128</td> <td>    0.012</td> <td>    1.050</td> <td> 0.297</td> <td>   -0.011     0.037</td>\n",
       "</tr>\n",
       "</table>\n",
       "<table class=\"simpletable\">\n",
       "<tr>\n",
       "  <th>Omnibus:</th>       <td> 1.046</td> <th>  Durbin-Watson:     </th> <td>   2.211</td>\n",
       "</tr>\n",
       "<tr>\n",
       "  <th>Prob(Omnibus):</th> <td> 0.593</td> <th>  Jarque-Bera (JB):  </th> <td>   0.712</td>\n",
       "</tr>\n",
       "<tr>\n",
       "  <th>Skew:</th>          <td> 0.234</td> <th>  Prob(JB):          </th> <td>   0.700</td>\n",
       "</tr>\n",
       "<tr>\n",
       "  <th>Kurtosis:</th>      <td> 3.075</td> <th>  Cond. No.          </th> <td>    2.96</td>\n",
       "</tr>\n",
       "</table>"
      ],
      "text/plain": [
       "<class 'statsmodels.iolib.summary.Summary'>\n",
       "\"\"\"\n",
       "                            OLS Regression Results                            \n",
       "==============================================================================\n",
       "Dep. Variable:         ChangeInj_2014   R-squared:                       0.015\n",
       "Model:                            OLS   Adj. R-squared:                  0.001\n",
       "Method:                 Least Squares   F-statistic:                     1.103\n",
       "Date:                Thu, 01 Dec 2016   Prob (F-statistic):              0.297\n",
       "Time:                        16:39:34   Log-Likelihood:                 84.495\n",
       "No. Observations:                  76   AIC:                            -165.0\n",
       "Df Residuals:                      74   BIC:                            -160.3\n",
       "Df Model:                           1                                         \n",
       "Covariance Type:            nonrobust                                         \n",
       "==================================================================================\n",
       "                     coef    std err          t      P>|t|      [95.0% Conf. Int.]\n",
       "----------------------------------------------------------------------------------\n",
       "Intercept         -0.0941      0.015     -6.292      0.000        -0.124    -0.064\n",
       "ChangeP12_2014     0.0128      0.012      1.050      0.297        -0.011     0.037\n",
       "==============================================================================\n",
       "Omnibus:                        1.046   Durbin-Watson:                   2.211\n",
       "Prob(Omnibus):                  0.593   Jarque-Bera (JB):                0.712\n",
       "Skew:                           0.234   Prob(JB):                        0.700\n",
       "Kurtosis:                       3.075   Cond. No.                         2.96\n",
       "==============================================================================\n",
       "\n",
       "Warnings:\n",
       "[1] Standard Errors assume that the covariance matrix of the errors is correctly specified.\n",
       "\"\"\""
      ]
     },
     "execution_count": 93,
     "metadata": {},
     "output_type": "execute_result"
    }
   ],
   "source": [
    "results2.summary()"
   ]
  },
  {
   "cell_type": "markdown",
   "metadata": {},
   "source": [
    "### What About Pedestrian Injuries?"
   ]
  },
  {
   "cell_type": "code",
   "execution_count": 98,
   "metadata": {
    "collapsed": false
   },
   "outputs": [
    {
     "data": {
      "text/plain": [
       "[<matplotlib.lines.Line2D at 0x11e7987d0>]"
      ]
     },
     "execution_count": 98,
     "metadata": {},
     "output_type": "execute_result"
    },
    {
     "data": {
      "image/png": "[encoded data removed]",
      "text/plain": [
       "<matplotlib.figure.Figure at 0x11e3ece10>"
      ]
     },
     "metadata": {},
     "output_type": "display_data"
    }
   ],
   "source": [
    "results = smf.ols('ChangePedInj_2014 ~ ChangeP1_2014', data = mergeP1).fit()\n",
    "\n",
    "fig1, (ax1) = pl.subplots(nrows = 1, ncols = 1, figsize = (16, 4))\n",
    "ax1.scatter(mergeP1['ChangeP1_2014'], mergeP1['ChangePedInj_2014'], c='k')\n",
    "ax1.plot(mergeP1['ChangeP1_2014'], results.predict(), c='r')"
   ]
  },
  {
   "cell_type": "code",
   "execution_count": 99,
   "metadata": {
    "collapsed": false
   },
   "outputs": [
    {
     "data": {
      "text/html": [
       "<table class=\"simpletable\">\n",
       "<caption>OLS Regression Results</caption>\n",
       "<tr>\n",
       "  <th>Dep. Variable:</th>    <td>ChangePedInj_2014</td> <th>  R-squared:         </th> <td>   0.006</td>\n",
       "</tr>\n",
       "<tr>\n",
       "  <th>Model:</th>                   <td>OLS</td>        <th>  Adj. R-squared:    </th> <td>  -0.007</td>\n",
       "</tr>\n",
       "<tr>\n",
       "  <th>Method:</th>             <td>Least Squares</td>   <th>  F-statistic:       </th> <td>  0.4657</td>\n",
       "</tr>\n",
       "<tr>\n",
       "  <th>Date:</th>             <td>Thu, 01 Dec 2016</td>  <th>  Prob (F-statistic):</th>  <td> 0.497</td> \n",
       "</tr>\n",
       "<tr>\n",
       "  <th>Time:</th>                 <td>16:47:22</td>      <th>  Log-Likelihood:    </th> <td>  36.299</td>\n",
       "</tr>\n",
       "<tr>\n",
       "  <th>No. Observations:</th>      <td>    76</td>       <th>  AIC:               </th> <td>  -68.60</td>\n",
       "</tr>\n",
       "<tr>\n",
       "  <th>Df Residuals:</th>          <td>    74</td>       <th>  BIC:               </th> <td>  -63.94</td>\n",
       "</tr>\n",
       "<tr>\n",
       "  <th>Df Model:</th>              <td>     1</td>       <th>                     </th>     <td> </td>   \n",
       "</tr>\n",
       "<tr>\n",
       "  <th>Covariance Type:</th>      <td>nonrobust</td>     <th>                     </th>     <td> </td>   \n",
       "</tr>\n",
       "</table>\n",
       "<table class=\"simpletable\">\n",
       "<tr>\n",
       "        <td></td>           <th>coef</th>     <th>std err</th>      <th>t</th>      <th>P>|t|</th> <th>[95.0% Conf. Int.]</th> \n",
       "</tr>\n",
       "<tr>\n",
       "  <th>Intercept</th>     <td>   -0.0590</td> <td>    0.022</td> <td>   -2.666</td> <td> 0.009</td> <td>   -0.103    -0.015</td>\n",
       "</tr>\n",
       "<tr>\n",
       "  <th>ChangeP1_2014</th> <td>   -0.0039</td> <td>    0.006</td> <td>   -0.682</td> <td> 0.497</td> <td>   -0.015     0.007</td>\n",
       "</tr>\n",
       "</table>\n",
       "<table class=\"simpletable\">\n",
       "<tr>\n",
       "  <th>Omnibus:</th>       <td>39.124</td> <th>  Durbin-Watson:     </th> <td>   2.553</td>\n",
       "</tr>\n",
       "<tr>\n",
       "  <th>Prob(Omnibus):</th> <td> 0.000</td> <th>  Jarque-Bera (JB):  </th> <td> 120.594</td>\n",
       "</tr>\n",
       "<tr>\n",
       "  <th>Skew:</th>          <td> 1.613</td> <th>  Prob(JB):          </th> <td>6.51e-27</td>\n",
       "</tr>\n",
       "<tr>\n",
       "  <th>Kurtosis:</th>      <td> 8.260</td> <th>  Cond. No.          </th> <td>    5.09</td>\n",
       "</tr>\n",
       "</table>"
      ],
      "text/plain": [
       "<class 'statsmodels.iolib.summary.Summary'>\n",
       "\"\"\"\n",
       "                            OLS Regression Results                            \n",
       "==============================================================================\n",
       "Dep. Variable:      ChangePedInj_2014   R-squared:                       0.006\n",
       "Model:                            OLS   Adj. R-squared:                 -0.007\n",
       "Method:                 Least Squares   F-statistic:                    0.4657\n",
       "Date:                Thu, 01 Dec 2016   Prob (F-statistic):              0.497\n",
       "Time:                        16:47:22   Log-Likelihood:                 36.299\n",
       "No. Observations:                  76   AIC:                            -68.60\n",
       "Df Residuals:                      74   BIC:                            -63.94\n",
       "Df Model:                           1                                         \n",
       "Covariance Type:            nonrobust                                         \n",
       "=================================================================================\n",
       "                    coef    std err          t      P>|t|      [95.0% Conf. Int.]\n",
       "---------------------------------------------------------------------------------\n",
       "Intercept        -0.0590      0.022     -2.666      0.009        -0.103    -0.015\n",
       "ChangeP1_2014    -0.0039      0.006     -0.682      0.497        -0.015     0.007\n",
       "==============================================================================\n",
       "Omnibus:                       39.124   Durbin-Watson:                   2.553\n",
       "Prob(Omnibus):                  0.000   Jarque-Bera (JB):              120.594\n",
       "Skew:                           1.613   Prob(JB):                     6.51e-27\n",
       "Kurtosis:                       8.260   Cond. No.                         5.09\n",
       "==============================================================================\n",
       "\n",
       "Warnings:\n",
       "[1] Standard Errors assume that the covariance matrix of the errors is correctly specified.\n",
       "\"\"\""
      ]
     },
     "execution_count": 99,
     "metadata": {},
     "output_type": "execute_result"
    }
   ],
   "source": [
    "results.summary()"
   ]
  },
  {
   "cell_type": "code",
   "execution_count": 100,
   "metadata": {
    "collapsed": false
   },
   "outputs": [
    {
     "data": {
      "text/plain": [
       "[<matplotlib.lines.Line2D at 0x11e9619d0>]"
      ]
     },
     "execution_count": 100,
     "metadata": {},
     "output_type": "execute_result"
    },
    {
     "data": {
      "image/png": "[encoded data removed]",
      "text/plain": [
       "<matplotlib.figure.Figure at 0x11e64dfd0>"
      ]
     },
     "metadata": {},
     "output_type": "display_data"
    }
   ],
   "source": [
    "results1 = smf.ols('ChangePedInj_2015 ~ ChangeP1_2015', data = mergeP1).fit()\n",
    "\n",
    "fig1, (ax1) = pl.subplots(nrows = 1, ncols = 1, figsize = (16, 4))\n",
    "ax1.scatter(mergeP1['ChangeP1_2015'], mergeP1['ChangePedInj_2015'], c='k')\n",
    "ax1.plot(mergeP1['ChangeP1_2015'], results1.predict(), c='r')"
   ]
  },
  {
   "cell_type": "code",
   "execution_count": 101,
   "metadata": {
    "collapsed": false
   },
   "outputs": [
    {
     "data": {
      "text/html": [
       "<table class=\"simpletable\">\n",
       "<caption>OLS Regression Results</caption>\n",
       "<tr>\n",
       "  <th>Dep. Variable:</th>    <td>ChangePedInj_2015</td> <th>  R-squared:         </th> <td>   0.001</td>\n",
       "</tr>\n",
       "<tr>\n",
       "  <th>Model:</th>                   <td>OLS</td>        <th>  Adj. R-squared:    </th> <td>  -0.013</td>\n",
       "</tr>\n",
       "<tr>\n",
       "  <th>Method:</th>             <td>Least Squares</td>   <th>  F-statistic:       </th> <td> 0.03912</td>\n",
       "</tr>\n",
       "<tr>\n",
       "  <th>Date:</th>             <td>Thu, 01 Dec 2016</td>  <th>  Prob (F-statistic):</th>  <td> 0.844</td> \n",
       "</tr>\n",
       "<tr>\n",
       "  <th>Time:</th>                 <td>16:48:50</td>      <th>  Log-Likelihood:    </th> <td>  51.392</td>\n",
       "</tr>\n",
       "<tr>\n",
       "  <th>No. Observations:</th>      <td>    76</td>       <th>  AIC:               </th> <td>  -98.78</td>\n",
       "</tr>\n",
       "<tr>\n",
       "  <th>Df Residuals:</th>          <td>    74</td>       <th>  BIC:               </th> <td>  -94.12</td>\n",
       "</tr>\n",
       "<tr>\n",
       "  <th>Df Model:</th>              <td>     1</td>       <th>                     </th>     <td> </td>   \n",
       "</tr>\n",
       "<tr>\n",
       "  <th>Covariance Type:</th>      <td>nonrobust</td>     <th>                     </th>     <td> </td>   \n",
       "</tr>\n",
       "</table>\n",
       "<table class=\"simpletable\">\n",
       "<tr>\n",
       "        <td></td>           <th>coef</th>     <th>std err</th>      <th>t</th>      <th>P>|t|</th> <th>[95.0% Conf. Int.]</th> \n",
       "</tr>\n",
       "<tr>\n",
       "  <th>Intercept</th>     <td>   -0.1477</td> <td>    0.018</td> <td>   -8.290</td> <td> 0.000</td> <td>   -0.183    -0.112</td>\n",
       "</tr>\n",
       "<tr>\n",
       "  <th>ChangeP1_2015</th> <td>    0.0006</td> <td>    0.003</td> <td>    0.198</td> <td> 0.844</td> <td>   -0.005     0.006</td>\n",
       "</tr>\n",
       "</table>\n",
       "<table class=\"simpletable\">\n",
       "<tr>\n",
       "  <th>Omnibus:</th>       <td>10.752</td> <th>  Durbin-Watson:     </th> <td>   2.250</td>\n",
       "</tr>\n",
       "<tr>\n",
       "  <th>Prob(Omnibus):</th> <td> 0.005</td> <th>  Jarque-Bera (JB):  </th> <td>  10.794</td>\n",
       "</tr>\n",
       "<tr>\n",
       "  <th>Skew:</th>          <td> 0.828</td> <th>  Prob(JB):          </th> <td> 0.00453</td>\n",
       "</tr>\n",
       "<tr>\n",
       "  <th>Kurtosis:</th>      <td> 3.816</td> <th>  Cond. No.          </th> <td>    7.56</td>\n",
       "</tr>\n",
       "</table>"
      ],
      "text/plain": [
       "<class 'statsmodels.iolib.summary.Summary'>\n",
       "\"\"\"\n",
       "                            OLS Regression Results                            \n",
       "==============================================================================\n",
       "Dep. Variable:      ChangePedInj_2015   R-squared:                       0.001\n",
       "Model:                            OLS   Adj. R-squared:                 -0.013\n",
       "Method:                 Least Squares   F-statistic:                   0.03912\n",
       "Date:                Thu, 01 Dec 2016   Prob (F-statistic):              0.844\n",
       "Time:                        16:48:50   Log-Likelihood:                 51.392\n",
       "No. Observations:                  76   AIC:                            -98.78\n",
       "Df Residuals:                      74   BIC:                            -94.12\n",
       "Df Model:                           1                                         \n",
       "Covariance Type:            nonrobust                                         \n",
       "=================================================================================\n",
       "                    coef    std err          t      P>|t|      [95.0% Conf. Int.]\n",
       "---------------------------------------------------------------------------------\n",
       "Intercept        -0.1477      0.018     -8.290      0.000        -0.183    -0.112\n",
       "ChangeP1_2015     0.0006      0.003      0.198      0.844        -0.005     0.006\n",
       "==============================================================================\n",
       "Omnibus:                       10.752   Durbin-Watson:                   2.250\n",
       "Prob(Omnibus):                  0.005   Jarque-Bera (JB):               10.794\n",
       "Skew:                           0.828   Prob(JB):                      0.00453\n",
       "Kurtosis:                       3.816   Cond. No.                         7.56\n",
       "==============================================================================\n",
       "\n",
       "Warnings:\n",
       "[1] Standard Errors assume that the covariance matrix of the errors is correctly specified.\n",
       "\"\"\""
      ]
     },
     "execution_count": 101,
     "metadata": {},
     "output_type": "execute_result"
    }
   ],
   "source": [
    "results1.summary()"
   ]
  },
  {
   "cell_type": "code",
   "execution_count": 102,
   "metadata": {
    "collapsed": false
   },
   "outputs": [
    {
     "data": {
      "text/plain": [
       "[<matplotlib.lines.Line2D at 0x11eaf1950>]"
      ]
     },
     "execution_count": 102,
     "metadata": {},
     "output_type": "execute_result"
    },
    {
     "data": {
      "image/png": "[encoded data removed]",
      "text/plain": [
       "<matplotlib.figure.Figure at 0x11e814a10>"
      ]
     },
     "metadata": {},
     "output_type": "display_data"
    }
   ],
   "source": [
    "results2 = smf.ols('ChangePedInj_2014 ~ ChangeP12_2014', data = mergeP1).fit()\n",
    "\n",
    "fig1, (ax1) = pl.subplots(nrows = 1, ncols = 1, figsize = (16, 4))\n",
    "ax1.scatter(mergeP1['ChangeP12_2014'], mergeP1['ChangePedInj_2014'], c='k')\n",
    "ax1.plot(mergeP1['ChangeP12_2014'], results2.predict(), c='r')"
   ]
  },
  {
   "cell_type": "code",
   "execution_count": 103,
   "metadata": {
    "collapsed": false
   },
   "outputs": [
    {
     "data": {
      "text/html": [
       "<table class=\"simpletable\">\n",
       "<caption>OLS Regression Results</caption>\n",
       "<tr>\n",
       "  <th>Dep. Variable:</th>    <td>ChangePedInj_2014</td> <th>  R-squared:         </th> <td>   0.028</td>\n",
       "</tr>\n",
       "<tr>\n",
       "  <th>Model:</th>                   <td>OLS</td>        <th>  Adj. R-squared:    </th> <td>   0.015</td>\n",
       "</tr>\n",
       "<tr>\n",
       "  <th>Method:</th>             <td>Least Squares</td>   <th>  F-statistic:       </th> <td>   2.110</td>\n",
       "</tr>\n",
       "<tr>\n",
       "  <th>Date:</th>             <td>Thu, 01 Dec 2016</td>  <th>  Prob (F-statistic):</th>  <td> 0.151</td> \n",
       "</tr>\n",
       "<tr>\n",
       "  <th>Time:</th>                 <td>16:50:14</td>      <th>  Log-Likelihood:    </th> <td>  37.129</td>\n",
       "</tr>\n",
       "<tr>\n",
       "  <th>No. Observations:</th>      <td>    76</td>       <th>  AIC:               </th> <td>  -70.26</td>\n",
       "</tr>\n",
       "<tr>\n",
       "  <th>Df Residuals:</th>          <td>    74</td>       <th>  BIC:               </th> <td>  -65.60</td>\n",
       "</tr>\n",
       "<tr>\n",
       "  <th>Df Model:</th>              <td>     1</td>       <th>                     </th>     <td> </td>   \n",
       "</tr>\n",
       "<tr>\n",
       "  <th>Covariance Type:</th>      <td>nonrobust</td>     <th>                     </th>     <td> </td>   \n",
       "</tr>\n",
       "</table>\n",
       "<table class=\"simpletable\">\n",
       "<tr>\n",
       "         <td></td>           <th>coef</th>     <th>std err</th>      <th>t</th>      <th>P>|t|</th> <th>[95.0% Conf. Int.]</th> \n",
       "</tr>\n",
       "<tr>\n",
       "  <th>Intercept</th>      <td>   -0.1001</td> <td>    0.028</td> <td>   -3.590</td> <td> 0.001</td> <td>   -0.156    -0.045</td>\n",
       "</tr>\n",
       "<tr>\n",
       "  <th>ChangeP12_2014</th> <td>    0.0330</td> <td>    0.023</td> <td>    1.453</td> <td> 0.151</td> <td>   -0.012     0.078</td>\n",
       "</tr>\n",
       "</table>\n",
       "<table class=\"simpletable\">\n",
       "<tr>\n",
       "  <th>Omnibus:</th>       <td>35.041</td> <th>  Durbin-Watson:     </th> <td>   2.647</td>\n",
       "</tr>\n",
       "<tr>\n",
       "  <th>Prob(Omnibus):</th> <td> 0.000</td> <th>  Jarque-Bera (JB):  </th> <td>  98.230</td>\n",
       "</tr>\n",
       "<tr>\n",
       "  <th>Skew:</th>          <td> 1.462</td> <th>  Prob(JB):          </th> <td>4.67e-22</td>\n",
       "</tr>\n",
       "<tr>\n",
       "  <th>Kurtosis:</th>      <td> 7.741</td> <th>  Cond. No.          </th> <td>    2.96</td>\n",
       "</tr>\n",
       "</table>"
      ],
      "text/plain": [
       "<class 'statsmodels.iolib.summary.Summary'>\n",
       "\"\"\"\n",
       "                            OLS Regression Results                            \n",
       "==============================================================================\n",
       "Dep. Variable:      ChangePedInj_2014   R-squared:                       0.028\n",
       "Model:                            OLS   Adj. R-squared:                  0.015\n",
       "Method:                 Least Squares   F-statistic:                     2.110\n",
       "Date:                Thu, 01 Dec 2016   Prob (F-statistic):              0.151\n",
       "Time:                        16:50:14   Log-Likelihood:                 37.129\n",
       "No. Observations:                  76   AIC:                            -70.26\n",
       "Df Residuals:                      74   BIC:                            -65.60\n",
       "Df Model:                           1                                         \n",
       "Covariance Type:            nonrobust                                         \n",
       "==================================================================================\n",
       "                     coef    std err          t      P>|t|      [95.0% Conf. Int.]\n",
       "----------------------------------------------------------------------------------\n",
       "Intercept         -0.1001      0.028     -3.590      0.001        -0.156    -0.045\n",
       "ChangeP12_2014     0.0330      0.023      1.453      0.151        -0.012     0.078\n",
       "==============================================================================\n",
       "Omnibus:                       35.041   Durbin-Watson:                   2.647\n",
       "Prob(Omnibus):                  0.000   Jarque-Bera (JB):               98.230\n",
       "Skew:                           1.462   Prob(JB):                     4.67e-22\n",
       "Kurtosis:                       7.741   Cond. No.                         2.96\n",
       "==============================================================================\n",
       "\n",
       "Warnings:\n",
       "[1] Standard Errors assume that the covariance matrix of the errors is correctly specified.\n",
       "\"\"\""
      ]
     },
     "execution_count": 103,
     "metadata": {},
     "output_type": "execute_result"
    }
   ],
   "source": [
    "results2.summary()"
   ]
  },
  {
   "cell_type": "code",
   "execution_count": 104,
   "metadata": {
    "collapsed": false
   },
   "outputs": [
    {
     "data": {
      "text/plain": [
       "[<matplotlib.lines.Line2D at 0x11ee4ebd0>]"
      ]
     },
     "execution_count": 104,
     "metadata": {},
     "output_type": "execute_result"
    },
    {
     "data": {
      "image/png": "[encoded data removed]",
      "text/plain": [
       "<matplotlib.figure.Figure at 0x11e9a7510>"
      ]
     },
     "metadata": {},
     "output_type": "display_data"
    }
   ],
   "source": [
    "results3 = smf.ols('ChangePedInj_2015 ~ ChangeP12_2015', data = mergeP1).fit()\n",
    "\n",
    "fig1, (ax1) = pl.subplots(nrows = 1, ncols = 1, figsize = (16, 4))\n",
    "ax1.scatter(mergeP1['ChangeP12_2015'], mergeP1['ChangePedInj_2015'], c='k')\n",
    "ax1.plot(mergeP1['ChangeP12_2015'], results3.predict(), c='r')"
   ]
  },
  {
   "cell_type": "code",
   "execution_count": 105,
   "metadata": {
    "collapsed": false
   },
   "outputs": [
    {
     "data": {
      "text/html": [
       "<table class=\"simpletable\">\n",
       "<caption>OLS Regression Results</caption>\n",
       "<tr>\n",
       "  <th>Dep. Variable:</th>    <td>ChangePedInj_2015</td> <th>  R-squared:         </th> <td>   0.053</td>\n",
       "</tr>\n",
       "<tr>\n",
       "  <th>Model:</th>                   <td>OLS</td>        <th>  Adj. R-squared:    </th> <td>   0.040</td>\n",
       "</tr>\n",
       "<tr>\n",
       "  <th>Method:</th>             <td>Least Squares</td>   <th>  F-statistic:       </th> <td>   4.123</td>\n",
       "</tr>\n",
       "<tr>\n",
       "  <th>Date:</th>             <td>Thu, 01 Dec 2016</td>  <th>  Prob (F-statistic):</th>  <td>0.0459</td> \n",
       "</tr>\n",
       "<tr>\n",
       "  <th>Time:</th>                 <td>16:51:37</td>      <th>  Log-Likelihood:    </th> <td>  53.432</td>\n",
       "</tr>\n",
       "<tr>\n",
       "  <th>No. Observations:</th>      <td>    76</td>       <th>  AIC:               </th> <td>  -102.9</td>\n",
       "</tr>\n",
       "<tr>\n",
       "  <th>Df Residuals:</th>          <td>    74</td>       <th>  BIC:               </th> <td>  -98.20</td>\n",
       "</tr>\n",
       "<tr>\n",
       "  <th>Df Model:</th>              <td>     1</td>       <th>                     </th>     <td> </td>   \n",
       "</tr>\n",
       "<tr>\n",
       "  <th>Covariance Type:</th>      <td>nonrobust</td>     <th>                     </th>     <td> </td>   \n",
       "</tr>\n",
       "</table>\n",
       "<table class=\"simpletable\">\n",
       "<tr>\n",
       "         <td></td>           <th>coef</th>     <th>std err</th>      <th>t</th>      <th>P>|t|</th> <th>[95.0% Conf. Int.]</th> \n",
       "</tr>\n",
       "<tr>\n",
       "  <th>Intercept</th>      <td>   -0.1822</td> <td>    0.023</td> <td>   -8.003</td> <td> 0.000</td> <td>   -0.228    -0.137</td>\n",
       "</tr>\n",
       "<tr>\n",
       "  <th>ChangeP12_2015</th> <td>    0.0291</td> <td>    0.014</td> <td>    2.031</td> <td> 0.046</td> <td>    0.001     0.058</td>\n",
       "</tr>\n",
       "</table>\n",
       "<table class=\"simpletable\">\n",
       "<tr>\n",
       "  <th>Omnibus:</th>       <td> 6.263</td> <th>  Durbin-Watson:     </th> <td>   2.271</td>\n",
       "</tr>\n",
       "<tr>\n",
       "  <th>Prob(Omnibus):</th> <td> 0.044</td> <th>  Jarque-Bera (JB):  </th> <td>   5.624</td>\n",
       "</tr>\n",
       "<tr>\n",
       "  <th>Skew:</th>          <td> 0.645</td> <th>  Prob(JB):          </th> <td>  0.0601</td>\n",
       "</tr>\n",
       "<tr>\n",
       "  <th>Kurtosis:</th>      <td> 3.338</td> <th>  Cond. No.          </th> <td>    3.32</td>\n",
       "</tr>\n",
       "</table>"
      ],
      "text/plain": [
       "<class 'statsmodels.iolib.summary.Summary'>\n",
       "\"\"\"\n",
       "                            OLS Regression Results                            \n",
       "==============================================================================\n",
       "Dep. Variable:      ChangePedInj_2015   R-squared:                       0.053\n",
       "Model:                            OLS   Adj. R-squared:                  0.040\n",
       "Method:                 Least Squares   F-statistic:                     4.123\n",
       "Date:                Thu, 01 Dec 2016   Prob (F-statistic):             0.0459\n",
       "Time:                        16:51:37   Log-Likelihood:                 53.432\n",
       "No. Observations:                  76   AIC:                            -102.9\n",
       "Df Residuals:                      74   BIC:                            -98.20\n",
       "Df Model:                           1                                         \n",
       "Covariance Type:            nonrobust                                         \n",
       "==================================================================================\n",
       "                     coef    std err          t      P>|t|      [95.0% Conf. Int.]\n",
       "----------------------------------------------------------------------------------\n",
       "Intercept         -0.1822      0.023     -8.003      0.000        -0.228    -0.137\n",
       "ChangeP12_2015     0.0291      0.014      2.031      0.046         0.001     0.058\n",
       "==============================================================================\n",
       "Omnibus:                        6.263   Durbin-Watson:                   2.271\n",
       "Prob(Omnibus):                  0.044   Jarque-Bera (JB):                5.624\n",
       "Skew:                           0.645   Prob(JB):                       0.0601\n",
       "Kurtosis:                       3.338   Cond. No.                         3.32\n",
       "==============================================================================\n",
       "\n",
       "Warnings:\n",
       "[1] Standard Errors assume that the covariance matrix of the errors is correctly specified.\n",
       "\"\"\""
      ]
     },
     "execution_count": 105,
     "metadata": {},
     "output_type": "execute_result"
    }
   ],
   "source": [
    "results3.summary()"
   ]
  },
  {
   "cell_type": "code",
   "execution_count": null,
   "metadata": {
    "collapsed": true
   },
   "outputs": [],
   "source": []
  }
 ],
 "metadata": {
  "kernelspec": {
   "display_name": "Python 2",
   "language": "python",
   "name": "python2"
  },
  "language_info": {
   "codemirror_mode": {
    "name": "ipython",
    "version": 2
   },
   "file_extension": ".py",
   "mimetype": "text/x-python",
   "name": "python",
   "nbconvert_exporter": "python",
   "pygments_lexer": "ipython2",
   "version": "2.7.12"
  }
 },
 "nbformat": 4,
 "nbformat_minor": 1
}
