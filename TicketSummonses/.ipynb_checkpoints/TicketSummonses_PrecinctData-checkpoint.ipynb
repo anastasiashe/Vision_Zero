{
 "cells": [
  {
   "cell_type": "code",
   "execution_count": 1,
   "metadata": {
    "collapsed": true
   },
   "outputs": [],
   "source": [
    "import os\n",
    "import pandas as pd"
   ]
  },
  {
   "cell_type": "markdown",
   "metadata": {},
   "source": [
    "## 2011 Data"
   ]
  },
  {
   "cell_type": "code",
   "execution_count": 2,
   "metadata": {
    "collapsed": false
   },
   "outputs": [],
   "source": [
    "path = '/Users/JordanVani/Documents/NYU/ADS/Report/Vision_Zero/TicketSummonses/Data/2011_12_sum_excel/'\n",
    "f2011 = os.listdir(path)"
   ]
  },
  {
   "cell_type": "code",
   "execution_count": 3,
   "metadata": {
    "collapsed": false
   },
   "outputs": [],
   "source": [
    "Tickets2011 = {}\n",
    "for x in f2011[1:-1]:\n",
    "    Tickets2011['Precinct' + x[0:3]] = pd.read_excel(path + x, parse_cols = [0, 2])\n",
    "    Tickets2011['Precinct' + x[0:3]].columns = ['MovingViolations', 'P'  + '2011_' + x[0:3]]\n",
    "#    Tickets2011['Precinct' + x[0:3]].drop(Tickets2011['Precinct' + x[0:3]].index[[0, 1, 2, 3, 36, 37, 38]], \n",
    "#                                          inplace = True)\n",
    "df2011 = pd.concat(Tickets2011, axis = 1)\n",
    "df2011.columns = df2011.columns.droplevel()\n",
    "df2011 = df2011.T.drop_duplicates().T"
   ]
  },
  {
   "cell_type": "code",
   "execution_count": 4,
   "metadata": {
    "collapsed": false
   },
   "outputs": [
    {
     "data": {
      "text/plain": [
       "(39, 152)"
      ]
     },
     "execution_count": 4,
     "metadata": {},
     "output_type": "execute_result"
    }
   ],
   "source": [
    "df2011.shape"
   ]
  },
  {
   "cell_type": "markdown",
   "metadata": {},
   "source": [
    "## 2012 Data"
   ]
  },
  {
   "cell_type": "code",
   "execution_count": 5,
   "metadata": {
    "collapsed": true
   },
   "outputs": [],
   "source": [
    "path = '/Users/JordanVani/Documents/NYU/ADS/Report/Vision_Zero/TicketSummonses/Data/2012_12_sum_excel/'\n",
    "f2012 = os.listdir(path)"
   ]
  },
  {
   "cell_type": "code",
   "execution_count": 6,
   "metadata": {
    "collapsed": false
   },
   "outputs": [],
   "source": [
    "Tickets2012 = {}\n",
    "for x in f2012[1:-1]:\n",
    "    Tickets2012['Precinct' + x[0:3]] = pd.read_excel(path + x, parse_cols = [0, 2])\n",
    "    Tickets2012['Precinct' + x[0:3]].columns = ['MovingViolations', 'P'  + '2012_' + x[0:3]]\n",
    "#    Tickets2012['Precinct' + x[0:3]].drop(Tickets2012['Precinct' + x[0:3]].index[[0, 1, 2, 3, 36, 37, 38]], \n",
    "#                                          inplace = True)\n",
    "df2012 = pd.concat(Tickets2012, axis = 1)\n",
    "df2012.columns = df2012.columns.droplevel()\n",
    "df2012 = df2012.T.drop_duplicates().T"
   ]
  },
  {
   "cell_type": "code",
   "execution_count": 7,
   "metadata": {
    "collapsed": false
   },
   "outputs": [
    {
     "data": {
      "text/plain": [
       "(39, 152)"
      ]
     },
     "execution_count": 7,
     "metadata": {},
     "output_type": "execute_result"
    }
   ],
   "source": [
    "df2012.shape"
   ]
  },
  {
   "cell_type": "markdown",
   "metadata": {},
   "source": [
    "## 2013 Data"
   ]
  },
  {
   "cell_type": "code",
   "execution_count": 8,
   "metadata": {
    "collapsed": true
   },
   "outputs": [],
   "source": [
    "path = '/Users/JordanVani/Documents/NYU/ADS/Report/Vision_Zero/TicketSummonses/Data/2013_12_sum_excel/'\n",
    "f2013 = os.listdir(path)"
   ]
  },
  {
   "cell_type": "code",
   "execution_count": 9,
   "metadata": {
    "collapsed": false
   },
   "outputs": [],
   "source": [
    "Tickets2013 = {}\n",
    "for x in f2013[1:-1]:\n",
    "    Tickets2013['Precinct' + x[0:3]] = pd.read_excel(path + x, parse_cols = [0, 2])\n",
    "    Tickets2013['Precinct' + x[0:3]].columns = ['MovingViolations', 'P'  + '2013_' + x[0:3]]\n",
    "#    Tickets2013['Precinct' + x[0:3]].drop(Tickets2013['Precinct' + x[0:3]].index[[0, 1, 2, 3, 36, 37, 38]], \n",
    "#                                          inplace = True)\n",
    "df2013 = pd.concat(Tickets2013, axis = 1)\n",
    "df2013.columns = df2013.columns.droplevel()\n",
    "df2013 = df2013.T.drop_duplicates().T"
   ]
  },
  {
   "cell_type": "code",
   "execution_count": 10,
   "metadata": {
    "collapsed": false
   },
   "outputs": [
    {
     "data": {
      "text/plain": [
       "(42, 154)"
      ]
     },
     "execution_count": 10,
     "metadata": {},
     "output_type": "execute_result"
    }
   ],
   "source": [
    "df2013.shape"
   ]
  },
  {
   "cell_type": "markdown",
   "metadata": {},
   "source": [
    "## 2014 Data"
   ]
  },
  {
   "cell_type": "code",
   "execution_count": 11,
   "metadata": {
    "collapsed": true
   },
   "outputs": [],
   "source": [
    "path = '/Users/JordanVani/Documents/NYU/ADS/Report/Vision_Zero/TicketSummonses/Data/2014_12_sum_excel/'\n",
    "f2014 = os.listdir(path)"
   ]
  },
  {
   "cell_type": "code",
   "execution_count": 12,
   "metadata": {
    "collapsed": true
   },
   "outputs": [],
   "source": [
    "Tickets2014 = {}\n",
    "for x in f2014[1:-1]:\n",
    "    Tickets2014['Precinct' + x[0:3]] = pd.read_excel(path + x, parse_cols = [0, 2])\n",
    "    Tickets2014['Precinct' + x[0:3]].columns = ['MovingViolations', 'P'  + '2013_' + x[0:3]]\n",
    "#    Tickets2014['Precinct' + x[0:3]].drop(Tickets2014['Precinct' + x[0:3]].index[[0, 1, 2, 3, 36, 37, 38]], \n",
    "#                                          inplace = True)\n",
    "df2014 = pd.concat(Tickets2014, axis = 1)\n",
    "df2014.columns = df2014.columns.droplevel()\n",
    "df2014 = df2014.T.drop_duplicates().T"
   ]
  },
  {
   "cell_type": "code",
   "execution_count": 13,
   "metadata": {
    "collapsed": false
   },
   "outputs": [
    {
     "data": {
      "text/plain": [
       "(40, 154)"
      ]
     },
     "execution_count": 13,
     "metadata": {},
     "output_type": "execute_result"
    }
   ],
   "source": [
    "df2014.shape"
   ]
  },
  {
   "cell_type": "markdown",
   "metadata": {},
   "source": [
    "## 2015 Data"
   ]
  },
  {
   "cell_type": "code",
   "execution_count": 15,
   "metadata": {
    "collapsed": true
   },
   "outputs": [],
   "source": [
    "path = '/Users/JordanVani/Documents/NYU/ADS/Report/Vision_Zero/TicketSummonses/Data/2015_12_sum_excel/'\n",
    "f2015 = os.listdir(path)"
   ]
  },
  {
   "cell_type": "code",
   "execution_count": 26,
   "metadata": {
    "collapsed": false
   },
   "outputs": [],
   "source": [
    "Tickets2015 = {}\n",
    "for x in f2015[2:]:\n",
    "    Tickets2015['Precinct' + x[9:12]] = pd.read_excel(path + x, parse_cols = [0, 2])\n",
    "    Tickets2015['Precinct' + x[9:12]].columns = ['MovingViolations', 'P'  + '2013_' + x[0:3]]\n",
    "#    Tickets2015['Precinct' + x[9:12]].drop(Tickets2015['Precinct' + x[0:3]].index[[0, 1, 2, 3, 36, 37, 38]], \n",
    "#                                          inplace = True)\n",
    "df2015 = pd.concat(Tickets2015, axis = 1)\n",
    "df2015.columns = df2015.columns.droplevel()\n",
    "df2015 = df2015.T.drop_duplicates().T"
   ]
  },
  {
   "cell_type": "code",
   "execution_count": 27,
   "metadata": {
    "collapsed": false
   },
   "outputs": [
    {
     "data": {
      "text/plain": [
       "(41, 154)"
      ]
     },
     "execution_count": 27,
     "metadata": {},
     "output_type": "execute_result"
    }
   ],
   "source": [
    "df2015.shape"
   ]
  }
 ],
 "metadata": {
  "kernelspec": {
   "display_name": "Python 2",
   "language": "python",
   "name": "python2"
  },
  "language_info": {
   "codemirror_mode": {
    "name": "ipython",
    "version": 2
   },
   "file_extension": ".py",
   "mimetype": "text/x-python",
   "name": "python",
   "nbconvert_exporter": "python",
   "pygments_lexer": "ipython2",
   "version": "2.7.12"
  }
 },
 "nbformat": 4,
 "nbformat_minor": 1
}
