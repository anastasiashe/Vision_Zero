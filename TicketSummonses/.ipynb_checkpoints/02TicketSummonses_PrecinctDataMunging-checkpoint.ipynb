{
 "cells": [
  {
   "cell_type": "code",
   "execution_count": 1,
   "metadata": {
    "collapsed": true
   },
   "outputs": [],
   "source": [
    "import os\n",
    "import numpy as np\n",
    "import pandas as pd"
   ]
  },
  {
   "cell_type": "markdown",
   "metadata": {},
   "source": [
    "## 2013 Ticket Summonses Data"
   ]
  },
  {
   "cell_type": "code",
   "execution_count": 2,
   "metadata": {
    "collapsed": false
   },
   "outputs": [
    {
     "data": {
      "text/plain": [
       "(77, 36)"
      ]
     },
     "execution_count": 2,
     "metadata": {},
     "output_type": "execute_result"
    }
   ],
   "source": [
    "path = '/Users/JordanVani/Documents/NYU/ADS/Report/Vision_Zero/TicketSummonses/Annual_Data_Precinct/2013_12_sum_excel/'\n",
    "f2013 = os.listdir(path)\n",
    "\n",
    "Tickets2013 = {}\n",
    "\n",
    "# For x in os.listdir excluding .DS_Store & Archive folder.\n",
    "for x in f2013[1:-1]:\n",
    "    # Read in excel file.\n",
    "    Tickets2013['Precinct' + x[0:3]] = pd.read_excel(path + x, parse_cols=[0, 2])\n",
    "    # Drop extra columns at top of spreadsheet and unnecessary Nans.\n",
    "    Tickets2013['Precinct' + x[0:3]].drop(Tickets2013['Precinct' + x[0:3]].index[[0, 1, 2]], inplace=True)\n",
    "    Tickets2013['Precinct' + x[0:3]].dropna(subset=['Unnamed: 1'], inplace=True)\n",
    "    # Add rows with precinct, year, and ID info.\n",
    "    Tickets2013['Precinct' + x[0:3]].loc[37] = {'Moving Violations': 'Precinct', 'Unnamed: 1': x[0:3]}\n",
    "    Tickets2013['Precinct' + x[0:3]].loc[38] = {'Moving Violations': 'Year', 'Unnamed: 1': 2013}\n",
    "    Tickets2013['Precinct' + x[0:3]].loc[39] = {'Moving Violations': 'ID', 'Unnamed: 1': str(x[0:3]) + str(2013)}\n",
    "    # Rename mislabeled violations.\n",
    "    Tickets2013['Precinct' + x[0:3]].iloc[0]['Moving Violations'] = 'Backing Unsafely'\n",
    "    Tickets2013['Precinct' + x[0:3]].iloc[-4]['Moving Violations'] = 'Other Movers'\n",
    "    # Set index to violation names.\n",
    "    Tickets2013['Precinct' + x[0:3]].set_index(['Moving Violations'], inplace=True)\n",
    "    # Rename column by ID.\n",
    "    Tickets2013['Precinct' + x[0:3]].columns = [str(x[0:3]) + str(2013)]\n",
    "\n",
    "# Concatenate all dfs, drop dict key level, and transpose.\n",
    "df2013 = pd.concat(Tickets2013, axis = 1)\n",
    "df2013.columns = df2013.columns.droplevel()\n",
    "df2013 = df2013.T\n",
    "# Drop column not present in future years.\n",
    "df2013.drop(['Unsafe Lane Change'], axis=1, inplace=True)\n",
    "# Rename columns to match future years.\n",
    "df2013.rename(columns = {'Disobey Sign': 'Disobey Traffic Control Device',\n",
    "                         'Fail to Stop on Signal': 'Disobey Steady Red Signal',\n",
    "                         'Brake Lights (Defect.or  Improper)': 'Brake Lights (Defect.or Improper)'},\n",
    "             inplace=True)\n",
    "\n",
    "df2013.shape"
   ]
  },
  {
   "cell_type": "markdown",
   "metadata": {},
   "source": [
    "## 2014 Ticket Summonses Data"
   ]
  },
  {
   "cell_type": "code",
   "execution_count": 3,
   "metadata": {
    "collapsed": false
   },
   "outputs": [
    {
     "data": {
      "text/plain": [
       "(77, 36)"
      ]
     },
     "execution_count": 3,
     "metadata": {},
     "output_type": "execute_result"
    }
   ],
   "source": [
    "path = '/Users/JordanVani/Documents/NYU/ADS/Report/Vision_Zero/TicketSummonses/Annual_Data_Precinct/2014_12_sum_excel/'\n",
    "f2014 = os.listdir(path)\n",
    "\n",
    "Tickets2014 = {}\n",
    "\n",
    "# For x in os.listdir excluding .DS_Store & Archive folder.\n",
    "for x in f2014[1:-1]:\n",
    "    # Read in excel file.\n",
    "    Tickets2014['Precinct' + x[0:3]] = pd.read_excel(path + x, parse_cols=[0, 2])\n",
    "    # Drop extra columns at top of spreadsheet and unnecessary Nans.\n",
    "    Tickets2014['Precinct' + x[0:3]].drop(Tickets2014['Precinct' + x[0:3]].index[[0, 1, 2, 3]], inplace=True)\n",
    "    Tickets2014['Precinct' + x[0:3]].dropna(subset=['Unnamed: 1'], inplace=True)\n",
    "    # Add rows with precinct, year, and ID info.\n",
    "    Tickets2014['Precinct' + x[0:3]].loc[37] = {'Moving Violations': 'Precinct', 'Unnamed: 1': x[0:3]}\n",
    "    Tickets2014['Precinct' + x[0:3]].loc[38] = {'Moving Violations': 'Year', 'Unnamed: 1': 2014}\n",
    "    Tickets2014['Precinct' + x[0:3]].loc[39] = {'Moving Violations': 'ID', 'Unnamed: 1': str(x[0:3]) + str(2014)}\n",
    "    # Rename mislabeled violations.\n",
    "    Tickets2014['Precinct' + x[0:3]].iloc[0]['Moving Violations'] = 'Backing Unsafely'\n",
    "    Tickets2014['Precinct' + x[0:3]].iloc[-4]['Moving Violations'] = 'Other Movers'\n",
    "    # Set index to violation names.\n",
    "    Tickets2014['Precinct' + x[0:3]].set_index(['Moving Violations'], inplace=True)\n",
    "    # Rename column by ID.\n",
    "    Tickets2014['Precinct' + x[0:3]].columns = [str(x[0:3]) + str(2014)]\n",
    "\n",
    "#Concatenate all dfs, drop dict key level, and transpose.\n",
    "df2014 = pd.concat(Tickets2014, axis = 1)\n",
    "df2014.columns = df2014.columns.droplevel()\n",
    "df2014 = df2014.T\n",
    "\n",
    "df2014.shape"
   ]
  },
  {
   "cell_type": "markdown",
   "metadata": {},
   "source": [
    "## 2015 Ticket Summonses Data"
   ]
  },
  {
   "cell_type": "code",
   "execution_count": 4,
   "metadata": {
    "collapsed": false
   },
   "outputs": [
    {
     "data": {
      "text/plain": [
       "(77, 36)"
      ]
     },
     "execution_count": 4,
     "metadata": {},
     "output_type": "execute_result"
    }
   ],
   "source": [
    "path = '/Users/JordanVani/Documents/NYU/ADS/Report/Vision_Zero/TicketSummonses/Annual_Data_Precinct/2015_12_sum_excel/'\n",
    "f2015 = os.listdir(path)\n",
    "\n",
    "Tickets2015 = {}\n",
    "\n",
    "# For x in os.listdir excluding .DS_Store & Archive folder.\n",
    "for x in f2015[2:]:\n",
    "    # Read in excel file.\n",
    "    Tickets2015['Precinct' + x[9:12]] = pd.read_excel(path + x, parse_cols=[0, 2])\n",
    "    # Drop extra columns at top of spreadsheet and unnecessary Nans.\n",
    "    Tickets2015['Precinct' + x[9:12]].drop(Tickets2015['Precinct' + x[9:12]].index[[0, 1, 2, 3]], inplace=True)\n",
    "    Tickets2015['Precinct' + x[9:12]].dropna(subset=['Unnamed: 1'], inplace=True)\n",
    "    # Add rows with precinct, year, and ID info.\n",
    "    Tickets2015['Precinct' + x[9:12]].loc[37] = {'Moving Violations': 'Precinct', 'Unnamed: 1': x[9:12]}\n",
    "    Tickets2015['Precinct' + x[9:12]].loc[38] = {'Moving Violations': 'Year', 'Unnamed: 1': 2015}\n",
    "    Tickets2015['Precinct' + x[9:12]].loc[39] = {'Moving Violations': 'ID', 'Unnamed: 1': str(x[9:12]) + str(2015)}\n",
    "    # Rename mislabeled violations.\n",
    "    Tickets2015['Precinct' + x[9:12]].iloc[0]['Moving Violations'] = 'Backing Unsafely'\n",
    "    Tickets2015['Precinct' + x[9:12]].iloc[-4]['Moving Violations'] = 'Other Movers'\n",
    "    # Set index to violation names.\n",
    "    Tickets2015['Precinct' + x[9:12]].set_index(['Moving Violations'], inplace=True)\n",
    "    # Rename column by ID.\n",
    "    Tickets2015['Precinct' + x[9:12]].columns = [str(x[9:12]) + str(2015)]\n",
    "\n",
    "#Concatenate all dfs, drop dict key level, and transpose.\n",
    "df2015 = pd.concat(Tickets2015, axis = 1)\n",
    "df2015.columns = df2015.columns.droplevel()\n",
    "df2015 = df2015.T\n",
    "\n",
    "df2015.shape"
   ]
  },
  {
   "cell_type": "markdown",
   "metadata": {},
   "source": [
    "## Concatenate 2013-2015 Data"
   ]
  },
  {
   "cell_type": "code",
   "execution_count": 5,
   "metadata": {
    "collapsed": false
   },
   "outputs": [
    {
     "name": "stdout",
     "output_type": "stream",
     "text": [
      "(231, 39)\n"
     ]
    },
    {
     "data": {
      "text/html": [
       "<div>\n",
       "<table border=\"1\" class=\"dataframe\">\n",
       "  <thead>\n",
       "    <tr style=\"text-align: right;\">\n",
       "      <th></th>\n",
       "      <th>Backing Unsafely</th>\n",
       "      <th>Brake Lights (Defect.or Improper)</th>\n",
       "      <th>Bus Lane, Driving in</th>\n",
       "      <th>Cell Phone</th>\n",
       "      <th>Commercial Veh on Pkwy</th>\n",
       "      <th>Defective Brakes</th>\n",
       "      <th>Disobey Steady Red Signal</th>\n",
       "      <th>Disobey Traffic Control Device</th>\n",
       "      <th>Equipment (Other)</th>\n",
       "      <th>Fail to Keep Right</th>\n",
       "      <th>...</th>\n",
       "      <th>Truck Routes</th>\n",
       "      <th>U-Turn</th>\n",
       "      <th>Uninspected</th>\n",
       "      <th>Uninsured</th>\n",
       "      <th>Unlicensed Operator</th>\n",
       "      <th>Unregistered</th>\n",
       "      <th>Year</th>\n",
       "      <th>P12</th>\n",
       "      <th>P123</th>\n",
       "      <th>Total</th>\n",
       "    </tr>\n",
       "  </thead>\n",
       "  <tbody>\n",
       "    <tr>\n",
       "      <th>0012013</th>\n",
       "      <td>6</td>\n",
       "      <td>536</td>\n",
       "      <td>92</td>\n",
       "      <td>2411</td>\n",
       "      <td>2</td>\n",
       "      <td>0</td>\n",
       "      <td>658</td>\n",
       "      <td>1810</td>\n",
       "      <td>226</td>\n",
       "      <td>3</td>\n",
       "      <td>...</td>\n",
       "      <td>25</td>\n",
       "      <td>10</td>\n",
       "      <td>40</td>\n",
       "      <td>496</td>\n",
       "      <td>350</td>\n",
       "      <td>103</td>\n",
       "      <td>2013</td>\n",
       "      <td>439.0</td>\n",
       "      <td>3816.0</td>\n",
       "      <td>11223.0</td>\n",
       "    </tr>\n",
       "    <tr>\n",
       "      <th>0052013</th>\n",
       "      <td>12</td>\n",
       "      <td>326</td>\n",
       "      <td>11</td>\n",
       "      <td>617</td>\n",
       "      <td>0</td>\n",
       "      <td>1</td>\n",
       "      <td>533</td>\n",
       "      <td>1869</td>\n",
       "      <td>87</td>\n",
       "      <td>10</td>\n",
       "      <td>...</td>\n",
       "      <td>1</td>\n",
       "      <td>39</td>\n",
       "      <td>9</td>\n",
       "      <td>171</td>\n",
       "      <td>266</td>\n",
       "      <td>81</td>\n",
       "      <td>2013</td>\n",
       "      <td>408.0</td>\n",
       "      <td>5493.0</td>\n",
       "      <td>9029.0</td>\n",
       "    </tr>\n",
       "    <tr>\n",
       "      <th>0062013</th>\n",
       "      <td>20</td>\n",
       "      <td>126</td>\n",
       "      <td>0</td>\n",
       "      <td>1789</td>\n",
       "      <td>2</td>\n",
       "      <td>0</td>\n",
       "      <td>582</td>\n",
       "      <td>1516</td>\n",
       "      <td>2</td>\n",
       "      <td>1</td>\n",
       "      <td>...</td>\n",
       "      <td>27</td>\n",
       "      <td>42</td>\n",
       "      <td>5</td>\n",
       "      <td>247</td>\n",
       "      <td>369</td>\n",
       "      <td>33</td>\n",
       "      <td>2013</td>\n",
       "      <td>340.0</td>\n",
       "      <td>3904.0</td>\n",
       "      <td>9356.0</td>\n",
       "    </tr>\n",
       "    <tr>\n",
       "      <th>0072013</th>\n",
       "      <td>4</td>\n",
       "      <td>0</td>\n",
       "      <td>0</td>\n",
       "      <td>1395</td>\n",
       "      <td>1</td>\n",
       "      <td>1</td>\n",
       "      <td>436</td>\n",
       "      <td>1754</td>\n",
       "      <td>0</td>\n",
       "      <td>1</td>\n",
       "      <td>...</td>\n",
       "      <td>83</td>\n",
       "      <td>0</td>\n",
       "      <td>42</td>\n",
       "      <td>187</td>\n",
       "      <td>249</td>\n",
       "      <td>55</td>\n",
       "      <td>2013</td>\n",
       "      <td>351.0</td>\n",
       "      <td>4198.0</td>\n",
       "      <td>7627.0</td>\n",
       "    </tr>\n",
       "    <tr>\n",
       "      <th>0092013</th>\n",
       "      <td>11</td>\n",
       "      <td>85</td>\n",
       "      <td>17</td>\n",
       "      <td>2403</td>\n",
       "      <td>0</td>\n",
       "      <td>5</td>\n",
       "      <td>1181</td>\n",
       "      <td>1323</td>\n",
       "      <td>100</td>\n",
       "      <td>1</td>\n",
       "      <td>...</td>\n",
       "      <td>4</td>\n",
       "      <td>5</td>\n",
       "      <td>60</td>\n",
       "      <td>259</td>\n",
       "      <td>416</td>\n",
       "      <td>51</td>\n",
       "      <td>2013</td>\n",
       "      <td>330.0</td>\n",
       "      <td>3813.0</td>\n",
       "      <td>8933.0</td>\n",
       "    </tr>\n",
       "  </tbody>\n",
       "</table>\n",
       "<p>5 rows × 39 columns</p>\n",
       "</div>"
      ],
      "text/plain": [
       "        Backing Unsafely Brake Lights (Defect.or Improper)  \\\n",
       "0012013                6                               536   \n",
       "0052013               12                               326   \n",
       "0062013               20                               126   \n",
       "0072013                4                                 0   \n",
       "0092013               11                                85   \n",
       "\n",
       "        Bus Lane, Driving in Cell Phone Commercial Veh on Pkwy  \\\n",
       "0012013                   92       2411                      2   \n",
       "0052013                   11        617                      0   \n",
       "0062013                    0       1789                      2   \n",
       "0072013                    0       1395                      1   \n",
       "0092013                   17       2403                      0   \n",
       "\n",
       "        Defective Brakes Disobey Steady Red Signal  \\\n",
       "0012013                0                       658   \n",
       "0052013                1                       533   \n",
       "0062013                0                       582   \n",
       "0072013                1                       436   \n",
       "0092013                5                      1181   \n",
       "\n",
       "        Disobey Traffic Control Device Equipment (Other) Fail to Keep Right  \\\n",
       "0012013                           1810               226                  3   \n",
       "0052013                           1869                87                 10   \n",
       "0062013                           1516                 2                  1   \n",
       "0072013                           1754                 0                  1   \n",
       "0092013                           1323               100                  1   \n",
       "\n",
       "          ...    Truck Routes U-Turn Uninspected Uninsured  \\\n",
       "0012013   ...              25     10          40       496   \n",
       "0052013   ...               1     39           9       171   \n",
       "0062013   ...              27     42           5       247   \n",
       "0072013   ...              83      0          42       187   \n",
       "0092013   ...               4      5          60       259   \n",
       "\n",
       "        Unlicensed Operator Unregistered  Year    P12    P123    Total  \n",
       "0012013                 350          103  2013  439.0  3816.0  11223.0  \n",
       "0052013                 266           81  2013  408.0  5493.0   9029.0  \n",
       "0062013                 369           33  2013  340.0  3904.0   9356.0  \n",
       "0072013                 249           55  2013  351.0  4198.0   7627.0  \n",
       "0092013                 416           51  2013  330.0  3813.0   8933.0  \n",
       "\n",
       "[5 rows x 39 columns]"
      ]
     },
     "execution_count": 5,
     "metadata": {},
     "output_type": "execute_result"
    }
   ],
   "source": [
    "# Concatenate all dataframes\n",
    "data = pd.concat([df2013, df2014, df2015])\n",
    "\n",
    "# Column list of tickets\n",
    "cols = ['Backing Unsafely', 'Brake Lights (Defect.or Improper)',\n",
    "        'Bus Lane, Driving in', 'Cell Phone', 'Commercial Veh on Pkwy',\n",
    "        'Defective Brakes', 'Disobey Steady Red Signal',\n",
    "        'Disobey Traffic Control Device', 'Equipment (Other)',\n",
    "        'Fail to Keep Right', 'Fail to Signal', 'Following Too Closely',\n",
    "        'Headlights (Defect. or Improper)', 'Improper Lights',\n",
    "        'Improper Passing', 'Improper Turn', 'Improper/Missing Plates',\n",
    "        'Not Giving R of W to Pedes.', 'Not Giving R of W to Veh.',\n",
    "        'One Way Street', 'Other Movers', 'Pavement Markings',\n",
    "        'Safety Belt', 'School Bus, Passing Stopped','Speeding', \n",
    "        'Spillback', 'Tinted Windows', 'Truck Routes', 'U-Turn',\n",
    "        'Uninspected', 'Uninsured', 'Unlicensed Operator', 'Unregistered']\n",
    "\n",
    "# Priority 1 & 2 tickets.\n",
    "P12 = ['Fail to Signal', 'Not Giving R of W to Pedes.',\n",
    "       'Not Giving R of W to Veh.', 'School Bus, Passing Stopped',\n",
    "       'Speeding']\n",
    "\n",
    "# Priority 1, 2, & 3 tickets.\n",
    "P123 = ['Backing Unsafely', 'Commercial Veh on Pkwy',\n",
    "        'Disobey Steady Red Signal', 'Disobey Traffic Control Device',\n",
    "        'Fail to Signal', 'Improper Turn', 'Improper/Missing Plates',\n",
    "        'Not Giving R of W to Pedes.', 'Not Giving R of W to Veh.',\n",
    "        'Other Movers', 'School Bus, Passing Stopped', 'Speeding', \n",
    "        'Truck Routes', 'U-Turn']\n",
    "\n",
    "data['P12'] = data[P12].sum(axis=1)\n",
    "data['P123'] = data[P123].sum(axis=1)\n",
    "data['Total'] = data[cols].sum(axis=1)\n",
    "# data['P12_Total'] = (data['P12'] / data['Total'] * 100).round(2)\n",
    "# data['P123_Total'] = (data['P123'] / data['Total'] * 100).round(2)\n",
    "\n",
    "# Export data to csv.\n",
    "data.to_csv('VisionZero_TicketData.csv', encoding = 'utf-8')\n",
    "\n",
    "print data.shape\n",
    "data.head()"
   ]
  },
  {
   "cell_type": "code",
   "execution_count": null,
   "metadata": {
    "collapsed": true
   },
   "outputs": [],
   "source": []
  }
 ],
 "metadata": {
  "kernelspec": {
   "display_name": "Python 2",
   "language": "python",
   "name": "python2"
  },
  "language_info": {
   "codemirror_mode": {
    "name": "ipython",
    "version": 2
   },
   "file_extension": ".py",
   "mimetype": "text/x-python",
   "name": "python",
   "nbconvert_exporter": "python",
   "pygments_lexer": "ipython2",
   "version": "2.7.12"
  }
 },
 "nbformat": 4,
 "nbformat_minor": 1
}
