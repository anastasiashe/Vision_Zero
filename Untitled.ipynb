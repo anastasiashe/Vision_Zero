{
 "cells": [
  {
   "cell_type": "code",
   "execution_count": 26,
   "metadata": {
    "collapsed": true
   },
   "outputs": [],
   "source": [
    "import pandas as pd\n",
    "import csv\n",
    "import numpy as np"
   ]
  },
  {
   "cell_type": "code",
   "execution_count": 19,
   "metadata": {
    "collapsed": false
   },
   "outputs": [],
   "source": [
    "alist = []\n",
    "ind = [[0, -1], [0, -1], [-1, 2], [-1, 2]]\n",
    "i = 0\n",
    "for name in ['Education_Data.csv', 'VisionZero_TicketData.csv', 'neighborhood_slow_zones.csv', 'speed_bumps.csv']:\n",
    "    with open(name, mode='r') as afile:\n",
    "        reader = csv.reader(afile)\n",
    "        alist.append(dict((rows[ind[i][0]],rows[ind[i][1]]) for rows in reader))\n",
    "        i+=1"
   ]
  },
  {
   "cell_type": "code",
   "execution_count": 29,
   "metadata": {
    "collapsed": false
   },
   "outputs": [],
   "source": [
    "PrecinctDates = []\n",
    "for i in range(0, len(alist)):\n",
    "    PrecinctDates+= alist[i].keys()\n",
    "    \n",
    "PrecinctDates = np.unique(PrecinctDates)"
   ]
  },
  {
   "cell_type": "code",
   "execution_count": 34,
   "metadata": {
    "collapsed": false
   },
   "outputs": [],
   "source": [
    "PrecinctDates_ = []\n",
    "for p in PrecinctDates:\n",
    "    if p.isdigit():\n",
    "        PrecinctDates_.append(p)"
   ]
  },
  {
   "cell_type": "code",
   "execution_count": 36,
   "metadata": {
    "collapsed": false
   },
   "outputs": [],
   "source": [
    "final_dictionary = {}\n",
    "l = len(alist)\n",
    "for p in PrecinctDates_:\n",
    "    rec = [0, 0, 0, 0]\n",
    "    for i in range(0, l):\n",
    "        if p in alist[i].keys():\n",
    "            rec[i] = int(alist[i][p])\n",
    "    final_dictionary[p] = rec"
   ]
  },
  {
   "cell_type": "code",
   "execution_count": 38,
   "metadata": {
    "collapsed": false
   },
   "outputs": [],
   "source": [
    "df = pd.DataFrame(final_dictionary.items(), columns=['PrecinctYear', 'Data'])"
   ]
  },
  {
   "cell_type": "code",
   "execution_count": 40,
   "metadata": {
    "collapsed": false
   },
   "outputs": [],
   "source": [
    "#df['Precinct'] = df['PrecinctYear'].apply(lambda x: x[:-4])\n",
    "#df['Year'] = df['PrecinctYear'].apply(lambda x: x[-4:])\n",
    "df['AwarenessEducation'] = df['Data'].apply(lambda x: x[0])\n",
    "df['TrafficTickets'] = df['Data'].apply(lambda x: x[1])\n",
    "df['SlowZones'] = df['Data'].apply(lambda x: x[2])\n",
    "df['SpeedBumps'] = df['Data'].apply(lambda x: x[3])"
   ]
  },
  {
   "cell_type": "code",
   "execution_count": 42,
   "metadata": {
    "collapsed": false
   },
   "outputs": [],
   "source": [
    "del df['Data']"
   ]
  },
  {
   "cell_type": "code",
   "execution_count": 43,
   "metadata": {
    "collapsed": false
   },
   "outputs": [
    {
     "data": {
      "text/html": [
       "<div>\n",
       "<table border=\"1\" class=\"dataframe\">\n",
       "  <thead>\n",
       "    <tr style=\"text-align: right;\">\n",
       "      <th></th>\n",
       "      <th>PrecinctYear</th>\n",
       "      <th>AwarenessEducation</th>\n",
       "      <th>TrafficTickets</th>\n",
       "      <th>SlowZones</th>\n",
       "      <th>SpeedBumps</th>\n",
       "    </tr>\n",
       "  </thead>\n",
       "  <tbody>\n",
       "    <tr>\n",
       "      <th>0</th>\n",
       "      <td>442014</td>\n",
       "      <td>15</td>\n",
       "      <td>10006</td>\n",
       "      <td>0</td>\n",
       "      <td>0</td>\n",
       "    </tr>\n",
       "    <tr>\n",
       "      <th>1</th>\n",
       "      <td>202013</td>\n",
       "      <td>0</td>\n",
       "      <td>10746</td>\n",
       "      <td>0</td>\n",
       "      <td>0</td>\n",
       "    </tr>\n",
       "    <tr>\n",
       "      <th>2</th>\n",
       "      <td>442016</td>\n",
       "      <td>8</td>\n",
       "      <td>0</td>\n",
       "      <td>0</td>\n",
       "      <td>0</td>\n",
       "    </tr>\n",
       "    <tr>\n",
       "      <th>3</th>\n",
       "      <td>242014</td>\n",
       "      <td>21</td>\n",
       "      <td>7537</td>\n",
       "      <td>0</td>\n",
       "      <td>0</td>\n",
       "    </tr>\n",
       "    <tr>\n",
       "      <th>4</th>\n",
       "      <td>472015</td>\n",
       "      <td>17</td>\n",
       "      <td>8876</td>\n",
       "      <td>0</td>\n",
       "      <td>0</td>\n",
       "    </tr>\n",
       "  </tbody>\n",
       "</table>\n",
       "</div>"
      ],
      "text/plain": [
       "  PrecinctYear  AwarenessEducation  TrafficTickets  SlowZones  SpeedBumps\n",
       "0       442014                  15           10006          0           0\n",
       "1       202013                   0           10746          0           0\n",
       "2       442016                   8               0          0           0\n",
       "3       242014                  21            7537          0           0\n",
       "4       472015                  17            8876          0           0"
      ]
     },
     "execution_count": 43,
     "metadata": {},
     "output_type": "execute_result"
    }
   ],
   "source": [
    "df.head(5)"
   ]
  },
  {
   "cell_type": "code",
   "execution_count": 45,
   "metadata": {
    "collapsed": true
   },
   "outputs": [],
   "source": [
    "df.to_csv('Merged.csv')"
   ]
  }
 ],
 "metadata": {
  "anaconda-cloud": {},
  "kernelspec": {
   "display_name": "Python [default]",
   "language": "python",
   "name": "python2"
  },
  "language_info": {
   "codemirror_mode": {
    "name": "ipython",
    "version": 2
   },
   "file_extension": ".py",
   "mimetype": "text/x-python",
   "name": "python",
   "nbconvert_exporter": "python",
   "pygments_lexer": "ipython2",
   "version": "2.7.11"
  }
 },
 "nbformat": 4,
 "nbformat_minor": 1
}
