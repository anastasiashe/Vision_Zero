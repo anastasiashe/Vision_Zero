{
 "cells": [
  {
   "cell_type": "code",
   "execution_count": 2,
   "metadata": {
    "collapsed": true
   },
   "outputs": [],
   "source": [
    "import pandas as pd\n",
    "import csv\n",
    "import numpy as np"
   ]
  },
  {
   "cell_type": "code",
   "execution_count": 46,
   "metadata": {
    "collapsed": false
   },
   "outputs": [],
   "source": [
    "alist = []\n",
    "ind = [0, 0, -1, -1, 0]\n",
    "exclusions = [[0, 1, 2, -1], [0, 14, 24, 36, -1], [0, 1, 3, 4], [0, 1, 3, 4], [0]]\n",
    "i = 0\n",
    "for name in ['Education_Data.csv', 'VisionZero_TicketData.csv', 'neighborhood_slow_zones.csv', 'speed_bumps.csv',\n",
    "            'VisionZero_Collisions.csv']:\n",
    "    with open(name, mode='r') as afile:\n",
    "        reader = csv.reader(afile)\n",
    "        alist.append(dict((rows[ind[i]], [rows[r] for r in range(0, len(rows)) if r not in exclusions[i]]) for rows in reader))\n",
    "        i+=1"
   ]
  },
  {
   "cell_type": "code",
   "execution_count": 101,
   "metadata": {
    "collapsed": false
   },
   "outputs": [],
   "source": [
    "PrecinctDates = []\n",
    "for i in range(0, len(alist)):\n",
    "    PrecinctDates+= alist[i].keys()\n",
    "PrecinctDates_ = []\n",
    "for p in PrecinctDates:\n",
    "    if p.isdigit():\n",
    "        PrecinctDates_.append(p)\n",
    "PrecinctDates_ = np.unique(np.asarray(PrecinctDates_).astype(int))"
   ]
  },
  {
   "cell_type": "code",
   "execution_count": 120,
   "metadata": {
    "collapsed": false
   },
   "outputs": [],
   "source": [
    "len(alist[0].values()[0])\n",
    "a = 0\n",
    "for i in range(0, len(alist)):\n",
    "    a+= len(alist[i].values()[0])"
   ]
  },
  {
   "cell_type": "code",
   "execution_count": 118,
   "metadata": {
    "collapsed": false
   },
   "outputs": [],
   "source": [
    "lengths = []\n",
    "for i in range(0, len(alist)):\n",
    "    lengths.append(len(alist[i].values()[0]))"
   ]
  },
  {
   "cell_type": "code",
   "execution_count": 171,
   "metadata": {
    "collapsed": false
   },
   "outputs": [],
   "source": [
    "final_dictionary = {}\n",
    "l = len(alist)\n",
    "for p in PrecinctDates_:\n",
    "    rec = [0 for i in range(0, a)]\n",
    "    b = 0\n",
    "    for i in range(0, l):\n",
    "        if str(p) in alist[i].keys():\n",
    "            for j in range(0, lengths[i]):\n",
    "                rec[j+b] = alist[i][str(p)][j]\n",
    "        b+= lengths[i]\n",
    "    final_dictionary[p] = rec"
   ]
  },
  {
   "cell_type": "code",
   "execution_count": 172,
   "metadata": {
    "collapsed": false
   },
   "outputs": [],
   "source": [
    "df = pd.DataFrame(final_dictionary.items(), columns=['PrecinctYear', 'Data'])"
   ]
  },
  {
   "cell_type": "code",
   "execution_count": 173,
   "metadata": {
    "collapsed": false
   },
   "outputs": [
    {
     "name": "stdout",
     "output_type": "stream",
     "text": [
      "['0', '4', '4', '7', '1', '16', '20', '271', '0', '1178', '0', '17', '450', '2194', '6', '8', '232', '3', '118', '108', '35', '514', '10', '444', '44', '15', '68', '134', '1204', '30', '435', '16', '616', '22', '20', '30', '563', '599', '89', '1185', '4483', '9493', 0, '8', '813', '5', '134', '1', '39', '1', '640', '3']\n",
      "1022014\n"
     ]
    }
   ],
   "source": [
    "print df['Data'][10]\n",
    "print df.iloc[10][0]"
   ]
  },
  {
   "cell_type": "code",
   "execution_count": 174,
   "metadata": {
    "collapsed": false
   },
   "outputs": [
    {
     "data": {
      "text/html": [
       "<div>\n",
       "<table border=\"1\" class=\"dataframe\">\n",
       "  <thead>\n",
       "    <tr style=\"text-align: right;\">\n",
       "      <th></th>\n",
       "      <th>PrecinctYear</th>\n",
       "      <th>Data</th>\n",
       "    </tr>\n",
       "  </thead>\n",
       "  <tbody>\n",
       "    <tr>\n",
       "      <th>0</th>\n",
       "      <td>342016</td>\n",
       "      <td>[0, 0, 1, 5, 0, 6, 0, 0, 0, 0, 0, 0, 0, 0, 0, ...</td>\n",
       "    </tr>\n",
       "  </tbody>\n",
       "</table>\n",
       "</div>"
      ],
      "text/plain": [
       "   PrecinctYear                                               Data\n",
       "0        342016  [0, 0, 1, 5, 0, 6, 0, 0, 0, 0, 0, 0, 0, 0, 0, ..."
      ]
     },
     "execution_count": 174,
     "metadata": {},
     "output_type": "execute_result"
    }
   ],
   "source": [
    "df.head(1)"
   ]
  },
  {
   "cell_type": "code",
   "execution_count": 175,
   "metadata": {
    "collapsed": false
   },
   "outputs": [
    {
     "name": "stdout",
     "output_type": "stream",
     "text": [
      "['Taxis', 'Flyers', 'Seniors', 'Outreach', 'HandsOn', 'Edu_Total']\n",
      "['Backing Unsafely', 'Brake Lights (Defect.or Improper)', 'Bus Lane, Driving in', 'Cell Phone', 'Commercial Veh on Pkwy', 'Defective Brakes', 'Disobey Steady Red Signal', 'Disobey Traffic Control Device', 'Equipment (Other)', 'Fail to Keep Right', 'Fail to Signal', 'Following Too Closely', 'Headlights (Defect. or Improper)', 'Improper Lights', 'Improper Passing', 'Improper Turn', 'Improper/Missing Plates', 'Not Giving R of W to Pedes.', 'Not Giving R of W to Veh.', 'One Way Street', 'Other Movers', 'Pavement Markings', 'Safety Belt', 'School Bus, Passing Stopped', 'Speeding', 'Spillback', 'Tinted Windows', 'Truck Routes', 'U-Turn', 'Uninspected', 'Uninsured', 'Unlicensed Operator', 'Unregistered', 'P12', 'P123', 'Traf_Total']\n",
      "['Neigh_Slow_Zone_Total']\n",
      "['Speed_Bump_Total']\n",
      "['NUMBER OF PERSONS INJURED', 'NUMBER OF PERSONS KILLED', 'NUMBER OF PEDESTRIANS INJURED', 'NUMBER OF PEDESTRIANS KILLED', 'NUMBER OF CYCLIST INJURED', 'NUMBER OF CYCLIST KILLED', 'NUMBER OF MOTORIST INJURED', 'NUMBER OF MOTORIST KILLED']\n",
      "['Taxis', 'Flyers', 'Seniors', 'Outreach', 'HandsOn', 'Edu_Total', 'Backing Unsafely', 'Brake Lights (Defect.or Improper)', 'Bus Lane, Driving in', 'Cell Phone', 'Commercial Veh on Pkwy', 'Defective Brakes', 'Disobey Steady Red Signal', 'Disobey Traffic Control Device', 'Equipment (Other)', 'Fail to Keep Right', 'Fail to Signal', 'Following Too Closely', 'Headlights (Defect. or Improper)', 'Improper Lights', 'Improper Passing', 'Improper Turn', 'Improper/Missing Plates', 'Not Giving R of W to Pedes.', 'Not Giving R of W to Veh.', 'One Way Street', 'Other Movers', 'Pavement Markings', 'Safety Belt', 'School Bus, Passing Stopped', 'Speeding', 'Spillback', 'Tinted Windows', 'Truck Routes', 'U-Turn', 'Uninspected', 'Uninsured', 'Unlicensed Operator', 'Unregistered', 'P12', 'P123', 'Traf_Total', 'Neigh_Slow_Zone_Total', 'Speed_Bump_Total', 'NUMBER OF PERSONS INJURED', 'NUMBER OF PERSONS KILLED', 'NUMBER OF PEDESTRIANS INJURED', 'NUMBER OF PEDESTRIANS KILLED', 'NUMBER OF CYCLIST INJURED', 'NUMBER OF CYCLIST KILLED', 'NUMBER OF MOTORIST INJURED', 'NUMBER OF MOTORIST KILLED']\n"
     ]
    }
   ],
   "source": [
    "print alist[0]['PrecinctYear']\n",
    "print alist[1]['PrecinctYear']\n",
    "print alist[2]['PrecinctYear']\n",
    "print alist[3]['PrecinctYear']\n",
    "print alist[4]['ID']\n",
    "colnames = alist[0]['PrecinctYear']+alist[1]['PrecinctYear']+alist[2]['PrecinctYear']+alist[3]['PrecinctYear']+alist[4]['ID']\n",
    "print colnames"
   ]
  },
  {
   "cell_type": "code",
   "execution_count": 176,
   "metadata": {
    "collapsed": false
   },
   "outputs": [
    {
     "data": {
      "text/html": [
       "<div>\n",
       "<table border=\"1\" class=\"dataframe\">\n",
       "  <thead>\n",
       "    <tr style=\"text-align: right;\">\n",
       "      <th></th>\n",
       "      <th>PrecinctYear</th>\n",
       "      <th>Data</th>\n",
       "    </tr>\n",
       "  </thead>\n",
       "  <tbody>\n",
       "    <tr>\n",
       "      <th>0</th>\n",
       "      <td>342016</td>\n",
       "      <td>[0, 0, 1, 5, 0, 6, 0, 0, 0, 0, 0, 0, 0, 0, 0, ...</td>\n",
       "    </tr>\n",
       "    <tr>\n",
       "      <th>1</th>\n",
       "      <td>682011</td>\n",
       "      <td>[0, 0, 0, 0, 0, 0, 0, 0, 0, 0, 0, 0, 0, 0, 0, ...</td>\n",
       "    </tr>\n",
       "    <tr>\n",
       "      <th>2</th>\n",
       "      <td>682012</td>\n",
       "      <td>[0, 0, 0, 0, 0, 0, 0, 0, 0, 0, 0, 0, 0, 0, 0, ...</td>\n",
       "    </tr>\n",
       "    <tr>\n",
       "      <th>3</th>\n",
       "      <td>682013</td>\n",
       "      <td>[0, 0, 0, 0, 0, 0, 9, 274, 0, 1623, 32, 2, 485...</td>\n",
       "    </tr>\n",
       "    <tr>\n",
       "      <th>4</th>\n",
       "      <td>682014</td>\n",
       "      <td>[0, 0, 4, 4, 0, 8, 9, 265, 1, 1295, 59, 4, 590...</td>\n",
       "    </tr>\n",
       "  </tbody>\n",
       "</table>\n",
       "</div>"
      ],
      "text/plain": [
       "   PrecinctYear                                               Data\n",
       "0        342016  [0, 0, 1, 5, 0, 6, 0, 0, 0, 0, 0, 0, 0, 0, 0, ...\n",
       "1        682011  [0, 0, 0, 0, 0, 0, 0, 0, 0, 0, 0, 0, 0, 0, 0, ...\n",
       "2        682012  [0, 0, 0, 0, 0, 0, 0, 0, 0, 0, 0, 0, 0, 0, 0, ...\n",
       "3        682013  [0, 0, 0, 0, 0, 0, 9, 274, 0, 1623, 32, 2, 485...\n",
       "4        682014  [0, 0, 4, 4, 0, 8, 9, 265, 1, 1295, 59, 4, 590..."
      ]
     },
     "execution_count": 176,
     "metadata": {},
     "output_type": "execute_result"
    }
   ],
   "source": [
    "df.head(5)"
   ]
  },
  {
   "cell_type": "code",
   "execution_count": 177,
   "metadata": {
    "collapsed": false
   },
   "outputs": [],
   "source": [
    "df['Precinct'] = df['PrecinctYear'].apply(lambda x: str(x)[:-4])\n",
    "df['Year'] = df['PrecinctYear'].apply(lambda x: str(x)[-4:])"
   ]
  },
  {
   "cell_type": "code",
   "execution_count": 178,
   "metadata": {
    "collapsed": true
   },
   "outputs": [],
   "source": [
    "for i in range(0, a):\n",
    "    df[colnames[i]] = df['Data'].apply(lambda x: x[i])"
   ]
  },
  {
   "cell_type": "code",
   "execution_count": 179,
   "metadata": {
    "collapsed": true
   },
   "outputs": [],
   "source": [
    "del df['Data']"
   ]
  },
  {
   "cell_type": "code",
   "execution_count": 180,
   "metadata": {
    "collapsed": false
   },
   "outputs": [
    {
     "data": {
      "text/html": [
       "<div>\n",
       "<table border=\"1\" class=\"dataframe\">\n",
       "  <thead>\n",
       "    <tr style=\"text-align: right;\">\n",
       "      <th></th>\n",
       "      <th>PrecinctYear</th>\n",
       "      <th>Precinct</th>\n",
       "      <th>Year</th>\n",
       "      <th>Taxis</th>\n",
       "      <th>Flyers</th>\n",
       "      <th>Seniors</th>\n",
       "      <th>Outreach</th>\n",
       "      <th>HandsOn</th>\n",
       "      <th>Edu_Total</th>\n",
       "      <th>Backing Unsafely</th>\n",
       "      <th>...</th>\n",
       "      <th>Neigh_Slow_Zone_Total</th>\n",
       "      <th>Speed_Bump_Total</th>\n",
       "      <th>NUMBER OF PERSONS INJURED</th>\n",
       "      <th>NUMBER OF PERSONS KILLED</th>\n",
       "      <th>NUMBER OF PEDESTRIANS INJURED</th>\n",
       "      <th>NUMBER OF PEDESTRIANS KILLED</th>\n",
       "      <th>NUMBER OF CYCLIST INJURED</th>\n",
       "      <th>NUMBER OF CYCLIST KILLED</th>\n",
       "      <th>NUMBER OF MOTORIST INJURED</th>\n",
       "      <th>NUMBER OF MOTORIST KILLED</th>\n",
       "    </tr>\n",
       "  </thead>\n",
       "  <tbody>\n",
       "    <tr>\n",
       "      <th>0</th>\n",
       "      <td>342016</td>\n",
       "      <td>34</td>\n",
       "      <td>2016</td>\n",
       "      <td>0</td>\n",
       "      <td>0</td>\n",
       "      <td>1</td>\n",
       "      <td>5</td>\n",
       "      <td>0</td>\n",
       "      <td>6</td>\n",
       "      <td>0</td>\n",
       "      <td>...</td>\n",
       "      <td>0</td>\n",
       "      <td>0</td>\n",
       "      <td>0</td>\n",
       "      <td>0</td>\n",
       "      <td>0</td>\n",
       "      <td>0</td>\n",
       "      <td>0</td>\n",
       "      <td>0</td>\n",
       "      <td>0</td>\n",
       "      <td>0</td>\n",
       "    </tr>\n",
       "    <tr>\n",
       "      <th>1</th>\n",
       "      <td>682011</td>\n",
       "      <td>68</td>\n",
       "      <td>2011</td>\n",
       "      <td>0</td>\n",
       "      <td>0</td>\n",
       "      <td>0</td>\n",
       "      <td>0</td>\n",
       "      <td>0</td>\n",
       "      <td>0</td>\n",
       "      <td>0</td>\n",
       "      <td>...</td>\n",
       "      <td>0</td>\n",
       "      <td>0</td>\n",
       "      <td>0</td>\n",
       "      <td>0</td>\n",
       "      <td>0</td>\n",
       "      <td>0</td>\n",
       "      <td>0</td>\n",
       "      <td>0</td>\n",
       "      <td>0</td>\n",
       "      <td>0</td>\n",
       "    </tr>\n",
       "    <tr>\n",
       "      <th>2</th>\n",
       "      <td>682012</td>\n",
       "      <td>68</td>\n",
       "      <td>2012</td>\n",
       "      <td>0</td>\n",
       "      <td>0</td>\n",
       "      <td>0</td>\n",
       "      <td>0</td>\n",
       "      <td>0</td>\n",
       "      <td>0</td>\n",
       "      <td>0</td>\n",
       "      <td>...</td>\n",
       "      <td>0</td>\n",
       "      <td>0</td>\n",
       "      <td>0</td>\n",
       "      <td>0</td>\n",
       "      <td>0</td>\n",
       "      <td>0</td>\n",
       "      <td>0</td>\n",
       "      <td>0</td>\n",
       "      <td>0</td>\n",
       "      <td>0</td>\n",
       "    </tr>\n",
       "    <tr>\n",
       "      <th>3</th>\n",
       "      <td>682013</td>\n",
       "      <td>68</td>\n",
       "      <td>2013</td>\n",
       "      <td>0</td>\n",
       "      <td>0</td>\n",
       "      <td>0</td>\n",
       "      <td>0</td>\n",
       "      <td>0</td>\n",
       "      <td>0</td>\n",
       "      <td>9</td>\n",
       "      <td>...</td>\n",
       "      <td>0</td>\n",
       "      <td>0</td>\n",
       "      <td>0</td>\n",
       "      <td>0</td>\n",
       "      <td>0</td>\n",
       "      <td>0</td>\n",
       "      <td>0</td>\n",
       "      <td>0</td>\n",
       "      <td>0</td>\n",
       "      <td>0</td>\n",
       "    </tr>\n",
       "    <tr>\n",
       "      <th>4</th>\n",
       "      <td>682014</td>\n",
       "      <td>68</td>\n",
       "      <td>2014</td>\n",
       "      <td>0</td>\n",
       "      <td>0</td>\n",
       "      <td>4</td>\n",
       "      <td>4</td>\n",
       "      <td>0</td>\n",
       "      <td>8</td>\n",
       "      <td>9</td>\n",
       "      <td>...</td>\n",
       "      <td>0</td>\n",
       "      <td>0</td>\n",
       "      <td>0</td>\n",
       "      <td>0</td>\n",
       "      <td>0</td>\n",
       "      <td>0</td>\n",
       "      <td>0</td>\n",
       "      <td>0</td>\n",
       "      <td>0</td>\n",
       "      <td>0</td>\n",
       "    </tr>\n",
       "  </tbody>\n",
       "</table>\n",
       "<p>5 rows × 55 columns</p>\n",
       "</div>"
      ],
      "text/plain": [
       "   PrecinctYear Precinct  Year Taxis Flyers Seniors Outreach HandsOn  \\\n",
       "0        342016       34  2016     0      0       1        5       0   \n",
       "1        682011       68  2011     0      0       0        0       0   \n",
       "2        682012       68  2012     0      0       0        0       0   \n",
       "3        682013       68  2013     0      0       0        0       0   \n",
       "4        682014       68  2014     0      0       4        4       0   \n",
       "\n",
       "  Edu_Total Backing Unsafely            ...            Neigh_Slow_Zone_Total  \\\n",
       "0         6                0            ...                                0   \n",
       "1         0                0            ...                                0   \n",
       "2         0                0            ...                                0   \n",
       "3         0                9            ...                                0   \n",
       "4         8                9            ...                                0   \n",
       "\n",
       "  Speed_Bump_Total NUMBER OF PERSONS INJURED NUMBER OF PERSONS KILLED  \\\n",
       "0                0                         0                        0   \n",
       "1                0                         0                        0   \n",
       "2                0                         0                        0   \n",
       "3                0                         0                        0   \n",
       "4                0                         0                        0   \n",
       "\n",
       "  NUMBER OF PEDESTRIANS INJURED NUMBER OF PEDESTRIANS KILLED  \\\n",
       "0                             0                            0   \n",
       "1                             0                            0   \n",
       "2                             0                            0   \n",
       "3                             0                            0   \n",
       "4                             0                            0   \n",
       "\n",
       "  NUMBER OF CYCLIST INJURED NUMBER OF CYCLIST KILLED  \\\n",
       "0                         0                        0   \n",
       "1                         0                        0   \n",
       "2                         0                        0   \n",
       "3                         0                        0   \n",
       "4                         0                        0   \n",
       "\n",
       "  NUMBER OF MOTORIST INJURED NUMBER OF MOTORIST KILLED  \n",
       "0                          0                         0  \n",
       "1                          0                         0  \n",
       "2                          0                         0  \n",
       "3                          0                         0  \n",
       "4                          0                         0  \n",
       "\n",
       "[5 rows x 55 columns]"
      ]
     },
     "execution_count": 180,
     "metadata": {},
     "output_type": "execute_result"
    }
   ],
   "source": [
    "df.head(5)"
   ]
  },
  {
   "cell_type": "code",
   "execution_count": 181,
   "metadata": {
    "collapsed": true
   },
   "outputs": [],
   "source": [
    "df.to_csv('Merged.csv')"
   ]
  }
 ],
 "metadata": {
  "anaconda-cloud": {},
  "kernelspec": {
   "display_name": "Python [default]",
   "language": "python",
   "name": "python2"
  },
  "language_info": {
   "codemirror_mode": {
    "name": "ipython",
    "version": 2
   },
   "file_extension": ".py",
   "mimetype": "text/x-python",
   "name": "python",
   "nbconvert_exporter": "python",
   "pygments_lexer": "ipython2",
   "version": "2.7.11"
  }
 },
 "nbformat": 4,
 "nbformat_minor": 1
}
