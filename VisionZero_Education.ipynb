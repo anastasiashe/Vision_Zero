{
 "cells": [
  {
   "cell_type": "code",
   "execution_count": 260,
   "metadata": {
    "collapsed": true
   },
   "outputs": [],
   "source": [
    "import pandas as pd\n",
    "import numpy as np\n",
    "import matplotlib.pyplot as pl\n",
    "import statsmodels as sm\n",
    "import statsmodels.formula.api as smf\n",
    "\n",
    "%matplotlib inline"
   ]
  },
  {
   "cell_type": "code",
   "execution_count": 261,
   "metadata": {
    "collapsed": true
   },
   "outputs": [],
   "source": [
    "merged = pd.read_csv('mergedv3.csv') "
   ]
  },
  {
   "cell_type": "code",
   "execution_count": 262,
   "metadata": {
    "collapsed": false
   },
   "outputs": [
    {
     "data": {
      "text/html": [
       "<div>\n",
       "<table border=\"1\" class=\"dataframe\">\n",
       "  <thead>\n",
       "    <tr style=\"text-align: right;\">\n",
       "      <th></th>\n",
       "      <th>Unnamed: 0</th>\n",
       "      <th>PrecinctYear</th>\n",
       "      <th>Precinct</th>\n",
       "      <th>Year</th>\n",
       "      <th>Taxis</th>\n",
       "      <th>Flyers</th>\n",
       "      <th>Seniors</th>\n",
       "      <th>Outreach</th>\n",
       "      <th>HandsOn</th>\n",
       "      <th>Edu_Total</th>\n",
       "      <th>...</th>\n",
       "      <th>NUMBER OF MOTORIST KILLED</th>\n",
       "      <th>Neigh_Slow_Zone_Total</th>\n",
       "      <th>Speed_Bump_Total</th>\n",
       "      <th>Shape_Area</th>\n",
       "      <th>Shape_Le_1</th>\n",
       "      <th>Shape_Leng</th>\n",
       "      <th>Total_Pop</th>\n",
       "      <th>geometry</th>\n",
       "      <th>Per_Cap_Injury_Per_Thou</th>\n",
       "      <th>Injuries_Per_Thou</th>\n",
       "    </tr>\n",
       "  </thead>\n",
       "  <tbody>\n",
       "    <tr>\n",
       "      <th>0</th>\n",
       "      <td>0</td>\n",
       "      <td>682013</td>\n",
       "      <td>68.0</td>\n",
       "      <td>2013</td>\n",
       "      <td>0</td>\n",
       "      <td>0</td>\n",
       "      <td>0</td>\n",
       "      <td>0</td>\n",
       "      <td>0</td>\n",
       "      <td>0</td>\n",
       "      <td>...</td>\n",
       "      <td>1</td>\n",
       "      <td>0.0</td>\n",
       "      <td>1.0</td>\n",
       "      <td>3.979240</td>\n",
       "      <td>44529.950978</td>\n",
       "      <td>44530.501555</td>\n",
       "      <td>124528.0</td>\n",
       "      <td>POLYGON ((-74.03231070638779 40.64357458486165...</td>\n",
       "      <td>4.721830</td>\n",
       "      <td>4.721830</td>\n",
       "    </tr>\n",
       "    <tr>\n",
       "      <th>1</th>\n",
       "      <td>1</td>\n",
       "      <td>682014</td>\n",
       "      <td>68.0</td>\n",
       "      <td>2014</td>\n",
       "      <td>0</td>\n",
       "      <td>0</td>\n",
       "      <td>4</td>\n",
       "      <td>4</td>\n",
       "      <td>0</td>\n",
       "      <td>8</td>\n",
       "      <td>...</td>\n",
       "      <td>1</td>\n",
       "      <td>0.0</td>\n",
       "      <td>2.0</td>\n",
       "      <td>3.979240</td>\n",
       "      <td>44529.950978</td>\n",
       "      <td>44530.501555</td>\n",
       "      <td>124528.0</td>\n",
       "      <td>POLYGON ((-74.03231070638779 40.64357458486165...</td>\n",
       "      <td>4.938648</td>\n",
       "      <td>4.938648</td>\n",
       "    </tr>\n",
       "    <tr>\n",
       "      <th>2</th>\n",
       "      <td>2</td>\n",
       "      <td>682015</td>\n",
       "      <td>68.0</td>\n",
       "      <td>2015</td>\n",
       "      <td>4</td>\n",
       "      <td>0</td>\n",
       "      <td>3</td>\n",
       "      <td>11</td>\n",
       "      <td>2</td>\n",
       "      <td>20</td>\n",
       "      <td>...</td>\n",
       "      <td>3</td>\n",
       "      <td>0.0</td>\n",
       "      <td>3.0</td>\n",
       "      <td>3.979240</td>\n",
       "      <td>44529.950978</td>\n",
       "      <td>44530.501555</td>\n",
       "      <td>124528.0</td>\n",
       "      <td>POLYGON ((-74.03231070638779 40.64357458486165...</td>\n",
       "      <td>4.280162</td>\n",
       "      <td>4.280162</td>\n",
       "    </tr>\n",
       "    <tr>\n",
       "      <th>3</th>\n",
       "      <td>3</td>\n",
       "      <td>1022013</td>\n",
       "      <td>102.0</td>\n",
       "      <td>2013</td>\n",
       "      <td>0</td>\n",
       "      <td>0</td>\n",
       "      <td>0</td>\n",
       "      <td>0</td>\n",
       "      <td>0</td>\n",
       "      <td>0</td>\n",
       "      <td>...</td>\n",
       "      <td>1</td>\n",
       "      <td>0.0</td>\n",
       "      <td>2.0</td>\n",
       "      <td>4.781724</td>\n",
       "      <td>52865.281367</td>\n",
       "      <td>52865.281067</td>\n",
       "      <td>144215.0</td>\n",
       "      <td>POLYGON ((-73.81709738766487 40.70402979980382...</td>\n",
       "      <td>5.464064</td>\n",
       "      <td>5.464064</td>\n",
       "    </tr>\n",
       "    <tr>\n",
       "      <th>4</th>\n",
       "      <td>4</td>\n",
       "      <td>1022014</td>\n",
       "      <td>102.0</td>\n",
       "      <td>2014</td>\n",
       "      <td>0</td>\n",
       "      <td>4</td>\n",
       "      <td>4</td>\n",
       "      <td>7</td>\n",
       "      <td>1</td>\n",
       "      <td>16</td>\n",
       "      <td>...</td>\n",
       "      <td>3</td>\n",
       "      <td>0.0</td>\n",
       "      <td>8.0</td>\n",
       "      <td>4.781724</td>\n",
       "      <td>52865.281367</td>\n",
       "      <td>52865.281067</td>\n",
       "      <td>144215.0</td>\n",
       "      <td>POLYGON ((-73.81709738766487 40.70402979980382...</td>\n",
       "      <td>5.637416</td>\n",
       "      <td>5.637416</td>\n",
       "    </tr>\n",
       "  </tbody>\n",
       "</table>\n",
       "<p>5 rows × 63 columns</p>\n",
       "</div>"
      ],
      "text/plain": [
       "   Unnamed: 0  PrecinctYear  Precinct  Year  Taxis  Flyers  Seniors  Outreach  \\\n",
       "0           0        682013      68.0  2013      0       0        0         0   \n",
       "1           1        682014      68.0  2014      0       0        4         4   \n",
       "2           2        682015      68.0  2015      4       0        3        11   \n",
       "3           3       1022013     102.0  2013      0       0        0         0   \n",
       "4           4       1022014     102.0  2014      0       4        4         7   \n",
       "\n",
       "   HandsOn  Edu_Total        ...          NUMBER OF MOTORIST KILLED  \\\n",
       "0        0          0        ...                                  1   \n",
       "1        0          8        ...                                  1   \n",
       "2        2         20        ...                                  3   \n",
       "3        0          0        ...                                  1   \n",
       "4        1         16        ...                                  3   \n",
       "\n",
       "   Neigh_Slow_Zone_Total  Speed_Bump_Total  Shape_Area    Shape_Le_1  \\\n",
       "0                    0.0               1.0    3.979240  44529.950978   \n",
       "1                    0.0               2.0    3.979240  44529.950978   \n",
       "2                    0.0               3.0    3.979240  44529.950978   \n",
       "3                    0.0               2.0    4.781724  52865.281367   \n",
       "4                    0.0               8.0    4.781724  52865.281367   \n",
       "\n",
       "     Shape_Leng  Total_Pop                                           geometry  \\\n",
       "0  44530.501555   124528.0  POLYGON ((-74.03231070638779 40.64357458486165...   \n",
       "1  44530.501555   124528.0  POLYGON ((-74.03231070638779 40.64357458486165...   \n",
       "2  44530.501555   124528.0  POLYGON ((-74.03231070638779 40.64357458486165...   \n",
       "3  52865.281067   144215.0  POLYGON ((-73.81709738766487 40.70402979980382...   \n",
       "4  52865.281067   144215.0  POLYGON ((-73.81709738766487 40.70402979980382...   \n",
       "\n",
       "   Per_Cap_Injury_Per_Thou  Injuries_Per_Thou  \n",
       "0                 4.721830           4.721830  \n",
       "1                 4.938648           4.938648  \n",
       "2                 4.280162           4.280162  \n",
       "3                 5.464064           5.464064  \n",
       "4                 5.637416           5.637416  \n",
       "\n",
       "[5 rows x 63 columns]"
      ]
     },
     "execution_count": 262,
     "metadata": {},
     "output_type": "execute_result"
    }
   ],
   "source": [
    "merged.head()"
   ]
  },
  {
   "cell_type": "code",
   "execution_count": 301,
   "metadata": {
    "collapsed": false
   },
   "outputs": [
    {
     "data": {
      "text/plain": [
       "Index([u'Unnamed: 0', u'PrecinctYear', u'Precinct', u'Year', u'Taxis',\n",
       "       u'Flyers', u'Seniors', u'Outreach', u'HandsOn', u'Edu_Total',\n",
       "       u'Backing Unsafely', u'Brake Lights (Defect.or Improper)',\n",
       "       u'Bus Lane, Driving in', u'Cell Phone', u'Commercial Veh on Pkwy',\n",
       "       u'Defective Brakes', u'Disobey Steady Red Signal',\n",
       "       u'Disobey Traffic Control Device', u'Equipment (Other)',\n",
       "       u'Fail to Keep Right', u'Fail to Signal', u'Following Too Closely',\n",
       "       u'Headlights (Defect. or Improper)', u'Improper Lights',\n",
       "       u'Improper Passing', u'Improper Turn', u'Improper/Missing Plates',\n",
       "       u'Not Giving R of W to Pedes.', u'Not Giving R of W to Veh.',\n",
       "       u'One Way Street', u'Other Movers', u'Pavement Markings',\n",
       "       u'Safety Belt', u'School Bus, Passing Stopped', u'Speeding',\n",
       "       u'Spillback', u'Tinted Windows', u'Truck Routes', u'U-Turn',\n",
       "       u'Uninspected', u'Uninsured', u'Unlicensed Operator', u'Unregistered',\n",
       "       u'P12', u'P123', u'Traf_Total', u'NUMBER OF PERSONS INJURED',\n",
       "       u'NUMBER OF PERSONS KILLED', u'NUMBER OF PEDESTRIANS INJURED',\n",
       "       u'NUMBER OF PEDESTRIANS KILLED', u'NUMBER OF CYCLIST INJURED',\n",
       "       u'NUMBER OF CYCLIST KILLED', u'NUMBER OF MOTORIST INJURED',\n",
       "       u'NUMBER OF MOTORIST KILLED', u'Neigh_Slow_Zone_Total',\n",
       "       u'Speed_Bump_Total', u'Shape_Area', u'Shape_Le_1', u'Shape_Leng',\n",
       "       u'Total_Pop', u'geometry', u'Per_Cap_Injury_Per_Thou',\n",
       "       u'Injuries_Per_Thou', u'Edu_dummy'],\n",
       "      dtype='object')"
      ]
     },
     "execution_count": 301,
     "metadata": {},
     "output_type": "execute_result"
    }
   ],
   "source": [
    "merged.columns"
   ]
  },
  {
   "cell_type": "code",
   "execution_count": 263,
   "metadata": {
    "collapsed": false,
    "scrolled": true
   },
   "outputs": [
    {
     "data": {
      "text/plain": [
       "(231, 63)"
      ]
     },
     "execution_count": 263,
     "metadata": {},
     "output_type": "execute_result"
    }
   ],
   "source": [
    "merged.shape"
   ]
  },
  {
   "cell_type": "code",
   "execution_count": 273,
   "metadata": {
    "collapsed": false
   },
   "outputs": [
    {
     "data": {
      "text/plain": [
       "80"
      ]
     },
     "execution_count": 273,
     "metadata": {},
     "output_type": "execute_result"
    }
   ],
   "source": [
    "(merged['Edu_Total'] == 0).sum()"
   ]
  },
  {
   "cell_type": "code",
   "execution_count": 274,
   "metadata": {
    "collapsed": false
   },
   "outputs": [
    {
     "data": {
      "text/plain": [
       "151"
      ]
     },
     "execution_count": 274,
     "metadata": {},
     "output_type": "execute_result"
    }
   ],
   "source": [
    "(merged['Edu_Total'] != 0).sum()"
   ]
  },
  {
   "cell_type": "code",
   "execution_count": 275,
   "metadata": {
    "collapsed": true
   },
   "outputs": [],
   "source": [
    "merged['Edu_dummy'] = np.zeros(len(merged.Edu_Total))"
   ]
  },
  {
   "cell_type": "code",
   "execution_count": 276,
   "metadata": {
    "collapsed": true
   },
   "outputs": [],
   "source": [
    "for i in merged.index:\n",
    "    if merged.Edu_Total.ix[i] != 0:\n",
    "        merged.Edu_dummy.ix[i] = 1"
   ]
  },
  {
   "cell_type": "code",
   "execution_count": 303,
   "metadata": {
    "collapsed": false
   },
   "outputs": [
    {
     "data": {
      "text/plain": [
       "0      117\n",
       "1      127\n",
       "2       98\n",
       "3      139\n",
       "4      134\n",
       "5      134\n",
       "6      141\n",
       "7      125\n",
       "8      124\n",
       "9      118\n",
       "10      96\n",
       "11      94\n",
       "12      42\n",
       "13      40\n",
       "14      28\n",
       "15     198\n",
       "16     168\n",
       "17     158\n",
       "18      98\n",
       "19      78\n",
       "20      67\n",
       "21      60\n",
       "22      88\n",
       "23      67\n",
       "24     265\n",
       "25     227\n",
       "26     199\n",
       "27     122\n",
       "28     126\n",
       "29      93\n",
       "      ... \n",
       "201    140\n",
       "202    120\n",
       "203    112\n",
       "204    144\n",
       "205    134\n",
       "206    103\n",
       "207     53\n",
       "208     50\n",
       "209     40\n",
       "210    165\n",
       "211    139\n",
       "212    133\n",
       "213    108\n",
       "214    116\n",
       "215     87\n",
       "216    171\n",
       "217    116\n",
       "218    134\n",
       "219     65\n",
       "220     62\n",
       "221     55\n",
       "222     72\n",
       "223     72\n",
       "224     90\n",
       "225    203\n",
       "226    167\n",
       "227    170\n",
       "228    122\n",
       "229     92\n",
       "230    109\n",
       "Name: NUMBER OF PEDESTRIANS INJURED, dtype: int64"
      ]
     },
     "execution_count": 303,
     "metadata": {},
     "output_type": "execute_result"
    }
   ],
   "source": [
    "merged.iloc[:, -16]"
   ]
  },
  {
   "cell_type": "code",
   "execution_count": 304,
   "metadata": {
    "collapsed": false
   },
   "outputs": [
    {
     "data": {
      "image/png": "[encoded data removed]",
      "text/plain": [
       "<matplotlib.figure.Figure at 0x11b8f4f90>"
      ]
     },
     "metadata": {},
     "output_type": "display_data"
    }
   ],
   "source": [
    "lm = smf.ols(formula = 'merged.iloc[:, -16] ~ merged.Edu_dummy', data = merged).fit()\n",
    "\n",
    "fig1, (ax1) = pl.subplots(nrows = 1, ncols = 1, figsize = (16, 4))\n",
    "ax1.scatter(merged['Edu_dummy'], merged['NUMBER OF PEDESTRIANS INJURED'], c = 'k')\n",
    "ax1.plot(merged['Edu_dummy'], lm.predict(), c = 'r')\n",
    "ax1.set_xlabel('Educational initatives')\n",
    "ax1.set_ylabel('Number of ped injuries')\n",
    "pl.show()\n",
    "# ax1.set_title('')"
   ]
  },
  {
   "cell_type": "code",
   "execution_count": 305,
   "metadata": {
    "collapsed": false
   },
   "outputs": [
    {
     "data": {
      "text/html": [
       "<table class=\"simpletable\">\n",
       "<caption>OLS Regression Results</caption>\n",
       "<tr>\n",
       "  <th>Dep. Variable:</th>    <td>merged.iloc[:, -16]</td> <th>  R-squared:         </th> <td>   0.012</td>\n",
       "</tr>\n",
       "<tr>\n",
       "  <th>Model:</th>                    <td>OLS</td>         <th>  Adj. R-squared:    </th> <td>   0.008</td>\n",
       "</tr>\n",
       "<tr>\n",
       "  <th>Method:</th>              <td>Least Squares</td>    <th>  F-statistic:       </th> <td>   2.791</td>\n",
       "</tr>\n",
       "<tr>\n",
       "  <th>Date:</th>              <td>Wed, 07 Dec 2016</td>   <th>  Prob (F-statistic):</th>  <td>0.0962</td> \n",
       "</tr>\n",
       "<tr>\n",
       "  <th>Time:</th>                  <td>17:56:58</td>       <th>  Log-Likelihood:    </th> <td> -1279.5</td>\n",
       "</tr>\n",
       "<tr>\n",
       "  <th>No. Observations:</th>       <td>   231</td>        <th>  AIC:               </th> <td>   2563.</td>\n",
       "</tr>\n",
       "<tr>\n",
       "  <th>Df Residuals:</th>           <td>   229</td>        <th>  BIC:               </th> <td>   2570.</td>\n",
       "</tr>\n",
       "<tr>\n",
       "  <th>Df Model:</th>               <td>     1</td>        <th>                     </th>     <td> </td>   \n",
       "</tr>\n",
       "<tr>\n",
       "  <th>Covariance Type:</th>       <td>nonrobust</td>      <th>                     </th>     <td> </td>   \n",
       "</tr>\n",
       "</table>\n",
       "<table class=\"simpletable\">\n",
       "<tr>\n",
       "          <td></td>            <th>coef</th>     <th>std err</th>      <th>t</th>      <th>P>|t|</th> <th>[95.0% Conf. Int.]</th> \n",
       "</tr>\n",
       "<tr>\n",
       "  <th>Intercept</th>        <td>  137.9750</td> <td>    6.914</td> <td>   19.956</td> <td> 0.000</td> <td>  124.352   151.598</td>\n",
       "</tr>\n",
       "<tr>\n",
       "  <th>merged.Edu_dummy</th> <td>  -14.2863</td> <td>    8.551</td> <td>   -1.671</td> <td> 0.096</td> <td>  -31.136     2.563</td>\n",
       "</tr>\n",
       "</table>\n",
       "<table class=\"simpletable\">\n",
       "<tr>\n",
       "  <th>Omnibus:</th>       <td> 8.433</td> <th>  Durbin-Watson:     </th> <td>   0.729</td>\n",
       "</tr>\n",
       "<tr>\n",
       "  <th>Prob(Omnibus):</th> <td> 0.015</td> <th>  Jarque-Bera (JB):  </th> <td>   8.710</td>\n",
       "</tr>\n",
       "<tr>\n",
       "  <th>Skew:</th>          <td> 0.453</td> <th>  Prob(JB):          </th> <td>  0.0128</td>\n",
       "</tr>\n",
       "<tr>\n",
       "  <th>Kurtosis:</th>      <td> 2.711</td> <th>  Cond. No.          </th> <td>    3.16</td>\n",
       "</tr>\n",
       "</table>"
      ],
      "text/plain": [
       "<class 'statsmodels.iolib.summary.Summary'>\n",
       "\"\"\"\n",
       "                             OLS Regression Results                            \n",
       "===============================================================================\n",
       "Dep. Variable:     merged.iloc[:, -16]   R-squared:                       0.012\n",
       "Model:                             OLS   Adj. R-squared:                  0.008\n",
       "Method:                  Least Squares   F-statistic:                     2.791\n",
       "Date:                 Wed, 07 Dec 2016   Prob (F-statistic):             0.0962\n",
       "Time:                         17:56:58   Log-Likelihood:                -1279.5\n",
       "No. Observations:                  231   AIC:                             2563.\n",
       "Df Residuals:                      229   BIC:                             2570.\n",
       "Df Model:                            1                                         \n",
       "Covariance Type:             nonrobust                                         \n",
       "====================================================================================\n",
       "                       coef    std err          t      P>|t|      [95.0% Conf. Int.]\n",
       "------------------------------------------------------------------------------------\n",
       "Intercept          137.9750      6.914     19.956      0.000       124.352   151.598\n",
       "merged.Edu_dummy   -14.2863      8.551     -1.671      0.096       -31.136     2.563\n",
       "==============================================================================\n",
       "Omnibus:                        8.433   Durbin-Watson:                   0.729\n",
       "Prob(Omnibus):                  0.015   Jarque-Bera (JB):                8.710\n",
       "Skew:                           0.453   Prob(JB):                       0.0128\n",
       "Kurtosis:                       2.711   Cond. No.                         3.16\n",
       "==============================================================================\n",
       "\n",
       "Warnings:\n",
       "[1] Standard Errors assume that the covariance matrix of the errors is correctly specified.\n",
       "\"\"\""
      ]
     },
     "execution_count": 305,
     "metadata": {},
     "output_type": "execute_result"
    }
   ],
   "source": [
    "lm.summary()"
   ]
  },
  {
   "cell_type": "code",
   "execution_count": 265,
   "metadata": {
    "collapsed": false
   },
   "outputs": [],
   "source": [
    "#eduData = merged[(merged.Year == 2013) | (merged.Year == 2015)]\n",
    "#eduData.head() "
   ]
  },
  {
   "cell_type": "code",
   "execution_count": 266,
   "metadata": {
    "collapsed": false
   },
   "outputs": [],
   "source": [
    "#eduData.columns"
   ]
  },
  {
   "cell_type": "code",
   "execution_count": 267,
   "metadata": {
    "collapsed": false
   },
   "outputs": [
    {
     "ename": "IndentationError",
     "evalue": "unexpected indent (<ipython-input-267-f0f0825881c1>, line 2)",
     "output_type": "error",
     "traceback": [
      "\u001b[0;36m  File \u001b[0;32m\"<ipython-input-267-f0f0825881c1>\"\u001b[0;36m, line \u001b[0;32m2\u001b[0m\n\u001b[0;31m    u'Backing Unsafely', u'Brake Lights (Defect.or Improper)',\u001b[0m\n\u001b[0m    ^\u001b[0m\n\u001b[0;31mIndentationError\u001b[0m\u001b[0;31m:\u001b[0m unexpected indent\n"
     ]
    }
   ],
   "source": [
    "#eduData.drop([u'Unnamed: 0',\n",
    "       u'Backing Unsafely', u'Brake Lights (Defect.or Improper)',\n",
    "       u'Bus Lane, Driving in', u'Cell Phone', u'Commercial Veh on Pkwy',\n",
    "       u'Defective Brakes', u'Disobey Steady Red Signal',\n",
    "       u'Disobey Traffic Control Device', u'Equipment (Other)',\n",
    "       u'Fail to Keep Right', u'Fail to Signal', u'Following Too Closely',\n",
    "       u'Headlights (Defect. or Improper)', u'Improper Lights',\n",
    "       u'Improper Passing', u'Improper Turn', u'Improper/Missing Plates',\n",
    "       u'Not Giving R of W to Pedes.', u'Not Giving R of W to Veh.',\n",
    "       u'One Way Street', u'Other Movers', u'Pavement Markings',\n",
    "       u'Safety Belt', u'School Bus, Passing Stopped', u'Speeding',\n",
    "       u'Spillback', u'Tinted Windows', u'Truck Routes', u'U-Turn',\n",
    "       u'Uninspected', u'Uninsured', u'Unlicensed Operator', u'Unregistered',\n",
    "       u'P12', u'P123', u'Traf_Total', u'Neigh_Slow_Zone_Total',\n",
    "       u'Speed_Bump_Total', u'Shape_Area', u'Shape_Le_1', u'Shape_Leng', u'geometry', u'Per_Cap_Injury_Per_Thou'],\n",
    "            axis = 1, inplace = True)"
   ]
  },
  {
   "cell_type": "code",
   "execution_count": 269,
   "metadata": {
    "collapsed": false,
    "scrolled": true
   },
   "outputs": [],
   "source": [
    "#eduData.head()"
   ]
  },
  {
   "cell_type": "code",
   "execution_count": 270,
   "metadata": {
    "collapsed": false
   },
   "outputs": [],
   "source": [
    "#eduData.shape"
   ]
  },
  {
   "cell_type": "code",
   "execution_count": 271,
   "metadata": {
    "collapsed": false
   },
   "outputs": [],
   "source": [
    "#(eduData['Edu_Total'] == 0).sum()"
   ]
  },
  {
   "cell_type": "code",
   "execution_count": 272,
   "metadata": {
    "collapsed": false
   },
   "outputs": [],
   "source": [
    "#eduData['Edu_dummy'] = np.zeros(len(eduData.Edu_Total))"
   ]
  },
  {
   "cell_type": "code",
   "execution_count": 214,
   "metadata": {
    "collapsed": false
   },
   "outputs": [],
   "source": [
    "eduData.reset_index(drop = True, inplace = True)"
   ]
  },
  {
   "cell_type": "code",
   "execution_count": 215,
   "metadata": {
    "collapsed": false
   },
   "outputs": [
    {
     "data": {
      "text/plain": [
       "(154, 20)"
      ]
     },
     "execution_count": 215,
     "metadata": {},
     "output_type": "execute_result"
    }
   ],
   "source": [
    "eduData.shape"
   ]
  },
  {
   "cell_type": "code",
   "execution_count": 216,
   "metadata": {
    "collapsed": false
   },
   "outputs": [
    {
     "data": {
      "text/plain": [
       "80"
      ]
     },
     "execution_count": 216,
     "metadata": {},
     "output_type": "execute_result"
    }
   ],
   "source": [
    "(eduData.Edu_Total == 0).sum()"
   ]
  },
  {
   "cell_type": "code",
   "execution_count": 217,
   "metadata": {
    "collapsed": false
   },
   "outputs": [
    {
     "data": {
      "text/plain": [
       "74"
      ]
     },
     "execution_count": 217,
     "metadata": {},
     "output_type": "execute_result"
    }
   ],
   "source": [
    "(eduData.Edu_Total != 0).sum()"
   ]
  },
  {
   "cell_type": "code",
   "execution_count": 218,
   "metadata": {
    "collapsed": false
   },
   "outputs": [
    {
     "data": {
      "text/plain": [
       "False"
      ]
     },
     "execution_count": 218,
     "metadata": {},
     "output_type": "execute_result"
    }
   ],
   "source": [
    "eduData.Edu_Total.ix[4] != 0"
   ]
  },
  {
   "cell_type": "code",
   "execution_count": 219,
   "metadata": {
    "collapsed": false
   },
   "outputs": [
    {
     "name": "stderr",
     "output_type": "stream",
     "text": [
      "/Users/Anastasia/anaconda/lib/python2.7/site-packages/ipykernel/__main__.py:3: SettingWithCopyWarning: \n",
      "A value is trying to be set on a copy of a slice from a DataFrame\n",
      "\n",
      "See the caveats in the documentation: http://pandas.pydata.org/pandas-docs/stable/indexing.html#indexing-view-versus-copy\n",
      "  app.launch_new_instance()\n"
     ]
    }
   ],
   "source": [
    "for i in eduData.index:\n",
    "    if eduData.Edu_Total.ix[i] != 0:\n",
    "        eduData.Edu_dummy.ix[i] = 1"
   ]
  },
  {
   "cell_type": "code",
   "execution_count": 220,
   "metadata": {
    "collapsed": false
   },
   "outputs": [
    {
     "data": {
      "text/html": [
       "<div>\n",
       "<table border=\"1\" class=\"dataframe\">\n",
       "  <thead>\n",
       "    <tr style=\"text-align: right;\">\n",
       "      <th></th>\n",
       "      <th>PrecinctYear</th>\n",
       "      <th>Precinct</th>\n",
       "      <th>Year</th>\n",
       "      <th>Taxis</th>\n",
       "      <th>Flyers</th>\n",
       "      <th>Seniors</th>\n",
       "      <th>Outreach</th>\n",
       "      <th>HandsOn</th>\n",
       "      <th>Edu_Total</th>\n",
       "      <th>NUMBER OF PERSONS INJURED</th>\n",
       "      <th>NUMBER OF PERSONS KILLED</th>\n",
       "      <th>NUMBER OF PEDESTRIANS INJURED</th>\n",
       "      <th>NUMBER OF PEDESTRIANS KILLED</th>\n",
       "      <th>NUMBER OF CYCLIST INJURED</th>\n",
       "      <th>NUMBER OF CYCLIST KILLED</th>\n",
       "      <th>NUMBER OF MOTORIST INJURED</th>\n",
       "      <th>NUMBER OF MOTORIST KILLED</th>\n",
       "      <th>Total_Pop</th>\n",
       "      <th>Injuries_Per_Thou</th>\n",
       "      <th>Edu_dummy</th>\n",
       "    </tr>\n",
       "  </thead>\n",
       "  <tbody>\n",
       "    <tr>\n",
       "      <th>0</th>\n",
       "      <td>682013</td>\n",
       "      <td>68.0</td>\n",
       "      <td>2013</td>\n",
       "      <td>0</td>\n",
       "      <td>0</td>\n",
       "      <td>0</td>\n",
       "      <td>0</td>\n",
       "      <td>0</td>\n",
       "      <td>0</td>\n",
       "      <td>588</td>\n",
       "      <td>4</td>\n",
       "      <td>117</td>\n",
       "      <td>3</td>\n",
       "      <td>37</td>\n",
       "      <td>0</td>\n",
       "      <td>434</td>\n",
       "      <td>1</td>\n",
       "      <td>124528.0</td>\n",
       "      <td>4.721830</td>\n",
       "      <td>0.0</td>\n",
       "    </tr>\n",
       "    <tr>\n",
       "      <th>1</th>\n",
       "      <td>682015</td>\n",
       "      <td>68.0</td>\n",
       "      <td>2015</td>\n",
       "      <td>4</td>\n",
       "      <td>0</td>\n",
       "      <td>3</td>\n",
       "      <td>11</td>\n",
       "      <td>2</td>\n",
       "      <td>20</td>\n",
       "      <td>533</td>\n",
       "      <td>3</td>\n",
       "      <td>98</td>\n",
       "      <td>0</td>\n",
       "      <td>34</td>\n",
       "      <td>0</td>\n",
       "      <td>401</td>\n",
       "      <td>3</td>\n",
       "      <td>124528.0</td>\n",
       "      <td>4.280162</td>\n",
       "      <td>1.0</td>\n",
       "    </tr>\n",
       "    <tr>\n",
       "      <th>2</th>\n",
       "      <td>1022013</td>\n",
       "      <td>102.0</td>\n",
       "      <td>2013</td>\n",
       "      <td>0</td>\n",
       "      <td>0</td>\n",
       "      <td>0</td>\n",
       "      <td>0</td>\n",
       "      <td>0</td>\n",
       "      <td>0</td>\n",
       "      <td>788</td>\n",
       "      <td>6</td>\n",
       "      <td>139</td>\n",
       "      <td>5</td>\n",
       "      <td>63</td>\n",
       "      <td>0</td>\n",
       "      <td>586</td>\n",
       "      <td>1</td>\n",
       "      <td>144215.0</td>\n",
       "      <td>5.464064</td>\n",
       "      <td>0.0</td>\n",
       "    </tr>\n",
       "    <tr>\n",
       "      <th>3</th>\n",
       "      <td>1022015</td>\n",
       "      <td>102.0</td>\n",
       "      <td>2015</td>\n",
       "      <td>8</td>\n",
       "      <td>0</td>\n",
       "      <td>2</td>\n",
       "      <td>4</td>\n",
       "      <td>0</td>\n",
       "      <td>14</td>\n",
       "      <td>870</td>\n",
       "      <td>3</td>\n",
       "      <td>134</td>\n",
       "      <td>2</td>\n",
       "      <td>50</td>\n",
       "      <td>0</td>\n",
       "      <td>686</td>\n",
       "      <td>1</td>\n",
       "      <td>144215.0</td>\n",
       "      <td>6.032660</td>\n",
       "      <td>1.0</td>\n",
       "    </tr>\n",
       "    <tr>\n",
       "      <th>4</th>\n",
       "      <td>252013</td>\n",
       "      <td>25.0</td>\n",
       "      <td>2013</td>\n",
       "      <td>0</td>\n",
       "      <td>0</td>\n",
       "      <td>0</td>\n",
       "      <td>0</td>\n",
       "      <td>0</td>\n",
       "      <td>0</td>\n",
       "      <td>492</td>\n",
       "      <td>4</td>\n",
       "      <td>141</td>\n",
       "      <td>3</td>\n",
       "      <td>21</td>\n",
       "      <td>1</td>\n",
       "      <td>330</td>\n",
       "      <td>0</td>\n",
       "      <td>47405.0</td>\n",
       "      <td>10.378652</td>\n",
       "      <td>0.0</td>\n",
       "    </tr>\n",
       "  </tbody>\n",
       "</table>\n",
       "</div>"
      ],
      "text/plain": [
       "   PrecinctYear  Precinct  Year  Taxis  Flyers  Seniors  Outreach  HandsOn  \\\n",
       "0        682013      68.0  2013      0       0        0         0        0   \n",
       "1        682015      68.0  2015      4       0        3        11        2   \n",
       "2       1022013     102.0  2013      0       0        0         0        0   \n",
       "3       1022015     102.0  2015      8       0        2         4        0   \n",
       "4        252013      25.0  2013      0       0        0         0        0   \n",
       "\n",
       "   Edu_Total  NUMBER OF PERSONS INJURED  NUMBER OF PERSONS KILLED  \\\n",
       "0          0                        588                         4   \n",
       "1         20                        533                         3   \n",
       "2          0                        788                         6   \n",
       "3         14                        870                         3   \n",
       "4          0                        492                         4   \n",
       "\n",
       "   NUMBER OF PEDESTRIANS INJURED  NUMBER OF PEDESTRIANS KILLED  \\\n",
       "0                            117                             3   \n",
       "1                             98                             0   \n",
       "2                            139                             5   \n",
       "3                            134                             2   \n",
       "4                            141                             3   \n",
       "\n",
       "   NUMBER OF CYCLIST INJURED  NUMBER OF CYCLIST KILLED  \\\n",
       "0                         37                         0   \n",
       "1                         34                         0   \n",
       "2                         63                         0   \n",
       "3                         50                         0   \n",
       "4                         21                         1   \n",
       "\n",
       "   NUMBER OF MOTORIST INJURED  NUMBER OF MOTORIST KILLED  Total_Pop  \\\n",
       "0                         434                          1   124528.0   \n",
       "1                         401                          3   124528.0   \n",
       "2                         586                          1   144215.0   \n",
       "3                         686                          1   144215.0   \n",
       "4                         330                          0    47405.0   \n",
       "\n",
       "   Injuries_Per_Thou  Edu_dummy  \n",
       "0           4.721830        0.0  \n",
       "1           4.280162        1.0  \n",
       "2           5.464064        0.0  \n",
       "3           6.032660        1.0  \n",
       "4          10.378652        0.0  "
      ]
     },
     "execution_count": 220,
     "metadata": {},
     "output_type": "execute_result"
    }
   ],
   "source": [
    "eduData.head()"
   ]
  },
  {
   "cell_type": "code",
   "execution_count": 221,
   "metadata": {
    "collapsed": false
   },
   "outputs": [
    {
     "data": {
      "text/plain": [
       "74"
      ]
     },
     "execution_count": 221,
     "metadata": {},
     "output_type": "execute_result"
    }
   ],
   "source": [
    "(eduData.Edu_dummy == 1).sum()"
   ]
  },
  {
   "cell_type": "code",
   "execution_count": 222,
   "metadata": {
    "collapsed": false
   },
   "outputs": [
    {
     "data": {
      "text/plain": [
       "80"
      ]
     },
     "execution_count": 222,
     "metadata": {},
     "output_type": "execute_result"
    }
   ],
   "source": [
    "(eduData.Edu_dummy == 0).sum()"
   ]
  },
  {
   "cell_type": "code",
   "execution_count": 230,
   "metadata": {
    "collapsed": false
   },
   "outputs": [
    {
     "data": {
      "image/png": "[encoded data removed]",
      "text/plain": [
       "<matplotlib.figure.Figure at 0x11b6f81d0>"
      ]
     },
     "metadata": {},
     "output_type": "display_data"
    }
   ],
   "source": [
    "ed_lm0 = smf.ols(formula = 'eduData.iloc[:, 11] ~ eduData.Edu_dummy', data = eduData).fit()\n",
    "\n",
    "fig1, (ax1) = pl.subplots(nrows = 1, ncols = 1, figsize = (16, 4))\n",
    "ax1.scatter(eduData['Edu_dummy'], eduData['NUMBER OF PEDESTRIANS INJURED'], c = 'k')\n",
    "ax1.plot(eduData['Edu_dummy'], ed_lm0.predict(), c = 'r')\n",
    "ax1.set_xlabel('Educational initatives')\n",
    "ax1.set_ylabel('Number of injuries')\n",
    "pl.show()\n",
    "# ax1.set_title('')"
   ]
  },
  {
   "cell_type": "code",
   "execution_count": 231,
   "metadata": {
    "collapsed": false
   },
   "outputs": [
    {
     "data": {
      "text/html": [
       "<table class=\"simpletable\">\n",
       "<caption>OLS Regression Results</caption>\n",
       "<tr>\n",
       "  <th>Dep. Variable:</th>    <td>eduData.iloc[:, 11]</td> <th>  R-squared:         </th> <td>   0.024</td>\n",
       "</tr>\n",
       "<tr>\n",
       "  <th>Model:</th>                    <td>OLS</td>         <th>  Adj. R-squared:    </th> <td>   0.017</td>\n",
       "</tr>\n",
       "<tr>\n",
       "  <th>Method:</th>              <td>Least Squares</td>    <th>  F-statistic:       </th> <td>   3.682</td>\n",
       "</tr>\n",
       "<tr>\n",
       "  <th>Date:</th>              <td>Wed, 07 Dec 2016</td>   <th>  Prob (F-statistic):</th>  <td>0.0569</td> \n",
       "</tr>\n",
       "<tr>\n",
       "  <th>Time:</th>                  <td>16:10:13</td>       <th>  Log-Likelihood:    </th> <td> -852.57</td>\n",
       "</tr>\n",
       "<tr>\n",
       "  <th>No. Observations:</th>       <td>   154</td>        <th>  AIC:               </th> <td>   1709.</td>\n",
       "</tr>\n",
       "<tr>\n",
       "  <th>Df Residuals:</th>           <td>   152</td>        <th>  BIC:               </th> <td>   1715.</td>\n",
       "</tr>\n",
       "<tr>\n",
       "  <th>Df Model:</th>               <td>     1</td>        <th>                     </th>     <td> </td>   \n",
       "</tr>\n",
       "<tr>\n",
       "  <th>Covariance Type:</th>       <td>nonrobust</td>      <th>                     </th>     <td> </td>   \n",
       "</tr>\n",
       "</table>\n",
       "<table class=\"simpletable\">\n",
       "<tr>\n",
       "          <td></td>             <th>coef</th>     <th>std err</th>      <th>t</th>      <th>P>|t|</th> <th>[95.0% Conf. Int.]</th> \n",
       "</tr>\n",
       "<tr>\n",
       "  <th>Intercept</th>         <td>  137.9750</td> <td>    6.908</td> <td>   19.972</td> <td> 0.000</td> <td>  124.326   151.624</td>\n",
       "</tr>\n",
       "<tr>\n",
       "  <th>eduData.Edu_dummy</th> <td>  -19.1236</td> <td>    9.966</td> <td>   -1.919</td> <td> 0.057</td> <td>  -38.813     0.566</td>\n",
       "</tr>\n",
       "</table>\n",
       "<table class=\"simpletable\">\n",
       "<tr>\n",
       "  <th>Omnibus:</th>       <td> 5.431</td> <th>  Durbin-Watson:     </th> <td>   1.045</td>\n",
       "</tr>\n",
       "<tr>\n",
       "  <th>Prob(Omnibus):</th> <td> 0.066</td> <th>  Jarque-Bera (JB):  </th> <td>   5.551</td>\n",
       "</tr>\n",
       "<tr>\n",
       "  <th>Skew:</th>          <td> 0.443</td> <th>  Prob(JB):          </th> <td>  0.0623</td>\n",
       "</tr>\n",
       "<tr>\n",
       "  <th>Kurtosis:</th>      <td> 2.720</td> <th>  Cond. No.          </th> <td>    2.57</td>\n",
       "</tr>\n",
       "</table>"
      ],
      "text/plain": [
       "<class 'statsmodels.iolib.summary.Summary'>\n",
       "\"\"\"\n",
       "                             OLS Regression Results                            \n",
       "===============================================================================\n",
       "Dep. Variable:     eduData.iloc[:, 11]   R-squared:                       0.024\n",
       "Model:                             OLS   Adj. R-squared:                  0.017\n",
       "Method:                  Least Squares   F-statistic:                     3.682\n",
       "Date:                 Wed, 07 Dec 2016   Prob (F-statistic):             0.0569\n",
       "Time:                         16:10:13   Log-Likelihood:                -852.57\n",
       "No. Observations:                  154   AIC:                             1709.\n",
       "Df Residuals:                      152   BIC:                             1715.\n",
       "Df Model:                            1                                         \n",
       "Covariance Type:             nonrobust                                         \n",
       "=====================================================================================\n",
       "                        coef    std err          t      P>|t|      [95.0% Conf. Int.]\n",
       "-------------------------------------------------------------------------------------\n",
       "Intercept           137.9750      6.908     19.972      0.000       124.326   151.624\n",
       "eduData.Edu_dummy   -19.1236      9.966     -1.919      0.057       -38.813     0.566\n",
       "==============================================================================\n",
       "Omnibus:                        5.431   Durbin-Watson:                   1.045\n",
       "Prob(Omnibus):                  0.066   Jarque-Bera (JB):                5.551\n",
       "Skew:                           0.443   Prob(JB):                       0.0623\n",
       "Kurtosis:                       2.720   Cond. No.                         2.57\n",
       "==============================================================================\n",
       "\n",
       "Warnings:\n",
       "[1] Standard Errors assume that the covariance matrix of the errors is correctly specified.\n",
       "\"\"\""
      ]
     },
     "execution_count": 231,
     "metadata": {},
     "output_type": "execute_result"
    }
   ],
   "source": [
    "ed_lm0.summary()"
   ]
  },
  {
   "cell_type": "code",
   "execution_count": 251,
   "metadata": {
    "collapsed": true
   },
   "outputs": [],
   "source": [
    "edOnly = eduData[eduData['Edu_dummy'] == 1]"
   ]
  },
  {
   "cell_type": "code",
   "execution_count": 252,
   "metadata": {
    "collapsed": false
   },
   "outputs": [
    {
     "data": {
      "text/plain": [
       "(74, 22)"
      ]
     },
     "execution_count": 252,
     "metadata": {},
     "output_type": "execute_result"
    }
   ],
   "source": [
    "edOnly.shape"
   ]
  },
  {
   "cell_type": "code",
   "execution_count": 253,
   "metadata": {
    "collapsed": false
   },
   "outputs": [
    {
     "data": {
      "text/html": [
       "<div>\n",
       "<table border=\"1\" class=\"dataframe\">\n",
       "  <thead>\n",
       "    <tr style=\"text-align: right;\">\n",
       "      <th></th>\n",
       "      <th>PrecinctYear</th>\n",
       "      <th>Precinct</th>\n",
       "      <th>Year</th>\n",
       "      <th>Taxis</th>\n",
       "      <th>Flyers</th>\n",
       "      <th>Seniors</th>\n",
       "      <th>Outreach</th>\n",
       "      <th>HandsOn</th>\n",
       "      <th>Edu_Total</th>\n",
       "      <th>NUMBER OF PERSONS INJURED</th>\n",
       "      <th>...</th>\n",
       "      <th>NUMBER OF PEDESTRIANS KILLED</th>\n",
       "      <th>NUMBER OF CYCLIST INJURED</th>\n",
       "      <th>NUMBER OF CYCLIST KILLED</th>\n",
       "      <th>NUMBER OF MOTORIST INJURED</th>\n",
       "      <th>NUMBER OF MOTORIST KILLED</th>\n",
       "      <th>Total_Pop</th>\n",
       "      <th>Injuries_Per_Thou</th>\n",
       "      <th>Edu_dummy</th>\n",
       "      <th>HandsOn_dummy</th>\n",
       "      <th>ped_inj_pc</th>\n",
       "    </tr>\n",
       "  </thead>\n",
       "  <tbody>\n",
       "    <tr>\n",
       "      <th>1</th>\n",
       "      <td>682015</td>\n",
       "      <td>68.0</td>\n",
       "      <td>2015</td>\n",
       "      <td>4</td>\n",
       "      <td>0</td>\n",
       "      <td>3</td>\n",
       "      <td>11</td>\n",
       "      <td>2</td>\n",
       "      <td>20</td>\n",
       "      <td>533</td>\n",
       "      <td>...</td>\n",
       "      <td>0</td>\n",
       "      <td>34</td>\n",
       "      <td>0</td>\n",
       "      <td>401</td>\n",
       "      <td>3</td>\n",
       "      <td>124528.0</td>\n",
       "      <td>4.280162</td>\n",
       "      <td>1.0</td>\n",
       "      <td>1.0</td>\n",
       "      <td>0.786972</td>\n",
       "    </tr>\n",
       "    <tr>\n",
       "      <th>3</th>\n",
       "      <td>1022015</td>\n",
       "      <td>102.0</td>\n",
       "      <td>2015</td>\n",
       "      <td>8</td>\n",
       "      <td>0</td>\n",
       "      <td>2</td>\n",
       "      <td>4</td>\n",
       "      <td>0</td>\n",
       "      <td>14</td>\n",
       "      <td>870</td>\n",
       "      <td>...</td>\n",
       "      <td>2</td>\n",
       "      <td>50</td>\n",
       "      <td>0</td>\n",
       "      <td>686</td>\n",
       "      <td>1</td>\n",
       "      <td>144215.0</td>\n",
       "      <td>6.032660</td>\n",
       "      <td>1.0</td>\n",
       "      <td>0.0</td>\n",
       "      <td>0.929168</td>\n",
       "    </tr>\n",
       "    <tr>\n",
       "      <th>5</th>\n",
       "      <td>252015</td>\n",
       "      <td>25.0</td>\n",
       "      <td>2015</td>\n",
       "      <td>2</td>\n",
       "      <td>0</td>\n",
       "      <td>0</td>\n",
       "      <td>6</td>\n",
       "      <td>0</td>\n",
       "      <td>8</td>\n",
       "      <td>444</td>\n",
       "      <td>...</td>\n",
       "      <td>0</td>\n",
       "      <td>30</td>\n",
       "      <td>1</td>\n",
       "      <td>290</td>\n",
       "      <td>1</td>\n",
       "      <td>47405.0</td>\n",
       "      <td>9.366101</td>\n",
       "      <td>1.0</td>\n",
       "      <td>0.0</td>\n",
       "      <td>0.859827</td>\n",
       "    </tr>\n",
       "    <tr>\n",
       "      <th>7</th>\n",
       "      <td>422015</td>\n",
       "      <td>42.0</td>\n",
       "      <td>2015</td>\n",
       "      <td>2</td>\n",
       "      <td>0</td>\n",
       "      <td>1</td>\n",
       "      <td>16</td>\n",
       "      <td>0</td>\n",
       "      <td>19</td>\n",
       "      <td>363</td>\n",
       "      <td>...</td>\n",
       "      <td>0</td>\n",
       "      <td>26</td>\n",
       "      <td>0</td>\n",
       "      <td>243</td>\n",
       "      <td>0</td>\n",
       "      <td>79762.0</td>\n",
       "      <td>4.551039</td>\n",
       "      <td>1.0</td>\n",
       "      <td>0.0</td>\n",
       "      <td>1.982913</td>\n",
       "    </tr>\n",
       "    <tr>\n",
       "      <th>9</th>\n",
       "      <td>762015</td>\n",
       "      <td>76.0</td>\n",
       "      <td>2015</td>\n",
       "      <td>3</td>\n",
       "      <td>0</td>\n",
       "      <td>0</td>\n",
       "      <td>4</td>\n",
       "      <td>0</td>\n",
       "      <td>7</td>\n",
       "      <td>301</td>\n",
       "      <td>...</td>\n",
       "      <td>1</td>\n",
       "      <td>26</td>\n",
       "      <td>1</td>\n",
       "      <td>247</td>\n",
       "      <td>0</td>\n",
       "      <td>43694.0</td>\n",
       "      <td>6.888818</td>\n",
       "      <td>1.0</td>\n",
       "      <td>0.0</td>\n",
       "      <td>0.351044</td>\n",
       "    </tr>\n",
       "  </tbody>\n",
       "</table>\n",
       "<p>5 rows × 22 columns</p>\n",
       "</div>"
      ],
      "text/plain": [
       "   PrecinctYear  Precinct  Year  Taxis  Flyers  Seniors  Outreach  HandsOn  \\\n",
       "1        682015      68.0  2015      4       0        3        11        2   \n",
       "3       1022015     102.0  2015      8       0        2         4        0   \n",
       "5        252015      25.0  2015      2       0        0         6        0   \n",
       "7        422015      42.0  2015      2       0        1        16        0   \n",
       "9        762015      76.0  2015      3       0        0         4        0   \n",
       "\n",
       "   Edu_Total  NUMBER OF PERSONS INJURED     ...      \\\n",
       "1         20                        533     ...       \n",
       "3         14                        870     ...       \n",
       "5          8                        444     ...       \n",
       "7         19                        363     ...       \n",
       "9          7                        301     ...       \n",
       "\n",
       "   NUMBER OF PEDESTRIANS KILLED  NUMBER OF CYCLIST INJURED  \\\n",
       "1                             0                         34   \n",
       "3                             2                         50   \n",
       "5                             0                         30   \n",
       "7                             0                         26   \n",
       "9                             1                         26   \n",
       "\n",
       "   NUMBER OF CYCLIST KILLED  NUMBER OF MOTORIST INJURED  \\\n",
       "1                         0                         401   \n",
       "3                         0                         686   \n",
       "5                         1                         290   \n",
       "7                         0                         243   \n",
       "9                         1                         247   \n",
       "\n",
       "   NUMBER OF MOTORIST KILLED  Total_Pop  Injuries_Per_Thou  Edu_dummy  \\\n",
       "1                          3   124528.0           4.280162        1.0   \n",
       "3                          1   144215.0           6.032660        1.0   \n",
       "5                          1    47405.0           9.366101        1.0   \n",
       "7                          0    79762.0           4.551039        1.0   \n",
       "9                          0    43694.0           6.888818        1.0   \n",
       "\n",
       "   HandsOn_dummy  ped_inj_pc  \n",
       "1            1.0    0.786972  \n",
       "3            0.0    0.929168  \n",
       "5            0.0    0.859827  \n",
       "7            0.0    1.982913  \n",
       "9            0.0    0.351044  \n",
       "\n",
       "[5 rows x 22 columns]"
      ]
     },
     "execution_count": 253,
     "metadata": {},
     "output_type": "execute_result"
    }
   ],
   "source": [
    "edOnly.head()"
   ]
  },
  {
   "cell_type": "code",
   "execution_count": 257,
   "metadata": {
    "collapsed": false
   },
   "outputs": [
    {
     "data": {
      "text/plain": [
       "array([ 98, 134, 124,  94,  28, 158,  67,  67, 199,  93,  55,  45,  58,\n",
       "        89, 216, 241,  79,  98, 220, 116,  26,  73,  75, 116, 122, 223,\n",
       "       104, 109, 113, 181, 105, 207,  52, 165,  78, 139, 144, 100, 129,\n",
       "        89, 181,  78, 176,  69, 157,  95,  57,  80, 192, 146, 114, 217,\n",
       "       259, 123,   2,  88, 146, 167,  85, 110, 127, 170, 165,  98, 201,\n",
       "       112, 103,  40, 133,  87, 134,  55,  90, 109])"
      ]
     },
     "execution_count": 257,
     "metadata": {},
     "output_type": "execute_result"
    }
   ],
   "source": [
    "edOnly.iloc[:, 11].values"
   ]
  },
  {
   "cell_type": "code",
   "execution_count": 258,
   "metadata": {
    "collapsed": false
   },
   "outputs": [
    {
     "data": {
      "image/png": "[encoded data removed]",
      "text/plain": [
       "<matplotlib.figure.Figure at 0x11a57a850>"
      ]
     },
     "metadata": {},
     "output_type": "display_data"
    }
   ],
   "source": [
    "edOnly_lm = smf.ols(formula = 'edOnly.iloc[:, 11] ~ edOnly.Edu_Total', data = edOnly).fit()\n",
    "\n",
    "fig1, (ax1) = pl.subplots(nrows = 1, ncols = 1, figsize = (16, 4))\n",
    "ax1.scatter(edOnly.Edu_Total, edOnly['NUMBER OF PEDESTRIANS INJURED'], c = 'k')\n",
    "ax1.plot(edOnly['Edu_Total'], edOnly_lm.predict(), c = 'r')\n",
    "ax1.set_xlabel('Number of ed initatives')\n",
    "ax1.set_ylabel('Number of ped injuries')\n",
    "pl.show()\n",
    "# ax1.set_title('')"
   ]
  },
  {
   "cell_type": "code",
   "execution_count": 259,
   "metadata": {
    "collapsed": false
   },
   "outputs": [
    {
     "data": {
      "text/html": [
       "<table class=\"simpletable\">\n",
       "<caption>OLS Regression Results</caption>\n",
       "<tr>\n",
       "  <th>Dep. Variable:</th>    <td>edOnly.iloc[:, 11]</td> <th>  R-squared:         </th> <td>   0.091</td>\n",
       "</tr>\n",
       "<tr>\n",
       "  <th>Model:</th>                    <td>OLS</td>        <th>  Adj. R-squared:    </th> <td>   0.079</td>\n",
       "</tr>\n",
       "<tr>\n",
       "  <th>Method:</th>              <td>Least Squares</td>   <th>  F-statistic:       </th> <td>   7.235</td>\n",
       "</tr>\n",
       "<tr>\n",
       "  <th>Date:</th>              <td>Wed, 07 Dec 2016</td>  <th>  Prob (F-statistic):</th>  <td>0.00888</td>\n",
       "</tr>\n",
       "<tr>\n",
       "  <th>Time:</th>                  <td>17:34:19</td>      <th>  Log-Likelihood:    </th> <td> -397.11</td>\n",
       "</tr>\n",
       "<tr>\n",
       "  <th>No. Observations:</th>       <td>    74</td>       <th>  AIC:               </th> <td>   798.2</td>\n",
       "</tr>\n",
       "<tr>\n",
       "  <th>Df Residuals:</th>           <td>    72</td>       <th>  BIC:               </th> <td>   802.8</td>\n",
       "</tr>\n",
       "<tr>\n",
       "  <th>Df Model:</th>               <td>     1</td>       <th>                     </th>     <td> </td>   \n",
       "</tr>\n",
       "<tr>\n",
       "  <th>Covariance Type:</th>       <td>nonrobust</td>     <th>                     </th>     <td> </td>   \n",
       "</tr>\n",
       "</table>\n",
       "<table class=\"simpletable\">\n",
       "<tr>\n",
       "          <td></td>            <th>coef</th>     <th>std err</th>      <th>t</th>      <th>P>|t|</th> <th>[95.0% Conf. Int.]</th> \n",
       "</tr>\n",
       "<tr>\n",
       "  <th>Intercept</th>        <td>   92.8284</td> <td>   11.440</td> <td>    8.114</td> <td> 0.000</td> <td>   70.023   115.634</td>\n",
       "</tr>\n",
       "<tr>\n",
       "  <th>edOnly.Edu_Total</th> <td>    1.8954</td> <td>    0.705</td> <td>    2.690</td> <td> 0.009</td> <td>    0.491     3.300</td>\n",
       "</tr>\n",
       "</table>\n",
       "<table class=\"simpletable\">\n",
       "<tr>\n",
       "  <th>Omnibus:</th>       <td> 6.412</td> <th>  Durbin-Watson:     </th> <td>   1.930</td>\n",
       "</tr>\n",
       "<tr>\n",
       "  <th>Prob(Omnibus):</th> <td> 0.041</td> <th>  Jarque-Bera (JB):  </th> <td>   6.212</td>\n",
       "</tr>\n",
       "<tr>\n",
       "  <th>Skew:</th>          <td> 0.709</td> <th>  Prob(JB):          </th> <td>  0.0448</td>\n",
       "</tr>\n",
       "<tr>\n",
       "  <th>Kurtosis:</th>      <td> 3.048</td> <th>  Cond. No.          </th> <td>    30.5</td>\n",
       "</tr>\n",
       "</table>"
      ],
      "text/plain": [
       "<class 'statsmodels.iolib.summary.Summary'>\n",
       "\"\"\"\n",
       "                            OLS Regression Results                            \n",
       "==============================================================================\n",
       "Dep. Variable:     edOnly.iloc[:, 11]   R-squared:                       0.091\n",
       "Model:                            OLS   Adj. R-squared:                  0.079\n",
       "Method:                 Least Squares   F-statistic:                     7.235\n",
       "Date:                Wed, 07 Dec 2016   Prob (F-statistic):            0.00888\n",
       "Time:                        17:34:19   Log-Likelihood:                -397.11\n",
       "No. Observations:                  74   AIC:                             798.2\n",
       "Df Residuals:                      72   BIC:                             802.8\n",
       "Df Model:                           1                                         \n",
       "Covariance Type:            nonrobust                                         \n",
       "====================================================================================\n",
       "                       coef    std err          t      P>|t|      [95.0% Conf. Int.]\n",
       "------------------------------------------------------------------------------------\n",
       "Intercept           92.8284     11.440      8.114      0.000        70.023   115.634\n",
       "edOnly.Edu_Total     1.8954      0.705      2.690      0.009         0.491     3.300\n",
       "==============================================================================\n",
       "Omnibus:                        6.412   Durbin-Watson:                   1.930\n",
       "Prob(Omnibus):                  0.041   Jarque-Bera (JB):                6.212\n",
       "Skew:                           0.709   Prob(JB):                       0.0448\n",
       "Kurtosis:                       3.048   Cond. No.                         30.5\n",
       "==============================================================================\n",
       "\n",
       "Warnings:\n",
       "[1] Standard Errors assume that the covariance matrix of the errors is correctly specified.\n",
       "\"\"\""
      ]
     },
     "execution_count": 259,
     "metadata": {},
     "output_type": "execute_result"
    }
   ],
   "source": [
    "edOnly_lm.summary()"
   ]
  },
  {
   "cell_type": "code",
   "execution_count": 235,
   "metadata": {
    "collapsed": false
   },
   "outputs": [
    {
     "data": {
      "text/plain": [
       "114"
      ]
     },
     "execution_count": 235,
     "metadata": {},
     "output_type": "execute_result"
    }
   ],
   "source": [
    "(eduData['HandsOn'] == 0).sum()"
   ]
  },
  {
   "cell_type": "code",
   "execution_count": 236,
   "metadata": {
    "collapsed": false
   },
   "outputs": [
    {
     "data": {
      "text/plain": [
       "40"
      ]
     },
     "execution_count": 236,
     "metadata": {},
     "output_type": "execute_result"
    }
   ],
   "source": [
    "(eduData['HandsOn'] != 0).sum()"
   ]
  },
  {
   "cell_type": "code",
   "execution_count": 234,
   "metadata": {
    "collapsed": false
   },
   "outputs": [
    {
     "name": "stderr",
     "output_type": "stream",
     "text": [
      "/Users/Anastasia/anaconda/lib/python2.7/site-packages/ipykernel/__main__.py:1: SettingWithCopyWarning: \n",
      "A value is trying to be set on a copy of a slice from a DataFrame.\n",
      "Try using .loc[row_indexer,col_indexer] = value instead\n",
      "\n",
      "See the caveats in the documentation: http://pandas.pydata.org/pandas-docs/stable/indexing.html#indexing-view-versus-copy\n",
      "  if __name__ == '__main__':\n"
     ]
    }
   ],
   "source": [
    "# Adding a dummy variable for hands on initiatives\n",
    "eduData['HandsOn_dummy'] = np.zeros(len(eduData.HandsOn))"
   ]
  },
  {
   "cell_type": "code",
   "execution_count": 237,
   "metadata": {
    "collapsed": false
   },
   "outputs": [
    {
     "name": "stderr",
     "output_type": "stream",
     "text": [
      "/Users/Anastasia/anaconda/lib/python2.7/site-packages/ipykernel/__main__.py:3: SettingWithCopyWarning: \n",
      "A value is trying to be set on a copy of a slice from a DataFrame\n",
      "\n",
      "See the caveats in the documentation: http://pandas.pydata.org/pandas-docs/stable/indexing.html#indexing-view-versus-copy\n",
      "  app.launch_new_instance()\n"
     ]
    }
   ],
   "source": [
    "for i in eduData.index:\n",
    "    if eduData.HandsOn.ix[i] != 0:\n",
    "        eduData.HandsOn_dummy.ix[i] = 1"
   ]
  },
  {
   "cell_type": "code",
   "execution_count": 240,
   "metadata": {
    "collapsed": false
   },
   "outputs": [
    {
     "data": {
      "image/png": "[encoded data removed]",
      "text/plain": [
       "<matplotlib.figure.Figure at 0x11c28abd0>"
      ]
     },
     "metadata": {},
     "output_type": "display_data"
    }
   ],
   "source": [
    "ho_lm0 = smf.ols(formula = 'eduData.iloc[:, 11] ~ eduData.HandsOn_dummy', data = eduData).fit()\n",
    "\n",
    "fig1, (ax1) = pl.subplots(nrows = 1, ncols = 1, figsize = (16, 4))\n",
    "ax1.scatter(eduData['HandsOn_dummy'], eduData['NUMBER OF PEDESTRIANS INJURED'], c = 'k')\n",
    "ax1.plot(eduData['HandsOn_dummy'], ho_lm0.predict(), c = 'r')\n",
    "ax1.set_xlabel('Hands on initatives')\n",
    "ax1.set_ylabel('Number of injuries')\n",
    "pl.show()\n",
    "# ax1.set_title('')"
   ]
  },
  {
   "cell_type": "code",
   "execution_count": 241,
   "metadata": {
    "collapsed": false
   },
   "outputs": [
    {
     "data": {
      "text/html": [
       "<table class=\"simpletable\">\n",
       "<caption>OLS Regression Results</caption>\n",
       "<tr>\n",
       "  <th>Dep. Variable:</th>    <td>eduData.iloc[:, 11]</td> <th>  R-squared:         </th> <td>   0.006</td>\n",
       "</tr>\n",
       "<tr>\n",
       "  <th>Model:</th>                    <td>OLS</td>         <th>  Adj. R-squared:    </th> <td>  -0.001</td>\n",
       "</tr>\n",
       "<tr>\n",
       "  <th>Method:</th>              <td>Least Squares</td>    <th>  F-statistic:       </th> <td>  0.8586</td>\n",
       "</tr>\n",
       "<tr>\n",
       "  <th>Date:</th>              <td>Wed, 07 Dec 2016</td>   <th>  Prob (F-statistic):</th>  <td> 0.356</td> \n",
       "</tr>\n",
       "<tr>\n",
       "  <th>Time:</th>                  <td>16:52:13</td>       <th>  Log-Likelihood:    </th> <td> -853.98</td>\n",
       "</tr>\n",
       "<tr>\n",
       "  <th>No. Observations:</th>       <td>   154</td>        <th>  AIC:               </th> <td>   1712.</td>\n",
       "</tr>\n",
       "<tr>\n",
       "  <th>Df Residuals:</th>           <td>   152</td>        <th>  BIC:               </th> <td>   1718.</td>\n",
       "</tr>\n",
       "<tr>\n",
       "  <th>Df Model:</th>               <td>     1</td>        <th>                     </th>     <td> </td>   \n",
       "</tr>\n",
       "<tr>\n",
       "  <th>Covariance Type:</th>       <td>nonrobust</td>      <th>                     </th>     <td> </td>   \n",
       "</tr>\n",
       "</table>\n",
       "<table class=\"simpletable\">\n",
       "<tr>\n",
       "            <td></td>               <th>coef</th>     <th>std err</th>      <th>t</th>      <th>P>|t|</th> <th>[95.0% Conf. Int.]</th> \n",
       "</tr>\n",
       "<tr>\n",
       "  <th>Intercept</th>             <td>  131.5439</td> <td>    5.840</td> <td>   22.523</td> <td> 0.000</td> <td>  120.005   143.083</td>\n",
       "</tr>\n",
       "<tr>\n",
       "  <th>eduData.HandsOn_dummy</th> <td>  -10.6189</td> <td>   11.460</td> <td>   -0.927</td> <td> 0.356</td> <td>  -33.260    12.022</td>\n",
       "</tr>\n",
       "</table>\n",
       "<table class=\"simpletable\">\n",
       "<tr>\n",
       "  <th>Omnibus:</th>       <td> 6.124</td> <th>  Durbin-Watson:     </th> <td>   1.087</td>\n",
       "</tr>\n",
       "<tr>\n",
       "  <th>Prob(Omnibus):</th> <td> 0.047</td> <th>  Jarque-Bera (JB):  </th> <td>   6.321</td>\n",
       "</tr>\n",
       "<tr>\n",
       "  <th>Skew:</th>          <td> 0.481</td> <th>  Prob(JB):          </th> <td>  0.0424</td>\n",
       "</tr>\n",
       "<tr>\n",
       "  <th>Kurtosis:</th>      <td> 2.754</td> <th>  Cond. No.          </th> <td>    2.47</td>\n",
       "</tr>\n",
       "</table>"
      ],
      "text/plain": [
       "<class 'statsmodels.iolib.summary.Summary'>\n",
       "\"\"\"\n",
       "                             OLS Regression Results                            \n",
       "===============================================================================\n",
       "Dep. Variable:     eduData.iloc[:, 11]   R-squared:                       0.006\n",
       "Model:                             OLS   Adj. R-squared:                 -0.001\n",
       "Method:                  Least Squares   F-statistic:                    0.8586\n",
       "Date:                 Wed, 07 Dec 2016   Prob (F-statistic):              0.356\n",
       "Time:                         16:52:13   Log-Likelihood:                -853.98\n",
       "No. Observations:                  154   AIC:                             1712.\n",
       "Df Residuals:                      152   BIC:                             1718.\n",
       "Df Model:                            1                                         \n",
       "Covariance Type:             nonrobust                                         \n",
       "=========================================================================================\n",
       "                            coef    std err          t      P>|t|      [95.0% Conf. Int.]\n",
       "-----------------------------------------------------------------------------------------\n",
       "Intercept               131.5439      5.840     22.523      0.000       120.005   143.083\n",
       "eduData.HandsOn_dummy   -10.6189     11.460     -0.927      0.356       -33.260    12.022\n",
       "==============================================================================\n",
       "Omnibus:                        6.124   Durbin-Watson:                   1.087\n",
       "Prob(Omnibus):                  0.047   Jarque-Bera (JB):                6.321\n",
       "Skew:                           0.481   Prob(JB):                       0.0424\n",
       "Kurtosis:                       2.754   Cond. No.                         2.47\n",
       "==============================================================================\n",
       "\n",
       "Warnings:\n",
       "[1] Standard Errors assume that the covariance matrix of the errors is correctly specified.\n",
       "\"\"\""
      ]
     },
     "execution_count": 241,
     "metadata": {},
     "output_type": "execute_result"
    }
   ],
   "source": [
    "ho_lm0.summary()"
   ]
  },
  {
   "cell_type": "code",
   "execution_count": 87,
   "metadata": {
    "collapsed": false
   },
   "outputs": [
    {
     "data": {
      "image/png": "[encoded data removed]",
      "text/plain": [
       "<matplotlib.figure.Figure at 0x11c26c750>"
      ]
     },
     "metadata": {},
     "output_type": "display_data"
    }
   ],
   "source": [
    "ed_lm1 = smf.ols(formula = 'ed_data.iloc[:, 7] ~ ed_data.Edu_Total', data = ed_data).fit()\n",
    "\n",
    "fig1, (ax1) = pl.subplots(nrows = 1, ncols = 1, figsize = (16, 4))\n",
    "ax1.scatter(ed_data['Edu_Total'], ed_data['NUMBER OF PEDESTRIANS INJURED'], c = 'k')\n",
    "ax1.plot(ed_data['Edu_Total'], ed_lm1.predict(), c = 'r')\n",
    "ax1.set_xlabel('Number of educational initatives')\n",
    "ax1.set_ylabel('Number of pedestrian injuries')\n",
    "pl.show()\n",
    "# ax1.set_title('')"
   ]
  },
  {
   "cell_type": "code",
   "execution_count": 89,
   "metadata": {
    "collapsed": false
   },
   "outputs": [
    {
     "data": {
      "image/png": "[encoded data removed]",
      "text/plain": [
       "<matplotlib.figure.Figure at 0x11c2beed0>"
      ]
     },
     "metadata": {},
     "output_type": "display_data"
    }
   ],
   "source": [
    "ed_lm2 = smf.ols(formula = 'ed_data.iloc[:, 7] ~ ed_data.HandsOn', data = ed_data).fit()\n",
    "\n",
    "fig1, (ax1) = pl.subplots(nrows = 1, ncols = 1, figsize = (16, 4))\n",
    "ax1.scatter(ed_data['HandsOn'], ed_data['NUMBER OF PEDESTRIANS INJURED'], c = 'k')\n",
    "ax1.plot(ed_data['HandsOn'], ed_lm2.predict(), c = 'r')\n",
    "ax1.set_xlabel('Number of Hands on initatives')\n",
    "ax1.set_ylabel('Number of pedestrian injuries')\n",
    "pl.show()\n",
    "# ax1.set_title('')"
   ]
  },
  {
   "cell_type": "code",
   "execution_count": 90,
   "metadata": {
    "collapsed": false
   },
   "outputs": [
    {
     "data": {
      "text/html": [
       "<table class=\"simpletable\">\n",
       "<caption>OLS Regression Results</caption>\n",
       "<tr>\n",
       "  <th>Dep. Variable:</th>    <td>ed_data.iloc[:, 7]</td> <th>  R-squared:         </th> <td>   0.001</td>\n",
       "</tr>\n",
       "<tr>\n",
       "  <th>Model:</th>                    <td>OLS</td>        <th>  Adj. R-squared:    </th> <td>  -0.004</td>\n",
       "</tr>\n",
       "<tr>\n",
       "  <th>Method:</th>              <td>Least Squares</td>   <th>  F-statistic:       </th> <td>  0.1630</td>\n",
       "</tr>\n",
       "<tr>\n",
       "  <th>Date:</th>              <td>Wed, 07 Dec 2016</td>  <th>  Prob (F-statistic):</th>  <td> 0.687</td> \n",
       "</tr>\n",
       "<tr>\n",
       "  <th>Time:</th>                  <td>02:00:45</td>      <th>  Log-Likelihood:    </th> <td> -1280.9</td>\n",
       "</tr>\n",
       "<tr>\n",
       "  <th>No. Observations:</th>       <td>   231</td>       <th>  AIC:               </th> <td>   2566.</td>\n",
       "</tr>\n",
       "<tr>\n",
       "  <th>Df Residuals:</th>           <td>   229</td>       <th>  BIC:               </th> <td>   2573.</td>\n",
       "</tr>\n",
       "<tr>\n",
       "  <th>Df Model:</th>               <td>     1</td>       <th>                     </th>     <td> </td>   \n",
       "</tr>\n",
       "<tr>\n",
       "  <th>Covariance Type:</th>       <td>nonrobust</td>     <th>                     </th>     <td> </td>   \n",
       "</tr>\n",
       "</table>\n",
       "<table class=\"simpletable\">\n",
       "<tr>\n",
       "         <td></td>            <th>coef</th>     <th>std err</th>      <th>t</th>      <th>P>|t|</th> <th>[95.0% Conf. Int.]</th> \n",
       "</tr>\n",
       "<tr>\n",
       "  <th>Intercept</th>       <td>  129.5420</td> <td>    4.666</td> <td>   27.761</td> <td> 0.000</td> <td>  120.347   138.736</td>\n",
       "</tr>\n",
       "<tr>\n",
       "  <th>ed_data.HandsOn</th> <td>   -1.2756</td> <td>    3.159</td> <td>   -0.404</td> <td> 0.687</td> <td>   -7.500     4.949</td>\n",
       "</tr>\n",
       "</table>\n",
       "<table class=\"simpletable\">\n",
       "<tr>\n",
       "  <th>Omnibus:</th>       <td> 9.161</td> <th>  Durbin-Watson:     </th> <td>   0.758</td>\n",
       "</tr>\n",
       "<tr>\n",
       "  <th>Prob(Omnibus):</th> <td> 0.010</td> <th>  Jarque-Bera (JB):  </th> <td>   9.593</td>\n",
       "</tr>\n",
       "<tr>\n",
       "  <th>Skew:</th>          <td> 0.482</td> <th>  Prob(JB):          </th> <td> 0.00826</td>\n",
       "</tr>\n",
       "<tr>\n",
       "  <th>Kurtosis:</th>      <td> 2.739</td> <th>  Cond. No.          </th> <td>    1.94</td>\n",
       "</tr>\n",
       "</table>"
      ],
      "text/plain": [
       "<class 'statsmodels.iolib.summary.Summary'>\n",
       "\"\"\"\n",
       "                            OLS Regression Results                            \n",
       "==============================================================================\n",
       "Dep. Variable:     ed_data.iloc[:, 7]   R-squared:                       0.001\n",
       "Model:                            OLS   Adj. R-squared:                 -0.004\n",
       "Method:                 Least Squares   F-statistic:                    0.1630\n",
       "Date:                Wed, 07 Dec 2016   Prob (F-statistic):              0.687\n",
       "Time:                        02:00:45   Log-Likelihood:                -1280.9\n",
       "No. Observations:                 231   AIC:                             2566.\n",
       "Df Residuals:                     229   BIC:                             2573.\n",
       "Df Model:                           1                                         \n",
       "Covariance Type:            nonrobust                                         \n",
       "===================================================================================\n",
       "                      coef    std err          t      P>|t|      [95.0% Conf. Int.]\n",
       "-----------------------------------------------------------------------------------\n",
       "Intercept         129.5420      4.666     27.761      0.000       120.347   138.736\n",
       "ed_data.HandsOn    -1.2756      3.159     -0.404      0.687        -7.500     4.949\n",
       "==============================================================================\n",
       "Omnibus:                        9.161   Durbin-Watson:                   0.758\n",
       "Prob(Omnibus):                  0.010   Jarque-Bera (JB):                9.593\n",
       "Skew:                           0.482   Prob(JB):                      0.00826\n",
       "Kurtosis:                       2.739   Cond. No.                         1.94\n",
       "==============================================================================\n",
       "\n",
       "Warnings:\n",
       "[1] Standard Errors assume that the covariance matrix of the errors is correctly specified.\n",
       "\"\"\""
      ]
     },
     "execution_count": 90,
     "metadata": {},
     "output_type": "execute_result"
    }
   ],
   "source": [
    "ed_lm2.summary()"
   ]
  },
  {
   "cell_type": "code",
   "execution_count": 242,
   "metadata": {
    "collapsed": false
   },
   "outputs": [
    {
     "name": "stderr",
     "output_type": "stream",
     "text": [
      "/Users/Anastasia/anaconda/lib/python2.7/site-packages/ipykernel/__main__.py:1: SettingWithCopyWarning: \n",
      "A value is trying to be set on a copy of a slice from a DataFrame.\n",
      "Try using .loc[row_indexer,col_indexer] = value instead\n",
      "\n",
      "See the caveats in the documentation: http://pandas.pydata.org/pandas-docs/stable/indexing.html#indexing-view-versus-copy\n",
      "  if __name__ == '__main__':\n"
     ]
    }
   ],
   "source": [
    "eduData['ped_inj_pc'] = eduData['NUMBER OF PEDESTRIANS INJURED'] / (ed_data.Total_Pop / 1000)\n",
    "#eduData['ed_pc'] = ed_data['Edu_Total'] / (ed_data.Total_Pop / 1000)\n",
    "#eduData['hands_pc'] = ed_data['HandsOn'] / (ed_data.Total_Pop / 1000)"
   ]
  },
  {
   "cell_type": "code",
   "execution_count": 243,
   "metadata": {
    "collapsed": false,
    "scrolled": true
   },
   "outputs": [
    {
     "data": {
      "text/html": [
       "<div>\n",
       "<table border=\"1\" class=\"dataframe\">\n",
       "  <thead>\n",
       "    <tr style=\"text-align: right;\">\n",
       "      <th></th>\n",
       "      <th>PrecinctYear</th>\n",
       "      <th>Precinct</th>\n",
       "      <th>Year</th>\n",
       "      <th>Taxis</th>\n",
       "      <th>Flyers</th>\n",
       "      <th>Seniors</th>\n",
       "      <th>Outreach</th>\n",
       "      <th>HandsOn</th>\n",
       "      <th>Edu_Total</th>\n",
       "      <th>NUMBER OF PERSONS INJURED</th>\n",
       "      <th>...</th>\n",
       "      <th>NUMBER OF PEDESTRIANS KILLED</th>\n",
       "      <th>NUMBER OF CYCLIST INJURED</th>\n",
       "      <th>NUMBER OF CYCLIST KILLED</th>\n",
       "      <th>NUMBER OF MOTORIST INJURED</th>\n",
       "      <th>NUMBER OF MOTORIST KILLED</th>\n",
       "      <th>Total_Pop</th>\n",
       "      <th>Injuries_Per_Thou</th>\n",
       "      <th>Edu_dummy</th>\n",
       "      <th>HandsOn_dummy</th>\n",
       "      <th>ped_inj_pc</th>\n",
       "    </tr>\n",
       "  </thead>\n",
       "  <tbody>\n",
       "    <tr>\n",
       "      <th>0</th>\n",
       "      <td>682013</td>\n",
       "      <td>68.0</td>\n",
       "      <td>2013</td>\n",
       "      <td>0</td>\n",
       "      <td>0</td>\n",
       "      <td>0</td>\n",
       "      <td>0</td>\n",
       "      <td>0</td>\n",
       "      <td>0</td>\n",
       "      <td>588</td>\n",
       "      <td>...</td>\n",
       "      <td>3</td>\n",
       "      <td>37</td>\n",
       "      <td>0</td>\n",
       "      <td>434</td>\n",
       "      <td>1</td>\n",
       "      <td>124528.0</td>\n",
       "      <td>4.721830</td>\n",
       "      <td>0.0</td>\n",
       "      <td>0.0</td>\n",
       "      <td>0.939548</td>\n",
       "    </tr>\n",
       "    <tr>\n",
       "      <th>1</th>\n",
       "      <td>682015</td>\n",
       "      <td>68.0</td>\n",
       "      <td>2015</td>\n",
       "      <td>4</td>\n",
       "      <td>0</td>\n",
       "      <td>3</td>\n",
       "      <td>11</td>\n",
       "      <td>2</td>\n",
       "      <td>20</td>\n",
       "      <td>533</td>\n",
       "      <td>...</td>\n",
       "      <td>0</td>\n",
       "      <td>34</td>\n",
       "      <td>0</td>\n",
       "      <td>401</td>\n",
       "      <td>3</td>\n",
       "      <td>124528.0</td>\n",
       "      <td>4.280162</td>\n",
       "      <td>1.0</td>\n",
       "      <td>1.0</td>\n",
       "      <td>0.786972</td>\n",
       "    </tr>\n",
       "    <tr>\n",
       "      <th>2</th>\n",
       "      <td>1022013</td>\n",
       "      <td>102.0</td>\n",
       "      <td>2013</td>\n",
       "      <td>0</td>\n",
       "      <td>0</td>\n",
       "      <td>0</td>\n",
       "      <td>0</td>\n",
       "      <td>0</td>\n",
       "      <td>0</td>\n",
       "      <td>788</td>\n",
       "      <td>...</td>\n",
       "      <td>5</td>\n",
       "      <td>63</td>\n",
       "      <td>0</td>\n",
       "      <td>586</td>\n",
       "      <td>1</td>\n",
       "      <td>144215.0</td>\n",
       "      <td>5.464064</td>\n",
       "      <td>0.0</td>\n",
       "      <td>0.0</td>\n",
       "      <td>1.116215</td>\n",
       "    </tr>\n",
       "    <tr>\n",
       "      <th>3</th>\n",
       "      <td>1022015</td>\n",
       "      <td>102.0</td>\n",
       "      <td>2015</td>\n",
       "      <td>8</td>\n",
       "      <td>0</td>\n",
       "      <td>2</td>\n",
       "      <td>4</td>\n",
       "      <td>0</td>\n",
       "      <td>14</td>\n",
       "      <td>870</td>\n",
       "      <td>...</td>\n",
       "      <td>2</td>\n",
       "      <td>50</td>\n",
       "      <td>0</td>\n",
       "      <td>686</td>\n",
       "      <td>1</td>\n",
       "      <td>144215.0</td>\n",
       "      <td>6.032660</td>\n",
       "      <td>1.0</td>\n",
       "      <td>0.0</td>\n",
       "      <td>0.929168</td>\n",
       "    </tr>\n",
       "    <tr>\n",
       "      <th>4</th>\n",
       "      <td>252013</td>\n",
       "      <td>25.0</td>\n",
       "      <td>2013</td>\n",
       "      <td>0</td>\n",
       "      <td>0</td>\n",
       "      <td>0</td>\n",
       "      <td>0</td>\n",
       "      <td>0</td>\n",
       "      <td>0</td>\n",
       "      <td>492</td>\n",
       "      <td>...</td>\n",
       "      <td>3</td>\n",
       "      <td>21</td>\n",
       "      <td>1</td>\n",
       "      <td>330</td>\n",
       "      <td>0</td>\n",
       "      <td>47405.0</td>\n",
       "      <td>10.378652</td>\n",
       "      <td>0.0</td>\n",
       "      <td>0.0</td>\n",
       "      <td>0.977707</td>\n",
       "    </tr>\n",
       "  </tbody>\n",
       "</table>\n",
       "<p>5 rows × 22 columns</p>\n",
       "</div>"
      ],
      "text/plain": [
       "   PrecinctYear  Precinct  Year  Taxis  Flyers  Seniors  Outreach  HandsOn  \\\n",
       "0        682013      68.0  2013      0       0        0         0        0   \n",
       "1        682015      68.0  2015      4       0        3        11        2   \n",
       "2       1022013     102.0  2013      0       0        0         0        0   \n",
       "3       1022015     102.0  2015      8       0        2         4        0   \n",
       "4        252013      25.0  2013      0       0        0         0        0   \n",
       "\n",
       "   Edu_Total  NUMBER OF PERSONS INJURED     ...      \\\n",
       "0          0                        588     ...       \n",
       "1         20                        533     ...       \n",
       "2          0                        788     ...       \n",
       "3         14                        870     ...       \n",
       "4          0                        492     ...       \n",
       "\n",
       "   NUMBER OF PEDESTRIANS KILLED  NUMBER OF CYCLIST INJURED  \\\n",
       "0                             3                         37   \n",
       "1                             0                         34   \n",
       "2                             5                         63   \n",
       "3                             2                         50   \n",
       "4                             3                         21   \n",
       "\n",
       "   NUMBER OF CYCLIST KILLED  NUMBER OF MOTORIST INJURED  \\\n",
       "0                         0                         434   \n",
       "1                         0                         401   \n",
       "2                         0                         586   \n",
       "3                         0                         686   \n",
       "4                         1                         330   \n",
       "\n",
       "   NUMBER OF MOTORIST KILLED  Total_Pop  Injuries_Per_Thou  Edu_dummy  \\\n",
       "0                          1   124528.0           4.721830        0.0   \n",
       "1                          3   124528.0           4.280162        1.0   \n",
       "2                          1   144215.0           5.464064        0.0   \n",
       "3                          1   144215.0           6.032660        1.0   \n",
       "4                          0    47405.0          10.378652        0.0   \n",
       "\n",
       "   HandsOn_dummy  ped_inj_pc  \n",
       "0            0.0    0.939548  \n",
       "1            1.0    0.786972  \n",
       "2            0.0    1.116215  \n",
       "3            0.0    0.929168  \n",
       "4            0.0    0.977707  \n",
       "\n",
       "[5 rows x 22 columns]"
      ]
     },
     "execution_count": 243,
     "metadata": {},
     "output_type": "execute_result"
    }
   ],
   "source": [
    "eduData.head()"
   ]
  },
  {
   "cell_type": "code",
   "execution_count": 244,
   "metadata": {
    "collapsed": false
   },
   "outputs": [
    {
     "data": {
      "text/plain": [
       "2"
      ]
     },
     "execution_count": 244,
     "metadata": {},
     "output_type": "execute_result"
    }
   ],
   "source": [
    "(eduData['Total_Pop'] == 0).sum()"
   ]
  },
  {
   "cell_type": "code",
   "execution_count": 245,
   "metadata": {
    "collapsed": true
   },
   "outputs": [],
   "source": [
    "ed_pc_data = eduData[eduData['Total_Pop'] != 0] #removing precints with zero population\n",
    "ed_pc_data = eduData[eduData['ped_inj_pc'] < \n",
    "                          (ed_pc_data['ped_inj_pc']).std() * 3 + (ed_pc_data['ped_inj_pc']).mean()]"
   ]
  },
  {
   "cell_type": "code",
   "execution_count": 248,
   "metadata": {
    "collapsed": false
   },
   "outputs": [
    {
     "data": {
      "text/html": [
       "<div>\n",
       "<table border=\"1\" class=\"dataframe\">\n",
       "  <thead>\n",
       "    <tr style=\"text-align: right;\">\n",
       "      <th></th>\n",
       "      <th>PrecinctYear</th>\n",
       "      <th>Precinct</th>\n",
       "      <th>Year</th>\n",
       "      <th>Taxis</th>\n",
       "      <th>Flyers</th>\n",
       "      <th>Seniors</th>\n",
       "      <th>Outreach</th>\n",
       "      <th>HandsOn</th>\n",
       "      <th>Edu_Total</th>\n",
       "      <th>NUMBER OF PERSONS INJURED</th>\n",
       "      <th>...</th>\n",
       "      <th>NUMBER OF PEDESTRIANS KILLED</th>\n",
       "      <th>NUMBER OF CYCLIST INJURED</th>\n",
       "      <th>NUMBER OF CYCLIST KILLED</th>\n",
       "      <th>NUMBER OF MOTORIST INJURED</th>\n",
       "      <th>NUMBER OF MOTORIST KILLED</th>\n",
       "      <th>Total_Pop</th>\n",
       "      <th>Injuries_Per_Thou</th>\n",
       "      <th>Edu_dummy</th>\n",
       "      <th>HandsOn_dummy</th>\n",
       "      <th>ped_inj_pc</th>\n",
       "    </tr>\n",
       "  </thead>\n",
       "  <tbody>\n",
       "    <tr>\n",
       "      <th>count</th>\n",
       "      <td>1.510000e+02</td>\n",
       "      <td>151.000000</td>\n",
       "      <td>151.000000</td>\n",
       "      <td>151.000000</td>\n",
       "      <td>151.000000</td>\n",
       "      <td>151.000000</td>\n",
       "      <td>151.000000</td>\n",
       "      <td>151.000000</td>\n",
       "      <td>151.000000</td>\n",
       "      <td>151.000000</td>\n",
       "      <td>...</td>\n",
       "      <td>151.000000</td>\n",
       "      <td>151.000000</td>\n",
       "      <td>151.000000</td>\n",
       "      <td>151.000000</td>\n",
       "      <td>151.000000</td>\n",
       "      <td>151.000000</td>\n",
       "      <td>151.000000</td>\n",
       "      <td>151.000000</td>\n",
       "      <td>151.000000</td>\n",
       "      <td>151.000000</td>\n",
       "    </tr>\n",
       "    <tr>\n",
       "      <th>mean</th>\n",
       "      <td>6.314180e+05</td>\n",
       "      <td>62.940397</td>\n",
       "      <td>2014.006623</td>\n",
       "      <td>1.450331</td>\n",
       "      <td>0.019868</td>\n",
       "      <td>0.662252</td>\n",
       "      <td>3.642384</td>\n",
       "      <td>0.562914</td>\n",
       "      <td>6.337748</td>\n",
       "      <td>583.172185</td>\n",
       "      <td>...</td>\n",
       "      <td>1.655629</td>\n",
       "      <td>48.768212</td>\n",
       "      <td>0.139073</td>\n",
       "      <td>406.238411</td>\n",
       "      <td>1.046358</td>\n",
       "      <td>105047.192053</td>\n",
       "      <td>inf</td>\n",
       "      <td>0.483444</td>\n",
       "      <td>0.258278</td>\n",
       "      <td>1.530562</td>\n",
       "    </tr>\n",
       "    <tr>\n",
       "      <th>std</th>\n",
       "      <td>3.570756e+05</td>\n",
       "      <td>35.707559</td>\n",
       "      <td>1.003306</td>\n",
       "      <td>2.632334</td>\n",
       "      <td>0.140009</td>\n",
       "      <td>1.380277</td>\n",
       "      <td>5.343338</td>\n",
       "      <td>1.288804</td>\n",
       "      <td>8.147709</td>\n",
       "      <td>311.258516</td>\n",
       "      <td>...</td>\n",
       "      <td>1.697238</td>\n",
       "      <td>32.812080</td>\n",
       "      <td>0.383662</td>\n",
       "      <td>268.445121</td>\n",
       "      <td>1.425191</td>\n",
       "      <td>51037.583279</td>\n",
       "      <td>NaN</td>\n",
       "      <td>0.501389</td>\n",
       "      <td>0.439144</td>\n",
       "      <td>1.195508</td>\n",
       "    </tr>\n",
       "    <tr>\n",
       "      <th>min</th>\n",
       "      <td>1.201300e+04</td>\n",
       "      <td>1.000000</td>\n",
       "      <td>2013.000000</td>\n",
       "      <td>0.000000</td>\n",
       "      <td>0.000000</td>\n",
       "      <td>0.000000</td>\n",
       "      <td>0.000000</td>\n",
       "      <td>0.000000</td>\n",
       "      <td>0.000000</td>\n",
       "      <td>82.000000</td>\n",
       "      <td>...</td>\n",
       "      <td>0.000000</td>\n",
       "      <td>1.000000</td>\n",
       "      <td>0.000000</td>\n",
       "      <td>40.000000</td>\n",
       "      <td>0.000000</td>\n",
       "      <td>0.000000</td>\n",
       "      <td>1.981965</td>\n",
       "      <td>0.000000</td>\n",
       "      <td>0.000000</td>\n",
       "      <td>0.015849</td>\n",
       "    </tr>\n",
       "    <tr>\n",
       "      <th>25%</th>\n",
       "      <td>3.220140e+05</td>\n",
       "      <td>32.000000</td>\n",
       "      <td>2013.000000</td>\n",
       "      <td>0.000000</td>\n",
       "      <td>0.000000</td>\n",
       "      <td>0.000000</td>\n",
       "      <td>0.000000</td>\n",
       "      <td>0.000000</td>\n",
       "      <td>0.000000</td>\n",
       "      <td>355.000000</td>\n",
       "      <td>...</td>\n",
       "      <td>0.000000</td>\n",
       "      <td>24.500000</td>\n",
       "      <td>0.000000</td>\n",
       "      <td>210.500000</td>\n",
       "      <td>0.000000</td>\n",
       "      <td>62474.000000</td>\n",
       "      <td>4.044737</td>\n",
       "      <td>0.000000</td>\n",
       "      <td>0.000000</td>\n",
       "      <td>0.716695</td>\n",
       "    </tr>\n",
       "    <tr>\n",
       "      <th>50%</th>\n",
       "      <td>6.620130e+05</td>\n",
       "      <td>66.000000</td>\n",
       "      <td>2015.000000</td>\n",
       "      <td>0.000000</td>\n",
       "      <td>0.000000</td>\n",
       "      <td>0.000000</td>\n",
       "      <td>0.000000</td>\n",
       "      <td>0.000000</td>\n",
       "      <td>0.000000</td>\n",
       "      <td>561.000000</td>\n",
       "      <td>...</td>\n",
       "      <td>1.000000</td>\n",
       "      <td>38.000000</td>\n",
       "      <td>0.000000</td>\n",
       "      <td>369.000000</td>\n",
       "      <td>1.000000</td>\n",
       "      <td>101720.000000</td>\n",
       "      <td>5.488435</td>\n",
       "      <td>0.000000</td>\n",
       "      <td>0.000000</td>\n",
       "      <td>1.170993</td>\n",
       "    </tr>\n",
       "    <tr>\n",
       "      <th>75%</th>\n",
       "      <td>9.720140e+05</td>\n",
       "      <td>97.000000</td>\n",
       "      <td>2015.000000</td>\n",
       "      <td>2.000000</td>\n",
       "      <td>0.000000</td>\n",
       "      <td>1.000000</td>\n",
       "      <td>6.000000</td>\n",
       "      <td>1.000000</td>\n",
       "      <td>11.500000</td>\n",
       "      <td>717.500000</td>\n",
       "      <td>...</td>\n",
       "      <td>2.000000</td>\n",
       "      <td>72.000000</td>\n",
       "      <td>0.000000</td>\n",
       "      <td>514.000000</td>\n",
       "      <td>1.000000</td>\n",
       "      <td>141761.000000</td>\n",
       "      <td>7.163138</td>\n",
       "      <td>1.000000</td>\n",
       "      <td>1.000000</td>\n",
       "      <td>1.981903</td>\n",
       "    </tr>\n",
       "    <tr>\n",
       "      <th>max</th>\n",
       "      <td>1.232015e+06</td>\n",
       "      <td>123.000000</td>\n",
       "      <td>2015.000000</td>\n",
       "      <td>19.000000</td>\n",
       "      <td>1.000000</td>\n",
       "      <td>7.000000</td>\n",
       "      <td>25.000000</td>\n",
       "      <td>9.000000</td>\n",
       "      <td>29.000000</td>\n",
       "      <td>1820.000000</td>\n",
       "      <td>...</td>\n",
       "      <td>8.000000</td>\n",
       "      <td>168.000000</td>\n",
       "      <td>2.000000</td>\n",
       "      <td>1628.000000</td>\n",
       "      <td>6.000000</td>\n",
       "      <td>247354.000000</td>\n",
       "      <td>inf</td>\n",
       "      <td>1.000000</td>\n",
       "      <td>1.000000</td>\n",
       "      <td>6.973028</td>\n",
       "    </tr>\n",
       "  </tbody>\n",
       "</table>\n",
       "<p>8 rows × 22 columns</p>\n",
       "</div>"
      ],
      "text/plain": [
       "       PrecinctYear    Precinct         Year       Taxis      Flyers  \\\n",
       "count  1.510000e+02  151.000000   151.000000  151.000000  151.000000   \n",
       "mean   6.314180e+05   62.940397  2014.006623    1.450331    0.019868   \n",
       "std    3.570756e+05   35.707559     1.003306    2.632334    0.140009   \n",
       "min    1.201300e+04    1.000000  2013.000000    0.000000    0.000000   \n",
       "25%    3.220140e+05   32.000000  2013.000000    0.000000    0.000000   \n",
       "50%    6.620130e+05   66.000000  2015.000000    0.000000    0.000000   \n",
       "75%    9.720140e+05   97.000000  2015.000000    2.000000    0.000000   \n",
       "max    1.232015e+06  123.000000  2015.000000   19.000000    1.000000   \n",
       "\n",
       "          Seniors    Outreach     HandsOn   Edu_Total  \\\n",
       "count  151.000000  151.000000  151.000000  151.000000   \n",
       "mean     0.662252    3.642384    0.562914    6.337748   \n",
       "std      1.380277    5.343338    1.288804    8.147709   \n",
       "min      0.000000    0.000000    0.000000    0.000000   \n",
       "25%      0.000000    0.000000    0.000000    0.000000   \n",
       "50%      0.000000    0.000000    0.000000    0.000000   \n",
       "75%      1.000000    6.000000    1.000000   11.500000   \n",
       "max      7.000000   25.000000    9.000000   29.000000   \n",
       "\n",
       "       NUMBER OF PERSONS INJURED     ...      NUMBER OF PEDESTRIANS KILLED  \\\n",
       "count                 151.000000     ...                        151.000000   \n",
       "mean                  583.172185     ...                          1.655629   \n",
       "std                   311.258516     ...                          1.697238   \n",
       "min                    82.000000     ...                          0.000000   \n",
       "25%                   355.000000     ...                          0.000000   \n",
       "50%                   561.000000     ...                          1.000000   \n",
       "75%                   717.500000     ...                          2.000000   \n",
       "max                  1820.000000     ...                          8.000000   \n",
       "\n",
       "       NUMBER OF CYCLIST INJURED  NUMBER OF CYCLIST KILLED  \\\n",
       "count                 151.000000                151.000000   \n",
       "mean                   48.768212                  0.139073   \n",
       "std                    32.812080                  0.383662   \n",
       "min                     1.000000                  0.000000   \n",
       "25%                    24.500000                  0.000000   \n",
       "50%                    38.000000                  0.000000   \n",
       "75%                    72.000000                  0.000000   \n",
       "max                   168.000000                  2.000000   \n",
       "\n",
       "       NUMBER OF MOTORIST INJURED  NUMBER OF MOTORIST KILLED      Total_Pop  \\\n",
       "count                  151.000000                 151.000000     151.000000   \n",
       "mean                   406.238411                   1.046358  105047.192053   \n",
       "std                    268.445121                   1.425191   51037.583279   \n",
       "min                     40.000000                   0.000000       0.000000   \n",
       "25%                    210.500000                   0.000000   62474.000000   \n",
       "50%                    369.000000                   1.000000  101720.000000   \n",
       "75%                    514.000000                   1.000000  141761.000000   \n",
       "max                   1628.000000                   6.000000  247354.000000   \n",
       "\n",
       "       Injuries_Per_Thou   Edu_dummy  HandsOn_dummy  ped_inj_pc  \n",
       "count         151.000000  151.000000     151.000000  151.000000  \n",
       "mean                 inf    0.483444       0.258278    1.530562  \n",
       "std                  NaN    0.501389       0.439144    1.195508  \n",
       "min             1.981965    0.000000       0.000000    0.015849  \n",
       "25%             4.044737    0.000000       0.000000    0.716695  \n",
       "50%             5.488435    0.000000       0.000000    1.170993  \n",
       "75%             7.163138    1.000000       1.000000    1.981903  \n",
       "max                  inf    1.000000       1.000000    6.973028  \n",
       "\n",
       "[8 rows x 22 columns]"
      ]
     },
     "execution_count": 248,
     "metadata": {},
     "output_type": "execute_result"
    }
   ],
   "source": [
    "ed_pc_data.describe()"
   ]
  },
  {
   "cell_type": "code",
   "execution_count": 247,
   "metadata": {
    "collapsed": false
   },
   "outputs": [
    {
     "data": {
      "text/plain": [
       "(151, 22)"
      ]
     },
     "execution_count": 247,
     "metadata": {},
     "output_type": "execute_result"
    }
   ],
   "source": [
    "ed_pc_data.shape"
   ]
  },
  {
   "cell_type": "code",
   "execution_count": 249,
   "metadata": {
    "collapsed": false
   },
   "outputs": [
    {
     "data": {
      "image/png": "[encoded data removed]",
      "text/plain": [
       "<matplotlib.figure.Figure at 0x11ba285d0>"
      ]
     },
     "metadata": {},
     "output_type": "display_data"
    }
   ],
   "source": [
    "ed_pc_lm = smf.ols(formula = 'ped_inj_pc ~ Edu_dummy', data = ed_pc_data).fit()\n",
    "fig1, (ax1) = pl.subplots(nrows = 1, ncols = 1, figsize = (16, 4))\n",
    "ax1.scatter(ed_pc_data['Edu_dummy'], ed_pc_data['ped_inj_pc'], c = 'k')\n",
    "ax1.plot(ed_pc_data['Edu_dummy'], ed_pc_lm.predict(), c = 'r')\n",
    "ax1.set_xlabel('Number of educational initatives')\n",
    "ax1.set_ylabel('Number of pedestrian injuries per thousand')\n",
    "pl.show()\n",
    "# ax1.set_title('')"
   ]
  },
  {
   "cell_type": "code",
   "execution_count": 250,
   "metadata": {
    "collapsed": false
   },
   "outputs": [
    {
     "data": {
      "text/html": [
       "<table class=\"simpletable\">\n",
       "<caption>OLS Regression Results</caption>\n",
       "<tr>\n",
       "  <th>Dep. Variable:</th>       <td>ped_inj_pc</td>    <th>  R-squared:         </th> <td>   0.001</td>\n",
       "</tr>\n",
       "<tr>\n",
       "  <th>Model:</th>                   <td>OLS</td>       <th>  Adj. R-squared:    </th> <td>  -0.006</td>\n",
       "</tr>\n",
       "<tr>\n",
       "  <th>Method:</th>             <td>Least Squares</td>  <th>  F-statistic:       </th> <td>  0.1189</td>\n",
       "</tr>\n",
       "<tr>\n",
       "  <th>Date:</th>             <td>Wed, 07 Dec 2016</td> <th>  Prob (F-statistic):</th>  <td> 0.731</td> \n",
       "</tr>\n",
       "<tr>\n",
       "  <th>Time:</th>                 <td>17:13:02</td>     <th>  Log-Likelihood:    </th> <td> -240.66</td>\n",
       "</tr>\n",
       "<tr>\n",
       "  <th>No. Observations:</th>      <td>   151</td>      <th>  AIC:               </th> <td>   485.3</td>\n",
       "</tr>\n",
       "<tr>\n",
       "  <th>Df Residuals:</th>          <td>   149</td>      <th>  BIC:               </th> <td>   491.4</td>\n",
       "</tr>\n",
       "<tr>\n",
       "  <th>Df Model:</th>              <td>     1</td>      <th>                     </th>     <td> </td>   \n",
       "</tr>\n",
       "<tr>\n",
       "  <th>Covariance Type:</th>      <td>nonrobust</td>    <th>                     </th>     <td> </td>   \n",
       "</tr>\n",
       "</table>\n",
       "<table class=\"simpletable\">\n",
       "<tr>\n",
       "      <td></td>         <th>coef</th>     <th>std err</th>      <th>t</th>      <th>P>|t|</th> <th>[95.0% Conf. Int.]</th> \n",
       "</tr>\n",
       "<tr>\n",
       "  <th>Intercept</th> <td>    1.5631</td> <td>    0.136</td> <td>   11.513</td> <td> 0.000</td> <td>    1.295     1.831</td>\n",
       "</tr>\n",
       "<tr>\n",
       "  <th>Edu_dummy</th> <td>   -0.0673</td> <td>    0.195</td> <td>   -0.345</td> <td> 0.731</td> <td>   -0.453     0.319</td>\n",
       "</tr>\n",
       "</table>\n",
       "<table class=\"simpletable\">\n",
       "<tr>\n",
       "  <th>Omnibus:</th>       <td>63.069</td> <th>  Durbin-Watson:     </th> <td>   0.892</td>\n",
       "</tr>\n",
       "<tr>\n",
       "  <th>Prob(Omnibus):</th> <td> 0.000</td> <th>  Jarque-Bera (JB):  </th> <td> 161.946</td>\n",
       "</tr>\n",
       "<tr>\n",
       "  <th>Skew:</th>          <td> 1.762</td> <th>  Prob(JB):          </th> <td>6.82e-36</td>\n",
       "</tr>\n",
       "<tr>\n",
       "  <th>Kurtosis:</th>      <td> 6.650</td> <th>  Cond. No.          </th> <td>    2.58</td>\n",
       "</tr>\n",
       "</table>"
      ],
      "text/plain": [
       "<class 'statsmodels.iolib.summary.Summary'>\n",
       "\"\"\"\n",
       "                            OLS Regression Results                            \n",
       "==============================================================================\n",
       "Dep. Variable:             ped_inj_pc   R-squared:                       0.001\n",
       "Model:                            OLS   Adj. R-squared:                 -0.006\n",
       "Method:                 Least Squares   F-statistic:                    0.1189\n",
       "Date:                Wed, 07 Dec 2016   Prob (F-statistic):              0.731\n",
       "Time:                        17:13:02   Log-Likelihood:                -240.66\n",
       "No. Observations:                 151   AIC:                             485.3\n",
       "Df Residuals:                     149   BIC:                             491.4\n",
       "Df Model:                           1                                         \n",
       "Covariance Type:            nonrobust                                         \n",
       "==============================================================================\n",
       "                 coef    std err          t      P>|t|      [95.0% Conf. Int.]\n",
       "------------------------------------------------------------------------------\n",
       "Intercept      1.5631      0.136     11.513      0.000         1.295     1.831\n",
       "Edu_dummy     -0.0673      0.195     -0.345      0.731        -0.453     0.319\n",
       "==============================================================================\n",
       "Omnibus:                       63.069   Durbin-Watson:                   0.892\n",
       "Prob(Omnibus):                  0.000   Jarque-Bera (JB):              161.946\n",
       "Skew:                           1.762   Prob(JB):                     6.82e-36\n",
       "Kurtosis:                       6.650   Cond. No.                         2.58\n",
       "==============================================================================\n",
       "\n",
       "Warnings:\n",
       "[1] Standard Errors assume that the covariance matrix of the errors is correctly specified.\n",
       "\"\"\""
      ]
     },
     "execution_count": 250,
     "metadata": {},
     "output_type": "execute_result"
    }
   ],
   "source": [
    "ed_pc_lm.summary()"
   ]
  },
  {
   "cell_type": "code",
   "execution_count": 58,
   "metadata": {
    "collapsed": false,
    "scrolled": true
   },
   "outputs": [
    {
     "data": {
      "image/png": "[encoded data removed]",
      "text/plain": [
       "<matplotlib.figure.Figure at 0x11a07f290>"
      ]
     },
     "metadata": {},
     "output_type": "display_data"
    }
   ],
   "source": [
    "ed_lm = smf.ols(formula = 'ped_inj_pc ~ ed_pc', data = ed_all_data).fit()\n",
    "\n",
    "fig1, (ax1) = pl.subplots(nrows = 1, ncols = 1, figsize = (16, 4))\n",
    "ax1.scatter(ed_all_data['ed_pc'], ed_all_data['ped_inj_pc'], c = 'k')\n",
    "ax1.plot(ed_all_data['ed_pc'], ed_lm.predict(), c = 'r')\n",
    "ax1.set_xlabel('Number of educational initatives per 1,000 persons')\n",
    "ax1.set_ylabel('Number of pedestrian injuries per 1,000 persons')\n",
    "pl.show()\n",
    "# ax1.set_title('')"
   ]
  },
  {
   "cell_type": "code",
   "execution_count": 59,
   "metadata": {
    "collapsed": false
   },
   "outputs": [
    {
     "data": {
      "text/html": [
       "<table class=\"simpletable\">\n",
       "<caption>OLS Regression Results</caption>\n",
       "<tr>\n",
       "  <th>Dep. Variable:</th>       <td>ped_inj_pc</td>    <th>  R-squared:         </th> <td>   0.027</td>\n",
       "</tr>\n",
       "<tr>\n",
       "  <th>Model:</th>                   <td>OLS</td>       <th>  Adj. R-squared:    </th> <td>   0.022</td>\n",
       "</tr>\n",
       "<tr>\n",
       "  <th>Method:</th>             <td>Least Squares</td>  <th>  F-statistic:       </th> <td>   6.090</td>\n",
       "</tr>\n",
       "<tr>\n",
       "  <th>Date:</th>             <td>Wed, 07 Dec 2016</td> <th>  Prob (F-statistic):</th>  <td>0.0143</td> \n",
       "</tr>\n",
       "<tr>\n",
       "  <th>Time:</th>                 <td>01:37:12</td>     <th>  Log-Likelihood:    </th> <td> -386.28</td>\n",
       "</tr>\n",
       "<tr>\n",
       "  <th>No. Observations:</th>      <td>   225</td>      <th>  AIC:               </th> <td>   776.6</td>\n",
       "</tr>\n",
       "<tr>\n",
       "  <th>Df Residuals:</th>          <td>   223</td>      <th>  BIC:               </th> <td>   783.4</td>\n",
       "</tr>\n",
       "<tr>\n",
       "  <th>Df Model:</th>              <td>     1</td>      <th>                     </th>     <td> </td>   \n",
       "</tr>\n",
       "<tr>\n",
       "  <th>Covariance Type:</th>      <td>nonrobust</td>    <th>                     </th>     <td> </td>   \n",
       "</tr>\n",
       "</table>\n",
       "<table class=\"simpletable\">\n",
       "<tr>\n",
       "      <td></td>         <th>coef</th>     <th>std err</th>      <th>t</th>      <th>P>|t|</th> <th>[95.0% Conf. Int.]</th> \n",
       "</tr>\n",
       "<tr>\n",
       "  <th>Intercept</th> <td>    1.1946</td> <td>    0.127</td> <td>    9.400</td> <td> 0.000</td> <td>    0.944     1.445</td>\n",
       "</tr>\n",
       "<tr>\n",
       "  <th>ed_pc</th>     <td>    2.4353</td> <td>    0.987</td> <td>    2.468</td> <td> 0.014</td> <td>    0.491     4.380</td>\n",
       "</tr>\n",
       "</table>\n",
       "<table class=\"simpletable\">\n",
       "<tr>\n",
       "  <th>Omnibus:</th>       <td>303.422</td> <th>  Durbin-Watson:     </th> <td>   0.774</td> \n",
       "</tr>\n",
       "<tr>\n",
       "  <th>Prob(Omnibus):</th> <td> 0.000</td>  <th>  Jarque-Bera (JB):  </th> <td>19788.029</td>\n",
       "</tr>\n",
       "<tr>\n",
       "  <th>Skew:</th>          <td> 6.097</td>  <th>  Prob(JB):          </th> <td>    0.00</td> \n",
       "</tr>\n",
       "<tr>\n",
       "  <th>Kurtosis:</th>      <td>47.295</td>  <th>  Cond. No.          </th> <td>    11.0</td> \n",
       "</tr>\n",
       "</table>"
      ],
      "text/plain": [
       "<class 'statsmodels.iolib.summary.Summary'>\n",
       "\"\"\"\n",
       "                            OLS Regression Results                            \n",
       "==============================================================================\n",
       "Dep. Variable:             ped_inj_pc   R-squared:                       0.027\n",
       "Model:                            OLS   Adj. R-squared:                  0.022\n",
       "Method:                 Least Squares   F-statistic:                     6.090\n",
       "Date:                Wed, 07 Dec 2016   Prob (F-statistic):             0.0143\n",
       "Time:                        01:37:12   Log-Likelihood:                -386.28\n",
       "No. Observations:                 225   AIC:                             776.6\n",
       "Df Residuals:                     223   BIC:                             783.4\n",
       "Df Model:                           1                                         \n",
       "Covariance Type:            nonrobust                                         \n",
       "==============================================================================\n",
       "                 coef    std err          t      P>|t|      [95.0% Conf. Int.]\n",
       "------------------------------------------------------------------------------\n",
       "Intercept      1.1946      0.127      9.400      0.000         0.944     1.445\n",
       "ed_pc          2.4353      0.987      2.468      0.014         0.491     4.380\n",
       "==============================================================================\n",
       "Omnibus:                      303.422   Durbin-Watson:                   0.774\n",
       "Prob(Omnibus):                  0.000   Jarque-Bera (JB):            19788.029\n",
       "Skew:                           6.097   Prob(JB):                         0.00\n",
       "Kurtosis:                      47.295   Cond. No.                         11.0\n",
       "==============================================================================\n",
       "\n",
       "Warnings:\n",
       "[1] Standard Errors assume that the covariance matrix of the errors is correctly specified.\n",
       "\"\"\""
      ]
     },
     "execution_count": 59,
     "metadata": {},
     "output_type": "execute_result"
    }
   ],
   "source": [
    "ed_lm.summary()"
   ]
  },
  {
   "cell_type": "code",
   "execution_count": 63,
   "metadata": {
    "collapsed": false
   },
   "outputs": [
    {
     "data": {
      "image/png": "[encoded data removed]",
      "text/plain": [
       "<matplotlib.figure.Figure at 0x116d9e0d0>"
      ]
     },
     "metadata": {},
     "output_type": "display_data"
    }
   ],
   "source": [
    "hands_lm = smf.ols(formula = 'ped_inj_pc ~ hands_pc', data = ed_all_data).fit()\n",
    "\n",
    "fig2, (ax2) = pl.subplots(nrows = 1, ncols = 1, figsize = (16, 4))\n",
    "ax2.scatter(ed_all_data['hands_pc'], ed_all_data['ped_inj_pc'], c = 'k')\n",
    "ax2.plot(ed_all_data['hands_pc'], hands_lm.predict(), c = 'r')\n",
    "ax2.set_xlabel('Number of hands on initatives per 1,000 persons')\n",
    "ax2.set_ylabel('Number of pedestrian injuries per 1,000 persons')\n",
    "pl.show()\n",
    "# ax1.set_title('')"
   ]
  },
  {
   "cell_type": "code",
   "execution_count": 64,
   "metadata": {
    "collapsed": false
   },
   "outputs": [
    {
     "data": {
      "text/html": [
       "<table class=\"simpletable\">\n",
       "<caption>OLS Regression Results</caption>\n",
       "<tr>\n",
       "  <th>Dep. Variable:</th>       <td>ped_inj_pc</td>    <th>  R-squared:         </th> <td>   0.046</td>\n",
       "</tr>\n",
       "<tr>\n",
       "  <th>Model:</th>                   <td>OLS</td>       <th>  Adj. R-squared:    </th> <td>   0.042</td>\n",
       "</tr>\n",
       "<tr>\n",
       "  <th>Method:</th>             <td>Least Squares</td>  <th>  F-statistic:       </th> <td>   10.83</td>\n",
       "</tr>\n",
       "<tr>\n",
       "  <th>Date:</th>             <td>Wed, 07 Dec 2016</td> <th>  Prob (F-statistic):</th>  <td>0.00116</td>\n",
       "</tr>\n",
       "<tr>\n",
       "  <th>Time:</th>                 <td>01:40:26</td>     <th>  Log-Likelihood:    </th> <td> -383.98</td>\n",
       "</tr>\n",
       "<tr>\n",
       "  <th>No. Observations:</th>      <td>   225</td>      <th>  AIC:               </th> <td>   772.0</td>\n",
       "</tr>\n",
       "<tr>\n",
       "  <th>Df Residuals:</th>          <td>   223</td>      <th>  BIC:               </th> <td>   778.8</td>\n",
       "</tr>\n",
       "<tr>\n",
       "  <th>Df Model:</th>              <td>     1</td>      <th>                     </th>     <td> </td>   \n",
       "</tr>\n",
       "<tr>\n",
       "  <th>Covariance Type:</th>      <td>nonrobust</td>    <th>                     </th>     <td> </td>   \n",
       "</tr>\n",
       "</table>\n",
       "<table class=\"simpletable\">\n",
       "<tr>\n",
       "      <td></td>         <th>coef</th>     <th>std err</th>      <th>t</th>      <th>P>|t|</th> <th>[95.0% Conf. Int.]</th> \n",
       "</tr>\n",
       "<tr>\n",
       "  <th>Intercept</th> <td>    1.2786</td> <td>    0.098</td> <td>   12.981</td> <td> 0.000</td> <td>    1.085     1.473</td>\n",
       "</tr>\n",
       "<tr>\n",
       "  <th>hands_pc</th>  <td>   16.9607</td> <td>    5.154</td> <td>    3.291</td> <td> 0.001</td> <td>    6.805    27.117</td>\n",
       "</tr>\n",
       "</table>\n",
       "<table class=\"simpletable\">\n",
       "<tr>\n",
       "  <th>Omnibus:</th>       <td>304.621</td> <th>  Durbin-Watson:     </th> <td>   0.765</td> \n",
       "</tr>\n",
       "<tr>\n",
       "  <th>Prob(Omnibus):</th> <td> 0.000</td>  <th>  Jarque-Bera (JB):  </th> <td>20543.700</td>\n",
       "</tr>\n",
       "<tr>\n",
       "  <th>Skew:</th>          <td> 6.123</td>  <th>  Prob(JB):          </th> <td>    0.00</td> \n",
       "</tr>\n",
       "<tr>\n",
       "  <th>Kurtosis:</th>      <td>48.182</td>  <th>  Cond. No.          </th> <td>    57.7</td> \n",
       "</tr>\n",
       "</table>"
      ],
      "text/plain": [
       "<class 'statsmodels.iolib.summary.Summary'>\n",
       "\"\"\"\n",
       "                            OLS Regression Results                            \n",
       "==============================================================================\n",
       "Dep. Variable:             ped_inj_pc   R-squared:                       0.046\n",
       "Model:                            OLS   Adj. R-squared:                  0.042\n",
       "Method:                 Least Squares   F-statistic:                     10.83\n",
       "Date:                Wed, 07 Dec 2016   Prob (F-statistic):            0.00116\n",
       "Time:                        01:40:26   Log-Likelihood:                -383.98\n",
       "No. Observations:                 225   AIC:                             772.0\n",
       "Df Residuals:                     223   BIC:                             778.8\n",
       "Df Model:                           1                                         \n",
       "Covariance Type:            nonrobust                                         \n",
       "==============================================================================\n",
       "                 coef    std err          t      P>|t|      [95.0% Conf. Int.]\n",
       "------------------------------------------------------------------------------\n",
       "Intercept      1.2786      0.098     12.981      0.000         1.085     1.473\n",
       "hands_pc      16.9607      5.154      3.291      0.001         6.805    27.117\n",
       "==============================================================================\n",
       "Omnibus:                      304.621   Durbin-Watson:                   0.765\n",
       "Prob(Omnibus):                  0.000   Jarque-Bera (JB):            20543.700\n",
       "Skew:                           6.123   Prob(JB):                         0.00\n",
       "Kurtosis:                      48.182   Cond. No.                         57.7\n",
       "==============================================================================\n",
       "\n",
       "Warnings:\n",
       "[1] Standard Errors assume that the covariance matrix of the errors is correctly specified.\n",
       "\"\"\""
      ]
     },
     "execution_count": 64,
     "metadata": {},
     "output_type": "execute_result"
    }
   ],
   "source": [
    "hands_lm.summary()"
   ]
  },
  {
   "cell_type": "code",
   "execution_count": null,
   "metadata": {
    "collapsed": true
   },
   "outputs": [],
   "source": []
  }
 ],
 "metadata": {
  "kernelspec": {
   "display_name": "Python [Root]",
   "language": "python",
   "name": "Python [Root]"
  },
  "language_info": {
   "codemirror_mode": {
    "name": "ipython",
    "version": 2
   },
   "file_extension": ".py",
   "mimetype": "text/x-python",
   "name": "python",
   "nbconvert_exporter": "python",
   "pygments_lexer": "ipython2",
   "version": "2.7.12"
  }
 },
 "nbformat": 4,
 "nbformat_minor": 0
}
